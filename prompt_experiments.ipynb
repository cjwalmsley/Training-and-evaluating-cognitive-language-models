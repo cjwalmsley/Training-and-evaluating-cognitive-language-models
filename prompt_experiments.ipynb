{
 "cells": [
  {
   "cell_type": "code",
   "id": "initial_id",
   "metadata": {
    "collapsed": true,
    "ExecuteTime": {
     "end_time": "2025-06-05T05:18:51.581954Z",
     "start_time": "2025-06-05T05:18:51.578852Z"
    }
   },
   "source": "from generate_declarative_sentences import generated_text_from_prompt",
   "outputs": [],
   "execution_count": 12
  },
  {
   "metadata": {
    "ExecuteTime": {
     "end_time": "2025-06-05T05:18:53.071260Z",
     "start_time": "2025-06-05T05:18:53.068896Z"
    }
   },
   "cell_type": "code",
   "source": [
    "model_string = \"gemma3:4b\"\n",
    "#model_string = \"deepseek-r1:8b\"\n",
    "options = {\n",
    "    \"temperature\": 0,\n",
    "    \"seed\": 42,\n",
    "    \"top_p\": 0.5,\n",
    "    \"top_k\": 10,}"
   ],
   "id": "77a0a5a1d7e3ca16",
   "outputs": [],
   "execution_count": 13
  },
  {
   "metadata": {
    "ExecuteTime": {
     "end_time": "2025-06-05T06:01:23.721624Z",
     "start_time": "2025-06-05T06:01:15.998019Z"
    }
   },
   "cell_type": "code",
   "source": [
    "with open(\"prompts/prompt_prefix_for_squad\", \"r\") as prompt_prefix_file:\n",
    "    prompt_prefix = prompt_prefix_file.read()\n",
    "\n",
    "with open(\"prompts/sample_qas_from_squad\", \"r\") as prompt_qa_file:\n",
    "    prompt_qas = [line.split(\"\\t\") for line in prompt_qa_file.readlines()]\n",
    "\n",
    "for qa in prompt_qas:\n",
    "    prompt_suffix = \"question: \" + qa[0] + \"\\nanswer: \" + qa[-1]\n",
    "    prompt = prompt_prefix + \"\\n\" + prompt_suffix\n",
    "    response = generated_text_from_prompt(prompt, model_string, options)\n",
    "    print(response)"
   ],
   "id": "b5a1b52a4cc6a6a9",
   "outputs": [
    {
     "name": "stdout",
     "output_type": "stream",
     "text": [
      "New York City is 3 square mile -s\n",
      "the Virgin Mary allegedly appeared in 1858 in Lourdes France to Saint Bernadette Soubirous\n",
      "the Notre Dame Main Building is in front of a copper statue of Christ\n",
      "the Basilica of the Sacred heart at Notre Dame is beside the Main Building\n",
      "the Grotto at Notre Dame is a Marian place of prayer and reflection\n",
      "the Main Building sits on top of a golden statue of the Virgin Mary\n",
      "the Scholastic Magazine of Notre dame began publishing in September 1876\n",
      "Notre Dame’s the Juggler is published twice\n",
      "the Observer is the daily student paper at Notre Dame\n",
      "three student news paper -s are found at Notre Dame\n",
      "the student paper Common Sense began publication at Notre Dame in 1987\n"
     ]
    }
   ],
   "execution_count": 34
  },
  {
   "metadata": {},
   "cell_type": "markdown",
   "source": "try different models on ollama",
   "id": "74b62976a45b9c7b"
  }
 ],
 "metadata": {
  "kernelspec": {
   "display_name": "Python 3",
   "language": "python",
   "name": "python3"
  },
  "language_info": {
   "codemirror_mode": {
    "name": "ipython",
    "version": 2
   },
   "file_extension": ".py",
   "mimetype": "text/x-python",
   "name": "python",
   "nbconvert_exporter": "python",
   "pygments_lexer": "ipython2",
   "version": "2.7.6"
  }
 },
 "nbformat": 4,
 "nbformat_minor": 5
}
