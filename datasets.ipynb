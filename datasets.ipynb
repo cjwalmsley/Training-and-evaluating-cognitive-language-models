{
 "cells": [
  {
   "metadata": {},
   "cell_type": "markdown",
   "source": [
    "# This notebook is to prepare a dataset for training the ANNABELL model.\n",
    "The dataset is derived from the SQuAD database.  Each Question and Answer pair was used to prompt a LLM to provide a declarative statement.\n"
   ],
   "id": "6e3605d851fd6f83"
  },
  {
   "metadata": {
    "ExecuteTime": {
     "end_time": "2025-06-05T08:03:56.409003Z",
     "start_time": "2025-06-05T08:03:56.268248Z"
    }
   },
   "cell_type": "code",
   "source": [
    "import pandas as pd\n",
    "# Load the datafile into a pandas DataFrame\n",
    "filepath = \"/Volumes/X9 Pro/datasets/declarative_statement_generation_output_gemma3:4b_2025-06-05 07:15:26.tsv\"\n",
    "results_df = pd.read_csv(filepath, sep=\"\\t\")\n",
    "print(results_df.info())\n",
    "results_df[:10]"
   ],
   "id": "ecb37871393135a7",
   "outputs": [
    {
     "name": "stdout",
     "output_type": "stream",
     "text": [
      "<class 'pandas.core.frame.DataFrame'>\n",
      "RangeIndex: 817 entries, 0 to 816\n",
      "Data columns (total 5 columns):\n",
      " #   Column     Non-Null Count  Dtype \n",
      "---  ------     --------------  ----- \n",
      " 0   id         817 non-null    object\n",
      " 1   title      817 non-null    object\n",
      " 2   question   817 non-null    object\n",
      " 3   answer     817 non-null    object\n",
      " 4   statement  817 non-null    object\n",
      "dtypes: object(5)\n",
      "memory usage: 32.0+ KB\n",
      "None\n"
     ]
    },
    {
     "data": {
      "text/plain": [
       "                         id          title  \\\n",
       "0  56ce304daab44d1400b8850e  New_York_City   \n",
       "1  56ce304daab44d1400b8850f  New_York_City   \n",
       "2  56ce304daab44d1400b88510  New_York_City   \n",
       "3  56ce304daab44d1400b88511  New_York_City   \n",
       "4  56cf5d41aab44d1400b89130  New_York_City   \n",
       "5  56cf5d41aab44d1400b89131  New_York_City   \n",
       "6  56ce3124aab44d1400b8852a  New_York_City   \n",
       "7  56ce3124aab44d1400b8852b  New_York_City   \n",
       "8  56ce3124aab44d1400b8852c  New_York_City   \n",
       "9  56ce3124aab44d1400b8852d  New_York_City   \n",
       "\n",
       "                                            question         answer  \\\n",
       "0  What city in the United States has the highest...       New York   \n",
       "1          In what city is the United Nations based?       New York   \n",
       "2  What city has been called the cultural capital...       New York   \n",
       "3  What American city welcomes the largest number...       New York   \n",
       "4  The major gateway for immigration has been whi...  New York City   \n",
       "5  The most populated city in the United States i...  New York City   \n",
       "6          How many boroughs comprise New York City?           five   \n",
       "7  In what year were the five boroughs combined i...           1898   \n",
       "8  In 2014, what did the census estimate the popu...      8,491,079   \n",
       "9  What is the size of New York City in square mi...            305   \n",
       "\n",
       "                                           statement  \n",
       "0  New York is the city in the United States with...  \n",
       "1            the united nations is based in New York  \n",
       "2  New York has been called the cultural capital ...  \n",
       "3  New York welcomes the largest number of legal ...  \n",
       "4  the major gateway for immigration has been New...  \n",
       "5  the most populated city in the United States i...  \n",
       "6         the five borough -s comprise New York City  \n",
       "7  the five borough -s were combined into one cit...  \n",
       "8  the population of New York City was estimated ...  \n",
       "9                New York City is 305 square mile -s  "
      ],
      "text/html": [
       "<div>\n",
       "<style scoped>\n",
       "    .dataframe tbody tr th:only-of-type {\n",
       "        vertical-align: middle;\n",
       "    }\n",
       "\n",
       "    .dataframe tbody tr th {\n",
       "        vertical-align: top;\n",
       "    }\n",
       "\n",
       "    .dataframe thead th {\n",
       "        text-align: right;\n",
       "    }\n",
       "</style>\n",
       "<table border=\"1\" class=\"dataframe\">\n",
       "  <thead>\n",
       "    <tr style=\"text-align: right;\">\n",
       "      <th></th>\n",
       "      <th>id</th>\n",
       "      <th>title</th>\n",
       "      <th>question</th>\n",
       "      <th>answer</th>\n",
       "      <th>statement</th>\n",
       "    </tr>\n",
       "  </thead>\n",
       "  <tbody>\n",
       "    <tr>\n",
       "      <th>0</th>\n",
       "      <td>56ce304daab44d1400b8850e</td>\n",
       "      <td>New_York_City</td>\n",
       "      <td>What city in the United States has the highest...</td>\n",
       "      <td>New York</td>\n",
       "      <td>New York is the city in the United States with...</td>\n",
       "    </tr>\n",
       "    <tr>\n",
       "      <th>1</th>\n",
       "      <td>56ce304daab44d1400b8850f</td>\n",
       "      <td>New_York_City</td>\n",
       "      <td>In what city is the United Nations based?</td>\n",
       "      <td>New York</td>\n",
       "      <td>the united nations is based in New York</td>\n",
       "    </tr>\n",
       "    <tr>\n",
       "      <th>2</th>\n",
       "      <td>56ce304daab44d1400b88510</td>\n",
       "      <td>New_York_City</td>\n",
       "      <td>What city has been called the cultural capital...</td>\n",
       "      <td>New York</td>\n",
       "      <td>New York has been called the cultural capital ...</td>\n",
       "    </tr>\n",
       "    <tr>\n",
       "      <th>3</th>\n",
       "      <td>56ce304daab44d1400b88511</td>\n",
       "      <td>New_York_City</td>\n",
       "      <td>What American city welcomes the largest number...</td>\n",
       "      <td>New York</td>\n",
       "      <td>New York welcomes the largest number of legal ...</td>\n",
       "    </tr>\n",
       "    <tr>\n",
       "      <th>4</th>\n",
       "      <td>56cf5d41aab44d1400b89130</td>\n",
       "      <td>New_York_City</td>\n",
       "      <td>The major gateway for immigration has been whi...</td>\n",
       "      <td>New York City</td>\n",
       "      <td>the major gateway for immigration has been New...</td>\n",
       "    </tr>\n",
       "    <tr>\n",
       "      <th>5</th>\n",
       "      <td>56cf5d41aab44d1400b89131</td>\n",
       "      <td>New_York_City</td>\n",
       "      <td>The most populated city in the United States i...</td>\n",
       "      <td>New York City</td>\n",
       "      <td>the most populated city in the United States i...</td>\n",
       "    </tr>\n",
       "    <tr>\n",
       "      <th>6</th>\n",
       "      <td>56ce3124aab44d1400b8852a</td>\n",
       "      <td>New_York_City</td>\n",
       "      <td>How many boroughs comprise New York City?</td>\n",
       "      <td>five</td>\n",
       "      <td>the five borough -s comprise New York City</td>\n",
       "    </tr>\n",
       "    <tr>\n",
       "      <th>7</th>\n",
       "      <td>56ce3124aab44d1400b8852b</td>\n",
       "      <td>New_York_City</td>\n",
       "      <td>In what year were the five boroughs combined i...</td>\n",
       "      <td>1898</td>\n",
       "      <td>the five borough -s were combined into one cit...</td>\n",
       "    </tr>\n",
       "    <tr>\n",
       "      <th>8</th>\n",
       "      <td>56ce3124aab44d1400b8852c</td>\n",
       "      <td>New_York_City</td>\n",
       "      <td>In 2014, what did the census estimate the popu...</td>\n",
       "      <td>8,491,079</td>\n",
       "      <td>the population of New York City was estimated ...</td>\n",
       "    </tr>\n",
       "    <tr>\n",
       "      <th>9</th>\n",
       "      <td>56ce3124aab44d1400b8852d</td>\n",
       "      <td>New_York_City</td>\n",
       "      <td>What is the size of New York City in square mi...</td>\n",
       "      <td>305</td>\n",
       "      <td>New York City is 305 square mile -s</td>\n",
       "    </tr>\n",
       "  </tbody>\n",
       "</table>\n",
       "</div>"
      ]
     },
     "execution_count": 8,
     "metadata": {},
     "output_type": "execute_result"
    }
   ],
   "execution_count": 8
  },
  {
   "metadata": {},
   "cell_type": "markdown",
   "source": [
    "## To be useable for training, the ANNABELL model,  the examples need to follow the specific format below:\n",
    "* Uppercase letters are used only for first letter of proper nouns – e.g. Chris, London, Big Ben\n",
    "* Questions start with a question mark – e.g. \"how old are you\"\n",
    "* Words with a suffix are split in the form base –suffix.  e.g. animals -> animal –s, writing \\t *> write \\t *ing\n",
    "    * Apart from the above exceptions the following rules apply:\n",
    "    * every character must be lowercase\n",
    "    * No punctuation\n",
    "    * No Special Characters\n",
    "    * No Whitespace between lines\n",
    "    * Lines can be prefixed with # to insert comments\n",
    "    * If .ph is used, the entire phrase in the exact format must be input"
   ],
   "id": "38767e13dbb7ad70"
  },
  {
   "metadata": {
    "ExecuteTime": {
     "end_time": "2025-06-05T08:34:00.724810Z",
     "start_time": "2025-06-05T08:34:00.701780Z"
    }
   },
   "cell_type": "code",
   "source": [
    "#fiilter the data to only include statements, questions and answers with less than 11 words\n",
    "filtered_results_df = results_df[results_df.apply(lambda row: len(row[\"question\"].split()) < 11 and len(row[\"answer\"][0].split()) < 11 and len(row[\"statement\"].split()) < 11 , axis=1)]\n",
    "filtered_results_df.info()"
   ],
   "id": "30b70c76f3e42786",
   "outputs": [
    {
     "name": "stdout",
     "output_type": "stream",
     "text": [
      "<class 'pandas.core.frame.DataFrame'>\n",
      "Index: 279 entries, 1 to 800\n",
      "Data columns (total 5 columns):\n",
      " #   Column     Non-Null Count  Dtype \n",
      "---  ------     --------------  ----- \n",
      " 0   id         279 non-null    object\n",
      " 1   title      279 non-null    object\n",
      " 2   question   279 non-null    object\n",
      " 3   answer     279 non-null    object\n",
      " 4   statement  279 non-null    object\n",
      "dtypes: object(5)\n",
      "memory usage: 13.1+ KB\n"
     ]
    }
   ],
   "execution_count": 9
  },
  {
   "metadata": {
    "ExecuteTime": {
     "end_time": "2025-06-05T08:34:05.687837Z",
     "start_time": "2025-06-05T08:34:05.680220Z"
    }
   },
   "cell_type": "code",
   "source": [
    "#move the ? from the end of each question to the start\n",
    "def move_question_mark_to_start(question):\n",
    "    if question.strip().endswith(\"?\"):\n",
    "        edited_question = \"?\" + question[:-1]\n",
    "    else:\n",
    "        #raise an exception if the question does not end with a ?\n",
    "        raise ValueError(f\"Question does not end with a question mark: {question}\")\n",
    "    return edited_question\n",
    "\n",
    "edited_questions_results_df = results_df[\"question\"] = filtered_results_df[\"question\"].apply(move_question_mark_to_start)\n",
    "edited_questions_results_df[:5]"
   ],
   "id": "7b894af48e20d3fc",
   "outputs": [
    {
     "data": {
      "text/plain": [
       "1             ?In what city is the United Nations based\n",
       "3     ?What American city welcomes the largest numbe...\n",
       "4     ?The major gateway for immigration has been wh...\n",
       "6             ?How many boroughs comprise New York City\n",
       "11         ?How man boroughs does New York City contain\n",
       "Name: question, dtype: object"
      ]
     },
     "execution_count": 10,
     "metadata": {},
     "output_type": "execute_result"
    }
   ],
   "execution_count": 10
  },
  {
   "metadata": {
    "ExecuteTime": {
     "end_time": "2025-06-02T08:46:50.264430Z",
     "start_time": "2025-06-02T08:46:47.548789Z"
    }
   },
   "cell_type": "code",
   "source": [
    "titles = [item[\"title\"] for item in ds[\"train\"]]\n",
    "print(len(titles))\n",
    "print(len(set(titles)))"
   ],
   "id": "d965c6be2239bf5c",
   "outputs": [
    {
     "name": "stdout",
     "output_type": "stream",
     "text": [
      "87599\n",
      "442\n"
     ]
    }
   ],
   "execution_count": 15
  },
  {
   "metadata": {
    "ExecuteTime": {
     "end_time": "2025-06-02T08:45:29.880415Z",
     "start_time": "2025-06-02T08:45:29.873277Z"
    }
   },
   "cell_type": "code",
   "source": [
    "from collections import Counter\n",
    "bag_of_titles = Counter((titles))\n",
    "(bag_of_titles.most_common(20))"
   ],
   "id": "ac76b55c32431e0",
   "outputs": [
    {
     "data": {
      "text/plain": [
       "[('New_York_City', 817),\n",
       " ('American_Idol', 802),\n",
       " ('Beyoncé', 758),\n",
       " ('Frédéric_Chopin', 697),\n",
       " ('Queen_Victoria', 680),\n",
       " ('Buddhism', 610),\n",
       " ('New_Haven,_Connecticut', 602),\n",
       " ('2008_Sichuan_earthquake', 521),\n",
       " ('2008_Summer_Olympics_torch_relay', 500),\n",
       " ('Muammar_Gaddafi', 489),\n",
       " ('Hellenistic_period', 469),\n",
       " ('Napoleon', 458),\n",
       " ('Middle_Ages', 452),\n",
       " ('Modern_history', 448),\n",
       " ('Portugal', 435),\n",
       " ('Gamal_Abdel_Nasser', 433),\n",
       " ('Dwight_D._Eisenhower', 430),\n",
       " ('Kanye_West', 428),\n",
       " ('Southampton', 426),\n",
       " ('The_Blitz', 414)]"
      ]
     },
     "execution_count": 14,
     "metadata": {},
     "output_type": "execute_result"
    }
   ],
   "execution_count": 14
  },
  {
   "metadata": {},
   "cell_type": "code",
   "source": [
    "answers = chopin_df[\"answers\"]\n",
    "print(len(answers))\n",
    "answers[:5]"
   ],
   "id": "9c2a3d7fc4f47c0",
   "outputs": [],
   "execution_count": null
  },
  {
   "metadata": {},
   "cell_type": "code",
   "source": [
    "answers_multi = [answer[\"text\"] for answer in answers.values if len(answer[\"text\"]) > 1]\n",
    "answers_multi"
   ],
   "id": "20c1a433cbde32a7",
   "outputs": [],
   "execution_count": null
  },
  {
   "metadata": {},
   "cell_type": "code",
   "source": [
    "chopin_short_df = chopin_df[chopin_df.apply(lambda row: len(row[\"answers\"][0]) >10)]\n",
    "chopin_short_df"
   ],
   "id": "aacca3a2a733b229",
   "outputs": [],
   "execution_count": null
  },
  {
   "metadata": {},
   "cell_type": "code",
   "source": [
    "chopin_short_df = chopin_df[chopin_df.apply(lambda row: len(row[\"answers\"][\"text\"][0]) > 10, axis=1)]\n",
    "chopin_short_df"
   ],
   "id": "8b0d03a07ea2577e",
   "outputs": [],
   "execution_count": null
  },
  {
   "metadata": {},
   "cell_type": "code",
   "source": "line = \"Who were liberators of oppressed Balkan states?\tThe Russians\tthe Russians were liberators of the oppressed Balkan States\"",
   "id": "f75186f272bfa923",
   "outputs": [],
   "execution_count": null
  },
  {
   "metadata": {},
   "cell_type": "code",
   "source": "len(line.split('\\t'))",
   "id": "e0b586230d6c1d1",
   "outputs": [],
   "execution_count": null
  },
  {
   "metadata": {
    "ExecuteTime": {
     "end_time": "2025-05-30T05:12:37.371854Z",
     "start_time": "2025-05-30T05:12:37.366224Z"
    }
   },
   "cell_type": "code",
   "source": "\"\"\"What do some authors state anthropology developed as the study of?\t\"other cultures\tsome authors state that anthropology developed as the study of other cultures\"\"\".split(\"\\t\")\n",
   "id": "438c78181734c5c8",
   "outputs": [
    {
     "data": {
      "text/plain": [
       "['What do some authors state anthropology developed as the study of?',\n",
       " '\"other cultures',\n",
       " 'some authors state that anthropology developed as the study of other cultures']"
      ]
     },
     "execution_count": 63,
     "metadata": {},
     "output_type": "execute_result"
    }
   ],
   "execution_count": 63
  },
  {
   "metadata": {
    "ExecuteTime": {
     "end_time": "2025-05-30T05:13:44.028277Z",
     "start_time": "2025-05-30T05:13:44.021451Z"
    }
   },
   "cell_type": "code",
   "source": "\"\"\"What is a central part of the science of anthropology?\tcomparative method\tthe comparative method is a central part of the science of Anthropology.\"\"\".split(\"\\t\")",
   "id": "6881ee6ef8f469d3",
   "outputs": [
    {
     "data": {
      "text/plain": [
       "['What is a central part of the science of anthropology?',\n",
       " 'comparative method',\n",
       " 'the comparative method is a central part of the science of Anthropology.']"
      ]
     },
     "execution_count": 64,
     "metadata": {},
     "output_type": "execute_result"
    }
   ],
   "execution_count": 64
  },
  {
   "metadata": {
    "ExecuteTime": {
     "end_time": "2025-05-30T05:14:20.863471Z",
     "start_time": "2025-05-30T05:14:20.858281Z"
    }
   },
   "cell_type": "code",
   "source": "\"\"\"A past society would be an other culture separated by what temporal aspect?\ttime\ta past society would be an other culture separated by time\"\"\".split(\"\\t\")",
   "id": "14bc8f17ff33f069",
   "outputs": [
    {
     "data": {
      "text/plain": [
       "['A past society would be an other culture separated by what temporal aspect?',\n",
       " 'time',\n",
       " 'a past society would be an other culture separated by time']"
      ]
     },
     "execution_count": 65,
     "metadata": {},
     "output_type": "execute_result"
    }
   ],
   "execution_count": 65
  },
  {
   "metadata": {
    "ExecuteTime": {
     "end_time": "2025-05-30T05:15:02.189684Z",
     "start_time": "2025-05-30T05:15:02.186932Z"
    }
   },
   "cell_type": "code",
   "source": [
    "\"\"\"What is a central part of the science of anthropology?\tcomparative method\tthe comparative method is a central part of the science of Anthropology.\n",
    "What do some authors state anthropology developed as the study of?\t\"other cultures\tsome authors state that anthropology developed as the study of other cultures\n",
    "A past society would be an other culture separated by what temporal aspect?\ttime\ta past society would be an other culture separated by time\"\"\".split(\"\\t\")"
   ],
   "id": "cb4374a4c02742ed",
   "outputs": [
    {
     "data": {
      "text/plain": [
       "['What is a central part of the science of anthropology?',\n",
       " 'comparative method',\n",
       " 'the comparative method is a central part of the science of Anthropology.\\nWhat do some authors state anthropology developed as the study of?',\n",
       " '\"other cultures',\n",
       " 'some authors state that anthropology developed as the study of other cultures\\nA past society would be an other culture separated by what temporal aspect?',\n",
       " 'time',\n",
       " 'a past society would be an other culture separated by time']"
      ]
     },
     "execution_count": 66,
     "metadata": {},
     "output_type": "execute_result"
    }
   ],
   "execution_count": 66
  },
  {
   "metadata": {
    "ExecuteTime": {
     "end_time": "2025-05-31T11:14:56.738605Z",
     "start_time": "2025-05-31T11:14:56.711487Z"
    }
   },
   "cell_type": "code",
   "source": [
    "with open(filepath, \"r\") as file:\n",
    "    lines = file.readlines()"
   ],
   "id": "d3bdde0d950e021",
   "outputs": [],
   "execution_count": 97
  },
  {
   "metadata": {
    "ExecuteTime": {
     "end_time": "2025-05-31T11:15:06.529761Z",
     "start_time": "2025-05-31T11:15:06.527162Z"
    }
   },
   "cell_type": "code",
   "source": "len(lines)",
   "id": "a05c13224766e5e1",
   "outputs": [
    {
     "data": {
      "text/plain": [
       "87624"
      ]
     },
     "execution_count": 98,
     "metadata": {},
     "output_type": "execute_result"
    }
   ],
   "execution_count": 98
  },
  {
   "metadata": {},
   "cell_type": "code",
   "outputs": [],
   "execution_count": null,
   "source": [
    "from datasets import load_dataset\n",
    "ds = load_dataset(\"rajpurkar/squad\")\n",
    "#take the 10 samples from the train set\n",
    "ds_train = ds[\"train\"].select(range(10))"
   ],
   "id": "e94cc6251a483b52"
  },
  {
   "metadata": {
    "ExecuteTime": {
     "end_time": "2025-06-05T06:00:16.391361Z",
     "start_time": "2025-06-05T06:00:16.388222Z"
    }
   },
   "cell_type": "code",
   "source": [
    "for example in ds_train:\n",
    "    print(example[\"question\"] + \"\\t\" + example[\"answers\"][\"text\"][0])\n"
   ],
   "id": "d61e075aa99efede",
   "outputs": [
    {
     "name": "stdout",
     "output_type": "stream",
     "text": [
      "To whom did the Virgin Mary allegedly appear in 1858 in Lourdes France?\tSaint Bernadette Soubirous\n",
      "What is in front of the Notre Dame Main Building?\ta copper statue of Christ\n",
      "The Basilica of the Sacred heart at Notre Dame is beside to which structure?\tthe Main Building\n",
      "What is the Grotto at Notre Dame?\ta Marian place of prayer and reflection\n",
      "What sits on top of the Main Building at Notre Dame?\ta golden statue of the Virgin Mary\n",
      "When did the Scholastic Magazine of Notre dame begin publishing?\tSeptember 1876\n",
      "How often is Notre Dame's the Juggler published?\ttwice\n",
      "What is the daily student paper at Notre Dame called?\tThe Observer\n",
      "How many student news papers are found at Notre Dame?\tthree\n",
      "In what year did the student paper Common Sense begin publication at Notre Dame?\t1987\n"
     ]
    }
   ],
   "execution_count": 7
  },
  {
   "metadata": {},
   "cell_type": "code",
   "outputs": [],
   "execution_count": null,
   "source": "",
   "id": "c0df7636725f3f16"
  }
 ],
 "metadata": {
  "kernelspec": {
   "display_name": "Python 3",
   "language": "python",
   "name": "python3"
  },
  "language_info": {
   "codemirror_mode": {
    "name": "ipython",
    "version": 2
   },
   "file_extension": ".py",
   "mimetype": "text/x-python",
   "name": "python",
   "nbconvert_exporter": "python",
   "pygments_lexer": "ipython2",
   "version": "2.7.6"
  }
 },
 "nbformat": 4,
 "nbformat_minor": 5
}
