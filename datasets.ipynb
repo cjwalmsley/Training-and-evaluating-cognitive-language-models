{
 "cells": [
  {
   "metadata": {},
   "cell_type": "markdown",
   "source": [
    "# This notebook is to prepare a dataset for training the ANNABELL model.\n",
    "The dataset is derived from the SQuAD database.  Each Question and Answer pair was used to prompt a LLM to provide a declarative statement.\n"
   ],
   "id": "6e3605d851fd6f83"
  },
  {
   "metadata": {
    "ExecuteTime": {
     "end_time": "2025-06-16T07:18:04.279797Z",
     "start_time": "2025-06-16T07:18:03.242365Z"
    }
   },
   "cell_type": "code",
   "source": [
    "import pandas as pd\n",
    "import re\n",
    "from datasets import load_dataset, load_from_disk\n",
    "from collections import Counter\n",
    "from generate_declarative_sentences import load_squad_dataset\n",
    "\n",
    "# Load the SQuAD dataset\n",
    "ds = load_squad_dataset()\n",
    "\n",
    "# Load the datafile into a pandas DataFrame\n",
    "train_filepath = \"datasets/train/declarative_sentences_train.tsv\"\n",
    "validation_filepath = \"datasets/validation/declarative_sentences_validation.tsv\"\n",
    "train_df = pd.read_csv(train_filepath, sep=\"\\t\")\n",
    "validation_df = pd.read_csv(validation_filepath, sep=\"\\t\")\n",
    "print(train_df.info())\n",
    "print(validation_df.info())"
   ],
   "id": "ecb37871393135a7",
   "outputs": [
    {
     "name": "stdout",
     "output_type": "stream",
     "text": [
      "<class 'pandas.core.frame.DataFrame'>\n",
      "RangeIndex: 816 entries, 0 to 815\n",
      "Data columns (total 7 columns):\n",
      " #   Column             Non-Null Count  Dtype \n",
      "---  ------             --------------  ----- \n",
      " 0   id                 816 non-null    object\n",
      " 1   title              816 non-null    object\n",
      " 2   question           816 non-null    object\n",
      " 3   answer             816 non-null    object\n",
      " 4   response_question  816 non-null    object\n",
      " 5   response_answer    816 non-null    object\n",
      " 6   statement          816 non-null    object\n",
      "dtypes: object(7)\n",
      "memory usage: 44.8+ KB\n",
      "None\n",
      "<class 'pandas.core.frame.DataFrame'>\n",
      "RangeIndex: 0 entries\n",
      "Data columns (total 7 columns):\n",
      " #   Column             Non-Null Count  Dtype \n",
      "---  ------             --------------  ----- \n",
      " 0   id                 0 non-null      object\n",
      " 1   title              0 non-null      object\n",
      " 2   question           0 non-null      object\n",
      " 3   answer             0 non-null      object\n",
      " 4   response_question  0 non-null      object\n",
      " 5   response_answer    0 non-null      object\n",
      " 6   statement          0 non-null      object\n",
      "dtypes: object(7)\n",
      "memory usage: 132.0+ bytes\n",
      "None\n"
     ]
    }
   ],
   "execution_count": 1
  },
  {
   "metadata": {},
   "cell_type": "markdown",
   "source": [
    "## To be useable for training, the ANNABELL model,  the examples need to follow the specific format below:\n",
    "* Uppercase letters are used only for first letter of proper nouns – e.g. Chris, London, Big Ben\n",
    "* Questions start with a question mark – e.g. \"how old are you\"\n",
    "* Words with a suffix are split in the form base –suffix.  e.g. animals -> animal –s, writing \\t *> write \\t *ing\n",
    "    * Apart from the above exceptions the following rules apply:\n",
    "    * every character must be lowercase\n",
    "    * No punctuation\n",
    "    * No Special Characters\n",
    "    * No Whitespace between lines\n",
    "    * Lines can be prefixed with # to insert comments\n",
    "    * If .ph is used, the entire phrase in the exact format must be input"
   ],
   "id": "38767e13dbb7ad70"
  },
  {
   "metadata": {
    "ExecuteTime": {
     "end_time": "2025-06-16T07:18:04.290953Z",
     "start_time": "2025-06-16T07:18:04.288897Z"
    }
   },
   "cell_type": "code",
   "source": [
    "#move the ? from the end of each question to the start\n",
    "def move_question_mark_to_start(question):\n",
    "    if question.strip().endswith(\"?\"):\n",
    "        edited_question = \"? \" + question[:-1]\n",
    "    else:\n",
    "        #raise an exception if the question does not end with a ?\n",
    "        raise ValueError(f\"Question does not end with a question mark: {question}\")\n",
    "    return edited_question"
   ],
   "id": "7b894af48e20d3fc",
   "outputs": [],
   "execution_count": 2
  },
  {
   "metadata": {
    "ExecuteTime": {
     "end_time": "2025-06-16T07:18:04.302199Z",
     "start_time": "2025-06-16T07:18:04.300456Z"
    }
   },
   "cell_type": "code",
   "source": [
    "def replace_decimal_in_matched_string(matched_string):\n",
    "    #callable function to support the regex\n",
    "    number_str = matched_string.group(0)\n",
    "    return number_str.replace('.', ' point ')"
   ],
   "id": "956695c7f7287559",
   "outputs": [],
   "execution_count": 3
  },
  {
   "metadata": {
    "ExecuteTime": {
     "end_time": "2025-06-16T07:18:04.306902Z",
     "start_time": "2025-06-16T07:18:04.305242Z"
    }
   },
   "cell_type": "code",
   "source": [
    "def convert_decimal_point_to_word(a_string):\n",
    "    import re\n",
    "    #Replace \".\" with 'point' if it is part of a number.\n",
    "\n",
    "    # Regex to find numbers with a decimal point:\n",
    "    # \\d+\\.\\d+  matches numbers like 1.23\n",
    "    # \\d+\\.     matches numbers like 1. (dot at the end after digits)\n",
    "    # \\.\\d+     matches numbers like .5 (dot at the beginning before digits)\n",
    "    # The order matters to match \\d+\\.\\d+ before \\d+\\. or \\.\\d+ for overlapping cases.\n",
    "    pattern = r'\\d+\\.\\d+|\\d+\\.|\\.\\d+'\n",
    "    return re.sub(pattern, replace_decimal_in_matched_string, a_string)"
   ],
   "id": "2a81dbdca22aebc1",
   "outputs": [],
   "execution_count": 4
  },
  {
   "metadata": {
    "ExecuteTime": {
     "end_time": "2025-06-16T07:18:04.312391Z",
     "start_time": "2025-06-16T07:18:04.309929Z"
    }
   },
   "cell_type": "code",
   "source": [
    "from unidecode import unidecode\n",
    "\n",
    "def remove_accents(text):\n",
    "    #Convert accented characters to unaccented ones\n",
    "    text_unaccented = unidecode(text)\n",
    "    return text_unaccented"
   ],
   "id": "a6a842f3c2e21b3c",
   "outputs": [],
   "execution_count": 5
  },
  {
   "metadata": {
    "ExecuteTime": {
     "end_time": "2025-06-16T07:18:04.380765Z",
     "start_time": "2025-06-16T07:18:04.378765Z"
    }
   },
   "cell_type": "code",
   "source": [
    "#remove all special characters except question marks and hyphen form the statements\n",
    "def remove_special_characters(text):\n",
    "    \"\"\"\n",
    "    Removes special characters from a string, keeping alphanumeric characters and spaces.\n",
    "    \"\"\"\n",
    "    # Keep only alphanumeric characters and spaces\n",
    "    cleaned_text = re.sub(r'[^A-Za-z0-9\\s?-]+', '', text)\n",
    "    return cleaned_text"
   ],
   "id": "f01be526a1e2e774",
   "outputs": [],
   "execution_count": 6
  },
  {
   "metadata": {
    "ExecuteTime": {
     "end_time": "2025-06-16T07:18:04.390027Z",
     "start_time": "2025-06-16T07:18:04.388064Z"
    }
   },
   "cell_type": "code",
   "source": [
    "def filter_by_max_words(the_df, max_words=10):\n",
    "    #returnes a new dataframe filtered such that each question, answer and statement has less than 11 words\n",
    "\n",
    "    filtered_df = the_df[the_df.apply(lambda row: len(row[\"question\"].split()) <= max_words and len(row[\"answer\"][0].split()) <= max_words and len(row[\"statement\"].split()) <= max_words , axis=1)]\n",
    "    return filtered_df"
   ],
   "id": "15c3cdb9b7e52e64",
   "outputs": [],
   "execution_count": 7
  },
  {
   "metadata": {
    "ExecuteTime": {
     "end_time": "2025-06-16T07:18:04.465100Z",
     "start_time": "2025-06-16T07:18:04.462867Z"
    }
   },
   "cell_type": "code",
   "source": [
    "def clean_text(a_series, is_question):\n",
    "    #takes a dataframe series and applies reformatting\n",
    "    if is_question:\n",
    "        a_series = a_series.apply(move_question_mark_to_start)\n",
    "    for function_name in (convert_decimal_point_to_word, remove_accents, remove_special_characters):\n",
    "        a_series = a_series.apply(function_name)\n",
    "    return a_series"
   ],
   "id": "9fc0a75cc9924984",
   "outputs": [],
   "execution_count": 8
  },
  {
   "metadata": {
    "ExecuteTime": {
     "end_time": "2025-06-16T07:18:18.684479Z",
     "start_time": "2025-06-16T07:18:18.666584Z"
    }
   },
   "cell_type": "code",
   "source": [
    "filtered_train_df = filter_by_max_words(train_df, max_words=10)\n",
    "filtered_train_df[\"response_question\"] = clean_text(filtered_train_df[\"response_question\"], True)\n",
    "filtered_train_df[\"response_answer\"] = clean_text(filtered_train_df[\"response_answer\"], False)\n",
    "filtered_train_df[\"statement\"] = clean_text(filtered_train_df[\"statement\"], False)\n",
    "filtered_train_df"
   ],
   "id": "62950dae3d19bf43",
   "outputs": [
    {
     "name": "stderr",
     "output_type": "stream",
     "text": [
      "/var/folders/cv/z7xz0c3n3nd4c26hj7g01n7w0000gn/T/ipykernel_39427/1758001371.py:2: SettingWithCopyWarning: \n",
      "A value is trying to be set on a copy of a slice from a DataFrame.\n",
      "Try using .loc[row_indexer,col_indexer] = value instead\n",
      "\n",
      "See the caveats in the documentation: https://pandas.pydata.org/pandas-docs/stable/user_guide/indexing.html#returning-a-view-versus-a-copy\n",
      "  filtered_train_df[\"response_question\"] = clean_text(filtered_train_df[\"response_question\"], True)\n",
      "/var/folders/cv/z7xz0c3n3nd4c26hj7g01n7w0000gn/T/ipykernel_39427/1758001371.py:3: SettingWithCopyWarning: \n",
      "A value is trying to be set on a copy of a slice from a DataFrame.\n",
      "Try using .loc[row_indexer,col_indexer] = value instead\n",
      "\n",
      "See the caveats in the documentation: https://pandas.pydata.org/pandas-docs/stable/user_guide/indexing.html#returning-a-view-versus-a-copy\n",
      "  filtered_train_df[\"response_answer\"] = clean_text(filtered_train_df[\"response_answer\"], False)\n",
      "/var/folders/cv/z7xz0c3n3nd4c26hj7g01n7w0000gn/T/ipykernel_39427/1758001371.py:4: SettingWithCopyWarning: \n",
      "A value is trying to be set on a copy of a slice from a DataFrame.\n",
      "Try using .loc[row_indexer,col_indexer] = value instead\n",
      "\n",
      "See the caveats in the documentation: https://pandas.pydata.org/pandas-docs/stable/user_guide/indexing.html#returning-a-view-versus-a-copy\n",
      "  filtered_train_df[\"statement\"] = clean_text(filtered_train_df[\"statement\"], False)\n"
     ]
    },
    {
     "data": {
      "text/plain": [
       "                           id          title  \\\n",
       "1    56ce304daab44d1400b8850f  New_York_City   \n",
       "3    56ce304daab44d1400b88511  New_York_City   \n",
       "6    56ce3124aab44d1400b8852a  New_York_City   \n",
       "11   56cf9d81234ae51400d9be1b  New_York_City   \n",
       "17   56ce31baaab44d1400b8853b  New_York_City   \n",
       "..                        ...            ...   \n",
       "790  56d11b4a17492d1400aab994  New_York_City   \n",
       "796  56d11e7b17492d1400aab9d3  New_York_City   \n",
       "798  56d11e7b17492d1400aab9d5  New_York_City   \n",
       "799  56d11eb317492d1400aab9d9  New_York_City   \n",
       "808  56d1204617492d1400aab9fd  New_York_City   \n",
       "\n",
       "                                              question  \\\n",
       "1            In what city is the United Nations based?   \n",
       "3    What American city welcomes the largest number...   \n",
       "6            How many boroughs comprise New York City?   \n",
       "11        How man boroughs does New York City contain?   \n",
       "17                  What nation founded New Amsterdam?   \n",
       "..                                                 ...   \n",
       "790  The Queensboro Bridge utilized what type of co...   \n",
       "796           How long is Newtown Creek in kilometers?   \n",
       "798  What notable accidental fossil fuel discharge ...   \n",
       "799   What type of government does New York City have?   \n",
       "808   In what borough is the New York City Hall found?   \n",
       "\n",
       "                       answer  \\\n",
       "1                    New York   \n",
       "3                    New York   \n",
       "6                        five   \n",
       "11                       five   \n",
       "17         the Dutch Republic   \n",
       "..                        ...   \n",
       "790                cantilever   \n",
       "796                         6   \n",
       "798  the Greenpoint oil spill   \n",
       "799             mayor-council   \n",
       "808                 Manhattan   \n",
       "\n",
       "                                     response_question  \\\n",
       "1           ? in what city is the united nations based   \n",
       "3    ? What American city welcomes the largest numb...   \n",
       "6           ? How many boroughs comprise New York City   \n",
       "11       ? How man boroughs does New York City contain   \n",
       "17                 ? What nation founded New Amsterdam   \n",
       "..                                                 ...   \n",
       "790  ? the Queensboro Bridge utilized what type of ...   \n",
       "796          ? How long is Newtown Creek in kilometers   \n",
       "798  ? what notable accidental fossil fuel discharg...   \n",
       "799  ? what type of government does New York City have   \n",
       "808  ? in what borough is the New York City Hall found   \n",
       "\n",
       "              response_answer  \\\n",
       "1                    new york   \n",
       "3                    new york   \n",
       "6                        five   \n",
       "11                       five   \n",
       "17         the Dutch Republic   \n",
       "..                        ...   \n",
       "790                cantilever   \n",
       "796                         6   \n",
       "798  the Greenpoint oil spill   \n",
       "799             mayor-council   \n",
       "808                 manhattan   \n",
       "\n",
       "                                             statement  \n",
       "1              the united nations is based in New York  \n",
       "3    new york welcomes the largest number of legal ...  \n",
       "6            New York City comprise -s five borough -s  \n",
       "11              New York City contains five borough -s  \n",
       "17            the Dutch Republic founded New Amsterdam  \n",
       "..                                                 ...  \n",
       "790  the Queensboro Bridge utilized a cantilever co...  \n",
       "796                 newtown creek is 6 kilometers long  \n",
       "798  the Greenpoint oil spill occurred at Newtown C...  \n",
       "799       new york city has a mayor-council government  \n",
       "808       the New York City Hall is found in Manhattan  \n",
       "\n",
       "[294 rows x 7 columns]"
      ],
      "text/html": [
       "<div>\n",
       "<style scoped>\n",
       "    .dataframe tbody tr th:only-of-type {\n",
       "        vertical-align: middle;\n",
       "    }\n",
       "\n",
       "    .dataframe tbody tr th {\n",
       "        vertical-align: top;\n",
       "    }\n",
       "\n",
       "    .dataframe thead th {\n",
       "        text-align: right;\n",
       "    }\n",
       "</style>\n",
       "<table border=\"1\" class=\"dataframe\">\n",
       "  <thead>\n",
       "    <tr style=\"text-align: right;\">\n",
       "      <th></th>\n",
       "      <th>id</th>\n",
       "      <th>title</th>\n",
       "      <th>question</th>\n",
       "      <th>answer</th>\n",
       "      <th>response_question</th>\n",
       "      <th>response_answer</th>\n",
       "      <th>statement</th>\n",
       "    </tr>\n",
       "  </thead>\n",
       "  <tbody>\n",
       "    <tr>\n",
       "      <th>1</th>\n",
       "      <td>56ce304daab44d1400b8850f</td>\n",
       "      <td>New_York_City</td>\n",
       "      <td>In what city is the United Nations based?</td>\n",
       "      <td>New York</td>\n",
       "      <td>? in what city is the united nations based</td>\n",
       "      <td>new york</td>\n",
       "      <td>the united nations is based in New York</td>\n",
       "    </tr>\n",
       "    <tr>\n",
       "      <th>3</th>\n",
       "      <td>56ce304daab44d1400b88511</td>\n",
       "      <td>New_York_City</td>\n",
       "      <td>What American city welcomes the largest number...</td>\n",
       "      <td>New York</td>\n",
       "      <td>? What American city welcomes the largest numb...</td>\n",
       "      <td>new york</td>\n",
       "      <td>new york welcomes the largest number of legal ...</td>\n",
       "    </tr>\n",
       "    <tr>\n",
       "      <th>6</th>\n",
       "      <td>56ce3124aab44d1400b8852a</td>\n",
       "      <td>New_York_City</td>\n",
       "      <td>How many boroughs comprise New York City?</td>\n",
       "      <td>five</td>\n",
       "      <td>? How many boroughs comprise New York City</td>\n",
       "      <td>five</td>\n",
       "      <td>New York City comprise -s five borough -s</td>\n",
       "    </tr>\n",
       "    <tr>\n",
       "      <th>11</th>\n",
       "      <td>56cf9d81234ae51400d9be1b</td>\n",
       "      <td>New_York_City</td>\n",
       "      <td>How man boroughs does New York City contain?</td>\n",
       "      <td>five</td>\n",
       "      <td>? How man boroughs does New York City contain</td>\n",
       "      <td>five</td>\n",
       "      <td>New York City contains five borough -s</td>\n",
       "    </tr>\n",
       "    <tr>\n",
       "      <th>17</th>\n",
       "      <td>56ce31baaab44d1400b8853b</td>\n",
       "      <td>New_York_City</td>\n",
       "      <td>What nation founded New Amsterdam?</td>\n",
       "      <td>the Dutch Republic</td>\n",
       "      <td>? What nation founded New Amsterdam</td>\n",
       "      <td>the Dutch Republic</td>\n",
       "      <td>the Dutch Republic founded New Amsterdam</td>\n",
       "    </tr>\n",
       "    <tr>\n",
       "      <th>...</th>\n",
       "      <td>...</td>\n",
       "      <td>...</td>\n",
       "      <td>...</td>\n",
       "      <td>...</td>\n",
       "      <td>...</td>\n",
       "      <td>...</td>\n",
       "      <td>...</td>\n",
       "    </tr>\n",
       "    <tr>\n",
       "      <th>790</th>\n",
       "      <td>56d11b4a17492d1400aab994</td>\n",
       "      <td>New_York_City</td>\n",
       "      <td>The Queensboro Bridge utilized what type of co...</td>\n",
       "      <td>cantilever</td>\n",
       "      <td>? the Queensboro Bridge utilized what type of ...</td>\n",
       "      <td>cantilever</td>\n",
       "      <td>the Queensboro Bridge utilized a cantilever co...</td>\n",
       "    </tr>\n",
       "    <tr>\n",
       "      <th>796</th>\n",
       "      <td>56d11e7b17492d1400aab9d3</td>\n",
       "      <td>New_York_City</td>\n",
       "      <td>How long is Newtown Creek in kilometers?</td>\n",
       "      <td>6</td>\n",
       "      <td>? How long is Newtown Creek in kilometers</td>\n",
       "      <td>6</td>\n",
       "      <td>newtown creek is 6 kilometers long</td>\n",
       "    </tr>\n",
       "    <tr>\n",
       "      <th>798</th>\n",
       "      <td>56d11e7b17492d1400aab9d5</td>\n",
       "      <td>New_York_City</td>\n",
       "      <td>What notable accidental fossil fuel discharge ...</td>\n",
       "      <td>the Greenpoint oil spill</td>\n",
       "      <td>? what notable accidental fossil fuel discharg...</td>\n",
       "      <td>the Greenpoint oil spill</td>\n",
       "      <td>the Greenpoint oil spill occurred at Newtown C...</td>\n",
       "    </tr>\n",
       "    <tr>\n",
       "      <th>799</th>\n",
       "      <td>56d11eb317492d1400aab9d9</td>\n",
       "      <td>New_York_City</td>\n",
       "      <td>What type of government does New York City have?</td>\n",
       "      <td>mayor-council</td>\n",
       "      <td>? what type of government does New York City have</td>\n",
       "      <td>mayor-council</td>\n",
       "      <td>new york city has a mayor-council government</td>\n",
       "    </tr>\n",
       "    <tr>\n",
       "      <th>808</th>\n",
       "      <td>56d1204617492d1400aab9fd</td>\n",
       "      <td>New_York_City</td>\n",
       "      <td>In what borough is the New York City Hall found?</td>\n",
       "      <td>Manhattan</td>\n",
       "      <td>? in what borough is the New York City Hall found</td>\n",
       "      <td>manhattan</td>\n",
       "      <td>the New York City Hall is found in Manhattan</td>\n",
       "    </tr>\n",
       "  </tbody>\n",
       "</table>\n",
       "<p>294 rows × 7 columns</p>\n",
       "</div>"
      ]
     },
     "execution_count": 9,
     "metadata": {},
     "output_type": "execute_result"
    }
   ],
   "execution_count": 9
  },
  {
   "metadata": {
    "ExecuteTime": {
     "end_time": "2025-06-14T12:08:04.366625Z",
     "start_time": "2025-06-14T12:08:04.363680Z"
    }
   },
   "cell_type": "code",
   "source": [
    "#write a file that can be used to train ANNABELL\n",
    "output_filename = \"training/nyc_statements.txt\"\n",
    "with open(output_filename, \"w\") as output_file:\n",
    "    for statement in filtered_train_df[\"statement\"]:\n",
    "        output_file.write(statement + \"\\n\")\n",
    "#check that the file looks correct\n",
    "with open(output_file, \"r\") as input_file:\n",
    "    lines = input_file.readlines()\n",
    "print(lines[:5])"
   ],
   "id": "3ef6ad5bafd5fdcc",
   "outputs": [],
   "execution_count": 41
  },
  {
   "metadata": {
    "ExecuteTime": {
     "end_time": "2025-06-14T12:08:09.537899Z",
     "start_time": "2025-06-14T12:08:09.535469Z"
    }
   },
   "cell_type": "code",
   "source": [
    "with open(output_filename, \"r\") as input_file:\n",
    "    lines = input_file.readlines()\n",
    "print(lines[:5])"
   ],
   "id": "f381b22ab50f13a8",
   "outputs": [
    {
     "name": "stdout",
     "output_type": "stream",
     "text": [
      "['the united nations is based in New York\\n', 'new york welcomes the largest number of legal immigrants\\n', 'New York City comprise -s five borough -s\\n', 'New York City contains five borough -s\\n', 'the Dutch Republic founded New Amsterdam\\n']\n"
     ]
    }
   ],
   "execution_count": 42
  },
  {
   "metadata": {
    "ExecuteTime": {
     "end_time": "2025-06-16T07:29:03.042741Z",
     "start_time": "2025-06-16T07:29:03.017079Z"
    }
   },
   "cell_type": "code",
   "source": [
    "# summary of validation dataset\n",
    "ds_valid=ds[\"validation\"].to_pandas()\n",
    "print(ds_valid.info())\n",
    "ds_valid[\"title\"]\n",
    "print(\"number of titles: \" + str(len(set(titles))))\n",
    "print((set(titles)))"
   ],
   "id": "cd6ba797eb295513",
   "outputs": [
    {
     "name": "stdout",
     "output_type": "stream",
     "text": [
      "<class 'pandas.core.frame.DataFrame'>\n",
      "RangeIndex: 10570 entries, 0 to 10569\n",
      "Data columns (total 5 columns):\n",
      " #   Column    Non-Null Count  Dtype \n",
      "---  ------    --------------  ----- \n",
      " 0   id        10570 non-null  object\n",
      " 1   title     10570 non-null  object\n",
      " 2   context   10570 non-null  object\n",
      " 3   question  10570 non-null  object\n",
      " 4   answers   10570 non-null  object\n",
      "dtypes: object(5)\n",
      "memory usage: 413.0+ KB\n",
      "None\n",
      "number of titles: 48\n",
      "{'French_and_Indian_War', 'Nikola_Tesla', 'Apollo_program', 'Rhine', 'Construction', 'Geology', 'Southern_California', 'Martin_Luther', 'Black_Death', 'Victoria_(Australia)', 'Steam_engine', 'Scottish_Parliament', 'Ctenophora', 'Islamism', 'European_Union_law', 'Intergovernmental_Panel_on_Climate_Change', 'Teacher', 'Private_school', 'Economic_inequality', 'Force', 'Harvard_University', 'Victoria_and_Albert_Museum', 'Immune_system', 'Prime_number', 'Civil_disobedience', 'Computational_complexity_theory', 'Normans', 'Huguenot', 'Kenya', 'University_of_Chicago', 'Fresno,_California', 'Chloroplast', 'Super_Bowl_50', 'Oxygen', 'Amazon_rainforest', 'Imperialism', 'United_Methodist_Church', 'Warsaw', 'American_Broadcasting_Company', 'Pharmacy', 'Yuan_dynasty', 'Doctor_Who', 'Jacksonville,_Florida', 'Packet_switching', 'Sky_(United_Kingdom)', 'Genghis_Khan', '1973_oil_crisis', 'Newcastle_upon_Tyne'}\n"
     ]
    }
   ],
   "execution_count": 23
  },
  {
   "metadata": {
    "ExecuteTime": {
     "end_time": "2025-06-16T07:29:57.059489Z",
     "start_time": "2025-06-16T07:29:57.052828Z"
    }
   },
   "cell_type": "code",
   "source": [
    "from collections import Counter\n",
    "bag_of_titles = Counter((titles))\n",
    "(bag_of_titles.most_common(20))"
   ],
   "id": "ac76b55c32431e0",
   "outputs": [
    {
     "data": {
      "text/plain": [
       "[('Super_Bowl_50', 810),\n",
       " ('Nikola_Tesla', 511),\n",
       " ('Martin_Luther', 479),\n",
       " ('American_Broadcasting_Company', 407),\n",
       " ('Doctor_Who', 319),\n",
       " ('Economic_inequality', 297),\n",
       " ('Victoria_and_Albert_Museum', 295),\n",
       " ('Chloroplast', 295),\n",
       " ('Rhine', 291),\n",
       " ('Teacher', 268),\n",
       " ('Newcastle_upon_Tyne', 264),\n",
       " ('Warsaw', 247),\n",
       " ('Oxygen', 247),\n",
       " ('Genghis_Khan', 245),\n",
       " ('European_Union_law', 243),\n",
       " ('Apollo_program', 242),\n",
       " ('Immune_system', 238),\n",
       " ('Kenya', 231),\n",
       " ('Yuan_dynasty', 228),\n",
       " ('Huguenot', 217)]"
      ]
     },
     "execution_count": 24,
     "metadata": {},
     "output_type": "execute_result"
    }
   ],
   "execution_count": 24
  },
  {
   "metadata": {
    "ExecuteTime": {
     "end_time": "2025-06-16T07:46:41.626118Z",
     "start_time": "2025-06-16T07:46:41.613892Z"
    }
   },
   "cell_type": "code",
   "source": [
    "#produce a summary of a dataset by splits\n",
    "def dataset_summary(a_dataset):\n",
    "    for split in ds.keys():\n",
    "        ds_split=ds[split].to_pandas()\n",
    "        print(\"summary of \" + split + \" split\")\n",
    "        print(ds_split.info())\n",
    "        titles=ds_split[\"title\"]\n",
    "        print(\"number of titles: \" + str(len(set(titles))))\n",
    "        print((set(titles)))\n",
    "        bag_of_titles = Counter((titles))\n",
    "        print(\"titles with most numerous examples: \" + str((bag_of_titles.most_common(20))) +\"\\n\")"
   ],
   "id": "c8837cc19716e55e",
   "outputs": [],
   "execution_count": 42
  },
  {
   "metadata": {
    "ExecuteTime": {
     "end_time": "2025-06-16T07:46:44.407439Z",
     "start_time": "2025-06-16T07:46:44.259256Z"
    }
   },
   "cell_type": "code",
   "source": "dataset_summary(ds)",
   "id": "924a9c4e0fcdd607",
   "outputs": [
    {
     "name": "stdout",
     "output_type": "stream",
     "text": [
      "summary of train split\n",
      "<class 'pandas.core.frame.DataFrame'>\n",
      "RangeIndex: 87599 entries, 0 to 87598\n",
      "Data columns (total 5 columns):\n",
      " #   Column    Non-Null Count  Dtype \n",
      "---  ------    --------------  ----- \n",
      " 0   id        87599 non-null  object\n",
      " 1   title     87599 non-null  object\n",
      " 2   context   87599 non-null  object\n",
      " 3   question  87599 non-null  object\n",
      " 4   answers   87599 non-null  object\n",
      "dtypes: object(5)\n",
      "memory usage: 3.3+ MB\n",
      "None\n",
      "number of titles: 442\n",
      "{'Alps', 'Super_Nintendo_Entertainment_System', 'University_of_Notre_Dame', 'Web_browser', 'Atlantic_City,_New_Jersey', 'Asthma', 'Hokkien', 'Pain', 'Houston', 'Institute_of_technology', 'Molotov%E2%80%93Ribbentrop_Pact', 'House_music', 'Antarctica', 'Namibia', 'Financial_crisis_of_2007%E2%80%9308', 'Humanism', 'Lancashire', 'Presbyterianism', 'Animal', 'Southampton', 'Madonna_(entertainer)', 'Universal_Studios', 'Qing_dynasty', 'High-definition_television', '2008_Summer_Olympics_torch_relay', 'Sony_Music_Entertainment', 'Canon_law', 'Time', 'Capital_punishment_in_the_United_States', 'Antenna_(radio)', 'Gothic_architecture', 'Athanasius_of_Alexandria', 'Sumer', 'Montana', 'Race_(human_categorization)', 'Himachal_Pradesh', 'Ashkenazi_Jews', 'Armenia', 'Southern_Europe', 'List_of_numbered_streets_in_Manhattan', 'Supreme_court', 'Pitch_(music)', 'Alexander_Graham_Bell', 'Great_power', 'Lighting', 'Adolescence', 'Infrared', 'Kanye_West', 'Philosophy_of_space_and_time', 'Dialect', 'Portugal', 'Sichuan', 'Charleston,_South_Carolina', 'Military_history_of_the_United_States', 'Hellenistic_period', 'Compact_disc', 'Comcast', 'Computer', 'Pacific_War', 'Flowering_plant', 'Federal_Bureau_of_Investigation', 'Neolithic', 'Textual_criticism', 'London', 'Antibiotics', 'Santa_Monica,_California', 'Mexico_City', 'Biodiversity', 'University', 'Religion_in_ancient_Rome', 'John,_King_of_England', 'Somalis', 'Professional_wrestling', 'Incandescent_light_bulb', 'Dwight_D._Eisenhower', 'Predation', 'Great_Plains', 'Hunter-gatherer', 'Digestion', 'Zinc', 'Detroit', 'Madrasa', 'Jehovah%27s_Witnesses', 'Han_dynasty', 'University_of_Kansas', 'Strasbourg', 'Friedrich_Hayek', 'Serbo-Croatian', 'Digimon', 'Modern_history', 'Zhejiang', 'Adult_contemporary_music', '2008_Sichuan_earthquake', 'Railway_electrification_system', 'Annelid', 'Ottoman_Empire', 'Tuvalu', 'Roman_Republic', 'Mandolin', 'Royal_assent', 'Old_English', 'Idealism', 'St._John%27s,_Newfoundland_and_Labrador', 'Bacteria', 'Political_corruption', 'Green', 'Russian_Soviet_Federative_Socialist_Republic', 'Order_of_the_British_Empire', 'Punjab,_Pakistan', 'Materialism', 'BBC_Television', 'Central_Intelligence_Agency', 'To_Kill_a_Mockingbird', 'Law_of_the_United_States', 'Alsace', 'Galicia_(Spain)', 'Arena_Football_League', 'Carnival', 'Liberal_Party_of_Australia', 'Neptune', 'MP3', 'Data_compression', 'The_Legend_of_Zelda:_Twilight_Princess', 'Beer', 'Raleigh,_North_Carolina', 'Apollo', 'Affirmative_action_in_the_United_States', 'Warsaw_Pact', 'Communication', 'Northwestern_University', 'Seattle', 'Arnold_Schwarzenegger', 'Association_football', 'Washington_University_in_St._Louis', 'Steven_Spielberg', 'Hanover', 'Kievan_Rus%27', 'Norfolk_Island', 'National_Archives_and_Records_Administration', 'Queen_Victoria', 'Gregorian_calendar', 'Geological_history_of_Earth', 'Xbox_360', 'Cyprus', 'CBC_Television', 'Gymnastics', 'Cardinal_(Catholicism)', 'Labour_Party_(UK)', 'United_States_dollar', 'Josip_Broz_Tito', 'Sanskrit', 'Liberia', 'Neoclassical_architecture', 'Frédéric_Chopin', 'Orthodox_Judaism', 'Baptists', 'Tennessee', 'On_the_Origin_of_Species', 'Queen_(band)', 'Culture', 'Eton_College', 'Myanmar', 'Bern', 'Child_labour', 'Eritrea', 'John_von_Neumann', 'Internet_service_provider', 'Muslim_world', 'Letter_case', 'Poultry', 'Group_(mathematics)', 'Bird', 'Spectre_(2015_film)', 'War_on_Terror', 'Iranian_languages', 'Plymouth', 'Empiricism', 'Hard_rock', 'Hunting', 'Estonian_language', 'North_Carolina', 'Gramophone_record', 'Federal_Aviation_Administration', 'San_Diego', 'Richard_Feynman', 'Bermuda', 'Utrecht', 'Appalachian_Mountains', 'The_Times', 'Protestantism', 'Brain', 'Wood', 'Political_philosophy', 'Oklahoma', 'Tuberculosis', 'Late_Middle_Ages', 'Glass', 'Iran', 'Unicode', 'Chihuahua_(state)', 'Myocardial_infarction', 'Slavs', 'Aircraft_carrier', 'Buddhism', 'Tucson,_Arizona', 'Film_speed', 'Wayback_Machine', 'Elevator', 'New_Delhi', 'Glacier', 'New_Haven,_Connecticut', 'Czech_language', 'Videoconferencing', 'Comics', 'Oklahoma_City', 'Germans', 'Gene', 'Political_party', 'Anthropology', 'Franco-Prussian_War', 'Christian', 'ASCII', 'Clothing', 'Symbiosis', 'Diarrhea', 'Crimean_War', 'Spanish_language_in_the_United_States', 'Royal_Dutch_Shell', 'Communications_in_Somalia', 'Copper', 'Nintendo_Entertainment_System', 'Cork_(city)', 'Republic_of_the_Congo', 'IPod', 'General_Electric', 'Pesticide', 'Freemasonry', 'Human_Development_Index', 'States_of_Germany', 'Endangered_Species_Act', 'Tibet', 'Tajikistan', 'East_India_Company', 'Dutch_Republic', 'Daylight_saving_time', 'Emotion', 'Buckingham_Palace', 'Korean_War', 'Arsenal_F.C.', 'Software_testing', 'Israel', 'Computer_security', 'British_Empire', 'Samoa', 'Transistor', 'Printed_circuit_board', 'Space_Race', 'Napoleon', 'Middle_Ages', 'Indigenous_peoples_of_the_Americas', 'Beyoncé', 'Anti-aircraft_warfare', 'Alloy', 'Red', 'Renewable_energy_commercialization', 'Elizabeth_II', 'Architecture', 'East_Prussia', 'Pope_Paul_VI', 'Heian_period', 'Canadian_football', 'Umayyad_Caliphate', 'Sexual_orientation', 'Marvel_Comics', 'Imamah_(Shia_doctrine)', 'Switzerland', 'Rule_of_law', 'Avicenna', 'United_States_Army', 'Yale_University', 'Circadian_rhythm', 'Party_leaders_of_the_United_States_House_of_Representatives', 'Kathmandu', 'United_States_Air_Force', 'Somerset', 'Florida', 'United_States_presidential_election,_2004', 'Quran', 'Separation_of_church_and_state_in_the_United_States', 'Muammar_Gaddafi', 'Insect', 'Alaska', 'Paris', 'Estonia', 'Race_and_ethnicity_in_the_United_States_Census', 'British_Isles', 'Translation', 'Armenians', 'Sahara', 'Tristan_da_Cunha', 'Genome', 'United_Nations_Population_Fund', 'European_Central_Bank', 'Exhibition_game', 'Hyderabad', 'Philadelphia', 'Cotton', 'The_Blitz', 'Immunology', 'Catalan_language', 'Asphalt', 'Immaculate_Conception', 'Hydrogen', 'Saint_Barth%C3%A9lemy', 'Airport', 'Matter', 'Police', 'Crucifixion_of_Jesus', 'Thuringia', 'Nonprofit_organization', 'FA_Cup', 'Classical_music', 'Royal_Institute_of_British_Architects', 'Dissolution_of_the_Soviet_Union', 'BeiDou_Navigation_Satellite_System', 'Vacuum', 'Paper', 'Nigeria', 'Brigham_Young_University', 'Central_African_Republic', 'Mary_(mother_of_Jesus)', 'Virgil', 'Dutch_language', 'New_York_City', 'Edmund_Burke', '51st_state', 'LaserDisc', 'Separation_of_powers_under_the_United_States_Constitution', 'Multiracial_American', 'Alfred_North_Whitehead', 'Palermo', 'Miami', 'IBM', 'Chicago_Cubs', 'God', 'Swaziland', 'Imperial_College_London', 'Comprehensive_school', 'Dell', 'Melbourne', 'Pope_John_XXIII', 'Guinea-Bissau', 'Mali', 'Everton_F.C.', 'Database', 'Age_of_Enlightenment', 'Montevideo', 'Genocide', 'Botany', 'Aspirated_consonant', 'Marshall_Islands', 'Copyright_infringement', 'Boston', 'Bird_migration', 'Ministry_of_Defence_(United_Kingdom)', 'American_Idol', 'Gamal_Abdel_Nasser', 'Georgian_architecture', 'Egypt', 'Premier_League', 'Heresy', 'Treaty', 'Grape', 'Geography_of_the_United_States', 'Light-emitting_diode', 'Jews', 'Economy_of_Greece', 'Mesozoic', 'Hindu_philosophy', 'Russian_language', 'The_Bronx', 'Identity_(social_science)', 'Intellectual_property', 'Literature', 'USB', 'Bras%C3%ADlia', 'Mosaic', 'The_Sun_(United_Kingdom)', 'Solar_energy', 'FC_Barcelona', 'Black_people', 'PlayStation_3', 'Nutrition', 'Uranium', 'Cubism', 'Memory', 'Near_East', 'Mammal', 'YouTube', 'Ann_Arbor,_Michigan', 'Windows_8', 'Rajasthan', 'Greeks', 'Richmond,_Virginia', 'Sino-Tibetan_relations_during_the_Ming_dynasty', 'Dominican_Order', 'Westminster_Abbey', 'Chinese_characters', 'Seven_Years%27_War', 'Phonology', 'Samurai', 'Greece', 'Valencia', 'Canadian_Armed_Forces', 'Department_store', 'John_Kerry', 'Nanjing', 'History_of_India', 'Szlachta', 'Dog', 'Saint_Helena', 'Karl_Popper', 'England_national_football_team', 'Energy', 'Education', 'Macintosh', 'Bill_%26_Melinda_Gates_Foundation', 'Infection', 'Federalism', 'Prime_minister', 'Southeast_Asia', 'A_cappella', 'Planck_constant', 'Electric_motor', 'Capacitor', 'Guam', 'Turner_Classic_Movies', 'History_of_science', 'George_VI', 'Post-punk', 'Pharmaceutical_industry', 'Pub'}\n",
      "titles with most numerous examples: [('New_York_City', 817), ('American_Idol', 802), ('Beyoncé', 758), ('Frédéric_Chopin', 697), ('Queen_Victoria', 680), ('Buddhism', 610), ('New_Haven,_Connecticut', 602), ('2008_Sichuan_earthquake', 521), ('2008_Summer_Olympics_torch_relay', 500), ('Muammar_Gaddafi', 489), ('Hellenistic_period', 469), ('Napoleon', 458), ('Middle_Ages', 452), ('Modern_history', 448), ('Portugal', 435), ('Gamal_Abdel_Nasser', 433), ('Dwight_D._Eisenhower', 430), ('Kanye_West', 428), ('Southampton', 426), ('The_Blitz', 414)]\n",
      "\n",
      "summary of validation split\n",
      "<class 'pandas.core.frame.DataFrame'>\n",
      "RangeIndex: 10570 entries, 0 to 10569\n",
      "Data columns (total 5 columns):\n",
      " #   Column    Non-Null Count  Dtype \n",
      "---  ------    --------------  ----- \n",
      " 0   id        10570 non-null  object\n",
      " 1   title     10570 non-null  object\n",
      " 2   context   10570 non-null  object\n",
      " 3   question  10570 non-null  object\n",
      " 4   answers   10570 non-null  object\n",
      "dtypes: object(5)\n",
      "memory usage: 413.0+ KB\n",
      "None\n",
      "number of titles: 48\n",
      "{'French_and_Indian_War', 'Nikola_Tesla', 'Apollo_program', 'Rhine', 'Construction', 'Geology', 'Southern_California', 'Martin_Luther', 'Black_Death', 'Victoria_(Australia)', 'Steam_engine', 'Scottish_Parliament', 'Ctenophora', 'Islamism', 'European_Union_law', 'Intergovernmental_Panel_on_Climate_Change', 'Teacher', 'Private_school', 'Economic_inequality', 'Force', 'Harvard_University', 'Victoria_and_Albert_Museum', 'Immune_system', 'Prime_number', 'Civil_disobedience', 'Computational_complexity_theory', 'Normans', 'Huguenot', 'Kenya', 'University_of_Chicago', 'Fresno,_California', 'Chloroplast', 'Super_Bowl_50', 'Oxygen', 'Amazon_rainforest', 'Imperialism', 'United_Methodist_Church', 'Warsaw', 'American_Broadcasting_Company', 'Pharmacy', 'Yuan_dynasty', 'Doctor_Who', 'Jacksonville,_Florida', 'Packet_switching', 'Sky_(United_Kingdom)', 'Genghis_Khan', '1973_oil_crisis', 'Newcastle_upon_Tyne'}\n",
      "titles with most numerous examples: [('Super_Bowl_50', 810), ('Nikola_Tesla', 511), ('Martin_Luther', 479), ('American_Broadcasting_Company', 407), ('Doctor_Who', 319), ('Economic_inequality', 297), ('Victoria_and_Albert_Museum', 295), ('Chloroplast', 295), ('Rhine', 291), ('Teacher', 268), ('Newcastle_upon_Tyne', 264), ('Warsaw', 247), ('Oxygen', 247), ('Genghis_Khan', 245), ('European_Union_law', 243), ('Apollo_program', 242), ('Immune_system', 238), ('Kenya', 231), ('Yuan_dynasty', 228), ('Huguenot', 217)]\n",
      "\n"
     ]
    }
   ],
   "execution_count": 43
  }
 ],
 "metadata": {
  "kernelspec": {
   "display_name": "Python 3",
   "language": "python",
   "name": "python3"
  },
  "language_info": {
   "codemirror_mode": {
    "name": "ipython",
    "version": 2
   },
   "file_extension": ".py",
   "mimetype": "text/x-python",
   "name": "python",
   "nbconvert_exporter": "python",
   "pygments_lexer": "ipython2",
   "version": "2.7.6"
  }
 },
 "nbformat": 4,
 "nbformat_minor": 5
}
