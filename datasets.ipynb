{
 "cells": [
  {
   "metadata": {},
   "cell_type": "markdown",
   "source": [
    "# This notebook is to prepare a dataset for training the ANNABELL model.\n",
    "The dataset is derived from the SQuAD database.  Each Question and Answer pair was used to prompt a LLM to provide a declarative statement.\n"
   ],
   "id": "6e3605d851fd6f83"
  },
  {
   "metadata": {},
   "cell_type": "code",
   "source": [
    "import pandas as pd\n",
    "import re\n",
    "# Load the datafile into a pandas DataFrame\n",
    "filepath = \"/Volumes/X9 Pro/datasets/declarative_statement_generation_output_gemma3:4b_2025-06-05 07:15:26.tsv\"\n",
    "results_df = pd.read_csv(filepath, sep=\"\\t\")\n",
    "print(results_df.info())\n",
    "results_df[:10]"
   ],
   "id": "ecb37871393135a7",
   "outputs": [],
   "execution_count": null
  },
  {
   "metadata": {},
   "cell_type": "markdown",
   "source": [
    "## To be useable for training, the ANNABELL model,  the examples need to follow the specific format below:\n",
    "* Uppercase letters are used only for first letter of proper nouns – e.g. Chris, London, Big Ben\n",
    "* Questions start with a question mark – e.g. \"how old are you\"\n",
    "* Words with a suffix are split in the form base –suffix.  e.g. animals -> animal –s, writing \\t *> write \\t *ing\n",
    "    * Apart from the above exceptions the following rules apply:\n",
    "    * every character must be lowercase\n",
    "    * No punctuation\n",
    "    * No Special Characters\n",
    "    * No Whitespace between lines\n",
    "    * Lines can be prefixed with # to insert comments\n",
    "    * If .ph is used, the entire phrase in the exact format must be input"
   ],
   "id": "38767e13dbb7ad70"
  },
  {
   "metadata": {},
   "cell_type": "code",
   "source": [
    "#move the ? from the end of each question to the start\n",
    "def move_question_mark_to_start(question):\n",
    "    if question.strip().endswith(\"?\"):\n",
    "        edited_question = \"?\" + question[:-1]\n",
    "    else:\n",
    "        #raise an exception if the question does not end with a ?\n",
    "        raise ValueError(f\"Question does not end with a question mark: {question}\")\n",
    "    return edited_question"
   ],
   "id": "7b894af48e20d3fc",
   "outputs": [],
   "execution_count": null
  },
  {
   "metadata": {},
   "cell_type": "code",
   "source": [
    "from unidecode import unidecode\n",
    "\n",
    "def remove_accents(text):\n",
    "    #Convert accented characters to unaccented ones\n",
    "    text_unaccented = unidecode(text)\n",
    "    return text_unaccented"
   ],
   "id": "a6a842f3c2e21b3c",
   "outputs": [],
   "execution_count": null
  },
  {
   "metadata": {},
   "cell_type": "code",
   "source": [
    "#remove all special characters except question marks and hyphen form the statements\n",
    "def remove_special_characters(text):\n",
    "    \"\"\"\n",
    "    Removes special characters from a string, keeping alphanumeric characters and spaces.\n",
    "    \"\"\"\n",
    "    # Keep only alphanumeric characters and spaces\n",
    "    cleaned_text = re.sub(r'[^A-Za-z0-9\\s?-]+', '', text)\n",
    "    return cleaned_text"
   ],
   "id": "f01be526a1e2e774",
   "outputs": [],
   "execution_count": null
  },
  {
   "metadata": {
    "ExecuteTime": {
     "end_time": "2025-06-09T07:51:49.108575Z",
     "start_time": "2025-06-09T07:51:49.105199Z"
    }
   },
   "cell_type": "code",
   "source": [
    "def filter_by_max_words(the_df, max_words=10):\n",
    "    #returnes a new dataframe filtered such that each question, answer and statement has less than 11 words\n",
    "\n",
    "    filtered_df = the_df[the_df.apply(lambda row: len(row[\"question\"].split()) <= max_words and len(row[\"answer\"][0].split()) <= max_words and len(row[\"statement\"].split()) <= max_words , axis=1)]\n",
    "    return filtered_df"
   ],
   "id": "15c3cdb9b7e52e64",
   "outputs": [],
   "execution_count": 30
  },
  {
   "metadata": {
    "ExecuteTime": {
     "end_time": "2025-06-09T07:51:51.693379Z",
     "start_time": "2025-06-09T07:51:51.675762Z"
    }
   },
   "cell_type": "code",
   "source": [
    "filtered_results_df = filter_by_max_words(results_df, max_words=10)\n",
    "filtered_results_df[\"question\"] = filtered_results_df[\"question\"].apply(move_question_mark_to_start)\n",
    "filtered_results_df[\"statement\"] = filtered_results_df[\"statement\"].apply(remove_accents)\n",
    "filtered_results_df[\"question\"] = filtered_results_df[\"question\"].apply(remove_accents)\n",
    "filtered_results_df[\"statement\"] = filtered_results_df[\"statement\"].apply(remove_special_characters)\n",
    "print(filtered_results_df.info())\n",
    "filtered_results_df"
   ],
   "id": "9f4710dcfb8f316f",
   "outputs": [
    {
     "name": "stdout",
     "output_type": "stream",
     "text": [
      "<class 'pandas.core.frame.DataFrame'>\n",
      "Index: 279 entries, 1 to 800\n",
      "Data columns (total 5 columns):\n",
      " #   Column     Non-Null Count  Dtype \n",
      "---  ------     --------------  ----- \n",
      " 0   id         279 non-null    object\n",
      " 1   title      279 non-null    object\n",
      " 2   question   279 non-null    object\n",
      " 3   answer     279 non-null    object\n",
      " 4   statement  279 non-null    object\n",
      "dtypes: object(5)\n",
      "memory usage: 13.1+ KB\n",
      "None\n"
     ]
    },
    {
     "name": "stderr",
     "output_type": "stream",
     "text": [
      "/var/folders/cv/z7xz0c3n3nd4c26hj7g01n7w0000gn/T/ipykernel_20347/630072154.py:2: SettingWithCopyWarning: \n",
      "A value is trying to be set on a copy of a slice from a DataFrame.\n",
      "Try using .loc[row_indexer,col_indexer] = value instead\n",
      "\n",
      "See the caveats in the documentation: https://pandas.pydata.org/pandas-docs/stable/user_guide/indexing.html#returning-a-view-versus-a-copy\n",
      "  filtered_results_df[\"question\"] = filtered_results_df[\"question\"].apply(move_question_mark_to_start)\n",
      "/var/folders/cv/z7xz0c3n3nd4c26hj7g01n7w0000gn/T/ipykernel_20347/630072154.py:3: SettingWithCopyWarning: \n",
      "A value is trying to be set on a copy of a slice from a DataFrame.\n",
      "Try using .loc[row_indexer,col_indexer] = value instead\n",
      "\n",
      "See the caveats in the documentation: https://pandas.pydata.org/pandas-docs/stable/user_guide/indexing.html#returning-a-view-versus-a-copy\n",
      "  filtered_results_df[\"statement\"] = filtered_results_df[\"statement\"].apply(remove_accents)\n",
      "/var/folders/cv/z7xz0c3n3nd4c26hj7g01n7w0000gn/T/ipykernel_20347/630072154.py:4: SettingWithCopyWarning: \n",
      "A value is trying to be set on a copy of a slice from a DataFrame.\n",
      "Try using .loc[row_indexer,col_indexer] = value instead\n",
      "\n",
      "See the caveats in the documentation: https://pandas.pydata.org/pandas-docs/stable/user_guide/indexing.html#returning-a-view-versus-a-copy\n",
      "  filtered_results_df[\"question\"] = filtered_results_df[\"question\"].apply(remove_accents)\n",
      "/var/folders/cv/z7xz0c3n3nd4c26hj7g01n7w0000gn/T/ipykernel_20347/630072154.py:5: SettingWithCopyWarning: \n",
      "A value is trying to be set on a copy of a slice from a DataFrame.\n",
      "Try using .loc[row_indexer,col_indexer] = value instead\n",
      "\n",
      "See the caveats in the documentation: https://pandas.pydata.org/pandas-docs/stable/user_guide/indexing.html#returning-a-view-versus-a-copy\n",
      "  filtered_results_df[\"statement\"] = filtered_results_df[\"statement\"].apply(remove_special_characters)\n"
     ]
    },
    {
     "data": {
      "text/plain": [
       "                           id          title  \\\n",
       "1    56ce304daab44d1400b8850f  New_York_City   \n",
       "3    56ce304daab44d1400b88511  New_York_City   \n",
       "4    56cf5d41aab44d1400b89130  New_York_City   \n",
       "6    56ce3124aab44d1400b8852a  New_York_City   \n",
       "11   56cf9d81234ae51400d9be1b  New_York_City   \n",
       "..                        ...            ...   \n",
       "790  56d11b4a17492d1400aab993  New_York_City   \n",
       "791  56d11b4a17492d1400aab994  New_York_City   \n",
       "797  56d11e7b17492d1400aab9d3  New_York_City   \n",
       "799  56d11e7b17492d1400aab9d5  New_York_City   \n",
       "800  56d11eb317492d1400aab9d9  New_York_City   \n",
       "\n",
       "                                              question  \\\n",
       "1            ?In what city is the United Nations based   \n",
       "3    ?What American city welcomes the largest numbe...   \n",
       "4    ?The major gateway for immigration has been wh...   \n",
       "6            ?How many boroughs comprise New York City   \n",
       "11        ?How man boroughs does New York City contain   \n",
       "..                                                 ...   \n",
       "790  ?What architectural style does the Throgs Neck...   \n",
       "791  ?The Queensboro Bridge utilized what type of c...   \n",
       "797           ?How long is Newtown Creek in kilometers   \n",
       "799  ?What notable accidental fossil fuel discharge...   \n",
       "800   ?What type of government does New York City have   \n",
       "\n",
       "                       answer  \\\n",
       "1                    New York   \n",
       "3                    New York   \n",
       "4               New York City   \n",
       "6                        five   \n",
       "11                       five   \n",
       "..                        ...   \n",
       "790  Structural Expressionism   \n",
       "791                cantilever   \n",
       "797                         6   \n",
       "799  the Greenpoint oil spill   \n",
       "800             mayor-council   \n",
       "\n",
       "                                             statement  \n",
       "1              the united nations is based in New York  \n",
       "3    New York welcomes the largest number of legal ...  \n",
       "4    the major gateway for immigration has been New...  \n",
       "6           the five borough -s comprise New York City  \n",
       "11              New York City contains five borough -s  \n",
       "..                                                 ...  \n",
       "790  the Throgs Neck Bridge reflects structural exp...  \n",
       "791  the Queensboro Bridge utilized cantilever cons...  \n",
       "797                    Newtown Creek is 6 kilometer -s  \n",
       "799  the Greenpoint oil spill occurred at Newtown C...  \n",
       "800       New York City has a mayor-council government  \n",
       "\n",
       "[279 rows x 5 columns]"
      ],
      "text/html": [
       "<div>\n",
       "<style scoped>\n",
       "    .dataframe tbody tr th:only-of-type {\n",
       "        vertical-align: middle;\n",
       "    }\n",
       "\n",
       "    .dataframe tbody tr th {\n",
       "        vertical-align: top;\n",
       "    }\n",
       "\n",
       "    .dataframe thead th {\n",
       "        text-align: right;\n",
       "    }\n",
       "</style>\n",
       "<table border=\"1\" class=\"dataframe\">\n",
       "  <thead>\n",
       "    <tr style=\"text-align: right;\">\n",
       "      <th></th>\n",
       "      <th>id</th>\n",
       "      <th>title</th>\n",
       "      <th>question</th>\n",
       "      <th>answer</th>\n",
       "      <th>statement</th>\n",
       "    </tr>\n",
       "  </thead>\n",
       "  <tbody>\n",
       "    <tr>\n",
       "      <th>1</th>\n",
       "      <td>56ce304daab44d1400b8850f</td>\n",
       "      <td>New_York_City</td>\n",
       "      <td>?In what city is the United Nations based</td>\n",
       "      <td>New York</td>\n",
       "      <td>the united nations is based in New York</td>\n",
       "    </tr>\n",
       "    <tr>\n",
       "      <th>3</th>\n",
       "      <td>56ce304daab44d1400b88511</td>\n",
       "      <td>New_York_City</td>\n",
       "      <td>?What American city welcomes the largest numbe...</td>\n",
       "      <td>New York</td>\n",
       "      <td>New York welcomes the largest number of legal ...</td>\n",
       "    </tr>\n",
       "    <tr>\n",
       "      <th>4</th>\n",
       "      <td>56cf5d41aab44d1400b89130</td>\n",
       "      <td>New_York_City</td>\n",
       "      <td>?The major gateway for immigration has been wh...</td>\n",
       "      <td>New York City</td>\n",
       "      <td>the major gateway for immigration has been New...</td>\n",
       "    </tr>\n",
       "    <tr>\n",
       "      <th>6</th>\n",
       "      <td>56ce3124aab44d1400b8852a</td>\n",
       "      <td>New_York_City</td>\n",
       "      <td>?How many boroughs comprise New York City</td>\n",
       "      <td>five</td>\n",
       "      <td>the five borough -s comprise New York City</td>\n",
       "    </tr>\n",
       "    <tr>\n",
       "      <th>11</th>\n",
       "      <td>56cf9d81234ae51400d9be1b</td>\n",
       "      <td>New_York_City</td>\n",
       "      <td>?How man boroughs does New York City contain</td>\n",
       "      <td>five</td>\n",
       "      <td>New York City contains five borough -s</td>\n",
       "    </tr>\n",
       "    <tr>\n",
       "      <th>...</th>\n",
       "      <td>...</td>\n",
       "      <td>...</td>\n",
       "      <td>...</td>\n",
       "      <td>...</td>\n",
       "      <td>...</td>\n",
       "    </tr>\n",
       "    <tr>\n",
       "      <th>790</th>\n",
       "      <td>56d11b4a17492d1400aab993</td>\n",
       "      <td>New_York_City</td>\n",
       "      <td>?What architectural style does the Throgs Neck...</td>\n",
       "      <td>Structural Expressionism</td>\n",
       "      <td>the Throgs Neck Bridge reflects structural exp...</td>\n",
       "    </tr>\n",
       "    <tr>\n",
       "      <th>791</th>\n",
       "      <td>56d11b4a17492d1400aab994</td>\n",
       "      <td>New_York_City</td>\n",
       "      <td>?The Queensboro Bridge utilized what type of c...</td>\n",
       "      <td>cantilever</td>\n",
       "      <td>the Queensboro Bridge utilized cantilever cons...</td>\n",
       "    </tr>\n",
       "    <tr>\n",
       "      <th>797</th>\n",
       "      <td>56d11e7b17492d1400aab9d3</td>\n",
       "      <td>New_York_City</td>\n",
       "      <td>?How long is Newtown Creek in kilometers</td>\n",
       "      <td>6</td>\n",
       "      <td>Newtown Creek is 6 kilometer -s</td>\n",
       "    </tr>\n",
       "    <tr>\n",
       "      <th>799</th>\n",
       "      <td>56d11e7b17492d1400aab9d5</td>\n",
       "      <td>New_York_City</td>\n",
       "      <td>?What notable accidental fossil fuel discharge...</td>\n",
       "      <td>the Greenpoint oil spill</td>\n",
       "      <td>the Greenpoint oil spill occurred at Newtown C...</td>\n",
       "    </tr>\n",
       "    <tr>\n",
       "      <th>800</th>\n",
       "      <td>56d11eb317492d1400aab9d9</td>\n",
       "      <td>New_York_City</td>\n",
       "      <td>?What type of government does New York City have</td>\n",
       "      <td>mayor-council</td>\n",
       "      <td>New York City has a mayor-council government</td>\n",
       "    </tr>\n",
       "  </tbody>\n",
       "</table>\n",
       "<p>279 rows × 5 columns</p>\n",
       "</div>"
      ]
     },
     "execution_count": 31,
     "metadata": {},
     "output_type": "execute_result"
    }
   ],
   "execution_count": 31
  },
  {
   "metadata": {},
   "cell_type": "code",
   "source": "",
   "id": "3ce87b0c6243422c",
   "outputs": [],
   "execution_count": null
  },
  {
   "metadata": {},
   "cell_type": "code",
   "source": [
    "titles = [item[\"title\"] for item in ds[\"train\"]]\n",
    "print(len(titles))\n",
    "print(len(set(titles)))"
   ],
   "id": "d965c6be2239bf5c",
   "outputs": [],
   "execution_count": null
  },
  {
   "metadata": {},
   "cell_type": "code",
   "source": [
    "from collections import Counter\n",
    "bag_of_titles = Counter((titles))\n",
    "(bag_of_titles.most_common(20))"
   ],
   "id": "ac76b55c32431e0",
   "outputs": [],
   "execution_count": null
  },
  {
   "metadata": {},
   "cell_type": "code",
   "source": [
    "answers = chopin_df[\"answers\"]\n",
    "print(len(answers))\n",
    "answers[:5]"
   ],
   "id": "9c2a3d7fc4f47c0",
   "outputs": [],
   "execution_count": null
  },
  {
   "metadata": {},
   "cell_type": "code",
   "source": [
    "answers_multi = [answer[\"text\"] for answer in answers.values if len(answer[\"text\"]) > 1]\n",
    "answers_multi"
   ],
   "id": "20c1a433cbde32a7",
   "outputs": [],
   "execution_count": null
  },
  {
   "metadata": {},
   "cell_type": "code",
   "source": [
    "chopin_short_df = chopin_df[chopin_df.apply(lambda row: len(row[\"answers\"][0]) >10)]\n",
    "chopin_short_df"
   ],
   "id": "aacca3a2a733b229",
   "outputs": [],
   "execution_count": null
  },
  {
   "metadata": {},
   "cell_type": "code",
   "source": [
    "chopin_short_df = chopin_df[chopin_df.apply(lambda row: len(row[\"answers\"][\"text\"][0]) > 10, axis=1)]\n",
    "chopin_short_df"
   ],
   "id": "8b0d03a07ea2577e",
   "outputs": [],
   "execution_count": null
  },
  {
   "metadata": {},
   "cell_type": "code",
   "source": "line = \"Who were liberators of oppressed Balkan states?\tThe Russians\tthe Russians were liberators of the oppressed Balkan States\"",
   "id": "f75186f272bfa923",
   "outputs": [],
   "execution_count": null
  },
  {
   "metadata": {},
   "cell_type": "code",
   "source": "len(line.split('\\t'))",
   "id": "e0b586230d6c1d1",
   "outputs": [],
   "execution_count": null
  },
  {
   "metadata": {},
   "cell_type": "code",
   "source": "\"\"\"What do some authors state anthropology developed as the study of?\t\"other cultures\tsome authors state that anthropology developed as the study of other cultures\"\"\".split(\"\\t\")\n",
   "id": "438c78181734c5c8",
   "outputs": [],
   "execution_count": null
  },
  {
   "metadata": {},
   "cell_type": "code",
   "source": "\"\"\"What is a central part of the science of anthropology?\tcomparative method\tthe comparative method is a central part of the science of Anthropology.\"\"\".split(\"\\t\")",
   "id": "6881ee6ef8f469d3",
   "outputs": [],
   "execution_count": null
  },
  {
   "metadata": {},
   "cell_type": "code",
   "source": "\"\"\"A past society would be an other culture separated by what temporal aspect?\ttime\ta past society would be an other culture separated by time\"\"\".split(\"\\t\")",
   "id": "14bc8f17ff33f069",
   "outputs": [],
   "execution_count": null
  },
  {
   "metadata": {},
   "cell_type": "code",
   "source": [
    "\"\"\"What is a central part of the science of anthropology?\tcomparative method\tthe comparative method is a central part of the science of Anthropology.\n",
    "What do some authors state anthropology developed as the study of?\t\"other cultures\tsome authors state that anthropology developed as the study of other cultures\n",
    "A past society would be an other culture separated by what temporal aspect?\ttime\ta past society would be an other culture separated by time\"\"\".split(\"\\t\")"
   ],
   "id": "cb4374a4c02742ed",
   "outputs": [],
   "execution_count": null
  },
  {
   "metadata": {},
   "cell_type": "code",
   "source": [
    "with open(filepath, \"r\") as file:\n",
    "    lines = file.readlines()"
   ],
   "id": "d3bdde0d950e021",
   "outputs": [],
   "execution_count": null
  },
  {
   "metadata": {},
   "cell_type": "code",
   "source": "len(lines)",
   "id": "a05c13224766e5e1",
   "outputs": [],
   "execution_count": null
  },
  {
   "metadata": {},
   "cell_type": "code",
   "source": [
    "from datasets import load_dataset\n",
    "ds = load_dataset(\"rajpurkar/squad\")\n",
    "#take the 10 samples from the train set\n",
    "ds_train = ds[\"train\"].select(range(10))"
   ],
   "id": "e94cc6251a483b52",
   "outputs": [],
   "execution_count": null
  },
  {
   "metadata": {},
   "cell_type": "code",
   "source": [
    "for example in ds_train:\n",
    "    print(example[\"question\"] + \"\\t\" + example[\"answers\"][\"text\"][0])\n"
   ],
   "id": "d61e075aa99efede",
   "outputs": [],
   "execution_count": null
  },
  {
   "metadata": {},
   "cell_type": "code",
   "source": "",
   "id": "c0df7636725f3f16",
   "outputs": [],
   "execution_count": null
  }
 ],
 "metadata": {
  "kernelspec": {
   "display_name": "Python 3",
   "language": "python",
   "name": "python3"
  },
  "language_info": {
   "codemirror_mode": {
    "name": "ipython",
    "version": 2
   },
   "file_extension": ".py",
   "mimetype": "text/x-python",
   "name": "python",
   "nbconvert_exporter": "python",
   "pygments_lexer": "ipython2",
   "version": "2.7.6"
  }
 },
 "nbformat": 4,
 "nbformat_minor": 5
}
