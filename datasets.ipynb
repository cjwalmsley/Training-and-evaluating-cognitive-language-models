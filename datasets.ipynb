{
 "cells": [
  {
   "metadata": {},
   "cell_type": "markdown",
   "source": [
    "# This notebook is to prepare a dataset for training the ANNABELL model.\n",
    "The dataset is derived from the SQuAD database.  Each Question and Answer pair was used to prompt a LLM to provide a declarative statement.\n"
   ],
   "id": "6e3605d851fd6f83"
  },
  {
   "metadata": {
    "ExecuteTime": {
     "end_time": "2025-06-02T14:21:47.925436Z",
     "start_time": "2025-06-02T14:21:47.913528Z"
    }
   },
   "cell_type": "code",
   "source": [
    "import pandas as pd\n",
    "# Load the datafile into a pandas DataFrame\n",
    "filepath = \"/home/chris/PycharmProjects/sandbox/declarative_statement_generation_output_gemma3:4b_2025-06-02 12:30:56.tsv\"\n",
    "results_df = pd.read_csv(filepath, sep=\"\\t\")\n",
    "print(results_df.info())\n",
    "results_df.head()"
   ],
   "id": "ecb37871393135a7",
   "outputs": [
    {
     "name": "stdout",
     "output_type": "stream",
     "text": [
      "<class 'pandas.core.frame.DataFrame'>\n",
      "RangeIndex: 817 entries, 0 to 816\n",
      "Data columns (total 5 columns):\n",
      " #   Column     Non-Null Count  Dtype \n",
      "---  ------     --------------  ----- \n",
      " 0   id         817 non-null    object\n",
      " 1   title      817 non-null    object\n",
      " 2   question   817 non-null    object\n",
      " 3   answer     817 non-null    object\n",
      " 4   statement  817 non-null    object\n",
      "dtypes: object(5)\n",
      "memory usage: 32.0+ KB\n",
      "None\n"
     ]
    },
    {
     "data": {
      "text/plain": [
       "                         id          title  \\\n",
       "0  56ce304daab44d1400b8850e  New_York_City   \n",
       "1  56ce304daab44d1400b8850f  New_York_City   \n",
       "2  56ce304daab44d1400b88510  New_York_City   \n",
       "3  56ce304daab44d1400b88511  New_York_City   \n",
       "4  56cf5d41aab44d1400b89130  New_York_City   \n",
       "\n",
       "                                            question         answer  \\\n",
       "0  What city in the United States has the highest...       New York   \n",
       "1          In what city is the United Nations based?       New York   \n",
       "2  What city has been called the cultural capital...       New York   \n",
       "3  What American city welcomes the largest number...       New York   \n",
       "4  The major gateway for immigration has been whi...  New York City   \n",
       "\n",
       "                                           statement  \n",
       "0  New York is the city in the United States with...  \n",
       "1            the United Nations is based in New York  \n",
       "2  New York has been called the cultural capital ...  \n",
       "3  New York welcomes the largest number of legal ...  \n",
       "4  New York City has been the major gateway for i...  "
      ],
      "text/html": [
       "<div>\n",
       "<style scoped>\n",
       "    .dataframe tbody tr th:only-of-type {\n",
       "        vertical-align: middle;\n",
       "    }\n",
       "\n",
       "    .dataframe tbody tr th {\n",
       "        vertical-align: top;\n",
       "    }\n",
       "\n",
       "    .dataframe thead th {\n",
       "        text-align: right;\n",
       "    }\n",
       "</style>\n",
       "<table border=\"1\" class=\"dataframe\">\n",
       "  <thead>\n",
       "    <tr style=\"text-align: right;\">\n",
       "      <th></th>\n",
       "      <th>id</th>\n",
       "      <th>title</th>\n",
       "      <th>question</th>\n",
       "      <th>answer</th>\n",
       "      <th>statement</th>\n",
       "    </tr>\n",
       "  </thead>\n",
       "  <tbody>\n",
       "    <tr>\n",
       "      <th>0</th>\n",
       "      <td>56ce304daab44d1400b8850e</td>\n",
       "      <td>New_York_City</td>\n",
       "      <td>What city in the United States has the highest...</td>\n",
       "      <td>New York</td>\n",
       "      <td>New York is the city in the United States with...</td>\n",
       "    </tr>\n",
       "    <tr>\n",
       "      <th>1</th>\n",
       "      <td>56ce304daab44d1400b8850f</td>\n",
       "      <td>New_York_City</td>\n",
       "      <td>In what city is the United Nations based?</td>\n",
       "      <td>New York</td>\n",
       "      <td>the United Nations is based in New York</td>\n",
       "    </tr>\n",
       "    <tr>\n",
       "      <th>2</th>\n",
       "      <td>56ce304daab44d1400b88510</td>\n",
       "      <td>New_York_City</td>\n",
       "      <td>What city has been called the cultural capital...</td>\n",
       "      <td>New York</td>\n",
       "      <td>New York has been called the cultural capital ...</td>\n",
       "    </tr>\n",
       "    <tr>\n",
       "      <th>3</th>\n",
       "      <td>56ce304daab44d1400b88511</td>\n",
       "      <td>New_York_City</td>\n",
       "      <td>What American city welcomes the largest number...</td>\n",
       "      <td>New York</td>\n",
       "      <td>New York welcomes the largest number of legal ...</td>\n",
       "    </tr>\n",
       "    <tr>\n",
       "      <th>4</th>\n",
       "      <td>56cf5d41aab44d1400b89130</td>\n",
       "      <td>New_York_City</td>\n",
       "      <td>The major gateway for immigration has been whi...</td>\n",
       "      <td>New York City</td>\n",
       "      <td>New York City has been the major gateway for i...</td>\n",
       "    </tr>\n",
       "  </tbody>\n",
       "</table>\n",
       "</div>"
      ]
     },
     "execution_count": 8,
     "metadata": {},
     "output_type": "execute_result"
    }
   ],
   "execution_count": 8
  },
  {
   "metadata": {},
   "cell_type": "markdown",
   "source": [
    "## To be useable for training, the ANNABELL model,  the examples need to follow the specific format below:\n",
    "* Uppercase letters are used only for first letter of proper nouns – e.g. Chris, London, Big Ben\n",
    "* Questions start with a question mark – e.g. \"how old are you\"\n",
    "* Words with a suffix are split in the form base –suffix.  e.g. animals -> animal –s, writing \\t *> write \\t *ing\n",
    "    * Apart from the above exceptions the following rules apply:\n",
    "    * every character must be lowercase\n",
    "    * No punctuation\n",
    "    * No Special Characters\n",
    "    * No Whitespace between lines\n",
    "    * Lines can be prefixed with # to insert comments\n",
    "    * If .ph is used, the entire phrase in the exact format must be input"
   ],
   "id": "38767e13dbb7ad70"
  },
  {
   "metadata": {
    "ExecuteTime": {
     "end_time": "2025-06-02T14:29:53.740511Z",
     "start_time": "2025-06-02T14:29:53.729711Z"
    }
   },
   "cell_type": "code",
   "source": [
    "#fiilter the data to only include statements, questions and answers with less than 11 words\n",
    "filtered_results_df = results_df[results_df.apply(lambda row: len(row[\"question\"].split()) < 11 and len(row[\"answer\"][0].split()) < 11 and len(row[\"statement\"].split()) < 11 , axis=1)]\n",
    "filtered_results_df.info()"
   ],
   "id": "30b70c76f3e42786",
   "outputs": [
    {
     "name": "stdout",
     "output_type": "stream",
     "text": [
      "<class 'pandas.core.frame.DataFrame'>\n",
      "Index: 296 entries, 1 to 809\n",
      "Data columns (total 5 columns):\n",
      " #   Column     Non-Null Count  Dtype \n",
      "---  ------     --------------  ----- \n",
      " 0   id         296 non-null    object\n",
      " 1   title      296 non-null    object\n",
      " 2   question   296 non-null    object\n",
      " 3   answer     296 non-null    object\n",
      " 4   statement  296 non-null    object\n",
      "dtypes: object(5)\n",
      "memory usage: 13.9+ KB\n"
     ]
    }
   ],
   "execution_count": 15
  },
  {
   "metadata": {
    "ExecuteTime": {
     "end_time": "2025-06-02T14:38:51.332088Z",
     "start_time": "2025-06-02T14:38:51.327353Z"
    }
   },
   "cell_type": "code",
   "source": [
    "#move the ? from the end of each question to the start\n",
    "def move_question_mark_to_start(question):\n",
    "    if question.strip().endswith(\"?\"):\n",
    "        edited_question = \"?\" + question[:-1]\n",
    "    else:\n",
    "        #raise an exception if the question does not end with a ?\n",
    "        raise ValueError(f\"Question does not end with a question mark: {question}\")\n",
    "    return edited_question\n",
    "\n",
    "edited_questions_results_df = results_df[\"question\"] = filtered_results_df[\"question\"].apply(move_question_mark_to_start)\n",
    "edited_questions_results_df[:5]"
   ],
   "id": "7b894af48e20d3fc",
   "outputs": [
    {
     "data": {
      "text/plain": [
       "1             ?In what city is the United Nations based\n",
       "3     ?What American city welcomes the largest numbe...\n",
       "4     ?The major gateway for immigration has been wh...\n",
       "6             ?How many boroughs comprise New York City\n",
       "11         ?How man boroughs does New York City contain\n",
       "Name: question, dtype: object"
      ]
     },
     "execution_count": 17,
     "metadata": {},
     "output_type": "execute_result"
    }
   ],
   "execution_count": 17
  },
  {
   "metadata": {
    "ExecuteTime": {
     "end_time": "2025-06-02T08:46:50.264430Z",
     "start_time": "2025-06-02T08:46:47.548789Z"
    }
   },
   "cell_type": "code",
   "source": [
    "titles = [item[\"title\"] for item in ds[\"train\"]]\n",
    "print(len(titles))\n",
    "print(len(set(titles)))"
   ],
   "id": "d965c6be2239bf5c",
   "outputs": [
    {
     "name": "stdout",
     "output_type": "stream",
     "text": [
      "87599\n",
      "442\n"
     ]
    }
   ],
   "execution_count": 15
  },
  {
   "metadata": {
    "ExecuteTime": {
     "end_time": "2025-06-02T08:48:31.656113Z",
     "start_time": "2025-06-02T08:48:31.652282Z"
    }
   },
   "cell_type": "code",
   "source": "ds[\"train\"][0]",
   "id": "e85938b044cc0fdf",
   "outputs": [
    {
     "data": {
      "text/plain": [
       "{'id': '5733be284776f41900661182',\n",
       " 'title': 'University_of_Notre_Dame',\n",
       " 'context': 'Architecturally, the school has a Catholic character. Atop the Main Building\\'s gold dome is a golden statue of the Virgin Mary. Immediately in front of the Main Building and facing it, is a copper statue of Christ with arms upraised with the legend \"Venite Ad Me Omnes\". Next to the Main Building is the Basilica of the Sacred Heart. Immediately behind the basilica is the Grotto, a Marian place of prayer and reflection. It is a replica of the grotto at Lourdes, France where the Virgin Mary reputedly appeared to Saint Bernadette Soubirous in 1858. At the end of the main drive (and in a direct line that connects through 3 statues and the Gold Dome), is a simple, modern stone statue of Mary.',\n",
       " 'question': 'To whom did the Virgin Mary allegedly appear in 1858 in Lourdes France?',\n",
       " 'answers': {'text': ['Saint Bernadette Soubirous'], 'answer_start': [515]}}"
      ]
     },
     "execution_count": 17,
     "metadata": {},
     "output_type": "execute_result"
    }
   ],
   "execution_count": 17
  },
  {
   "metadata": {
    "ExecuteTime": {
     "end_time": "2025-06-02T08:45:29.880415Z",
     "start_time": "2025-06-02T08:45:29.873277Z"
    }
   },
   "cell_type": "code",
   "source": [
    "from collections import Counter\n",
    "bag_of_titles = Counter((titles))\n",
    "(bag_of_titles.most_common(20))"
   ],
   "id": "ac76b55c32431e0",
   "outputs": [
    {
     "data": {
      "text/plain": [
       "[('New_York_City', 817),\n",
       " ('American_Idol', 802),\n",
       " ('Beyoncé', 758),\n",
       " ('Frédéric_Chopin', 697),\n",
       " ('Queen_Victoria', 680),\n",
       " ('Buddhism', 610),\n",
       " ('New_Haven,_Connecticut', 602),\n",
       " ('2008_Sichuan_earthquake', 521),\n",
       " ('2008_Summer_Olympics_torch_relay', 500),\n",
       " ('Muammar_Gaddafi', 489),\n",
       " ('Hellenistic_period', 469),\n",
       " ('Napoleon', 458),\n",
       " ('Middle_Ages', 452),\n",
       " ('Modern_history', 448),\n",
       " ('Portugal', 435),\n",
       " ('Gamal_Abdel_Nasser', 433),\n",
       " ('Dwight_D._Eisenhower', 430),\n",
       " ('Kanye_West', 428),\n",
       " ('Southampton', 426),\n",
       " ('The_Blitz', 414)]"
      ]
     },
     "execution_count": 14,
     "metadata": {},
     "output_type": "execute_result"
    }
   ],
   "execution_count": 14
  },
  {
   "metadata": {},
   "cell_type": "code",
   "source": [
    "answers = chopin_df[\"answers\"]\n",
    "print(len(answers))\n",
    "answers[:5]"
   ],
   "id": "9c2a3d7fc4f47c0",
   "outputs": [],
   "execution_count": null
  },
  {
   "metadata": {},
   "cell_type": "code",
   "source": [
    "answers_multi = [answer[\"text\"] for answer in answers.values if len(answer[\"text\"]) > 1]\n",
    "answers_multi"
   ],
   "id": "20c1a433cbde32a7",
   "outputs": [],
   "execution_count": null
  },
  {
   "metadata": {},
   "cell_type": "code",
   "source": [
    "chopin_short_df = chopin_df[chopin_df.apply(lambda row: len(row[\"answers\"][0]) >10)]\n",
    "chopin_short_df"
   ],
   "id": "aacca3a2a733b229",
   "outputs": [],
   "execution_count": null
  },
  {
   "metadata": {},
   "cell_type": "code",
   "source": [
    "chopin_short_df = chopin_df[chopin_df.apply(lambda row: len(row[\"answers\"][\"text\"][0]) > 10, axis=1)]\n",
    "chopin_short_df"
   ],
   "id": "8b0d03a07ea2577e",
   "outputs": [],
   "execution_count": null
  },
  {
   "metadata": {},
   "cell_type": "code",
   "source": "line = \"Who were liberators of oppressed Balkan states?\tThe Russians\tthe Russians were liberators of the oppressed Balkan States\"",
   "id": "f75186f272bfa923",
   "outputs": [],
   "execution_count": null
  },
  {
   "metadata": {},
   "cell_type": "code",
   "source": "len(line.split('\\t'))",
   "id": "e0b586230d6c1d1",
   "outputs": [],
   "execution_count": null
  },
  {
   "metadata": {
    "ExecuteTime": {
     "end_time": "2025-05-30T05:12:37.371854Z",
     "start_time": "2025-05-30T05:12:37.366224Z"
    }
   },
   "cell_type": "code",
   "source": "\"\"\"What do some authors state anthropology developed as the study of?\t\"other cultures\tsome authors state that anthropology developed as the study of other cultures\"\"\".split(\"\\t\")\n",
   "id": "438c78181734c5c8",
   "outputs": [
    {
     "data": {
      "text/plain": [
       "['What do some authors state anthropology developed as the study of?',\n",
       " '\"other cultures',\n",
       " 'some authors state that anthropology developed as the study of other cultures']"
      ]
     },
     "execution_count": 63,
     "metadata": {},
     "output_type": "execute_result"
    }
   ],
   "execution_count": 63
  },
  {
   "metadata": {
    "ExecuteTime": {
     "end_time": "2025-05-30T05:13:44.028277Z",
     "start_time": "2025-05-30T05:13:44.021451Z"
    }
   },
   "cell_type": "code",
   "source": "\"\"\"What is a central part of the science of anthropology?\tcomparative method\tthe comparative method is a central part of the science of Anthropology.\"\"\".split(\"\\t\")",
   "id": "6881ee6ef8f469d3",
   "outputs": [
    {
     "data": {
      "text/plain": [
       "['What is a central part of the science of anthropology?',\n",
       " 'comparative method',\n",
       " 'the comparative method is a central part of the science of Anthropology.']"
      ]
     },
     "execution_count": 64,
     "metadata": {},
     "output_type": "execute_result"
    }
   ],
   "execution_count": 64
  },
  {
   "metadata": {
    "ExecuteTime": {
     "end_time": "2025-05-30T05:14:20.863471Z",
     "start_time": "2025-05-30T05:14:20.858281Z"
    }
   },
   "cell_type": "code",
   "source": "\"\"\"A past society would be an other culture separated by what temporal aspect?\ttime\ta past society would be an other culture separated by time\"\"\".split(\"\\t\")",
   "id": "14bc8f17ff33f069",
   "outputs": [
    {
     "data": {
      "text/plain": [
       "['A past society would be an other culture separated by what temporal aspect?',\n",
       " 'time',\n",
       " 'a past society would be an other culture separated by time']"
      ]
     },
     "execution_count": 65,
     "metadata": {},
     "output_type": "execute_result"
    }
   ],
   "execution_count": 65
  },
  {
   "metadata": {
    "ExecuteTime": {
     "end_time": "2025-05-30T05:15:02.189684Z",
     "start_time": "2025-05-30T05:15:02.186932Z"
    }
   },
   "cell_type": "code",
   "source": [
    "\"\"\"What is a central part of the science of anthropology?\tcomparative method\tthe comparative method is a central part of the science of Anthropology.\n",
    "What do some authors state anthropology developed as the study of?\t\"other cultures\tsome authors state that anthropology developed as the study of other cultures\n",
    "A past society would be an other culture separated by what temporal aspect?\ttime\ta past society would be an other culture separated by time\"\"\".split(\"\\t\")"
   ],
   "id": "cb4374a4c02742ed",
   "outputs": [
    {
     "data": {
      "text/plain": [
       "['What is a central part of the science of anthropology?',\n",
       " 'comparative method',\n",
       " 'the comparative method is a central part of the science of Anthropology.\\nWhat do some authors state anthropology developed as the study of?',\n",
       " '\"other cultures',\n",
       " 'some authors state that anthropology developed as the study of other cultures\\nA past society would be an other culture separated by what temporal aspect?',\n",
       " 'time',\n",
       " 'a past society would be an other culture separated by time']"
      ]
     },
     "execution_count": 66,
     "metadata": {},
     "output_type": "execute_result"
    }
   ],
   "execution_count": 66
  },
  {
   "metadata": {
    "ExecuteTime": {
     "end_time": "2025-05-31T11:14:56.738605Z",
     "start_time": "2025-05-31T11:14:56.711487Z"
    }
   },
   "cell_type": "code",
   "source": [
    "with open(filepath, \"r\") as file:\n",
    "    lines = file.readlines()"
   ],
   "id": "d3bdde0d950e021",
   "outputs": [],
   "execution_count": 97
  },
  {
   "metadata": {
    "ExecuteTime": {
     "end_time": "2025-05-31T11:15:06.529761Z",
     "start_time": "2025-05-31T11:15:06.527162Z"
    }
   },
   "cell_type": "code",
   "source": "len(lines)",
   "id": "a05c13224766e5e1",
   "outputs": [
    {
     "data": {
      "text/plain": [
       "87624"
      ]
     },
     "execution_count": 98,
     "metadata": {},
     "output_type": "execute_result"
    }
   ],
   "execution_count": 98
  },
  {
   "metadata": {},
   "cell_type": "code",
   "outputs": [],
   "execution_count": null,
   "source": "",
   "id": "eadeecc359dc7816"
  }
 ],
 "metadata": {
  "kernelspec": {
   "display_name": "Python 3",
   "language": "python",
   "name": "python3"
  },
  "language_info": {
   "codemirror_mode": {
    "name": "ipython",
    "version": 2
   },
   "file_extension": ".py",
   "mimetype": "text/x-python",
   "name": "python",
   "nbconvert_exporter": "python",
   "pygments_lexer": "ipython2",
   "version": "2.7.6"
  }
 },
 "nbformat": 4,
 "nbformat_minor": 5
}
