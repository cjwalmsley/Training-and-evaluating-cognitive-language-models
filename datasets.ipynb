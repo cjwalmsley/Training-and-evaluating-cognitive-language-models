{
 "cells": [
  {
   "metadata": {},
   "cell_type": "markdown",
   "source": [
    "# This notebook is to prepare a dataset for training the ANNABELL model.\n",
    "The dataset is derived from the SQuAD database.  Each Question and Answer pair was used to prompt a LLM to provide a declarative statement.\n"
   ],
   "id": "6e3605d851fd6f83"
  },
  {
   "metadata": {
    "ExecuteTime": {
     "end_time": "2025-06-14T11:55:01.044740Z",
     "start_time": "2025-06-14T11:55:01.021160Z"
    }
   },
   "cell_type": "code",
   "source": [
    "import pandas as pd\n",
    "import re\n",
    "from datasets import load_dataset, load_from_disk\n",
    "from generate_declarative_sentences import load_squad_dataset\n",
    "\n",
    "# Load the SQuAD dataset\n",
    "ds = load_squad_dataset()\n",
    "\n",
    "# Load the datafile into a pandas DataFrame\n",
    "train_filepath = \"datasets/train/declarative_sentences_train.tsv\"\n",
    "validation_filepath = \"datasets/validation/declarative_sentences_validation.tsv\"\n",
    "train_df = pd.read_csv(train_filepath, sep=\"\\t\")\n",
    "validation_df = pd.read_csv(validation_filepath, sep=\"\\t\")\n",
    "print(train_df.info())\n",
    "print(validation_df.info())"
   ],
   "id": "ecb37871393135a7",
   "outputs": [
    {
     "name": "stdout",
     "output_type": "stream",
     "text": [
      "<class 'pandas.core.frame.DataFrame'>\n",
      "RangeIndex: 816 entries, 0 to 815\n",
      "Data columns (total 7 columns):\n",
      " #   Column             Non-Null Count  Dtype \n",
      "---  ------             --------------  ----- \n",
      " 0   id                 816 non-null    object\n",
      " 1   title              816 non-null    object\n",
      " 2   question           816 non-null    object\n",
      " 3   answer             816 non-null    object\n",
      " 4   response_question  816 non-null    object\n",
      " 5   response_answer    816 non-null    object\n",
      " 6   statement          816 non-null    object\n",
      "dtypes: object(7)\n",
      "memory usage: 44.8+ KB\n",
      "None\n",
      "<class 'pandas.core.frame.DataFrame'>\n",
      "RangeIndex: 0 entries\n",
      "Data columns (total 7 columns):\n",
      " #   Column             Non-Null Count  Dtype \n",
      "---  ------             --------------  ----- \n",
      " 0   id                 0 non-null      object\n",
      " 1   title              0 non-null      object\n",
      " 2   question           0 non-null      object\n",
      " 3   answer             0 non-null      object\n",
      " 4   response_question  0 non-null      object\n",
      " 5   response_answer    0 non-null      object\n",
      " 6   statement          0 non-null      object\n",
      "dtypes: object(7)\n",
      "memory usage: 132.0+ bytes\n",
      "None\n"
     ]
    }
   ],
   "execution_count": 21
  },
  {
   "metadata": {},
   "cell_type": "markdown",
   "source": [
    "## To be useable for training, the ANNABELL model,  the examples need to follow the specific format below:\n",
    "* Uppercase letters are used only for first letter of proper nouns – e.g. Chris, London, Big Ben\n",
    "* Questions start with a question mark – e.g. \"how old are you\"\n",
    "* Words with a suffix are split in the form base –suffix.  e.g. animals -> animal –s, writing \\t *> write \\t *ing\n",
    "    * Apart from the above exceptions the following rules apply:\n",
    "    * every character must be lowercase\n",
    "    * No punctuation\n",
    "    * No Special Characters\n",
    "    * No Whitespace between lines\n",
    "    * Lines can be prefixed with # to insert comments\n",
    "    * If .ph is used, the entire phrase in the exact format must be input"
   ],
   "id": "38767e13dbb7ad70"
  },
  {
   "metadata": {
    "ExecuteTime": {
     "end_time": "2025-06-14T11:55:51.537689Z",
     "start_time": "2025-06-14T11:55:51.534769Z"
    }
   },
   "cell_type": "code",
   "source": [
    "#move the ? from the end of each question to the start\n",
    "def move_question_mark_to_start(question):\n",
    "    if question.strip().endswith(\"?\"):\n",
    "        edited_question = \"? \" + question[:-1]\n",
    "    else:\n",
    "        #raise an exception if the question does not end with a ?\n",
    "        raise ValueError(f\"Question does not end with a question mark: {question}\")\n",
    "    return edited_question"
   ],
   "id": "7b894af48e20d3fc",
   "outputs": [],
   "execution_count": 29
  },
  {
   "metadata": {
    "ExecuteTime": {
     "end_time": "2025-06-14T11:55:01.067097Z",
     "start_time": "2025-06-14T11:55:01.065609Z"
    }
   },
   "cell_type": "code",
   "source": [
    "def replace_decimal_in_matched_string(matched_string):\n",
    "    #callable function to support the regex\n",
    "    number_str = matched_string.group(0)\n",
    "    return number_str.replace('.', ' point ')"
   ],
   "id": "956695c7f7287559",
   "outputs": [],
   "execution_count": 23
  },
  {
   "metadata": {
    "ExecuteTime": {
     "end_time": "2025-06-14T11:55:01.090815Z",
     "start_time": "2025-06-14T11:55:01.089169Z"
    }
   },
   "cell_type": "code",
   "source": [
    "def convert_decimal_point_to_word(a_string):\n",
    "    import re\n",
    "    #Replace \".\" with 'point' if it is part of a number.\n",
    "\n",
    "    # Regex to find numbers with a decimal point:\n",
    "    # \\d+\\.\\d+  matches numbers like 1.23\n",
    "    # \\d+\\.     matches numbers like 1. (dot at the end after digits)\n",
    "    # \\.\\d+     matches numbers like .5 (dot at the beginning before digits)\n",
    "    # The order matters to match \\d+\\.\\d+ before \\d+\\. or \\.\\d+ for overlapping cases.\n",
    "    pattern = r'\\d+\\.\\d+|\\d+\\.|\\.\\d+'\n",
    "    return re.sub(pattern, replace_decimal_in_matched_string, a_string)"
   ],
   "id": "2a81dbdca22aebc1",
   "outputs": [],
   "execution_count": 24
  },
  {
   "metadata": {
    "ExecuteTime": {
     "end_time": "2025-06-14T11:55:01.127134Z",
     "start_time": "2025-06-14T11:55:01.123464Z"
    }
   },
   "cell_type": "code",
   "source": [
    "from unidecode import unidecode\n",
    "\n",
    "def remove_accents(text):\n",
    "    #Convert accented characters to unaccented ones\n",
    "    text_unaccented = unidecode(text)\n",
    "    return text_unaccented"
   ],
   "id": "a6a842f3c2e21b3c",
   "outputs": [],
   "execution_count": 25
  },
  {
   "metadata": {
    "ExecuteTime": {
     "end_time": "2025-06-14T11:55:01.145050Z",
     "start_time": "2025-06-14T11:55:01.143344Z"
    }
   },
   "cell_type": "code",
   "source": [
    "#remove all special characters except question marks and hyphen form the statements\n",
    "def remove_special_characters(text):\n",
    "    \"\"\"\n",
    "    Removes special characters from a string, keeping alphanumeric characters and spaces.\n",
    "    \"\"\"\n",
    "    # Keep only alphanumeric characters and spaces\n",
    "    cleaned_text = re.sub(r'[^A-Za-z0-9\\s?-]+', '', text)\n",
    "    return cleaned_text"
   ],
   "id": "f01be526a1e2e774",
   "outputs": [],
   "execution_count": 26
  },
  {
   "metadata": {
    "ExecuteTime": {
     "end_time": "2025-06-14T11:55:01.164842Z",
     "start_time": "2025-06-14T11:55:01.162495Z"
    }
   },
   "cell_type": "code",
   "source": [
    "def filter_by_max_words(the_df, max_words=10):\n",
    "    #returnes a new dataframe filtered such that each question, answer and statement has less than 11 words\n",
    "\n",
    "    filtered_df = the_df[the_df.apply(lambda row: len(row[\"question\"].split()) <= max_words and len(row[\"answer\"][0].split()) <= max_words and len(row[\"statement\"].split()) <= max_words , axis=1)]\n",
    "    return filtered_df"
   ],
   "id": "15c3cdb9b7e52e64",
   "outputs": [],
   "execution_count": 27
  },
  {
   "metadata": {
    "ExecuteTime": {
     "end_time": "2025-06-14T11:55:01.182410Z",
     "start_time": "2025-06-14T11:55:01.180286Z"
    }
   },
   "cell_type": "code",
   "source": [
    "def clean_text(a_series, is_question):\n",
    "    #takes a dataframe series and applies reformatting\n",
    "    if is_question:\n",
    "        a_series = a_series.apply(move_question_mark_to_start)\n",
    "    for function_name in (convert_decimal_point_to_word, remove_accents, remove_special_characters):\n",
    "        a_series = a_series.apply(function_name)\n",
    "    return a_series"
   ],
   "id": "9fc0a75cc9924984",
   "outputs": [],
   "execution_count": 28
  },
  {
   "metadata": {
    "ExecuteTime": {
     "end_time": "2025-06-14T11:56:51.225136Z",
     "start_time": "2025-06-14T11:56:51.208950Z"
    }
   },
   "cell_type": "code",
   "source": [
    "filtered_train_df = filter_by_max_words(train_df, max_words=10)\n",
    "filtered_train_df[\"response_question\"] = clean_text(filtered_train_df[\"response_question\"], True)\n",
    "filtered_train_df[\"response_answer\"] = clean_text(filtered_train_df[\"response_answer\"], False)\n",
    "filtered_train_df[\"statement\"] = clean_text(filtered_train_df[\"statement\"], False)\n",
    "filtered_train_df"
   ],
   "id": "62950dae3d19bf43",
   "outputs": [
    {
     "name": "stderr",
     "output_type": "stream",
     "text": [
      "/var/folders/cv/z7xz0c3n3nd4c26hj7g01n7w0000gn/T/ipykernel_80278/1758001371.py:2: SettingWithCopyWarning: \n",
      "A value is trying to be set on a copy of a slice from a DataFrame.\n",
      "Try using .loc[row_indexer,col_indexer] = value instead\n",
      "\n",
      "See the caveats in the documentation: https://pandas.pydata.org/pandas-docs/stable/user_guide/indexing.html#returning-a-view-versus-a-copy\n",
      "  filtered_train_df[\"response_question\"] = clean_text(filtered_train_df[\"response_question\"], True)\n",
      "/var/folders/cv/z7xz0c3n3nd4c26hj7g01n7w0000gn/T/ipykernel_80278/1758001371.py:3: SettingWithCopyWarning: \n",
      "A value is trying to be set on a copy of a slice from a DataFrame.\n",
      "Try using .loc[row_indexer,col_indexer] = value instead\n",
      "\n",
      "See the caveats in the documentation: https://pandas.pydata.org/pandas-docs/stable/user_guide/indexing.html#returning-a-view-versus-a-copy\n",
      "  filtered_train_df[\"response_answer\"] = clean_text(filtered_train_df[\"response_answer\"], False)\n",
      "/var/folders/cv/z7xz0c3n3nd4c26hj7g01n7w0000gn/T/ipykernel_80278/1758001371.py:4: SettingWithCopyWarning: \n",
      "A value is trying to be set on a copy of a slice from a DataFrame.\n",
      "Try using .loc[row_indexer,col_indexer] = value instead\n",
      "\n",
      "See the caveats in the documentation: https://pandas.pydata.org/pandas-docs/stable/user_guide/indexing.html#returning-a-view-versus-a-copy\n",
      "  filtered_train_df[\"statement\"] = clean_text(filtered_train_df[\"statement\"], False)\n"
     ]
    },
    {
     "data": {
      "text/plain": [
       "                           id          title  \\\n",
       "1    56ce304daab44d1400b8850f  New_York_City   \n",
       "3    56ce304daab44d1400b88511  New_York_City   \n",
       "6    56ce3124aab44d1400b8852a  New_York_City   \n",
       "11   56cf9d81234ae51400d9be1b  New_York_City   \n",
       "17   56ce31baaab44d1400b8853b  New_York_City   \n",
       "..                        ...            ...   \n",
       "790  56d11b4a17492d1400aab994  New_York_City   \n",
       "796  56d11e7b17492d1400aab9d3  New_York_City   \n",
       "798  56d11e7b17492d1400aab9d5  New_York_City   \n",
       "799  56d11eb317492d1400aab9d9  New_York_City   \n",
       "808  56d1204617492d1400aab9fd  New_York_City   \n",
       "\n",
       "                                              question  \\\n",
       "1            In what city is the United Nations based?   \n",
       "3    What American city welcomes the largest number...   \n",
       "6            How many boroughs comprise New York City?   \n",
       "11        How man boroughs does New York City contain?   \n",
       "17                  What nation founded New Amsterdam?   \n",
       "..                                                 ...   \n",
       "790  The Queensboro Bridge utilized what type of co...   \n",
       "796           How long is Newtown Creek in kilometers?   \n",
       "798  What notable accidental fossil fuel discharge ...   \n",
       "799   What type of government does New York City have?   \n",
       "808   In what borough is the New York City Hall found?   \n",
       "\n",
       "                       answer  \\\n",
       "1                    New York   \n",
       "3                    New York   \n",
       "6                        five   \n",
       "11                       five   \n",
       "17         the Dutch Republic   \n",
       "..                        ...   \n",
       "790                cantilever   \n",
       "796                         6   \n",
       "798  the Greenpoint oil spill   \n",
       "799             mayor-council   \n",
       "808                 Manhattan   \n",
       "\n",
       "                                     response_question  \\\n",
       "1           ? in what city is the united nations based   \n",
       "3    ? What American city welcomes the largest numb...   \n",
       "6           ? How many boroughs comprise New York City   \n",
       "11       ? How man boroughs does New York City contain   \n",
       "17                 ? What nation founded New Amsterdam   \n",
       "..                                                 ...   \n",
       "790  ? the Queensboro Bridge utilized what type of ...   \n",
       "796          ? How long is Newtown Creek in kilometers   \n",
       "798  ? what notable accidental fossil fuel discharg...   \n",
       "799  ? what type of government does New York City have   \n",
       "808  ? in what borough is the New York City Hall found   \n",
       "\n",
       "              response_answer  \\\n",
       "1                    new york   \n",
       "3                    new york   \n",
       "6                        five   \n",
       "11                       five   \n",
       "17         the Dutch Republic   \n",
       "..                        ...   \n",
       "790                cantilever   \n",
       "796                         6   \n",
       "798  the Greenpoint oil spill   \n",
       "799             mayor-council   \n",
       "808                 manhattan   \n",
       "\n",
       "                                             statement  \n",
       "1              the united nations is based in New York  \n",
       "3    new york welcomes the largest number of legal ...  \n",
       "6            New York City comprise -s five borough -s  \n",
       "11              New York City contains five borough -s  \n",
       "17            the Dutch Republic founded New Amsterdam  \n",
       "..                                                 ...  \n",
       "790  the Queensboro Bridge utilized a cantilever co...  \n",
       "796                 newtown creek is 6 kilometers long  \n",
       "798  the Greenpoint oil spill occurred at Newtown C...  \n",
       "799       new york city has a mayor-council government  \n",
       "808       the New York City Hall is found in Manhattan  \n",
       "\n",
       "[294 rows x 7 columns]"
      ],
      "text/html": [
       "<div>\n",
       "<style scoped>\n",
       "    .dataframe tbody tr th:only-of-type {\n",
       "        vertical-align: middle;\n",
       "    }\n",
       "\n",
       "    .dataframe tbody tr th {\n",
       "        vertical-align: top;\n",
       "    }\n",
       "\n",
       "    .dataframe thead th {\n",
       "        text-align: right;\n",
       "    }\n",
       "</style>\n",
       "<table border=\"1\" class=\"dataframe\">\n",
       "  <thead>\n",
       "    <tr style=\"text-align: right;\">\n",
       "      <th></th>\n",
       "      <th>id</th>\n",
       "      <th>title</th>\n",
       "      <th>question</th>\n",
       "      <th>answer</th>\n",
       "      <th>response_question</th>\n",
       "      <th>response_answer</th>\n",
       "      <th>statement</th>\n",
       "    </tr>\n",
       "  </thead>\n",
       "  <tbody>\n",
       "    <tr>\n",
       "      <th>1</th>\n",
       "      <td>56ce304daab44d1400b8850f</td>\n",
       "      <td>New_York_City</td>\n",
       "      <td>In what city is the United Nations based?</td>\n",
       "      <td>New York</td>\n",
       "      <td>? in what city is the united nations based</td>\n",
       "      <td>new york</td>\n",
       "      <td>the united nations is based in New York</td>\n",
       "    </tr>\n",
       "    <tr>\n",
       "      <th>3</th>\n",
       "      <td>56ce304daab44d1400b88511</td>\n",
       "      <td>New_York_City</td>\n",
       "      <td>What American city welcomes the largest number...</td>\n",
       "      <td>New York</td>\n",
       "      <td>? What American city welcomes the largest numb...</td>\n",
       "      <td>new york</td>\n",
       "      <td>new york welcomes the largest number of legal ...</td>\n",
       "    </tr>\n",
       "    <tr>\n",
       "      <th>6</th>\n",
       "      <td>56ce3124aab44d1400b8852a</td>\n",
       "      <td>New_York_City</td>\n",
       "      <td>How many boroughs comprise New York City?</td>\n",
       "      <td>five</td>\n",
       "      <td>? How many boroughs comprise New York City</td>\n",
       "      <td>five</td>\n",
       "      <td>New York City comprise -s five borough -s</td>\n",
       "    </tr>\n",
       "    <tr>\n",
       "      <th>11</th>\n",
       "      <td>56cf9d81234ae51400d9be1b</td>\n",
       "      <td>New_York_City</td>\n",
       "      <td>How man boroughs does New York City contain?</td>\n",
       "      <td>five</td>\n",
       "      <td>? How man boroughs does New York City contain</td>\n",
       "      <td>five</td>\n",
       "      <td>New York City contains five borough -s</td>\n",
       "    </tr>\n",
       "    <tr>\n",
       "      <th>17</th>\n",
       "      <td>56ce31baaab44d1400b8853b</td>\n",
       "      <td>New_York_City</td>\n",
       "      <td>What nation founded New Amsterdam?</td>\n",
       "      <td>the Dutch Republic</td>\n",
       "      <td>? What nation founded New Amsterdam</td>\n",
       "      <td>the Dutch Republic</td>\n",
       "      <td>the Dutch Republic founded New Amsterdam</td>\n",
       "    </tr>\n",
       "    <tr>\n",
       "      <th>...</th>\n",
       "      <td>...</td>\n",
       "      <td>...</td>\n",
       "      <td>...</td>\n",
       "      <td>...</td>\n",
       "      <td>...</td>\n",
       "      <td>...</td>\n",
       "      <td>...</td>\n",
       "    </tr>\n",
       "    <tr>\n",
       "      <th>790</th>\n",
       "      <td>56d11b4a17492d1400aab994</td>\n",
       "      <td>New_York_City</td>\n",
       "      <td>The Queensboro Bridge utilized what type of co...</td>\n",
       "      <td>cantilever</td>\n",
       "      <td>? the Queensboro Bridge utilized what type of ...</td>\n",
       "      <td>cantilever</td>\n",
       "      <td>the Queensboro Bridge utilized a cantilever co...</td>\n",
       "    </tr>\n",
       "    <tr>\n",
       "      <th>796</th>\n",
       "      <td>56d11e7b17492d1400aab9d3</td>\n",
       "      <td>New_York_City</td>\n",
       "      <td>How long is Newtown Creek in kilometers?</td>\n",
       "      <td>6</td>\n",
       "      <td>? How long is Newtown Creek in kilometers</td>\n",
       "      <td>6</td>\n",
       "      <td>newtown creek is 6 kilometers long</td>\n",
       "    </tr>\n",
       "    <tr>\n",
       "      <th>798</th>\n",
       "      <td>56d11e7b17492d1400aab9d5</td>\n",
       "      <td>New_York_City</td>\n",
       "      <td>What notable accidental fossil fuel discharge ...</td>\n",
       "      <td>the Greenpoint oil spill</td>\n",
       "      <td>? what notable accidental fossil fuel discharg...</td>\n",
       "      <td>the Greenpoint oil spill</td>\n",
       "      <td>the Greenpoint oil spill occurred at Newtown C...</td>\n",
       "    </tr>\n",
       "    <tr>\n",
       "      <th>799</th>\n",
       "      <td>56d11eb317492d1400aab9d9</td>\n",
       "      <td>New_York_City</td>\n",
       "      <td>What type of government does New York City have?</td>\n",
       "      <td>mayor-council</td>\n",
       "      <td>? what type of government does New York City have</td>\n",
       "      <td>mayor-council</td>\n",
       "      <td>new york city has a mayor-council government</td>\n",
       "    </tr>\n",
       "    <tr>\n",
       "      <th>808</th>\n",
       "      <td>56d1204617492d1400aab9fd</td>\n",
       "      <td>New_York_City</td>\n",
       "      <td>In what borough is the New York City Hall found?</td>\n",
       "      <td>Manhattan</td>\n",
       "      <td>? in what borough is the New York City Hall found</td>\n",
       "      <td>manhattan</td>\n",
       "      <td>the New York City Hall is found in Manhattan</td>\n",
       "    </tr>\n",
       "  </tbody>\n",
       "</table>\n",
       "<p>294 rows × 7 columns</p>\n",
       "</div>"
      ]
     },
     "execution_count": 31,
     "metadata": {},
     "output_type": "execute_result"
    }
   ],
   "execution_count": 31
  },
  {
   "metadata": {
    "ExecuteTime": {
     "end_time": "2025-06-14T12:08:04.366625Z",
     "start_time": "2025-06-14T12:08:04.363680Z"
    }
   },
   "cell_type": "code",
   "source": [
    "#write a file that can be used to train ANNABELL\n",
    "output_filename = \"training/nyc_statements.txt\"\n",
    "with open(output_filename, \"w\") as output_file:\n",
    "    for statement in filtered_train_df[\"statement\"]:\n",
    "        output_file.write(statement + \"\\n\")\n",
    "#check that the file looks correct\n",
    "with open(output_filename, \"r\") as input_file:\n",
    "    lines = input_file.readlines()\n",
    "print(lines[:5])"
   ],
   "id": "3ef6ad5bafd5fdcc",
   "outputs": [],
   "execution_count": 41
  },
  {
   "metadata": {
    "ExecuteTime": {
     "end_time": "2025-06-14T12:08:09.537899Z",
     "start_time": "2025-06-14T12:08:09.535469Z"
    }
   },
   "cell_type": "code",
   "source": [
    "with open(output_filename, \"r\") as input_file:\n",
    "    lines = input_file.readlines()\n",
    "print(lines[:5])"
   ],
   "id": "f381b22ab50f13a8",
   "outputs": [
    {
     "name": "stdout",
     "output_type": "stream",
     "text": [
      "['the united nations is based in New York\\n', 'new york welcomes the largest number of legal immigrants\\n', 'New York City comprise -s five borough -s\\n', 'New York City contains five borough -s\\n', 'the Dutch Republic founded New Amsterdam\\n']\n"
     ]
    }
   ],
   "execution_count": 42
  },
  {
   "metadata": {
    "ExecuteTime": {
     "end_time": "2025-06-13T07:05:40.080495Z",
     "start_time": "2025-06-13T07:05:40.027647Z"
    }
   },
   "cell_type": "code",
   "source": [
    "#find the row in the ds which has the id = \"56cfdef3234ae51400d9bfc2\"\n",
    "ds[:5]"
   ],
   "id": "cd6ba797eb295513",
   "outputs": [
    {
     "ename": "KeyError",
     "evalue": "\"Invalid key: slice(None, 5, None). Please first select a split. For example: `my_dataset_dictionary['train'][slice(None, 5, None)]`. Available splits: ['train', 'validation']\"",
     "output_type": "error",
     "traceback": [
      "\u001B[31m---------------------------------------------------------------------------\u001B[39m",
      "\u001B[31mKeyError\u001B[39m                                  Traceback (most recent call last)",
      "\u001B[36mCell\u001B[39m\u001B[36m \u001B[39m\u001B[32mIn[4]\u001B[39m\u001B[32m, line 2\u001B[39m\n\u001B[32m      1\u001B[39m \u001B[38;5;66;03m#find the row in the ds which has the id = \"56cfdef3234ae51400d9bfc2\"\u001B[39;00m\n\u001B[32m----> \u001B[39m\u001B[32m2\u001B[39m \u001B[43mds\u001B[49m\u001B[43m[\u001B[49m\u001B[43m:\u001B[49m\u001B[32;43m5\u001B[39;49m\u001B[43m]\u001B[49m\n",
      "\u001B[36mFile \u001B[39m\u001B[32m~/PycharmProjects/dataset/.venv/lib/python3.12/site-packages/datasets/dataset_dict.py:87\u001B[39m, in \u001B[36mDatasetDict.__getitem__\u001B[39m\u001B[34m(self, k)\u001B[39m\n\u001B[32m     83\u001B[39m available_suggested_splits = [\n\u001B[32m     84\u001B[39m     split \u001B[38;5;28;01mfor\u001B[39;00m split \u001B[38;5;129;01min\u001B[39;00m (Split.TRAIN, Split.TEST, Split.VALIDATION) \u001B[38;5;28;01mif\u001B[39;00m split \u001B[38;5;129;01min\u001B[39;00m \u001B[38;5;28mself\u001B[39m\n\u001B[32m     85\u001B[39m ]\n\u001B[32m     86\u001B[39m suggested_split = available_suggested_splits[\u001B[32m0\u001B[39m] \u001B[38;5;28;01mif\u001B[39;00m available_suggested_splits \u001B[38;5;28;01melse\u001B[39;00m \u001B[38;5;28mlist\u001B[39m(\u001B[38;5;28mself\u001B[39m)[\u001B[32m0\u001B[39m]\n\u001B[32m---> \u001B[39m\u001B[32m87\u001B[39m \u001B[38;5;28;01mraise\u001B[39;00m \u001B[38;5;167;01mKeyError\u001B[39;00m(\n\u001B[32m     88\u001B[39m     \u001B[33mf\u001B[39m\u001B[33m\"\u001B[39m\u001B[33mInvalid key: \u001B[39m\u001B[38;5;132;01m{\u001B[39;00mk\u001B[38;5;132;01m}\u001B[39;00m\u001B[33m. Please first select a split. For example: \u001B[39m\u001B[33m\"\u001B[39m\n\u001B[32m     89\u001B[39m     \u001B[33mf\u001B[39m\u001B[33m\"\u001B[39m\u001B[33m`my_dataset_dictionary[\u001B[39m\u001B[33m'\u001B[39m\u001B[38;5;132;01m{\u001B[39;00msuggested_split\u001B[38;5;132;01m}\u001B[39;00m\u001B[33m'\u001B[39m\u001B[33m][\u001B[39m\u001B[38;5;132;01m{\u001B[39;00mk\u001B[38;5;132;01m}\u001B[39;00m\u001B[33m]`. \u001B[39m\u001B[33m\"\u001B[39m\n\u001B[32m     90\u001B[39m     \u001B[33mf\u001B[39m\u001B[33m\"\u001B[39m\u001B[33mAvailable splits: \u001B[39m\u001B[38;5;132;01m{\u001B[39;00m\u001B[38;5;28msorted\u001B[39m(\u001B[38;5;28mself\u001B[39m)\u001B[38;5;132;01m}\u001B[39;00m\u001B[33m\"\u001B[39m\n\u001B[32m     91\u001B[39m )\n",
      "\u001B[31mKeyError\u001B[39m: \"Invalid key: slice(None, 5, None). Please first select a split. For example: `my_dataset_dictionary['train'][slice(None, 5, None)]`. Available splits: ['train', 'validation']\""
     ]
    }
   ],
   "execution_count": 4
  },
  {
   "metadata": {
    "ExecuteTime": {
     "end_time": "2025-06-13T05:49:09.818808Z",
     "start_time": "2025-06-13T05:49:08.999510Z"
    }
   },
   "cell_type": "code",
   "source": "type(ds[\"train\"].filter(lambda x: x[\"id\"] == \"56cfdef3234ae51400d9bfc2\"))",
   "id": "6ed659f6f71188e3",
   "outputs": [
    {
     "data": {
      "text/plain": [
       "Filter:   0%|          | 0/87599 [00:00<?, ? examples/s]"
      ],
      "application/vnd.jupyter.widget-view+json": {
       "version_major": 2,
       "version_minor": 0,
       "model_id": "86d63aa5b2a7404cac6b8e41156aed0b"
      }
     },
     "metadata": {},
     "output_type": "display_data"
    },
    {
     "data": {
      "text/plain": [
       "datasets.arrow_dataset.Dataset"
      ]
     },
     "execution_count": 40,
     "metadata": {},
     "output_type": "execute_result"
    }
   ],
   "execution_count": 40
  },
  {
   "metadata": {},
   "cell_type": "code",
   "outputs": [],
   "execution_count": null,
   "source": [
    "titles = [item[\"title\"] for item in ds[\"train\"]]\n",
    "print(len(titles))\n",
    "print(len(set(titles)))"
   ],
   "id": "d965c6be2239bf5c"
  },
  {
   "metadata": {
    "ExecuteTime": {
     "end_time": "2025-06-13T06:57:11.490380Z",
     "start_time": "2025-06-13T06:57:11.482682Z"
    }
   },
   "cell_type": "code",
   "source": "ds",
   "id": "c3d7021d2a91804a",
   "outputs": [
    {
     "data": {
      "text/plain": [
       "DatasetDict({\n",
       "    train: Dataset({\n",
       "        features: ['id', 'title', 'context', 'question', 'answers'],\n",
       "        num_rows: 87599\n",
       "    })\n",
       "    validation: Dataset({\n",
       "        features: ['id', 'title', 'context', 'question', 'answers'],\n",
       "        num_rows: 10570\n",
       "    })\n",
       "})"
      ]
     },
     "execution_count": 42,
     "metadata": {},
     "output_type": "execute_result"
    }
   ],
   "execution_count": 42
  },
  {
   "metadata": {},
   "cell_type": "code",
   "source": [
    "from collections import Counter\n",
    "bag_of_titles = Counter((titles))\n",
    "(bag_of_titles.most_common(20))"
   ],
   "id": "ac76b55c32431e0",
   "outputs": [],
   "execution_count": null
  },
  {
   "metadata": {},
   "cell_type": "code",
   "source": [
    "answers = chopin_df[\"answers\"]\n",
    "print(len(answers))\n",
    "answers[:5]"
   ],
   "id": "9c2a3d7fc4f47c0",
   "outputs": [],
   "execution_count": null
  },
  {
   "metadata": {},
   "cell_type": "code",
   "source": [
    "answers_multi = [answer[\"text\"] for answer in answers.values if len(answer[\"text\"]) > 1]\n",
    "answers_multi"
   ],
   "id": "20c1a433cbde32a7",
   "outputs": [],
   "execution_count": null
  },
  {
   "metadata": {},
   "cell_type": "code",
   "source": [
    "chopin_short_df = chopin_df[chopin_df.apply(lambda row: len(row[\"answers\"][0]) >10)]\n",
    "chopin_short_df"
   ],
   "id": "aacca3a2a733b229",
   "outputs": [],
   "execution_count": null
  },
  {
   "metadata": {},
   "cell_type": "code",
   "source": [
    "chopin_short_df = chopin_df[chopin_df.apply(lambda row: len(row[\"answers\"][\"text\"][0]) > 10, axis=1)]\n",
    "chopin_short_df"
   ],
   "id": "8b0d03a07ea2577e",
   "outputs": [],
   "execution_count": null
  },
  {
   "metadata": {},
   "cell_type": "code",
   "source": "line = \"Who were liberators of oppressed Balkan states?\tThe Russians\tthe Russians were liberators of the oppressed Balkan States\"",
   "id": "f75186f272bfa923",
   "outputs": [],
   "execution_count": null
  },
  {
   "metadata": {},
   "cell_type": "code",
   "source": "len(line.split('\\t'))",
   "id": "e0b586230d6c1d1",
   "outputs": [],
   "execution_count": null
  },
  {
   "metadata": {},
   "cell_type": "code",
   "source": "\"\"\"What do some authors state anthropology developed as the study of?\t\"other cultures\tsome authors state that anthropology developed as the study of other cultures\"\"\".split(\"\\t\")\n",
   "id": "438c78181734c5c8",
   "outputs": [],
   "execution_count": null
  },
  {
   "metadata": {},
   "cell_type": "code",
   "source": "\"\"\"What is a central part of the science of anthropology?\tcomparative method\tthe comparative method is a central part of the science of Anthropology.\"\"\".split(\"\\t\")",
   "id": "6881ee6ef8f469d3",
   "outputs": [],
   "execution_count": null
  },
  {
   "metadata": {},
   "cell_type": "code",
   "source": "\"\"\"A past society would be an other culture separated by what temporal aspect?\ttime\ta past society would be an other culture separated by time\"\"\".split(\"\\t\")",
   "id": "14bc8f17ff33f069",
   "outputs": [],
   "execution_count": null
  },
  {
   "metadata": {},
   "cell_type": "code",
   "source": [
    "\"\"\"What is a central part of the science of anthropology?\tcomparative method\tthe comparative method is a central part of the science of Anthropology.\n",
    "What do some authors state anthropology developed as the study of?\t\"other cultures\tsome authors state that anthropology developed as the study of other cultures\n",
    "A past society would be an other culture separated by what temporal aspect?\ttime\ta past society would be an other culture separated by time\"\"\".split(\"\\t\")"
   ],
   "id": "cb4374a4c02742ed",
   "outputs": [],
   "execution_count": null
  },
  {
   "metadata": {},
   "cell_type": "code",
   "source": [
    "with open(filepath, \"r\") as file:\n",
    "    lines = file.readlines()"
   ],
   "id": "d3bdde0d950e021",
   "outputs": [],
   "execution_count": null
  },
  {
   "metadata": {},
   "cell_type": "code",
   "source": "len(lines)",
   "id": "a05c13224766e5e1",
   "outputs": [],
   "execution_count": null
  },
  {
   "metadata": {},
   "cell_type": "code",
   "source": [
    "from datasets import load_dataset\n",
    "ds = load_dataset(\"rajpurkar/squad\")\n",
    "#take the 10 samples from the train set\n",
    "ds_train = ds[\"train\"].select(range(10))"
   ],
   "id": "e94cc6251a483b52",
   "outputs": [],
   "execution_count": null
  },
  {
   "metadata": {},
   "cell_type": "code",
   "source": [
    "for example in ds_train:\n",
    "    print(example[\"question\"] + \"\\t\" + example[\"answers\"][\"text\"][0])\n"
   ],
   "id": "d61e075aa99efede",
   "outputs": [],
   "execution_count": null
  },
  {
   "metadata": {
    "ExecuteTime": {
     "end_time": "2025-06-14T09:35:13.641061Z",
     "start_time": "2025-06-14T09:35:13.637681Z"
    }
   },
   "cell_type": "code",
   "source": [
    "for item in ds.items():\n",
    "    print(item)\n",
    "\n",
    "\n",
    "items = [item for item in ds.items()]\n",
    "type(items[0])"
   ],
   "id": "c0df7636725f3f16",
   "outputs": [
    {
     "name": "stdout",
     "output_type": "stream",
     "text": [
      "('train', Dataset({\n",
      "    features: ['id', 'title', 'context', 'question', 'answers'],\n",
      "    num_rows: 87599\n",
      "}))\n",
      "('validation', Dataset({\n",
      "    features: ['id', 'title', 'context', 'question', 'answers'],\n",
      "    num_rows: 10570\n",
      "}))\n"
     ]
    },
    {
     "data": {
      "text/plain": [
       "tuple"
      ]
     },
     "execution_count": 13,
     "metadata": {},
     "output_type": "execute_result"
    }
   ],
   "execution_count": 13
  },
  {
   "metadata": {
    "ExecuteTime": {
     "end_time": "2025-06-14T09:35:27.484307Z",
     "start_time": "2025-06-14T09:35:27.477216Z"
    }
   },
   "cell_type": "code",
   "source": "items[0][0]",
   "id": "50a92a7336961219",
   "outputs": [
    {
     "data": {
      "text/plain": [
       "'train'"
      ]
     },
     "execution_count": 14,
     "metadata": {},
     "output_type": "execute_result"
    }
   ],
   "execution_count": 14
  },
  {
   "metadata": {
    "ExecuteTime": {
     "end_time": "2025-06-14T09:35:34.037778Z",
     "start_time": "2025-06-14T09:35:34.034834Z"
    }
   },
   "cell_type": "code",
   "source": "items[0][1]",
   "id": "3d4e2c69671e9cc0",
   "outputs": [
    {
     "data": {
      "text/plain": [
       "Dataset({\n",
       "    features: ['id', 'title', 'context', 'question', 'answers'],\n",
       "    num_rows: 87599\n",
       "})"
      ]
     },
     "execution_count": 15,
     "metadata": {},
     "output_type": "execute_result"
    }
   ],
   "execution_count": 15
  },
  {
   "metadata": {},
   "cell_type": "code",
   "outputs": [],
   "execution_count": null,
   "source": "",
   "id": "12715c80c6e49460"
  }
 ],
 "metadata": {
  "kernelspec": {
   "display_name": "Python 3",
   "language": "python",
   "name": "python3"
  },
  "language_info": {
   "codemirror_mode": {
    "name": "ipython",
    "version": 2
   },
   "file_extension": ".py",
   "mimetype": "text/x-python",
   "name": "python",
   "nbconvert_exporter": "python",
   "pygments_lexer": "ipython2",
   "version": "2.7.6"
  }
 },
 "nbformat": 4,
 "nbformat_minor": 5
}
