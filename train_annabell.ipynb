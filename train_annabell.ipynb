{
 "cells": [
  {
   "metadata": {},
   "cell_type": "markdown",
   "source": [
    "#This notebook is used to train the ANNABELL model on the SQuAD dataset.\n",
    "It uses the declarative statements generated from the SQuAD dataset to train the model in specialist subjects.\n",
    "The steps to rain the model are as follows:\n",
    "1) prepare the dataset\n",
    "2) pre-train the annabell model by loading pretrained weights form the people/body/skills file\n",
    "cd ../childes\n",
    "(echo .load ../links/links_people_body_skills.dat"
   ],
   "id": "db2fd2d1144533c"
  },
  {
   "metadata": {},
   "cell_type": "code",
   "outputs": [],
   "execution_count": null,
   "source": "",
   "id": "e4612d98872d1a27"
  },
  {
   "metadata": {},
   "cell_type": "markdown",
   "source": "\\",
   "id": "e7ef8c11eff7d494"
  }
 ],
 "metadata": {
  "kernelspec": {
   "display_name": "Python 3",
   "language": "python",
   "name": "python3"
  },
  "language_info": {
   "codemirror_mode": {
    "name": "ipython",
    "version": 2
   },
   "file_extension": ".py",
   "mimetype": "text/x-python",
   "name": "python",
   "nbconvert_exporter": "python",
   "pygments_lexer": "ipython2",
   "version": "2.7.6"
  }
 },
 "nbformat": 4,
 "nbformat_minor": 5
}
