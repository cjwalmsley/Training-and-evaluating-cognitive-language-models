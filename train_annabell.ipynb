{
 "cells": [
  {
   "metadata": {},
   "cell_type": "markdown",
   "source": [
    "#This notebook is used to train the ANNABELL model on the SQuAD dataset.\n",
    "It uses the declarative statements generated from the SQuAD dataset to train the model in specialist subjects.\n",
    "The steps to rain the model are as follows:\n",
    "1) prepare the dataset\n",
    "2) pre-train the annabell model by loading pretrained weights form the people/body/skills file\n",
    "cd ../childes\n",
    "(echo .load ../links/links_people_body_skills.dat"
   ],
   "id": "db2fd2d1144533c"
  },
  {
   "metadata": {
    "ExecuteTime": {
     "end_time": "2025-06-23T11:56:46.816640Z",
     "start_time": "2025-06-23T11:56:46.811068Z"
    }
   },
   "cell_type": "code",
   "source": [
    "filename = '/home/chris/PycharmProjects/dataset/docker_train/shared_data/statements/training/all_statements.txt'\n",
    "with open(filename, 'r') as the_file:\n",
    "    lines = the_file.readlines()\n",
    "print(len(lines))"
   ],
   "id": "e4612d98872d1a27",
   "outputs": [
    {
     "name": "stdout",
     "output_type": "stream",
     "text": [
      "38034\n"
     ]
    }
   ],
   "execution_count": 1
  },
  {
   "metadata": {},
   "cell_type": "markdown",
   "source": "\\",
   "id": "e7ef8c11eff7d494"
  }
 ],
 "metadata": {
  "kernelspec": {
   "display_name": "Python 3",
   "language": "python",
   "name": "python3"
  },
  "language_info": {
   "codemirror_mode": {
    "name": "ipython",
    "version": 2
   },
   "file_extension": ".py",
   "mimetype": "text/x-python",
   "name": "python",
   "nbconvert_exporter": "python",
   "pygments_lexer": "ipython2",
   "version": "2.7.6"
  }
 },
 "nbformat": 4,
 "nbformat_minor": 5
}
