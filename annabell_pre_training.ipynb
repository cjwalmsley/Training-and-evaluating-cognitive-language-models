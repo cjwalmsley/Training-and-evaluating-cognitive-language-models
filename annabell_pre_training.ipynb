{
 "cells": [
  {
   "cell_type": "code",
   "id": "initial_id",
   "metadata": {
    "collapsed": true,
    "ExecuteTime": {
     "end_time": "2025-07-07T07:51:29.488505Z",
     "start_time": "2025-07-07T07:51:28.885596Z"
    }
   },
   "source": [
    "import os\n",
    "from dataset_processing import question_and_answer_pairs_from_log_file, remove_quotes_from_file, filter_by_max_words, clean_text\n",
    "import pandas as pd"
   ],
   "outputs": [],
   "execution_count": 10
  },
  {
   "metadata": {
    "ExecuteTime": {
     "end_time": "2025-07-07T07:51:29.501588Z",
     "start_time": "2025-07-07T07:51:29.499232Z"
    }
   },
   "cell_type": "code",
   "source": [
    "pre_training_dir =\"training\"\n",
    "pre_training_filename = \"pre_training_nyc_samples\"\n",
    "pre_training_filepath = os.path.join(pre_training_dir, pre_training_filename)\n",
    "\n",
    "train_dir = \"/Users/chris/Library/CloudStorage/GoogleDrive-cjameswalmsley@gmail.com/My Drive/Shared with Julia/Education/Kent University/PhD/work/annabell/training\"\n",
    "train_filename = \"declarative_sentences_train_gemma3:4b_20250617_201822.tsv\"\n",
    "train_filepath = os.path.join(train_dir, train_filename)"
   ],
   "id": "59e8604e5875284c",
   "outputs": [],
   "execution_count": 11
  },
  {
   "metadata": {
    "ExecuteTime": {
     "end_time": "2025-07-07T07:51:29.513795Z",
     "start_time": "2025-07-07T07:51:29.510154Z"
    }
   },
   "cell_type": "code",
   "source": [
    "with open(pre_training_filepath, \"r\") as pre_training_file:\n",
    "\tpre_training_lines = pre_training_file.readlines()\n",
    "pre_training_lines"
   ],
   "id": "eebad96338bdcca1",
   "outputs": [
    {
     "data": {
      "text/plain": [
       "['# Group 1: Active Voice Sentences\\n',\n",
       " '# These are standard declarative sentences where the subject performs the action of the verb (Subject-Verb-Object).\\n',\n",
       " 'new york city has the highest population in the united states\\n',\n",
       " 'new york welcomes the largest number of legal immigrants\\n',\n",
       " 'New York City comprise -s five borough -s\\n',\n",
       " '#\\n',\n",
       " '# Group 2: Sentences with a Linking Verb (\"to be\")\\n',\n",
       " '#These sentences use a form of the verb \"to be\" (is, am, are, was, were) to describe or identify the subject (Subject-Linking Verb-Complement).\\n',\n",
       " 'the united nations is based in New York\\n',\n",
       " 'the major gateway for immigration has been in new york city\\n',\n",
       " 'the most populated city in the united states is new york city\\n',\n",
       " '#\\n',\n",
       " '# Group 3: Sentences in the Passive Voice\\n',\n",
       " '#In these sentences, the subject receives the action of the verb. The structure often involves a form of \"to be\" plus a past participle.\\n',\n",
       " 'new york has been called the cultural capital of the world\\n',\n",
       " 'the five borough -s were combined into one city in 1898\\n',\n",
       " 'the trading post that preceded New York City was called New Amsterdam\\n',\n",
       " '#\\n',\n",
       " '#Group 1: Questions Starting with \"What\" or \"Which\"\\n',\n",
       " '#This group asks for the identification of a person, place, thing, or idea.\\n',\n",
       " '? What city in the United States has the highest population\\n',\n",
       " '? what city has been called the cultural capital of the world\\n',\n",
       " '? What American city welcomes the largest number of legal immigrants\\n',\n",
       " '#\\n',\n",
       " '# Group 2: Questions Starting with \"How\"\\n',\n",
       " '# This group asks about quantity, amount, or manner.\\n',\n",
       " '? How many boroughs comprise New York City\\n',\n",
       " '? how many languages are spoken by the people of New York City\\n',\n",
       " '? How man boroughs does New York City contain\\n',\n",
       " '#\\n',\n",
       " '# Group 3: Questions Starting with \"In what\" or \"On what\"\\n',\n",
       " '# This group asks for specific information related to a time, place, or context.\\n',\n",
       " '? in what city is the united nations based\\n',\n",
       " '? in what year were the five borough -s combined into one city (appears multiple times)\\n',\n",
       " '? in what borough is Wall Street located\\n',\n",
       " '#\\n',\n",
       " '# Group 4: Questions Starting with \"When\"\\n',\n",
       " '# This group asks for a time, date, or period.\\n',\n",
       " '? When was New York City established\\n',\n",
       " '? when did the English take over the area from the Dutch\\n',\n",
       " '? when was the first European to visit the area of nyc\\n',\n",
       " '#\\n',\n",
       " '# Group 5: Questions Starting with \"Who\" or \"Whose\"\\n',\n",
       " '# This group asks for the identification of a person or group.\\n',\n",
       " '? who commanded the Spanish expedition\\n',\n",
       " '? who was henry hudson working for\\n',\n",
       " '? who was the first non-Indian person to live in what is now nyc\\n',\n",
       " '#\\n',\n",
       " '# Group 6: Questions Starting with \"Where\"\\n',\n",
       " '# This group asks for the identification of a place or location.\\n',\n",
       " '? where was Juan Rodriguez born\\n',\n",
       " '? where did the stonewall riots happen\\n',\n",
       " '? where in Central Park are performances offered at no cost\\n',\n",
       " '#\\n',\n",
       " '# Group 7: Questions with a Declarative Structure\\n',\n",
       " '# This group has a structure similar to a statement, with the question word typically appearing at or near the end.\\n',\n",
       " '? the major gateway for immigration has been which US city\\n',\n",
       " '? the most populated city in the united states is which city\\n',\n",
       " '? the five boroughs of New York City are named what']"
      ]
     },
     "execution_count": 12,
     "metadata": {},
     "output_type": "execute_result"
    }
   ],
   "execution_count": 12
  },
  {
   "metadata": {
    "ExecuteTime": {
     "end_time": "2025-07-07T07:51:29.532504Z",
     "start_time": "2025-07-07T07:51:29.529409Z"
    }
   },
   "cell_type": "code",
   "source": [
    "#remove comment lines\n",
    "pre_training_lines = [line for line in pre_training_lines if not line.startswith(\"#\")]\n",
    "pre_training_lines"
   ],
   "id": "72494c106b0f55c5",
   "outputs": [
    {
     "data": {
      "text/plain": [
       "['new york city has the highest population in the united states\\n',\n",
       " 'new york welcomes the largest number of legal immigrants\\n',\n",
       " 'New York City comprise -s five borough -s\\n',\n",
       " 'the united nations is based in New York\\n',\n",
       " 'the major gateway for immigration has been in new york city\\n',\n",
       " 'the most populated city in the united states is new york city\\n',\n",
       " 'new york has been called the cultural capital of the world\\n',\n",
       " 'the five borough -s were combined into one city in 1898\\n',\n",
       " 'the trading post that preceded New York City was called New Amsterdam\\n',\n",
       " '? What city in the United States has the highest population\\n',\n",
       " '? what city has been called the cultural capital of the world\\n',\n",
       " '? What American city welcomes the largest number of legal immigrants\\n',\n",
       " '? How many boroughs comprise New York City\\n',\n",
       " '? how many languages are spoken by the people of New York City\\n',\n",
       " '? How man boroughs does New York City contain\\n',\n",
       " '? in what city is the united nations based\\n',\n",
       " '? in what year were the five borough -s combined into one city (appears multiple times)\\n',\n",
       " '? in what borough is Wall Street located\\n',\n",
       " '? When was New York City established\\n',\n",
       " '? when did the English take over the area from the Dutch\\n',\n",
       " '? when was the first European to visit the area of nyc\\n',\n",
       " '? who commanded the Spanish expedition\\n',\n",
       " '? who was henry hudson working for\\n',\n",
       " '? who was the first non-Indian person to live in what is now nyc\\n',\n",
       " '? where was Juan Rodriguez born\\n',\n",
       " '? where did the stonewall riots happen\\n',\n",
       " '? where in Central Park are performances offered at no cost\\n',\n",
       " '? the major gateway for immigration has been which US city\\n',\n",
       " '? the most populated city in the united states is which city\\n',\n",
       " '? the five boroughs of New York City are named what']"
      ]
     },
     "execution_count": 13,
     "metadata": {},
     "output_type": "execute_result"
    }
   ],
   "execution_count": 13
  },
  {
   "metadata": {
    "ExecuteTime": {
     "end_time": "2025-07-07T07:51:29.545745Z",
     "start_time": "2025-07-07T07:51:29.542787Z"
    }
   },
   "cell_type": "code",
   "source": [
    "pre_training_statements = [line for line in pre_training_lines if not line.startswith(\"?\")]\n",
    "pre_training_statements"
   ],
   "id": "f46c461c12a471c8",
   "outputs": [
    {
     "data": {
      "text/plain": [
       "['new york city has the highest population in the united states\\n',\n",
       " 'new york welcomes the largest number of legal immigrants\\n',\n",
       " 'New York City comprise -s five borough -s\\n',\n",
       " 'the united nations is based in New York\\n',\n",
       " 'the major gateway for immigration has been in new york city\\n',\n",
       " 'the most populated city in the united states is new york city\\n',\n",
       " 'new york has been called the cultural capital of the world\\n',\n",
       " 'the five borough -s were combined into one city in 1898\\n',\n",
       " 'the trading post that preceded New York City was called New Amsterdam\\n']"
      ]
     },
     "execution_count": 14,
     "metadata": {},
     "output_type": "execute_result"
    }
   ],
   "execution_count": 14
  },
  {
   "metadata": {
    "ExecuteTime": {
     "end_time": "2025-07-07T07:51:29.560802Z",
     "start_time": "2025-07-07T07:51:29.558139Z"
    }
   },
   "cell_type": "code",
   "source": [
    "pre_training_questions = [line for line in pre_training_lines if line.startswith(\"?\")]\n",
    "pre_training_questions"
   ],
   "id": "4f81e2b5895bfe1",
   "outputs": [
    {
     "data": {
      "text/plain": [
       "['? What city in the United States has the highest population\\n',\n",
       " '? what city has been called the cultural capital of the world\\n',\n",
       " '? What American city welcomes the largest number of legal immigrants\\n',\n",
       " '? How many boroughs comprise New York City\\n',\n",
       " '? how many languages are spoken by the people of New York City\\n',\n",
       " '? How man boroughs does New York City contain\\n',\n",
       " '? in what city is the united nations based\\n',\n",
       " '? in what year were the five borough -s combined into one city (appears multiple times)\\n',\n",
       " '? in what borough is Wall Street located\\n',\n",
       " '? When was New York City established\\n',\n",
       " '? when did the English take over the area from the Dutch\\n',\n",
       " '? when was the first European to visit the area of nyc\\n',\n",
       " '? who commanded the Spanish expedition\\n',\n",
       " '? who was henry hudson working for\\n',\n",
       " '? who was the first non-Indian person to live in what is now nyc\\n',\n",
       " '? where was Juan Rodriguez born\\n',\n",
       " '? where did the stonewall riots happen\\n',\n",
       " '? where in Central Park are performances offered at no cost\\n',\n",
       " '? the major gateway for immigration has been which US city\\n',\n",
       " '? the most populated city in the united states is which city\\n',\n",
       " '? the five boroughs of New York City are named what']"
      ]
     },
     "execution_count": 15,
     "metadata": {},
     "output_type": "execute_result"
    }
   ],
   "execution_count": 15
  },
  {
   "metadata": {
    "ExecuteTime": {
     "end_time": "2025-07-07T07:51:32.674482Z",
     "start_time": "2025-07-07T07:51:32.138184Z"
    }
   },
   "cell_type": "code",
   "source": [
    "#Load and clean the training data derived from the SQuAD dataset\n",
    "train_filepath = remove_quotes_from_file(train_filepath)\n",
    "train_df = pd.read_csv(train_filepath, sep=\"\\t\")\n",
    "train_df = train_df.dropna()\n",
    "\n",
    "filtered_train_df = train_df[train_df[\"title\"] == \"New_York_City\"]\n",
    "filtered_train_df = filter_by_max_words(filtered_train_df, max_words=20)\n",
    "filtered_train_df[\"response_question\"] = clean_text(filtered_train_df[\"response_question\"], True)\n",
    "filtered_train_df[\"response_answer\"] = clean_text(filtered_train_df[\"response_answer\"], False)\n",
    "filtered_train_df[\"statement\"] = clean_text(filtered_train_df[\"statement\"], False)\n",
    "filtered_train_df.reset_index(drop=True, inplace=True)\n",
    "filtered_train_df"
   ],
   "id": "a0b3f9c7a9d71b25",
   "outputs": [
    {
     "name": "stdout",
     "output_type": "stream",
     "text": [
      "Cleaned data saved to /Users/chris/Library/CloudStorage/GoogleDrive-cjameswalmsley@gmail.com/My Drive/Shared with Julia/Education/Kent University/PhD/work/annabell/training/declarative_sentences_train_gemma3:4b_20250617_201822_cleaned.tsv\n"
     ]
    },
    {
     "data": {
      "text/plain": [
       "                           id          title  \\\n",
       "0    56ce304daab44d1400b8850e  New_York_City   \n",
       "1    56ce304daab44d1400b8850f  New_York_City   \n",
       "2    56ce304daab44d1400b88510  New_York_City   \n",
       "3    56ce304daab44d1400b88511  New_York_City   \n",
       "4    56cf5d41aab44d1400b89130  New_York_City   \n",
       "..                        ...            ...   \n",
       "801  56d1218c17492d1400aaba1e  New_York_City   \n",
       "802  56d1218c17492d1400aaba1f  New_York_City   \n",
       "803  56d1218c17492d1400aaba20  New_York_City   \n",
       "804  56d1218c17492d1400aaba21  New_York_City   \n",
       "805  56d121d817492d1400aaba2e  New_York_City   \n",
       "\n",
       "                                              question         answer  \\\n",
       "0    What city in the United States has the highest...       New York   \n",
       "1            In what city is the United Nations based?       New York   \n",
       "2    What city has been called the cultural capital...       New York   \n",
       "3    What American city welcomes the largest number...       New York   \n",
       "4    The major gateway for immigration has been whi...  New York City   \n",
       "..                                                 ...            ...   \n",
       "801  What ZIP code was responsible for the greatest...          10021   \n",
       "802  How much money in cents does New York City rec...             83   \n",
       "803  How much more money does the city give to the ...    $11 billion   \n",
       "804  Each year, how much more money does New York C...  $11.4 billion   \n",
       "805  In what year did the Sister City Program of th...           2006   \n",
       "\n",
       "                                     response_question     response_answer  \\\n",
       "0    ? What city in the United States has the highe...            new york   \n",
       "1           ? in what city is the united nations based            new york   \n",
       "2    ? what city has been called the cultural capit...            new york   \n",
       "3    ? What American city welcomes the largest numb...            new york   \n",
       "4    ? the major gateway for immigration has been w...       new york city   \n",
       "..                                                 ...                 ...   \n",
       "801  ? what ZIP code was responsible for the greate...               10021   \n",
       "802  ? how much money in cents does New York City r...                  83   \n",
       "803  ? how much more money does the city give to th...          11 billion   \n",
       "804  ? each year how much more money does New York ...  11 point 4 billion   \n",
       "805  ? in what year did the Sister City Program of ...                2006   \n",
       "\n",
       "                                             statement  \n",
       "0    new york city has the highest population in th...  \n",
       "1              the united nations is based in New York  \n",
       "2    new york has been called the cultural capital ...  \n",
       "3    new york welcomes the largest number of legal ...  \n",
       "4    the major gateway for immigration has been in ...  \n",
       "..                                                 ...  \n",
       "801  the ZIP code 10021 was responsible for the gre...  \n",
       "802  New York City receives 83 cents for every doll...  \n",
       "803  the city gives 11 billion to the state of new ...  \n",
       "804  new york city gives 11 point 4 billion more to...  \n",
       "805  the Sister City Program of the City of New Yor...  \n",
       "\n",
       "[806 rows x 7 columns]"
      ],
      "text/html": [
       "<div>\n",
       "<style scoped>\n",
       "    .dataframe tbody tr th:only-of-type {\n",
       "        vertical-align: middle;\n",
       "    }\n",
       "\n",
       "    .dataframe tbody tr th {\n",
       "        vertical-align: top;\n",
       "    }\n",
       "\n",
       "    .dataframe thead th {\n",
       "        text-align: right;\n",
       "    }\n",
       "</style>\n",
       "<table border=\"1\" class=\"dataframe\">\n",
       "  <thead>\n",
       "    <tr style=\"text-align: right;\">\n",
       "      <th></th>\n",
       "      <th>id</th>\n",
       "      <th>title</th>\n",
       "      <th>question</th>\n",
       "      <th>answer</th>\n",
       "      <th>response_question</th>\n",
       "      <th>response_answer</th>\n",
       "      <th>statement</th>\n",
       "    </tr>\n",
       "  </thead>\n",
       "  <tbody>\n",
       "    <tr>\n",
       "      <th>0</th>\n",
       "      <td>56ce304daab44d1400b8850e</td>\n",
       "      <td>New_York_City</td>\n",
       "      <td>What city in the United States has the highest...</td>\n",
       "      <td>New York</td>\n",
       "      <td>? What city in the United States has the highe...</td>\n",
       "      <td>new york</td>\n",
       "      <td>new york city has the highest population in th...</td>\n",
       "    </tr>\n",
       "    <tr>\n",
       "      <th>1</th>\n",
       "      <td>56ce304daab44d1400b8850f</td>\n",
       "      <td>New_York_City</td>\n",
       "      <td>In what city is the United Nations based?</td>\n",
       "      <td>New York</td>\n",
       "      <td>? in what city is the united nations based</td>\n",
       "      <td>new york</td>\n",
       "      <td>the united nations is based in New York</td>\n",
       "    </tr>\n",
       "    <tr>\n",
       "      <th>2</th>\n",
       "      <td>56ce304daab44d1400b88510</td>\n",
       "      <td>New_York_City</td>\n",
       "      <td>What city has been called the cultural capital...</td>\n",
       "      <td>New York</td>\n",
       "      <td>? what city has been called the cultural capit...</td>\n",
       "      <td>new york</td>\n",
       "      <td>new york has been called the cultural capital ...</td>\n",
       "    </tr>\n",
       "    <tr>\n",
       "      <th>3</th>\n",
       "      <td>56ce304daab44d1400b88511</td>\n",
       "      <td>New_York_City</td>\n",
       "      <td>What American city welcomes the largest number...</td>\n",
       "      <td>New York</td>\n",
       "      <td>? What American city welcomes the largest numb...</td>\n",
       "      <td>new york</td>\n",
       "      <td>new york welcomes the largest number of legal ...</td>\n",
       "    </tr>\n",
       "    <tr>\n",
       "      <th>4</th>\n",
       "      <td>56cf5d41aab44d1400b89130</td>\n",
       "      <td>New_York_City</td>\n",
       "      <td>The major gateway for immigration has been whi...</td>\n",
       "      <td>New York City</td>\n",
       "      <td>? the major gateway for immigration has been w...</td>\n",
       "      <td>new york city</td>\n",
       "      <td>the major gateway for immigration has been in ...</td>\n",
       "    </tr>\n",
       "    <tr>\n",
       "      <th>...</th>\n",
       "      <td>...</td>\n",
       "      <td>...</td>\n",
       "      <td>...</td>\n",
       "      <td>...</td>\n",
       "      <td>...</td>\n",
       "      <td>...</td>\n",
       "      <td>...</td>\n",
       "    </tr>\n",
       "    <tr>\n",
       "      <th>801</th>\n",
       "      <td>56d1218c17492d1400aaba1e</td>\n",
       "      <td>New_York_City</td>\n",
       "      <td>What ZIP code was responsible for the greatest...</td>\n",
       "      <td>10021</td>\n",
       "      <td>? what ZIP code was responsible for the greate...</td>\n",
       "      <td>10021</td>\n",
       "      <td>the ZIP code 10021 was responsible for the gre...</td>\n",
       "    </tr>\n",
       "    <tr>\n",
       "      <th>802</th>\n",
       "      <td>56d1218c17492d1400aaba1f</td>\n",
       "      <td>New_York_City</td>\n",
       "      <td>How much money in cents does New York City rec...</td>\n",
       "      <td>83</td>\n",
       "      <td>? how much money in cents does New York City r...</td>\n",
       "      <td>83</td>\n",
       "      <td>New York City receives 83 cents for every doll...</td>\n",
       "    </tr>\n",
       "    <tr>\n",
       "      <th>803</th>\n",
       "      <td>56d1218c17492d1400aaba20</td>\n",
       "      <td>New_York_City</td>\n",
       "      <td>How much more money does the city give to the ...</td>\n",
       "      <td>$11 billion</td>\n",
       "      <td>? how much more money does the city give to th...</td>\n",
       "      <td>11 billion</td>\n",
       "      <td>the city gives 11 billion to the state of new ...</td>\n",
       "    </tr>\n",
       "    <tr>\n",
       "      <th>804</th>\n",
       "      <td>56d1218c17492d1400aaba21</td>\n",
       "      <td>New_York_City</td>\n",
       "      <td>Each year, how much more money does New York C...</td>\n",
       "      <td>$11.4 billion</td>\n",
       "      <td>? each year how much more money does New York ...</td>\n",
       "      <td>11 point 4 billion</td>\n",
       "      <td>new york city gives 11 point 4 billion more to...</td>\n",
       "    </tr>\n",
       "    <tr>\n",
       "      <th>805</th>\n",
       "      <td>56d121d817492d1400aaba2e</td>\n",
       "      <td>New_York_City</td>\n",
       "      <td>In what year did the Sister City Program of th...</td>\n",
       "      <td>2006</td>\n",
       "      <td>? in what year did the Sister City Program of ...</td>\n",
       "      <td>2006</td>\n",
       "      <td>the Sister City Program of the City of New Yor...</td>\n",
       "    </tr>\n",
       "  </tbody>\n",
       "</table>\n",
       "<p>806 rows × 7 columns</p>\n",
       "</div>"
      ]
     },
     "execution_count": 16,
     "metadata": {},
     "output_type": "execute_result"
    }
   ],
   "execution_count": 16
  }
 ],
 "metadata": {
  "kernelspec": {
   "display_name": "Python 3",
   "language": "python",
   "name": "python3"
  },
  "language_info": {
   "codemirror_mode": {
    "name": "ipython",
    "version": 2
   },
   "file_extension": ".py",
   "mimetype": "text/x-python",
   "name": "python",
   "nbconvert_exporter": "python",
   "pygments_lexer": "ipython2",
   "version": "2.7.6"
  }
 },
 "nbformat": 4,
 "nbformat_minor": 5
}
