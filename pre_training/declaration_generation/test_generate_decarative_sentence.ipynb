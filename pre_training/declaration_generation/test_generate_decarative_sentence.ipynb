{
 "cells": [
  {
   "cell_type": "code",
   "id": "initial_id",
   "metadata": {
    "collapsed": true,
    "ExecuteTime": {
     "end_time": "2025-11-01T16:30:45.674119Z",
     "start_time": "2025-11-01T16:30:43.995590Z"
    }
   },
   "source": [
    "from config.config import PlatformConfig\n",
    "from dataset_processing import load_squad_dataset\n",
    "from generate_declarative_sentences import generated_model_from_prompt\n",
    "import json\n",
    "\n",
    "config = PlatformConfig()\n",
    "nyc_train_json_l_filepath = config.prompt_inputs_jsonl_filepath()\n",
    "response_filepath = config.responses_jsonl_filepath()\n",
    "base_prompt_filepath = config.base_prompt_filepath()"
   ],
   "outputs": [
    {
     "name": "stdout",
     "output_type": "stream",
     "text": [
      "2025-11-01 16:30:43,997 - root - INFO - Logging initialized. Log file: /Users/chris/logs/cognitive_language_model_logs/run_20251101_163043.log\n"
     ]
    }
   ],
   "execution_count": 1
  },
  {
   "metadata": {
    "ExecuteTime": {
     "end_time": "2025-11-01T16:30:45.853429Z",
     "start_time": "2025-11-01T16:30:45.679727Z"
    }
   },
   "cell_type": "code",
   "source": [
    "dataset = load_squad_dataset(config.dataset_directory())\n",
    "train_df = dataset[\"train\"].to_pandas()\n",
    "\n",
    "\n",
    "def prepare_nyc_train_df(the_train_df, the_json_l_filepath, the_title):\n",
    "    filtered_train_df = the_train_df[the_train_df[\"title\"] == the_title].copy()\n",
    "\n",
    "    # Create the 'answer' column from the 'answers' dictionary\n",
    "    filtered_train_df[\"answer\"] = filtered_train_df[\"answers\"].apply(\n",
    "        lambda x: x[\"text\"][0] if x[\"text\"] else \"\"\n",
    "    )\n",
    "\n",
    "    # Drop the original, now unneeded, columns\n",
    "    filtered_train_df = filtered_train_df.drop(columns=[\"context\", \"title\", \"answers\"])\n",
    "\n",
    "    # Add the new column for the response, which will now be at the end\n",
    "    filtered_train_df[\"response_declarative_sentence\"] = (\n",
    "        \"<INSERT RESPONSE SENTENCE HERE>\"\n",
    "    )\n",
    "\n",
    "    # Reorder columns to a specific, desired order\n",
    "    final_columns = [\n",
    "        \"id\",\n",
    "        \"question\",\n",
    "        \"answer\",\n",
    "        \"response_declarative_sentence\",\n",
    "    ]\n",
    "    filtered_train_df = filtered_train_df[final_columns]\n",
    "\n",
    "    filtered_train_df.reset_index(drop=True, inplace=True)\n",
    "    # write the dataframe to a jsonl file\n",
    "    filtered_train_df.to_json(the_json_l_filepath, orient=\"records\", lines=True)\n",
    "    print(\"NYC train dataframe written to: \" + the_json_l_filepath)\n",
    "    return filtered_train_df\n",
    "\n",
    "\n",
    "nyc_train_df = prepare_nyc_train_df(train_df, nyc_train_json_l_filepath, \"New_York_City\")"
   ],
   "id": "8a1ecc3eeeeab628",
   "outputs": [
    {
     "name": "stdout",
     "output_type": "stream",
     "text": [
      "Loading dataset from: /Users/chris/Library/CloudStorage/GoogleDrive-cjameswalmsley@gmail.com/My Drive/Shared with Julia/Education/Kent University/PhD/work/annabell/datasets/squad_dataset\n",
      "NYC train dataframe written to: /Users/chris/Library/CloudStorage/GoogleDrive-cjameswalmsley@gmail.com/My Drive/Shared with Julia/Education/Kent University/PhD/work/annabell/experiments/data/prompts/prompt_inputs.jsonl\n"
     ]
    }
   ],
   "execution_count": 2
  },
  {
   "metadata": {
    "ExecuteTime": {
     "end_time": "2025-11-01T16:30:45.858738Z",
     "start_time": "2025-11-01T16:30:45.857018Z"
    }
   },
   "cell_type": "code",
   "source": [
    "def process_prompt(the_base_prompt, the_line, the_id):\n",
    "    the_prompt = the_base_prompt + \"\\n\" + the_line\n",
    "    print(\"Prompt:\\n\", the_prompt)\n",
    "    generated_json = generated_model_from_prompt(the_prompt, the_id)\n",
    "    return generated_json"
   ],
   "id": "4db14ac14875f91d",
   "outputs": [],
   "execution_count": 3
  },
  {
   "metadata": {
    "ExecuteTime": {
     "end_time": "2025-11-01T16:30:48.896652Z",
     "start_time": "2025-11-01T16:30:46.732693Z"
    }
   },
   "cell_type": "code",
   "source": [
    "with open(base_prompt_filepath, \"r\") as base_prompt_file:\n",
    "    base_prompt = base_prompt_file.read()\n",
    "with open(nyc_train_json_l_filepath, \"r\") as nyc_train_json_l_file:\n",
    "    nyc_train_json_l = nyc_train_json_l_file.readlines()\n",
    "model_string = config.ollama_models()[-1]\n",
    "options = config.ollama_options_dict()\n",
    "\n",
    "for line in nyc_train_json_l[:1]:\n",
    "    #convert the json line to a dict to get the id\n",
    "    line_dict = json.loads(line)\n",
    "    the_id = line_dict[\"id\"]\n",
    "    # Create a dictionary for the prompt\n",
    "    prompt_dict = {\n",
    "        \"question\": line_dict[\"question\"],\n",
    "        \"answer\": line_dict[\"answer\"],\n",
    "        \"response_declarative_sentence\": line_dict[\"response_declarative_sentence\"],\n",
    "    }\n",
    "    # Convert the dictionary to a JSON string\n",
    "    line_json = json.dumps(prompt_dict)\n",
    "    response_model = process_prompt(base_prompt, line_json, the_id)\n",
    "    print(\"Response:\\n\", response_model)\n",
    "    with open(response_filepath, \"a\") as response_file:\n",
    "        response_file.write(response_model.model_dump_json() + \"\\n\")"
   ],
   "id": "bd156078bc33df2c",
   "outputs": [
    {
     "name": "stdout",
     "output_type": "stream",
     "text": [
      "Prompt:\n",
      " ROLE:  You are a writing assistant.\n",
      "\n",
      "TASK:  create a declarative statement using the associated question and answer from the JSON input provided .\n",
      "\n",
      "TASK REQUIREMENTS:\n",
      "1. Proper nouns must begin with capital letters\n",
      "\n",
      "FORMAT:\n",
      "For each row always answer in the following JSON format:\n",
      "\n",
      "{\"response_declarative_sentence\":\"<INSERT RESPONSE SENTENCE HERE>\",}\n",
      "\n",
      "Only this JSON format is allowed as an answer. No explanation or other text is allowed.\n",
      "\n",
      "For example, for the following JSON row:\n",
      "\n",
      "{\"question\":\"What city in the United States has the highest population?\", \"answer\":\"New York\"}\n",
      "\n",
      "Your response would be:\n",
      "\n",
      "{\"response_declarative_sentence\":\"the city with the highest population in the United States is New York\"}\n",
      "\n",
      "Provide the specified response for the following json line:\n",
      "{\"question\": \"What city in the United States has the highest population?\", \"answer\": \"New York\", \"response_declarative_sentence\": \"<INSERT RESPONSE SENTENCE HERE>\"}\n",
      "2025-11-01 16:30:46,735 - generate_declarative_sentences - INFO - Generating statement from prompt for id: 56ce304daab44d1400b8850e..\n",
      "2025-11-01 16:30:48,881 - httpx - INFO - HTTP Request: POST http://127.0.0.1:11434/api/generate \"HTTP/1.1 200 OK\"\n",
      "2025-11-01 16:30:48,891 - generate_declarative_sentences - INFO - Generated response: {\n",
      "  \"declarative_statement\": \"the city with the highest population in the United States is New York\"\n",
      "}\n",
      "2025-11-01 16:30:48,892 - generate_declarative_sentences - INFO - Total duration: 2122307334\n",
      "Response:\n",
      " declarative_statement='the city with the highest population in the United States is New York'\n"
     ]
    }
   ],
   "execution_count": 4
  },
  {
   "metadata": {
    "ExecuteTime": {
     "end_time": "2025-11-01T15:09:02.959846Z",
     "start_time": "2025-11-01T15:08:58.618809Z"
    }
   },
   "cell_type": "code",
   "source": [
    "sample_prompt = \"\"\"Prompt:\n",
    " ROLE:  You are a writing assistant.\n",
    "\n",
    "TASK:  create a declarative statement using the associated question and answer from the JSON input provided .\n",
    "\n",
    "TASK REQUIREMENTS:\n",
    "1 Proper nouns must begin with capital letters\n",
    "\n",
    "FORMAT:\n",
    "For each row always answer in the following JSON format:\n",
    "\n",
    "{\"id\":\"<INSERT COPY OF ORIGINAL ID HERE>\",\"response_declarative_sentence\":\"<INSERT RESPONSE SENTENCE HERE>\",}\n",
    "\n",
    "Only this JSON format is allowed as an answer. No explanation or other text is allowed.\n",
    "\n",
    "For example, for the following JSON row:\n",
    "\n",
    "{\"id\":\"56ce304daab44d1400b8850f\",\"question\":\"What city in the United States has the highest population?\", \"answer\":\"New York\"}\n",
    "\n",
    "Your response would be:\n",
    "\n",
    "{\"id\":\"56ce304daab44d1400b8850f\", \"response_declarative_sentence\":\"the city with the highest population in the United States is New York\"}\n",
    "\n",
    "Provide the specified response for the following json line:\n",
    "{\"id\":\"56ce304daab44d1400b8850e\",\"question\":\"What city in the United States has the highest population?\",\"answer\":\"New York\",\"response_declarative_sentence\":\"<INSERT RESPONSE SENTENCE HERE>\"}\"\"\"\n",
    "\n",
    "import ollama\n",
    "from generate_declarative_sentences import DeclarativeStatement\n",
    "\n",
    "response = ollama.generate(\n",
    "    model=model_string,\n",
    "    prompt=sample_prompt,\n",
    "    format=DeclarativeStatement.model_json_schema(),\n",
    "    stream=False,\n",
    "    think=False,\n",
    "    options=options)"
   ],
   "id": "20f4161d747ab564",
   "outputs": [],
   "execution_count": 8
  },
  {
   "metadata": {
    "ExecuteTime": {
     "end_time": "2025-11-01T15:11:57.646181Z",
     "start_time": "2025-11-01T15:11:57.640273Z"
    }
   },
   "cell_type": "code",
   "source": "response.response",
   "id": "7c772bc1a83d20f0",
   "outputs": [
    {
     "data": {
      "text/plain": [
       "'{\"id\":\"56ce304daab44d1:56ce304daab44d1400b8850e\",\"declarative_statement\":\"the city with the highest population in the United States is New York\"}\\n'"
      ]
     },
     "execution_count": 10,
     "metadata": {},
     "output_type": "execute_result"
    }
   ],
   "execution_count": 10
  },
  {
   "metadata": {},
   "cell_type": "code",
   "outputs": [],
   "execution_count": null,
   "source": "",
   "id": "869216e539a4c340"
  }
 ],
 "metadata": {
  "kernelspec": {
   "display_name": "Python 3",
   "language": "python",
   "name": "python3"
  },
  "language_info": {
   "codemirror_mode": {
    "name": "ipython",
    "version": 2
   },
   "file_extension": ".py",
   "mimetype": "text/x-python",
   "name": "python",
   "nbconvert_exporter": "python",
   "pygments_lexer": "ipython2",
   "version": "2.7.6"
  }
 },
 "nbformat": 4,
 "nbformat_minor": 5
}
