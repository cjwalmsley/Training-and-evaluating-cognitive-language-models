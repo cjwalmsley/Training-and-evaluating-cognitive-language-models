{
 "cells": [
  {
   "metadata": {
    "collapsed": true
   },
   "cell_type": "markdown",
   "source": "# This notebook creates the datasets for pretraining, training and testing the ANNABELL model using the NYC dataset derived from SQuAD.",
   "id": "56648ebe77800a19"
  },
  {
   "metadata": {
    "ExecuteTime": {
     "end_time": "2025-10-09T06:56:58.617098Z",
     "start_time": "2025-10-09T06:56:58.606885Z"
    }
   },
   "cell_type": "code",
   "source": [
    "# load the base dataset and select a random sample of rows for pretraining\n",
    "import pandas as pd\n",
    "import os\n",
    "import glob\n",
    "import platform\n",
    "import datetime\n",
    "\n",
    "from dataset_processing import create_list_of_commands, write_training_file, write_testing_file, \\\n",
    "    filter_dataset_by_limits, join_concurrent_capitalized_words\n",
    "\n",
    "experiment_number = \"11\"\n",
    "percentage_of_pretraining_samples = 10\n",
    "use_manual_pretraining_data = False\n",
    "maximum_number_of_words = 20\n",
    "maximum_word_length = 25\n",
    "\n",
    "operating_system = platform.system()\n",
    "if operating_system == 'Windows':\n",
    "    raise Exception(\"not used on Windows yet\")\n",
    "elif operating_system == 'Linux':\n",
    "    base_directory = \"/home/chris/gdrive/work/annabell/\"\n",
    "    pycharm_projects_directory = \"/home/chris/PycharmProjects/dataset\"\n",
    "elif operating_system == 'Darwin':  #macOS\n",
    "    base_directory = \"/Users/chris/Library/CloudStorage/GoogleDrive-cjameswalmsley@gmail.com/My Drive/Shared with Julia/Education/Kent University/PhD/work/annabell/\"\n",
    "    pycharm_projects_directory = \"/Users/chris/PycharmProjects/dataset\"\n",
    "else:\n",
    "    raise Exception(\"unsupported OS\")\n",
    "\n",
    "timestamp = datetime.datetime.now().strftime(\"_%Y%m%d_%H%M%S\")\n",
    "data_directory = os.path.join(base_directory, \"experiments/data\")\n",
    "docker_data_directory = os.path.join(pycharm_projects_directory, \"docker\", \"shared_data\")\n",
    "dataset_filename = \"response_formatted_20250924_174653.jsonl\"\n",
    "dataset_filepath = os.path.join(data_directory, dataset_filename)\n",
    "categorised_questions_filename = \"llm_question_categorisation_results.jsonl\"\n",
    "categorised_questions_filepath = os.path.join(data_directory, \"prompts\", categorised_questions_filename)\n",
    "categorised_sentences_filename = \"llm_sentence_categorisation_results.jsonl\"\n",
    "categorised_sentences_filepath = os.path.join(data_directory, \"prompts\", categorised_sentences_filename)\n",
    "pretraining_directory = os.path.join(base_directory, \"experiments\", experiment_number, \"pre_training\")\n",
    "if not os.path.exists(pretraining_directory):\n",
    "    os.makedirs(pretraining_directory)\n",
    "pretraining_filename = \"nyc_squad_pretraining_commands\" + timestamp + \".txt\"\n",
    "pretraining_filepath = os.path.join(pretraining_directory, pretraining_filename)\n",
    "training_directory = os.path.join(base_directory, \"experiments\", experiment_number, \"training\")\n",
    "if not os.path.exists(training_directory):\n",
    "    os.makedirs(training_directory)\n",
    "training_filename = \"nyc_squad_training_commands\" + timestamp + \".txt\"\n",
    "training_filepath = os.path.join(training_directory, training_filename)\n",
    "testing_directory = os.path.join(base_directory, \"experiments\", experiment_number, \"testing\")\n",
    "if not os.path.exists(testing_directory):\n",
    "    os.makedirs(testing_directory)\n",
    "testing_filename = \"nyc_squad_testing_commands\" + timestamp + \".txt\"\n",
    "testing_filepath = os.path.join(testing_directory, testing_filename)\n",
    "pretraining_validation_testing_filename = \"nyc_squad_pretraining_validation_testing_commands\" + timestamp + \".txt\"\n",
    "pretraining_validation_testing_filepath = os.path.join(testing_directory, pretraining_validation_testing_filename)\n",
    "logs_directory = os.path.join(base_directory, \"experiments\", experiment_number, \"logs\")\n",
    "if not os.path.exists(logs_directory):\n",
    "    os.makedirs(logs_directory)\n",
    "dataframe_filename = \"nyc_squad_with_pretraining_commands\" + timestamp + \".jsonl\"\n",
    "dataframe_filepath = os.path.join(data_directory, dataframe_filename)"
   ],
   "id": "a7d4e2412bc8582c",
   "outputs": [],
   "execution_count": 14
  },
  {
   "metadata": {
    "ExecuteTime": {
     "end_time": "2025-10-09T06:56:58.689086Z",
     "start_time": "2025-10-09T06:56:58.634173Z"
    }
   },
   "cell_type": "code",
   "source": [
    "#load the dataset\n",
    "nyc_squad_df = pd.read_json(dataset_filepath, lines=True)\n",
    "#remove any rows where the max number of words or max numbr of characters is exceeded\n",
    "join_concurrent_capitalized_words(nyc_squad_df,\n",
    "                                  [\"response_declarative_sentence_formatted\", \"response_question_formatted\",\n",
    "                                   \"response_answer_formatted\"])\n",
    "nyc_squad_df = filter_dataset_by_limits(nyc_squad_df,\n",
    "                                        [\"response_declarative_sentence_formatted\", \"response_question_formatted\",\n",
    "                                         \"response_declarative_sentence_formatted\"], maximum_number_of_words,\n",
    "                                        maximum_word_length)\n",
    "nyc_squad_df = nyc_squad_df[\n",
    "    nyc_squad_df[\"response_declarative_sentence_formatted\"].str.split().str.len() <= maximum_number_of_words]\n",
    "nyc_squad_df = nyc_squad_df[\n",
    "    nyc_squad_df[\"response_question_formatted\"].str.split().str.len() <= maximum_number_of_words]\n",
    "nyc_squad_df = nyc_squad_df[\n",
    "    ~nyc_squad_df[\"response_declarative_sentence_formatted\"].str.split().apply(\n",
    "        lambda words: any(len(word) > maximum_word_length for word in words))]\n",
    "nyc_squad_df = nyc_squad_df[\n",
    "    ~nyc_squad_df[\"response_question_formatted\"].str.split().apply(\n",
    "        lambda words: any(len(word) > maximum_word_length for word in words))]\n",
    "nyc_squad_df = nyc_squad_df[\n",
    "    ~nyc_squad_df[\"response_answer_formatted\"].str.split().apply(\n",
    "        lambda words: any(len(word) > maximum_word_length for word in words))]\n",
    "nyc_squad_df.reset_index(drop=True, inplace=True)\n",
    "#add categories to the questions and declarative sentences, creating 2 new columns - question category and sentence category\n",
    "categorised_questions_df = pd.read_json(categorised_questions_filepath, lines=True)\n",
    "categorised_questions_df[\"category\"].value_counts()\n",
    "categorised_questions_df = categorised_questions_df.rename(columns={'category': 'question_category'})\n",
    "nyc_squad_df = nyc_squad_df.merge(categorised_questions_df[[\"id\", \"question_category\"]], on=\"id\", how=\"left\")\n",
    "categorised_sentences_df = pd.read_json(categorised_sentences_filepath, lines=True)\n",
    "categorised_sentences_df = categorised_sentences_df.rename(columns={'category': 'sentence_category'})\n",
    "categorised_sentences_df[\"sentence_category\"].value_counts()\n",
    "nyc_squad_df = nyc_squad_df.merge(categorised_sentences_df[[\"id\", \"sentence_category\"]], on=\"id\", how=\"left\")\n",
    "nyc_squad_df"
   ],
   "id": "782bb4e819dd8f6b",
   "outputs": [
    {
     "data": {
      "text/plain": [
       "                           id  \\\n",
       "0    56ce304daab44d1400b8850e   \n",
       "1    56ce304daab44d1400b8850f   \n",
       "2    56ce304daab44d1400b88510   \n",
       "3    56ce304daab44d1400b88511   \n",
       "4    56cf5d41aab44d1400b89130   \n",
       "..                        ...   \n",
       "724  56d1204617492d1400aab9fd   \n",
       "725  56d1218c17492d1400aaba1f   \n",
       "726  56d1218c17492d1400aaba20   \n",
       "727  56d1218c17492d1400aaba21   \n",
       "728  56d121d817492d1400aaba2e   \n",
       "\n",
       "                                              question  \\\n",
       "0    What city in the United States has the highest...   \n",
       "1            In what city is the United Nations based?   \n",
       "2    What city has been called the cultural capital...   \n",
       "3    What American city welcomes the largest number...   \n",
       "4    The major gateway for immigration has been whi...   \n",
       "..                                                 ...   \n",
       "724   In what borough is the New York City Hall found?   \n",
       "725  How much money in cents does New York City rec...   \n",
       "726  How much more money does the city give to the ...   \n",
       "727  Each year, how much more money does New York C...   \n",
       "728  In what year did the Sister City Program of th...   \n",
       "\n",
       "                                     response_question response_answer  \\\n",
       "0    What city in the United States has the high –e...        New York   \n",
       "1          In what city is the United Nations base –d?        New York   \n",
       "2    What city has been call –ed the culture –al ca...        New York   \n",
       "3    What American city welcome –s the large –st nu...        New York   \n",
       "4    The major gateway for immigrate –ion has been ...   New York City   \n",
       "..                                                 ...             ...   \n",
       "724   In what borough is the New York City Hall found?       Manhattan   \n",
       "725  How much money in cent –s does New York City r...              83   \n",
       "726  How much more money does the city give to the ...    $ 11 billion   \n",
       "727  Each year, how much more money does New York C...  $ 11.4 billion   \n",
       "728  In what year did the Sister City Program of th...            2006   \n",
       "\n",
       "                         response_declarative_sentence         answer  \\\n",
       "0    The city in the United States with the high –e...       New York   \n",
       "1           The United Nations is base –d in New York.       New York   \n",
       "2    New York has been call –ed the culture –al cap...       New York   \n",
       "3    New York is the American city that welcome –s ...       New York   \n",
       "4    The major gateway for immigrate –ion has been ...  New York City   \n",
       "..                                                 ...            ...   \n",
       "724  The New York City Hall is found in the borough...      Manhattan   \n",
       "725  New York City receive –s 83 cent –s for every ...             83   \n",
       "726  The city give –s $ 11 billion more money to th...    $11 billion   \n",
       "727  New York City give –s $ 11.4 billion more mone...  $11.4 billion   \n",
       "728  The Sister City Program of the City of New Yor...           2006   \n",
       "\n",
       "                           response_question_formatted  \\\n",
       "0    ? what city in the United-States has the high ...   \n",
       "1         ? in what city is the United-Nations base -d   \n",
       "2    ? what city has been call -ed the culture -al ...   \n",
       "3    ? what American city welcome -s the large -st ...   \n",
       "4    ? the major gateway for immigrate -ion has bee...   \n",
       "..                                                 ...   \n",
       "724  ? in what borough is the New-York-City-Hall found   \n",
       "725  ? how much money in cent -s does New-York-City...   \n",
       "726  ? how much more money does the city give to th...   \n",
       "727  ? each year how much more money does New-York-...   \n",
       "728  ? in what year did the Sister-City-Program of ...   \n",
       "\n",
       "    response_answer_formatted  \\\n",
       "0                    New-York   \n",
       "1                    New-York   \n",
       "2                    New-York   \n",
       "3                    New-York   \n",
       "4               New-York-City   \n",
       "..                        ...   \n",
       "724                 Manhattan   \n",
       "725                        83   \n",
       "726                11 billion   \n",
       "727        11 point 4 billion   \n",
       "728                      2006   \n",
       "\n",
       "               response_declarative_sentence_formatted  is_pretraining  \\\n",
       "0    the city in the United-States with the high -e...           False   \n",
       "1            the United-Nations is base -d in New-York            True   \n",
       "2    New-York has been call -ed the culture -al cap...           False   \n",
       "3    New-York is the American city that welcome -s ...           False   \n",
       "4    the major gateway for immigrate -ion has been ...           False   \n",
       "..                                                 ...             ...   \n",
       "724  the New-York-City-Hall is found in the borough...           False   \n",
       "725  New-York-City receive -s 83 cent -s for every ...           False   \n",
       "726  the city give -s  11 billion more money to the...           False   \n",
       "727  New-York-City give -s  11 point 4 billion more...           False   \n",
       "728  the Sister-City-Program of the City of New-Yor...           False   \n",
       "\n",
       "            question_category               sentence_category  \n",
       "0         Wh-Subject Question   Subject-Verb-Complement (SVC)  \n",
       "1       Wh-Adverbial Question            Passive Construction  \n",
       "2         Wh-Subject Question            Passive Construction  \n",
       "3         Wh-Subject Question  Subject-Verb-Object (SVO/SVOA)  \n",
       "4         Wh-in-situ Question   Subject-Verb-Complement (SVC)  \n",
       "..                        ...                             ...  \n",
       "724     Wh-Adverbial Question            Passive Construction  \n",
       "725  Quantitative Wh-Question  Subject-Verb-Object (SVO/SVOA)  \n",
       "726  Quantitative Wh-Question  Subject-Verb-Object (SVO/SVOA)  \n",
       "727  Quantitative Wh-Question  Subject-Verb-Object (SVO/SVOA)  \n",
       "728     Wh-Adverbial Question  Subject-Verb-Object (SVO/SVOA)  \n",
       "\n",
       "[729 rows x 12 columns]"
      ],
      "text/html": [
       "<div>\n",
       "<style scoped>\n",
       "    .dataframe tbody tr th:only-of-type {\n",
       "        vertical-align: middle;\n",
       "    }\n",
       "\n",
       "    .dataframe tbody tr th {\n",
       "        vertical-align: top;\n",
       "    }\n",
       "\n",
       "    .dataframe thead th {\n",
       "        text-align: right;\n",
       "    }\n",
       "</style>\n",
       "<table border=\"1\" class=\"dataframe\">\n",
       "  <thead>\n",
       "    <tr style=\"text-align: right;\">\n",
       "      <th></th>\n",
       "      <th>id</th>\n",
       "      <th>question</th>\n",
       "      <th>response_question</th>\n",
       "      <th>response_answer</th>\n",
       "      <th>response_declarative_sentence</th>\n",
       "      <th>answer</th>\n",
       "      <th>response_question_formatted</th>\n",
       "      <th>response_answer_formatted</th>\n",
       "      <th>response_declarative_sentence_formatted</th>\n",
       "      <th>is_pretraining</th>\n",
       "      <th>question_category</th>\n",
       "      <th>sentence_category</th>\n",
       "    </tr>\n",
       "  </thead>\n",
       "  <tbody>\n",
       "    <tr>\n",
       "      <th>0</th>\n",
       "      <td>56ce304daab44d1400b8850e</td>\n",
       "      <td>What city in the United States has the highest...</td>\n",
       "      <td>What city in the United States has the high –e...</td>\n",
       "      <td>New York</td>\n",
       "      <td>The city in the United States with the high –e...</td>\n",
       "      <td>New York</td>\n",
       "      <td>? what city in the United-States has the high ...</td>\n",
       "      <td>New-York</td>\n",
       "      <td>the city in the United-States with the high -e...</td>\n",
       "      <td>False</td>\n",
       "      <td>Wh-Subject Question</td>\n",
       "      <td>Subject-Verb-Complement (SVC)</td>\n",
       "    </tr>\n",
       "    <tr>\n",
       "      <th>1</th>\n",
       "      <td>56ce304daab44d1400b8850f</td>\n",
       "      <td>In what city is the United Nations based?</td>\n",
       "      <td>In what city is the United Nations base –d?</td>\n",
       "      <td>New York</td>\n",
       "      <td>The United Nations is base –d in New York.</td>\n",
       "      <td>New York</td>\n",
       "      <td>? in what city is the United-Nations base -d</td>\n",
       "      <td>New-York</td>\n",
       "      <td>the United-Nations is base -d in New-York</td>\n",
       "      <td>True</td>\n",
       "      <td>Wh-Adverbial Question</td>\n",
       "      <td>Passive Construction</td>\n",
       "    </tr>\n",
       "    <tr>\n",
       "      <th>2</th>\n",
       "      <td>56ce304daab44d1400b88510</td>\n",
       "      <td>What city has been called the cultural capital...</td>\n",
       "      <td>What city has been call –ed the culture –al ca...</td>\n",
       "      <td>New York</td>\n",
       "      <td>New York has been call –ed the culture –al cap...</td>\n",
       "      <td>New York</td>\n",
       "      <td>? what city has been call -ed the culture -al ...</td>\n",
       "      <td>New-York</td>\n",
       "      <td>New-York has been call -ed the culture -al cap...</td>\n",
       "      <td>False</td>\n",
       "      <td>Wh-Subject Question</td>\n",
       "      <td>Passive Construction</td>\n",
       "    </tr>\n",
       "    <tr>\n",
       "      <th>3</th>\n",
       "      <td>56ce304daab44d1400b88511</td>\n",
       "      <td>What American city welcomes the largest number...</td>\n",
       "      <td>What American city welcome –s the large –st nu...</td>\n",
       "      <td>New York</td>\n",
       "      <td>New York is the American city that welcome –s ...</td>\n",
       "      <td>New York</td>\n",
       "      <td>? what American city welcome -s the large -st ...</td>\n",
       "      <td>New-York</td>\n",
       "      <td>New-York is the American city that welcome -s ...</td>\n",
       "      <td>False</td>\n",
       "      <td>Wh-Subject Question</td>\n",
       "      <td>Subject-Verb-Object (SVO/SVOA)</td>\n",
       "    </tr>\n",
       "    <tr>\n",
       "      <th>4</th>\n",
       "      <td>56cf5d41aab44d1400b89130</td>\n",
       "      <td>The major gateway for immigration has been whi...</td>\n",
       "      <td>The major gateway for immigrate –ion has been ...</td>\n",
       "      <td>New York City</td>\n",
       "      <td>The major gateway for immigrate –ion has been ...</td>\n",
       "      <td>New York City</td>\n",
       "      <td>? the major gateway for immigrate -ion has bee...</td>\n",
       "      <td>New-York-City</td>\n",
       "      <td>the major gateway for immigrate -ion has been ...</td>\n",
       "      <td>False</td>\n",
       "      <td>Wh-in-situ Question</td>\n",
       "      <td>Subject-Verb-Complement (SVC)</td>\n",
       "    </tr>\n",
       "    <tr>\n",
       "      <th>...</th>\n",
       "      <td>...</td>\n",
       "      <td>...</td>\n",
       "      <td>...</td>\n",
       "      <td>...</td>\n",
       "      <td>...</td>\n",
       "      <td>...</td>\n",
       "      <td>...</td>\n",
       "      <td>...</td>\n",
       "      <td>...</td>\n",
       "      <td>...</td>\n",
       "      <td>...</td>\n",
       "      <td>...</td>\n",
       "    </tr>\n",
       "    <tr>\n",
       "      <th>724</th>\n",
       "      <td>56d1204617492d1400aab9fd</td>\n",
       "      <td>In what borough is the New York City Hall found?</td>\n",
       "      <td>In what borough is the New York City Hall found?</td>\n",
       "      <td>Manhattan</td>\n",
       "      <td>The New York City Hall is found in the borough...</td>\n",
       "      <td>Manhattan</td>\n",
       "      <td>? in what borough is the New-York-City-Hall found</td>\n",
       "      <td>Manhattan</td>\n",
       "      <td>the New-York-City-Hall is found in the borough...</td>\n",
       "      <td>False</td>\n",
       "      <td>Wh-Adverbial Question</td>\n",
       "      <td>Passive Construction</td>\n",
       "    </tr>\n",
       "    <tr>\n",
       "      <th>725</th>\n",
       "      <td>56d1218c17492d1400aaba1f</td>\n",
       "      <td>How much money in cents does New York City rec...</td>\n",
       "      <td>How much money in cent –s does New York City r...</td>\n",
       "      <td>83</td>\n",
       "      <td>New York City receive –s 83 cent –s for every ...</td>\n",
       "      <td>83</td>\n",
       "      <td>? how much money in cent -s does New-York-City...</td>\n",
       "      <td>83</td>\n",
       "      <td>New-York-City receive -s 83 cent -s for every ...</td>\n",
       "      <td>False</td>\n",
       "      <td>Quantitative Wh-Question</td>\n",
       "      <td>Subject-Verb-Object (SVO/SVOA)</td>\n",
       "    </tr>\n",
       "    <tr>\n",
       "      <th>726</th>\n",
       "      <td>56d1218c17492d1400aaba20</td>\n",
       "      <td>How much more money does the city give to the ...</td>\n",
       "      <td>How much more money does the city give to the ...</td>\n",
       "      <td>$ 11 billion</td>\n",
       "      <td>The city give –s $ 11 billion more money to th...</td>\n",
       "      <td>$11 billion</td>\n",
       "      <td>? how much more money does the city give to th...</td>\n",
       "      <td>11 billion</td>\n",
       "      <td>the city give -s  11 billion more money to the...</td>\n",
       "      <td>False</td>\n",
       "      <td>Quantitative Wh-Question</td>\n",
       "      <td>Subject-Verb-Object (SVO/SVOA)</td>\n",
       "    </tr>\n",
       "    <tr>\n",
       "      <th>727</th>\n",
       "      <td>56d1218c17492d1400aaba21</td>\n",
       "      <td>Each year, how much more money does New York C...</td>\n",
       "      <td>Each year, how much more money does New York C...</td>\n",
       "      <td>$ 11.4 billion</td>\n",
       "      <td>New York City give –s $ 11.4 billion more mone...</td>\n",
       "      <td>$11.4 billion</td>\n",
       "      <td>? each year how much more money does New-York-...</td>\n",
       "      <td>11 point 4 billion</td>\n",
       "      <td>New-York-City give -s  11 point 4 billion more...</td>\n",
       "      <td>False</td>\n",
       "      <td>Quantitative Wh-Question</td>\n",
       "      <td>Subject-Verb-Object (SVO/SVOA)</td>\n",
       "    </tr>\n",
       "    <tr>\n",
       "      <th>728</th>\n",
       "      <td>56d121d817492d1400aaba2e</td>\n",
       "      <td>In what year did the Sister City Program of th...</td>\n",
       "      <td>In what year did the Sister City Program of th...</td>\n",
       "      <td>2006</td>\n",
       "      <td>The Sister City Program of the City of New Yor...</td>\n",
       "      <td>2006</td>\n",
       "      <td>? in what year did the Sister-City-Program of ...</td>\n",
       "      <td>2006</td>\n",
       "      <td>the Sister-City-Program of the City of New-Yor...</td>\n",
       "      <td>False</td>\n",
       "      <td>Wh-Adverbial Question</td>\n",
       "      <td>Subject-Verb-Object (SVO/SVOA)</td>\n",
       "    </tr>\n",
       "  </tbody>\n",
       "</table>\n",
       "<p>729 rows × 12 columns</p>\n",
       "</div>"
      ]
     },
     "execution_count": 15,
     "metadata": {},
     "output_type": "execute_result"
    }
   ],
   "execution_count": 15
  },
  {
   "metadata": {
    "ExecuteTime": {
     "end_time": "2025-10-09T07:00:08.976431Z",
     "start_time": "2025-10-09T07:00:08.933586Z"
    }
   },
   "cell_type": "code",
   "source": [
    "#pick a random sample of pretraining rows or use a pre-selected, manually generated set\n",
    "#for each category, pick an equal number of samples\n",
    "question_categories = nyc_squad_df[\"question_category\"].unique()\n",
    "sentence_categories = nyc_squad_df[\"sentence_category\"].unique()\n",
    "print(f\"Question categories: {question_categories}\")\n",
    "print(f\"Sentence categories: {sentence_categories}\")\n",
    "if use_manual_pretraining_data:\n",
    "    raise Exception(\"not implemented yet\")\n",
    "if not use_manual_pretraining_data:\n",
    "    nyc_squad_df[\"is_pretraining\"] = False\n",
    "    number_of_pretraining_samples = len(nyc_squad_df) * percentage_of_pretraining_samples // 100\n",
    "    print(f\"Number of pretraining samples: {number_of_pretraining_samples}\")\n",
    "samples_per_category = number_of_pretraining_samples // (len(question_categories) + len(sentence_categories))\n",
    "print(f\"Samples per category: {samples_per_category}\")\n",
    "#sample from the question categories\n",
    "for category in question_categories:\n",
    "    category_df = nyc_squad_df[nyc_squad_df[\"question_category\"] == category]\n",
    "    if len(category_df) < samples_per_category:\n",
    "        raise Exception(f\"Not enough samples in category {category}\")\n",
    "    sampled_category_df = category_df.sample(n=samples_per_category, random_state=42)\n",
    "    nyc_squad_df.loc[sampled_category_df.index, \"is_pretraining\"] = True\n",
    "    #sample from the sentence categories starting with those that are already selected for pretraining\n",
    "    for category in sentence_categories:\n",
    "        category_df = nyc_squad_df[nyc_squad_df[\"sentence_category\"] == category]\n",
    "        already_selected_df = category_df[category_df[\"is_pretraining\"] == True]\n",
    "        already_selected_count = len(already_selected_df)\n",
    "        remaining_samples = samples_per_category - already_selected_count\n",
    "        if remaining_samples > 0:\n",
    "            not_selected_df = category_df[category_df[\"is_pretraining\"] == False]\n",
    "            if len(not_selected_df) < remaining_samples:\n",
    "                raise Exception(f\"Not enough samples in category {category}\")\n",
    "            sampled_category_df = not_selected_df.sample(n=remaining_samples, random_state=42)\n",
    "            nyc_squad_df.loc[sampled_category_df.index, \"is_pretraining\"] = True\n",
    "#print the counts of samples in the question and sentence categories\n",
    "print(\"Pretraining samples by question category:\")\n",
    "print(nyc_squad_df[nyc_squad_df[\"is_pretraining\"] == True][\"question_category\"].value_counts())\n",
    "print(\"Pretraining samples by sentence category:\")\n",
    "print(nyc_squad_df[nyc_squad_df[\"is_pretraining\"] == True][\"sentence_category\"].value_counts())\n",
    "total_pretraining_count = nyc_squad_df[\"is_pretraining\"].sum()\n",
    "print(f\"Total number of samples selected for pretraining: {total_pretraining_count}\")\n",
    "\n",
    "nyc_squad_df"
   ],
   "id": "3e9a4c5aa818a77e",
   "outputs": [
    {
     "name": "stdout",
     "output_type": "stream",
     "text": [
      "Question categories: ['Wh-Subject Question' 'Wh-Adverbial Question' 'Wh-in-situ Question'\n",
      " 'Quantitative Wh-Question' 'Wh-Object/Complement Question']\n",
      "Sentence categories: ['Subject-Verb-Complement (SVC)' 'Passive Construction'\n",
      " 'Subject-Verb-Object (SVO/SVOA)' 'Subject-Verb-Adverbial (SVA)'\n",
      " 'Existential Clause' 'Subject-Verb-Object-Complement (SVOC)']\n",
      "Number of pretraining samples: 72\n",
      "Samples per category: 6\n",
      "Pretraining samples by question category:\n",
      "question_category\n",
      "Quantitative Wh-Question         18\n",
      "Wh-Subject Question              15\n",
      "Wh-Object/Complement Question    11\n",
      "Wh-Adverbial Question             9\n",
      "Wh-in-situ Question               6\n",
      "Name: count, dtype: int64\n",
      "Pretraining samples by sentence category:\n",
      "sentence_category\n",
      "Passive Construction                     15\n",
      "Subject-Verb-Complement (SVC)            13\n",
      "Subject-Verb-Adverbial (SVA)             10\n",
      "Subject-Verb-Object (SVO/SVOA)            9\n",
      "Subject-Verb-Object-Complement (SVOC)     6\n",
      "Existential Clause                        6\n",
      "Name: count, dtype: int64\n",
      "Total number of samples selected for pretraining: 59\n"
     ]
    },
    {
     "data": {
      "text/plain": [
       "                           id  \\\n",
       "0    56ce304daab44d1400b8850e   \n",
       "1    56ce304daab44d1400b8850f   \n",
       "2    56ce304daab44d1400b88510   \n",
       "3    56ce304daab44d1400b88511   \n",
       "4    56cf5d41aab44d1400b89130   \n",
       "..                        ...   \n",
       "724  56d1204617492d1400aab9fd   \n",
       "725  56d1218c17492d1400aaba1f   \n",
       "726  56d1218c17492d1400aaba20   \n",
       "727  56d1218c17492d1400aaba21   \n",
       "728  56d121d817492d1400aaba2e   \n",
       "\n",
       "                                              question  \\\n",
       "0    What city in the United States has the highest...   \n",
       "1            In what city is the United Nations based?   \n",
       "2    What city has been called the cultural capital...   \n",
       "3    What American city welcomes the largest number...   \n",
       "4    The major gateway for immigration has been whi...   \n",
       "..                                                 ...   \n",
       "724   In what borough is the New York City Hall found?   \n",
       "725  How much money in cents does New York City rec...   \n",
       "726  How much more money does the city give to the ...   \n",
       "727  Each year, how much more money does New York C...   \n",
       "728  In what year did the Sister City Program of th...   \n",
       "\n",
       "                                     response_question response_answer  \\\n",
       "0    What city in the United States has the high –e...        New York   \n",
       "1          In what city is the United Nations base –d?        New York   \n",
       "2    What city has been call –ed the culture –al ca...        New York   \n",
       "3    What American city welcome –s the large –st nu...        New York   \n",
       "4    The major gateway for immigrate –ion has been ...   New York City   \n",
       "..                                                 ...             ...   \n",
       "724   In what borough is the New York City Hall found?       Manhattan   \n",
       "725  How much money in cent –s does New York City r...              83   \n",
       "726  How much more money does the city give to the ...    $ 11 billion   \n",
       "727  Each year, how much more money does New York C...  $ 11.4 billion   \n",
       "728  In what year did the Sister City Program of th...            2006   \n",
       "\n",
       "                         response_declarative_sentence         answer  \\\n",
       "0    The city in the United States with the high –e...       New York   \n",
       "1           The United Nations is base –d in New York.       New York   \n",
       "2    New York has been call –ed the culture –al cap...       New York   \n",
       "3    New York is the American city that welcome –s ...       New York   \n",
       "4    The major gateway for immigrate –ion has been ...  New York City   \n",
       "..                                                 ...            ...   \n",
       "724  The New York City Hall is found in the borough...      Manhattan   \n",
       "725  New York City receive –s 83 cent –s for every ...             83   \n",
       "726  The city give –s $ 11 billion more money to th...    $11 billion   \n",
       "727  New York City give –s $ 11.4 billion more mone...  $11.4 billion   \n",
       "728  The Sister City Program of the City of New Yor...           2006   \n",
       "\n",
       "                           response_question_formatted  \\\n",
       "0    ? what city in the United-States has the high ...   \n",
       "1         ? in what city is the United-Nations base -d   \n",
       "2    ? what city has been call -ed the culture -al ...   \n",
       "3    ? what American city welcome -s the large -st ...   \n",
       "4    ? the major gateway for immigrate -ion has bee...   \n",
       "..                                                 ...   \n",
       "724  ? in what borough is the New-York-City-Hall found   \n",
       "725  ? how much money in cent -s does New-York-City...   \n",
       "726  ? how much more money does the city give to th...   \n",
       "727  ? each year how much more money does New-York-...   \n",
       "728  ? in what year did the Sister-City-Program of ...   \n",
       "\n",
       "    response_answer_formatted  \\\n",
       "0                    New-York   \n",
       "1                    New-York   \n",
       "2                    New-York   \n",
       "3                    New-York   \n",
       "4               New-York-City   \n",
       "..                        ...   \n",
       "724                 Manhattan   \n",
       "725                        83   \n",
       "726                11 billion   \n",
       "727        11 point 4 billion   \n",
       "728                      2006   \n",
       "\n",
       "               response_declarative_sentence_formatted  is_pretraining  \\\n",
       "0    the city in the United-States with the high -e...           False   \n",
       "1            the United-Nations is base -d in New-York           False   \n",
       "2    New-York has been call -ed the culture -al cap...           False   \n",
       "3    New-York is the American city that welcome -s ...           False   \n",
       "4    the major gateway for immigrate -ion has been ...           False   \n",
       "..                                                 ...             ...   \n",
       "724  the New-York-City-Hall is found in the borough...           False   \n",
       "725  New-York-City receive -s 83 cent -s for every ...           False   \n",
       "726  the city give -s  11 billion more money to the...           False   \n",
       "727  New-York-City give -s  11 point 4 billion more...           False   \n",
       "728  the Sister-City-Program of the City of New-Yor...           False   \n",
       "\n",
       "            question_category               sentence_category  \n",
       "0         Wh-Subject Question   Subject-Verb-Complement (SVC)  \n",
       "1       Wh-Adverbial Question            Passive Construction  \n",
       "2         Wh-Subject Question            Passive Construction  \n",
       "3         Wh-Subject Question  Subject-Verb-Object (SVO/SVOA)  \n",
       "4         Wh-in-situ Question   Subject-Verb-Complement (SVC)  \n",
       "..                        ...                             ...  \n",
       "724     Wh-Adverbial Question            Passive Construction  \n",
       "725  Quantitative Wh-Question  Subject-Verb-Object (SVO/SVOA)  \n",
       "726  Quantitative Wh-Question  Subject-Verb-Object (SVO/SVOA)  \n",
       "727  Quantitative Wh-Question  Subject-Verb-Object (SVO/SVOA)  \n",
       "728     Wh-Adverbial Question  Subject-Verb-Object (SVO/SVOA)  \n",
       "\n",
       "[729 rows x 12 columns]"
      ],
      "text/html": [
       "<div>\n",
       "<style scoped>\n",
       "    .dataframe tbody tr th:only-of-type {\n",
       "        vertical-align: middle;\n",
       "    }\n",
       "\n",
       "    .dataframe tbody tr th {\n",
       "        vertical-align: top;\n",
       "    }\n",
       "\n",
       "    .dataframe thead th {\n",
       "        text-align: right;\n",
       "    }\n",
       "</style>\n",
       "<table border=\"1\" class=\"dataframe\">\n",
       "  <thead>\n",
       "    <tr style=\"text-align: right;\">\n",
       "      <th></th>\n",
       "      <th>id</th>\n",
       "      <th>question</th>\n",
       "      <th>response_question</th>\n",
       "      <th>response_answer</th>\n",
       "      <th>response_declarative_sentence</th>\n",
       "      <th>answer</th>\n",
       "      <th>response_question_formatted</th>\n",
       "      <th>response_answer_formatted</th>\n",
       "      <th>response_declarative_sentence_formatted</th>\n",
       "      <th>is_pretraining</th>\n",
       "      <th>question_category</th>\n",
       "      <th>sentence_category</th>\n",
       "    </tr>\n",
       "  </thead>\n",
       "  <tbody>\n",
       "    <tr>\n",
       "      <th>0</th>\n",
       "      <td>56ce304daab44d1400b8850e</td>\n",
       "      <td>What city in the United States has the highest...</td>\n",
       "      <td>What city in the United States has the high –e...</td>\n",
       "      <td>New York</td>\n",
       "      <td>The city in the United States with the high –e...</td>\n",
       "      <td>New York</td>\n",
       "      <td>? what city in the United-States has the high ...</td>\n",
       "      <td>New-York</td>\n",
       "      <td>the city in the United-States with the high -e...</td>\n",
       "      <td>False</td>\n",
       "      <td>Wh-Subject Question</td>\n",
       "      <td>Subject-Verb-Complement (SVC)</td>\n",
       "    </tr>\n",
       "    <tr>\n",
       "      <th>1</th>\n",
       "      <td>56ce304daab44d1400b8850f</td>\n",
       "      <td>In what city is the United Nations based?</td>\n",
       "      <td>In what city is the United Nations base –d?</td>\n",
       "      <td>New York</td>\n",
       "      <td>The United Nations is base –d in New York.</td>\n",
       "      <td>New York</td>\n",
       "      <td>? in what city is the United-Nations base -d</td>\n",
       "      <td>New-York</td>\n",
       "      <td>the United-Nations is base -d in New-York</td>\n",
       "      <td>False</td>\n",
       "      <td>Wh-Adverbial Question</td>\n",
       "      <td>Passive Construction</td>\n",
       "    </tr>\n",
       "    <tr>\n",
       "      <th>2</th>\n",
       "      <td>56ce304daab44d1400b88510</td>\n",
       "      <td>What city has been called the cultural capital...</td>\n",
       "      <td>What city has been call –ed the culture –al ca...</td>\n",
       "      <td>New York</td>\n",
       "      <td>New York has been call –ed the culture –al cap...</td>\n",
       "      <td>New York</td>\n",
       "      <td>? what city has been call -ed the culture -al ...</td>\n",
       "      <td>New-York</td>\n",
       "      <td>New-York has been call -ed the culture -al cap...</td>\n",
       "      <td>False</td>\n",
       "      <td>Wh-Subject Question</td>\n",
       "      <td>Passive Construction</td>\n",
       "    </tr>\n",
       "    <tr>\n",
       "      <th>3</th>\n",
       "      <td>56ce304daab44d1400b88511</td>\n",
       "      <td>What American city welcomes the largest number...</td>\n",
       "      <td>What American city welcome –s the large –st nu...</td>\n",
       "      <td>New York</td>\n",
       "      <td>New York is the American city that welcome –s ...</td>\n",
       "      <td>New York</td>\n",
       "      <td>? what American city welcome -s the large -st ...</td>\n",
       "      <td>New-York</td>\n",
       "      <td>New-York is the American city that welcome -s ...</td>\n",
       "      <td>False</td>\n",
       "      <td>Wh-Subject Question</td>\n",
       "      <td>Subject-Verb-Object (SVO/SVOA)</td>\n",
       "    </tr>\n",
       "    <tr>\n",
       "      <th>4</th>\n",
       "      <td>56cf5d41aab44d1400b89130</td>\n",
       "      <td>The major gateway for immigration has been whi...</td>\n",
       "      <td>The major gateway for immigrate –ion has been ...</td>\n",
       "      <td>New York City</td>\n",
       "      <td>The major gateway for immigrate –ion has been ...</td>\n",
       "      <td>New York City</td>\n",
       "      <td>? the major gateway for immigrate -ion has bee...</td>\n",
       "      <td>New-York-City</td>\n",
       "      <td>the major gateway for immigrate -ion has been ...</td>\n",
       "      <td>False</td>\n",
       "      <td>Wh-in-situ Question</td>\n",
       "      <td>Subject-Verb-Complement (SVC)</td>\n",
       "    </tr>\n",
       "    <tr>\n",
       "      <th>...</th>\n",
       "      <td>...</td>\n",
       "      <td>...</td>\n",
       "      <td>...</td>\n",
       "      <td>...</td>\n",
       "      <td>...</td>\n",
       "      <td>...</td>\n",
       "      <td>...</td>\n",
       "      <td>...</td>\n",
       "      <td>...</td>\n",
       "      <td>...</td>\n",
       "      <td>...</td>\n",
       "      <td>...</td>\n",
       "    </tr>\n",
       "    <tr>\n",
       "      <th>724</th>\n",
       "      <td>56d1204617492d1400aab9fd</td>\n",
       "      <td>In what borough is the New York City Hall found?</td>\n",
       "      <td>In what borough is the New York City Hall found?</td>\n",
       "      <td>Manhattan</td>\n",
       "      <td>The New York City Hall is found in the borough...</td>\n",
       "      <td>Manhattan</td>\n",
       "      <td>? in what borough is the New-York-City-Hall found</td>\n",
       "      <td>Manhattan</td>\n",
       "      <td>the New-York-City-Hall is found in the borough...</td>\n",
       "      <td>False</td>\n",
       "      <td>Wh-Adverbial Question</td>\n",
       "      <td>Passive Construction</td>\n",
       "    </tr>\n",
       "    <tr>\n",
       "      <th>725</th>\n",
       "      <td>56d1218c17492d1400aaba1f</td>\n",
       "      <td>How much money in cents does New York City rec...</td>\n",
       "      <td>How much money in cent –s does New York City r...</td>\n",
       "      <td>83</td>\n",
       "      <td>New York City receive –s 83 cent –s for every ...</td>\n",
       "      <td>83</td>\n",
       "      <td>? how much money in cent -s does New-York-City...</td>\n",
       "      <td>83</td>\n",
       "      <td>New-York-City receive -s 83 cent -s for every ...</td>\n",
       "      <td>False</td>\n",
       "      <td>Quantitative Wh-Question</td>\n",
       "      <td>Subject-Verb-Object (SVO/SVOA)</td>\n",
       "    </tr>\n",
       "    <tr>\n",
       "      <th>726</th>\n",
       "      <td>56d1218c17492d1400aaba20</td>\n",
       "      <td>How much more money does the city give to the ...</td>\n",
       "      <td>How much more money does the city give to the ...</td>\n",
       "      <td>$ 11 billion</td>\n",
       "      <td>The city give –s $ 11 billion more money to th...</td>\n",
       "      <td>$11 billion</td>\n",
       "      <td>? how much more money does the city give to th...</td>\n",
       "      <td>11 billion</td>\n",
       "      <td>the city give -s  11 billion more money to the...</td>\n",
       "      <td>False</td>\n",
       "      <td>Quantitative Wh-Question</td>\n",
       "      <td>Subject-Verb-Object (SVO/SVOA)</td>\n",
       "    </tr>\n",
       "    <tr>\n",
       "      <th>727</th>\n",
       "      <td>56d1218c17492d1400aaba21</td>\n",
       "      <td>Each year, how much more money does New York C...</td>\n",
       "      <td>Each year, how much more money does New York C...</td>\n",
       "      <td>$ 11.4 billion</td>\n",
       "      <td>New York City give –s $ 11.4 billion more mone...</td>\n",
       "      <td>$11.4 billion</td>\n",
       "      <td>? each year how much more money does New-York-...</td>\n",
       "      <td>11 point 4 billion</td>\n",
       "      <td>New-York-City give -s  11 point 4 billion more...</td>\n",
       "      <td>False</td>\n",
       "      <td>Quantitative Wh-Question</td>\n",
       "      <td>Subject-Verb-Object (SVO/SVOA)</td>\n",
       "    </tr>\n",
       "    <tr>\n",
       "      <th>728</th>\n",
       "      <td>56d121d817492d1400aaba2e</td>\n",
       "      <td>In what year did the Sister City Program of th...</td>\n",
       "      <td>In what year did the Sister City Program of th...</td>\n",
       "      <td>2006</td>\n",
       "      <td>The Sister City Program of the City of New Yor...</td>\n",
       "      <td>2006</td>\n",
       "      <td>? in what year did the Sister-City-Program of ...</td>\n",
       "      <td>2006</td>\n",
       "      <td>the Sister-City-Program of the City of New-Yor...</td>\n",
       "      <td>False</td>\n",
       "      <td>Wh-Adverbial Question</td>\n",
       "      <td>Subject-Verb-Object (SVO/SVOA)</td>\n",
       "    </tr>\n",
       "  </tbody>\n",
       "</table>\n",
       "<p>729 rows × 12 columns</p>\n",
       "</div>"
      ]
     },
     "execution_count": 18,
     "metadata": {},
     "output_type": "execute_result"
    }
   ],
   "execution_count": 18
  },
  {
   "metadata": {},
   "cell_type": "markdown",
   "source": [
    "### create the pretraining data\n",
    "Select the rows where the pretraining is true, generate a set of commands for each row and save to a file."
   ],
   "id": "1a14d58f1bfc43ec"
  },
  {
   "metadata": {
    "ExecuteTime": {
     "end_time": "2025-10-09T07:00:23.388048Z",
     "start_time": "2025-10-09T07:00:23.264839Z"
    }
   },
   "cell_type": "code",
   "source": [
    "#add a new column to the dataframe with the created list of commands\n",
    "if use_manual_pretraining_data:\n",
    "    raise Exception(\"not implemented yet\")\n",
    "#to do - load the pretraining commands from a file and add to the dataframe\n",
    "else:\n",
    "    nyc_squad_df[\"created_commands\"] = nyc_squad_df.apply(create_list_of_commands, axis=1)\n",
    "nyc_squad_training_df = nyc_squad_df[nyc_squad_df[\"is_pretraining\"] == False]\n",
    "nyc_squad_pretraining_df = nyc_squad_df[nyc_squad_df[\"is_pretraining\"] == True]\n",
    "#save the final dataframe as a JSON lines file\n",
    "nyc_squad_df.to_json(dataframe_filepath, orient=\"records\",\n",
    "                     lines=True)"
   ],
   "id": "11c6634dc7bd8a5c",
   "outputs": [],
   "execution_count": 19
  },
  {
   "metadata": {
    "ExecuteTime": {
     "end_time": "2025-10-09T07:00:39.213470Z",
     "start_time": "2025-10-09T07:00:39.201578Z"
    }
   },
   "cell_type": "code",
   "source": [
    "with open(pretraining_filepath, \"w\") as commands_file:\n",
    "    for index, row in nyc_squad_pretraining_df.iterrows():\n",
    "        commands = row[\"created_commands\"]\n",
    "        for command in commands:\n",
    "            commands_file.write(command + \"\\n\")\n",
    "print(f\"Wrote {pretraining_filepath}\")\n",
    "\n",
    "with open(pretraining_filepath, \"r\") as commands_file:\n",
    "    lines = commands_file.readlines()\n",
    "number_of_reward_lines = sum(1 for line in lines if line.startswith(\".rw\"))\n",
    "print(f\"Number of reward lines: {number_of_reward_lines}\")\n",
    "print(f\"Number of commands: {len(lines)}\")\n",
    "for line in lines[:20]:\n",
    "    print(line.strip())"
   ],
   "id": "5a9d4e0f1891eabf",
   "outputs": [
    {
     "name": "stdout",
     "output_type": "stream",
     "text": [
      "Wrote /Users/chris/Library/CloudStorage/GoogleDrive-cjameswalmsley@gmail.com/My Drive/Shared with Julia/Education/Kent University/PhD/work/annabell/experiments/11/pre_training/nyc_squad_pretraining_commands_20251009_075658.txt\n",
      "Number of reward lines: 59\n",
      "Number of commands: 686\n",
      "# ID: 56ce345caab44d1400b88584\n",
      "Giovanni da Verrazzano call -ed the area Nouvelle-Angouleme when he stake -d a claim on it\n",
      "? what did Giovanni da Verrazzano call the area when he stake -d claim on it\n",
      ".wg Giovanni\n",
      ".wg da\n",
      ".wg Verrazzano\n",
      ".wg call\n",
      ".wg area\n",
      ".wg stake\n",
      ".wg claim\n",
      ".ph Giovanni da Verrazzano call -ed the area Nouvelle-Angouleme when he stake -d a claim on it\n",
      ".wg Nouvelle-Angouleme\n",
      ".rw\n",
      "# ID: 56ce3569aab44d1400b885ae\n",
      "Henry-Hudson call -ed the river that is now know -n as the Hudson-River the North-River\n",
      "? what did Henry-Hudson call the river that is now call -ed the Hudson-River\n",
      ".wg Henry-Hudson\n",
      ".wg call\n",
      ".wg river\n",
      ".wg call\n"
     ]
    }
   ],
   "execution_count": 20
  },
  {
   "metadata": {},
   "cell_type": "markdown",
   "source": [
    "### create the training data\n",
    "Select the rows where the pretraining is false, generate a set of commands for each row and save to a file."
   ],
   "id": "f898530ea8488c48"
  },
  {
   "metadata": {
    "ExecuteTime": {
     "end_time": "2025-10-09T07:00:50.689519Z",
     "start_time": "2025-10-09T07:00:50.682465Z"
    }
   },
   "cell_type": "code",
   "source": [
    "#combine 2 columns together into a list of tuples\n",
    "list_of_training_tuples = list(\n",
    "    zip(nyc_squad_training_df[\"id\"], nyc_squad_training_df[\"response_declarative_sentence_formatted\"]))\n",
    "\n",
    "write_training_file(list_of_training_tuples, training_filepath)\n",
    "print(f\"Wrote {training_filepath}\")\n",
    "\n",
    "with open(training_filepath, \"r\") as commands_file:\n",
    "    lines = commands_file.readlines()\n",
    "    print(f\"Number of commands: {len(lines)}\")\n",
    "    print(\"First 100 commands:\")\n",
    "    for line in lines[:20]:\n",
    "        print(line.strip())"
   ],
   "id": "a0d5c0eccd2d20cf",
   "outputs": [
    {
     "name": "stdout",
     "output_type": "stream",
     "text": [
      "file created: /Users/chris/Library/CloudStorage/GoogleDrive-cjameswalmsley@gmail.com/My Drive/Shared with Julia/Education/Kent University/PhD/work/annabell/experiments/11/training/nyc_squad_training_commands_20251009_075658.txt\n",
      "Wrote /Users/chris/Library/CloudStorage/GoogleDrive-cjameswalmsley@gmail.com/My Drive/Shared with Julia/Education/Kent University/PhD/work/annabell/experiments/11/training/nyc_squad_training_commands_20251009_075658.txt\n",
      "Number of commands: 1340\n",
      "First 100 commands:\n",
      "#id: 56ce304daab44d1400b8850e\n",
      "the city in the United-States with the high -est populate -ion is New-York\n",
      "#id: 56ce304daab44d1400b8850f\n",
      "the United-Nations is base -d in New-York\n",
      "#id: 56ce304daab44d1400b88510\n",
      "New-York has been call -ed the culture -al capital of the world\n",
      "#id: 56ce304daab44d1400b88511\n",
      "New-York is the American city that welcome -s the large -st number of legal immigrant -s\n",
      "#id: 56cf5d41aab44d1400b89130\n",
      "the major gateway for immigrate -ion has been New-York-City\n",
      "#id: 56cf5d41aab44d1400b89131\n",
      "the most populate -d city in the United-States is New-York-City\n",
      "#id: 56ce3124aab44d1400b8852a\n",
      "New-York-City is comprise -d of five borough -s\n",
      "#id: 56ce3124aab44d1400b8852b\n",
      "the five borough -s were combine -d into one city in 1898\n",
      "#id: 56ce3124aab44d1400b8852c\n",
      "in 2014 the cense -us estimate -d the populate -ion of New-York-City to be 8491079\n",
      "#id: 56ce3124aab44d1400b8852d\n",
      "the size of New-York-City is 305 square mile -s\n"
     ]
    }
   ],
   "execution_count": 21
  },
  {
   "metadata": {},
   "cell_type": "markdown",
   "source": [
    "### create the testing data\n",
    "Select the rows where the pretraining is false, generate a set of commands for each row and save to a file."
   ],
   "id": "75303c9e38895b64"
  },
  {
   "metadata": {
    "ExecuteTime": {
     "end_time": "2025-10-09T07:01:03.031870Z",
     "start_time": "2025-10-09T07:01:03.025354Z"
    }
   },
   "cell_type": "code",
   "source": [
    "list_of_testing_tuples = list(zip(nyc_squad_training_df[\"id\"], nyc_squad_training_df[\"response_question_formatted\"]))\n",
    "write_testing_file(list_of_testing_tuples, testing_filepath)\n",
    "print(f\"Wrote {testing_filepath}\")\n",
    "\n",
    "with open(testing_filepath, \"r\") as commands_file:\n",
    "    lines = commands_file.readlines()\n",
    "    print(f\"Number of commands: {len(lines)}\")\n",
    "    print(\"First 100 commands:\")\n",
    "    for line in lines[:20]:\n",
    "        print(line.strip())"
   ],
   "id": "e3c7da4bebb36d82",
   "outputs": [
    {
     "name": "stdout",
     "output_type": "stream",
     "text": [
      "file created: /Users/chris/Library/CloudStorage/GoogleDrive-cjameswalmsley@gmail.com/My Drive/Shared with Julia/Education/Kent University/PhD/work/annabell/experiments/11/testing/nyc_squad_testing_commands_20251009_075658.txt\n",
      "Wrote /Users/chris/Library/CloudStorage/GoogleDrive-cjameswalmsley@gmail.com/My Drive/Shared with Julia/Education/Kent University/PhD/work/annabell/experiments/11/testing/nyc_squad_testing_commands_20251009_075658.txt\n",
      "Number of commands: 2680\n",
      "First 100 commands:\n",
      "#id: 56ce304daab44d1400b8850e\n",
      "? what city in the United-States has the high -est populate -ion\n",
      ".x\n",
      "#END OF TESTING SAMPLE\n",
      "#id: 56ce304daab44d1400b8850f\n",
      "? in what city is the United-Nations base -d\n",
      ".x\n",
      "#END OF TESTING SAMPLE\n",
      "#id: 56ce304daab44d1400b88510\n",
      "? what city has been call -ed the culture -al capital of the world\n",
      ".x\n",
      "#END OF TESTING SAMPLE\n",
      "#id: 56ce304daab44d1400b88511\n",
      "? what American city welcome -s the large -st number of legal immigrant -s\n",
      ".x\n",
      "#END OF TESTING SAMPLE\n",
      "#id: 56cf5d41aab44d1400b89130\n",
      "? the major gateway for immigrate -ion has been which US city\n",
      ".x\n",
      "#END OF TESTING SAMPLE\n"
     ]
    }
   ],
   "execution_count": 22
  },
  {
   "metadata": {},
   "cell_type": "markdown",
   "source": [
    "### create the pre-training validation testing data\n",
    "Select the rows where the pretraining is true, generate a set of commands for each row and save to a file. This file is used to check that the pretraining commands have successfully trained the model."
   ],
   "id": "3eea70101a17a805"
  },
  {
   "metadata": {
    "ExecuteTime": {
     "end_time": "2025-10-09T07:01:11.470138Z",
     "start_time": "2025-10-09T07:01:11.464838Z"
    }
   },
   "cell_type": "code",
   "source": [
    "list_of_pretraining_validation_testing_tuples = list(\n",
    "    zip(nyc_squad_pretraining_df[\"id\"], nyc_squad_pretraining_df[\"response_question_formatted\"]))\n",
    "write_testing_file(list_of_pretraining_validation_testing_tuples, pretraining_validation_testing_filepath)\n",
    "\n",
    "print(f\"Wrote {pretraining_validation_testing_filepath}\")\n",
    "\n",
    "with open(pretraining_validation_testing_filepath, \"r\") as commands_file:\n",
    "    lines = commands_file.readlines()\n",
    "    print(f\"Number of commands: {len(lines)}\")\n",
    "    print(\"First 100 commands:\")\n",
    "    for line in lines[:20]:\n",
    "        print(line.strip())"
   ],
   "id": "cb876c015649e7f2",
   "outputs": [
    {
     "name": "stdout",
     "output_type": "stream",
     "text": [
      "file created: /Users/chris/Library/CloudStorage/GoogleDrive-cjameswalmsley@gmail.com/My Drive/Shared with Julia/Education/Kent University/PhD/work/annabell/experiments/11/testing/nyc_squad_pretraining_validation_testing_commands.txt\n",
      "Wrote /Users/chris/Library/CloudStorage/GoogleDrive-cjameswalmsley@gmail.com/My Drive/Shared with Julia/Education/Kent University/PhD/work/annabell/experiments/11/testing/nyc_squad_pretraining_validation_testing_commands.txt\n",
      "Number of commands: 236\n",
      "First 100 commands:\n",
      "#id: 56ce345caab44d1400b88584\n",
      "? what did Giovanni da Verrazzano call the area when he stake -d claim on it\n",
      ".x\n",
      "#END OF TESTING SAMPLE\n",
      "#id: 56ce3569aab44d1400b885ae\n",
      "? what did Henry-Hudson call the river that is now call -ed the Hudson-River\n",
      ".x\n",
      "#END OF TESTING SAMPLE\n",
      "#id: 56cfab96234ae51400d9be44\n",
      "? in what year was the land between Cape-Cod and Delaware-Bay claim -ed by the Dutch\n",
      ".x\n",
      "#END OF TESTING SAMPLE\n",
      "#id: 56cedbb9aab44d1400b88b12\n",
      "? what person bought Manhattan from the Canarsie for the Dutch\n",
      ".x\n",
      "#END OF TESTING SAMPLE\n",
      "#id: 56cedc10aab44d1400b88b19\n",
      "? what did the English call New-Amsterdam after its capture\n",
      ".x\n",
      "#END OF TESTING SAMPLE\n"
     ]
    }
   ],
   "execution_count": 23
  },
  {
   "metadata": {},
   "cell_type": "markdown",
   "source": "## Generate the command line instructions for running the experiments",
   "id": "facd6d44c0854feb"
  },
  {
   "metadata": {
    "ExecuteTime": {
     "end_time": "2025-10-09T07:01:36.038176Z",
     "start_time": "2025-10-09T07:01:35.988172Z"
    }
   },
   "cell_type": "code",
   "source": [
    "#copy the data files to the docker shared data directory for processing\n",
    "os.system(f'cp \"{pretraining_filepath}\" {docker_data_directory}/pre-training')\n",
    "os.system(f'cp \"{training_filepath}\" {docker_data_directory}/training')\n",
    "os.system(f'cp \"{testing_filepath}\" {docker_data_directory}/testing')\n",
    "os.system(f'cp \"{pretraining_validation_testing_filepath}\" {docker_data_directory}/testing')"
   ],
   "id": "a061d26e38998d74",
   "outputs": [
    {
     "data": {
      "text/plain": [
       "0"
      ]
     },
     "execution_count": 25,
     "metadata": {},
     "output_type": "execute_result"
    }
   ],
   "execution_count": 25
  },
  {
   "metadata": {
    "ExecuteTime": {
     "end_time": "2025-10-09T07:01:45.922703Z",
     "start_time": "2025-10-09T07:01:45.919431Z"
    }
   },
   "cell_type": "code",
   "source": [
    "#Create the pre-training command\n",
    "print(\n",
    "    f'docker compose run --remove-orphans --entrypoint ./pre_train_annabell_squad_nyc.sh app data/pre-training/logfile_nyc_squad_pretraining_commands.txt data/pre-training/{pretraining_filename} data/pre-training/{pretraining_filename.replace(\".txt\", \".dat\")}')"
   ],
   "id": "53673eb5619e4a2d",
   "outputs": [
    {
     "name": "stdout",
     "output_type": "stream",
     "text": [
      "#run the pretraining\n",
      "docker compose run --remove-orphans --entrypoint ./pre_train_annabell_squad_nyc.sh app data/pre-training/logfile_nyc_squad_pretraining_commands.txt data/pre-training/nyc_squad_pretraining_commands_20251009_075658.txt data/pre-training/nyc_squad_pretraining_commands_20251009_075658.dat\n"
     ]
    }
   ],
   "execution_count": 26
  },
  {
   "metadata": {
    "ExecuteTime": {
     "end_time": "2025-10-10T06:09:53.516336Z",
     "start_time": "2025-10-10T06:09:53.335120Z"
    }
   },
   "cell_type": "code",
   "source": [
    "#copy the pre-trained weights to the pre training directory\n",
    "source_path = os.path.join(docker_data_directory, \"pre-training\", pretraining_filename.replace(\".txt\", \".dat\"))\n",
    "destination_path = os.path.join(pretraining_directory, pretraining_filename.replace(\".txt\", \".dat\"))\n",
    "os.system(f'cp \"{source_path}\" \"{destination_path}\"')\n",
    "print(\"copied: \" + source_path + \" to: \" + destination_path)\n",
    "\n",
    "#copy the pre-training logfile to the pre training directory\n",
    "source_pattern = os.path.join(docker_data_directory, \"pre-training\", \"logfile_nyc_squad_pretraining_commands*\")\n",
    "destination_dir = logs_directory\n",
    "\n",
    "# Find all files matching the pattern\n",
    "log_files = glob.glob(source_pattern)\n",
    "\n",
    "# Move each found file to the destination directory\n",
    "for file_path in log_files:\n",
    "    os.system(f'mv \"{file_path}\" \"{destination_path}\"')\n",
    "    print(f\"moved: {file_path} to: {destination_dir}\")"
   ],
   "id": "38edb798063508d",
   "outputs": [
    {
     "name": "stdout",
     "output_type": "stream",
     "text": [
      "copied: /Users/chris/PycharmProjects/dataset/docker/shared_data/pre-training/nyc_squad_pretraining_commands_20251009_075658.dat to: /Users/chris/Library/CloudStorage/GoogleDrive-cjameswalmsley@gmail.com/My Drive/Shared with Julia/Education/Kent University/PhD/work/annabell/experiments/11/pre_training/nyc_squad_pretraining_commands_20251009_075658.dat\n",
      "moved: /Users/chris/PycharmProjects/dataset/docker/shared_data/pre-training/logfile_nyc_squad_pretraining_commands_2025-10-09_12-02-19.txt to: /Users/chris/Library/CloudStorage/GoogleDrive-cjameswalmsley@gmail.com/My Drive/Shared with Julia/Education/Kent University/PhD/work/annabell/experiments/11/pre_training\n",
      "moved: /Users/chris/PycharmProjects/dataset/docker/shared_data/pre-training/logfile_nyc_squad_pretraining_commands_2025-10-04_14-43-41.txt to: /Users/chris/Library/CloudStorage/GoogleDrive-cjameswalmsley@gmail.com/My Drive/Shared with Julia/Education/Kent University/PhD/work/annabell/experiments/11/pre_training\n",
      "moved: /Users/chris/PycharmProjects/dataset/docker/shared_data/pre-training/logfile_nyc_squad_pretraining_commands_2025-10-04_14-40-32.txt to: /Users/chris/Library/CloudStorage/GoogleDrive-cjameswalmsley@gmail.com/My Drive/Shared with Julia/Education/Kent University/PhD/work/annabell/experiments/11/pre_training\n",
      "moved: /Users/chris/PycharmProjects/dataset/docker/shared_data/pre-training/logfile_nyc_squad_pretraining_commands_2025-10-09_07-03-57.txt to: /Users/chris/Library/CloudStorage/GoogleDrive-cjameswalmsley@gmail.com/My Drive/Shared with Julia/Education/Kent University/PhD/work/annabell/experiments/11/pre_training\n"
     ]
    }
   ],
   "execution_count": 36
  },
  {
   "metadata": {
    "ExecuteTime": {
     "end_time": "2025-10-09T16:50:41.786858Z",
     "start_time": "2025-10-09T16:50:41.772075Z"
    }
   },
   "cell_type": "code",
   "source": "pretraining_validation_testing_filename = \"nyc_squad_pretraining_validation_testing_commands_20251009_075658.txt\"",
   "id": "70e663c1e6d199bd",
   "outputs": [],
   "execution_count": 29
  },
  {
   "metadata": {
    "ExecuteTime": {
     "end_time": "2025-10-09T16:57:32.655682Z",
     "start_time": "2025-10-09T16:57:32.640403Z"
    }
   },
   "cell_type": "code",
   "source": [
    "#run the pretraining validation testing\n",
    "print(\"#run the pretraining validation testing\")\n",
    "print(\n",
    "    f'docker compose run --remove-orphans --entrypoint ./test_annabell_squad.sh app data/testing/logfile_nyc_squad_pretraining_validation_testing_commands.txt data/pre-training/{pretraining_filename.replace(\".txt\", \".dat\")} data/testing/{pretraining_validation_testing_filename}')"
   ],
   "id": "cd94dbb51fefd2fc",
   "outputs": [
    {
     "name": "stdout",
     "output_type": "stream",
     "text": [
      "#run the pretraining validation testing\n",
      "docker compose run --remove-orphans --entrypoint ./test_annabell_squad.sh app data/testing/logfile_nyc_squad_pretraining_validation_testing_commands.txt data/pre-training/nyc_squad_pretraining_commands_20251009_075658.dat data/testing/nyc_squad_pretraining_validation_testing_commands_20251009_075658.txt\n"
     ]
    }
   ],
   "execution_count": 32
  },
  {
   "metadata": {
    "ExecuteTime": {
     "end_time": "2025-10-10T06:14:06.366775Z",
     "start_time": "2025-10-10T06:14:06.336135Z"
    }
   },
   "cell_type": "code",
   "source": [
    "#Copy the testing logs back to the experiment directory\n",
    "source_pattern = os.path.join(docker_data_directory, \"testing\",\n",
    "                              \"logfile_nyc_squad_pretraining_validation_testing_commands*\")\n",
    "destination_dir = logs_directory\n",
    "# Find all files matching the pattern\n",
    "log_files = glob.glob(source_pattern)\n",
    "# Copy each found file to the destination directory\n",
    "for file_path in log_files:\n",
    "    os.system(f'cp \"{file_path}\" \"{destination_dir}\"')\n",
    "    print(f\"copied: {file_path} to: {destination_dir}\")"
   ],
   "id": "8ca1e195442ff549",
   "outputs": [
    {
     "name": "stdout",
     "output_type": "stream",
     "text": [
      "moved: /Users/chris/PycharmProjects/dataset/docker/shared_data/testing/logfile_nyc_squad_pretraining_validation_testing_commands_2025-10-09_16-57-43.txt to: /Users/chris/Library/CloudStorage/GoogleDrive-cjameswalmsley@gmail.com/My Drive/Shared with Julia/Education/Kent University/PhD/work/annabell/experiments/11/testing\n"
     ]
    }
   ],
   "execution_count": 37
  },
  {
   "metadata": {},
   "cell_type": "markdown",
   "source": "### perform the testing using the \"test annabell\" notebook",
   "id": "954ccacd319f5b7f"
  },
  {
   "metadata": {
    "ExecuteTime": {
     "end_time": "2025-10-10T06:52:20.557396Z",
     "start_time": "2025-10-10T06:52:20.550029Z"
    }
   },
   "cell_type": "code",
   "source": [
    "#print the command to run the training\n",
    "print(\n",
    "    f'docker compose run --remove-orphans --entrypoint ./train_annabell_squad.sh app data/training/logfile_nyc_squad_training_commands.txt data/pre-training/{pretraining_filename.replace(\".txt\", \".dat\")} data/training/{training_filename.replace(\".txt\", \".dat\")} data/training/{training_filename}')"
   ],
   "id": "6db702604cc58727",
   "outputs": [
    {
     "name": "stdout",
     "output_type": "stream",
     "text": [
      "docker compose run --remove-orphans --entrypoint ./train_annabell_squad.sh app data/training/logfile_nyc_squad_training_commands.txt data/pre-training/nyc_squad_pretraining_commands_20251009_075658.dat data/training/nyc_squad_training_commands_20251009_075658.dat data/training/nyc_squad_training_commands_20251009_075658.txt\n"
     ]
    }
   ],
   "execution_count": 40
  },
  {
   "metadata": {
    "ExecuteTime": {
     "end_time": "2025-10-10T06:55:37.377314Z",
     "start_time": "2025-10-10T06:55:37.286870Z"
    }
   },
   "cell_type": "code",
   "source": [
    "#copy the training weights back to the experiment directory\n",
    "source_path = os.path.join(docker_data_directory, \"training\", training_filename.replace(\".txt\", \".dat\"))\n",
    "destination_path = os.path.join(training_directory, training_filename.replace(\".txt\", \".dat\"))\n",
    "os.system(f'cp \"{source_path}\" \"{destination_path}\"')\n",
    "print(\"copied: \" + source_path + \" to: \" + destination_path)\n",
    "#copy the training logfile to the logs directory\n",
    "source_pattern = os.path.join(docker_data_directory, \"training\", \"logfile_nyc_squad_training_commands*\")\n",
    "destination_dir = logs_directory\n",
    "# Find all files matching the pattern\n",
    "log_files = glob.glob(source_pattern)\n",
    "# Move each found file to the destination directory\n",
    "for file_path in log_files:\n",
    "    os.system(f'mv \"{file_path}\" \"{destination_dir}\"')\n",
    "    print(f\"moved: {file_path} to: {destination_dir}\")"
   ],
   "id": "a205087674b0dec9",
   "outputs": [
    {
     "name": "stdout",
     "output_type": "stream",
     "text": [
      "copied: /Users/chris/PycharmProjects/dataset/docker/shared_data/training/nyc_squad_training_commands_20251009_075658.dat to: /Users/chris/Library/CloudStorage/GoogleDrive-cjameswalmsley@gmail.com/My Drive/Shared with Julia/Education/Kent University/PhD/work/annabell/experiments/11/training/nyc_squad_training_commands_20251009_075658.dat\n"
     ]
    }
   ],
   "execution_count": 43
  },
  {
   "metadata": {
    "ExecuteTime": {
     "end_time": "2025-10-10T06:56:09.998820Z",
     "start_time": "2025-10-10T06:56:09.992604Z"
    }
   },
   "cell_type": "code",
   "source": [
    "#print the command to run the testing\n",
    "print(\"#run the testing\")\n",
    "print(\n",
    "    f'docker compose run --remove-orphans --entrypoint ./test_annabell_squad.sh app data/testing/logfile_nyc_squad_testing_commands.txt data/training/{training_filename.replace(\".txt\", \".dat\")} data/testing/{testing_filename}')"
   ],
   "id": "cec14deb7ac434d5",
   "outputs": [
    {
     "name": "stdout",
     "output_type": "stream",
     "text": [
      "#run the testing\n",
      "docker compose run --remove-orphans --entrypoint ./test_annabell_squad.sh app data/testing/logfile_nyc_squad_testing_commands.txt data/training/nyc_squad_training_commands_20251009_075658.dat data/testing/nyc_squad_testing_commands_20251009_075658.txt\n"
     ]
    }
   ],
   "execution_count": 44
  },
  {
   "metadata": {
    "ExecuteTime": {
     "end_time": "2025-10-10T08:23:37.496170Z",
     "start_time": "2025-10-10T08:23:37.471462Z"
    }
   },
   "cell_type": "code",
   "source": [
    "#Copy the testing logs back to the experiment directory\n",
    "source_pattern = os.path.join(docker_data_directory, \"testing\", \"logfile_nyc_squad_testing_commands*\")\n",
    "destination_dir = logs_directory\n",
    "# Find all files matching the pattern\n",
    "log_files = glob.glob(source_pattern)\n",
    "# Copy each found file to the destination directory\n",
    "for file_path in log_files:\n",
    "    os.system(f'cp \"{file_path}\" \"{destination_dir}\"')\n",
    "    print(f\"copied: {file_path} to: {destination_dir}\")"
   ],
   "id": "8d5eb4a819ec2ee8",
   "outputs": [
    {
     "name": "stdout",
     "output_type": "stream",
     "text": [
      "copied: /Users/chris/PycharmProjects/dataset/docker/shared_data/testing/logfile_nyc_squad_testing_commands_2025-10-10_06-56-59.txt to: /Users/chris/Library/CloudStorage/GoogleDrive-cjameswalmsley@gmail.com/My Drive/Shared with Julia/Education/Kent University/PhD/work/annabell/experiments/11/logs\n"
     ]
    }
   ],
   "execution_count": 45
  },
  {
   "metadata": {},
   "cell_type": "markdown",
   "source": "### Run the testing notebook to evaluate the results",
   "id": "d70e820990ad023b"
  },
  {
   "metadata": {},
   "cell_type": "markdown",
   "source": "## Appendix - Debugging cells",
   "id": "e41cf1a7ba666a87"
  },
  {
   "metadata": {
    "ExecuteTime": {
     "end_time": "2025-09-29T06:58:23.387398Z",
     "start_time": "2025-09-29T06:58:23.376699Z"
    }
   },
   "cell_type": "code",
   "outputs": [
    {
     "data": {
      "text/plain": [
       "['# ID: 56cfe293234ae51400d9c007',\n",
       " 'Brownstone rowhouse -s make up most of the large resident -ial district -s of NYC',\n",
       " '? what type of house -ing structure make -s up most of the large resident -ial district -s of NYC',\n",
       " '.wg type',\n",
       " '.wg house',\n",
       " '.wg structure',\n",
       " '.wg make',\n",
       " '.wg large',\n",
       " '.wg resident',\n",
       " '.wg district',\n",
       " '.wg NYC',\n",
       " '.ph Brownstone rowhouse -s make up most of the large resident -ial district -s of NYC',\n",
       " '.wg Brownstone rowhouse -s',\n",
       " '.rw']"
      ]
     },
     "execution_count": 7,
     "metadata": {},
     "output_type": "execute_result"
    }
   ],
   "execution_count": 7,
   "source": [
    "id = \"56cfe293234ae51400d9c007\"\n",
    "test_df = nyc_squad_df[nyc_squad_df[\"id\"] == id]\n",
    "#add a new column to the dataframe with the created list of commands\n",
    "result = test_df.apply(create_list_of_commands, axis=1)\n",
    "result.values[0]"
   ],
   "id": "5f00128b7587de0"
  },
  {
   "metadata": {
    "ExecuteTime": {
     "end_time": "2025-09-29T06:10:44.187953Z",
     "start_time": "2025-09-29T06:10:44.183783Z"
    }
   },
   "cell_type": "code",
   "source": [
    "from dataset_processing import remove_stopwords\n",
    "\n",
    "result = remove_stopwords(\n",
    "    '? what type of house -ing structure make -s up most of the large resident -ial district -s of NYC')\n",
    "result"
   ],
   "id": "3d09714477fdca72",
   "outputs": [
    {
     "data": {
      "text/plain": [
       "'? type house -ing structure make -s large resident -ial district -s NYC'"
      ]
     },
     "execution_count": 8,
     "metadata": {},
     "output_type": "execute_result"
    }
   ],
   "execution_count": 8
  }
 ],
 "metadata": {
  "kernelspec": {
   "display_name": "Python 3",
   "language": "python",
   "name": "python3"
  },
  "language_info": {
   "codemirror_mode": {
    "name": "ipython",
    "version": 2
   },
   "file_extension": ".py",
   "mimetype": "text/x-python",
   "name": "python",
   "nbconvert_exporter": "python",
   "pygments_lexer": "ipython2",
   "version": "2.7.6"
  }
 },
 "nbformat": 4,
 "nbformat_minor": 5
}
