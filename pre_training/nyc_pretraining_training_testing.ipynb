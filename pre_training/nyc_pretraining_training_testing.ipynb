{
 "cells": [
  {
   "metadata": {
    "collapsed": true
   },
   "cell_type": "markdown",
   "source": "# This notebook creates the datasets for pretraining, training and testing the ANNABELL model using the NYC dataset derived from SQuAD.",
   "id": "56648ebe77800a19"
  },
  {
   "metadata": {
    "ExecuteTime": {
     "end_time": "2025-10-26T17:45:47.843469Z",
     "start_time": "2025-10-26T17:45:46.469720Z"
    }
   },
   "cell_type": "code",
   "source": [
    "import os\n",
    "import glob\n",
    "import platform\n",
    "import datetime\n",
    "import shutil\n",
    "\n",
    "from dataset_processing import AnnabellCommandGenerator, \\\n",
    "    DatasetPreProcessor, merge_categories, select_pretraining_data, write_pretraining_file, \\\n",
    "    write_testing_file, write_training_file\n",
    "\n",
    "experiment_number = \"15\"\n",
    "percentage_of_pretraining_samples = 10\n",
    "use_manual_pretraining_data = False\n",
    "maximum_number_of_words = 50\n",
    "maximum_word_length = 25\n",
    "dataset_filename = \"response_formatted_20250924_174653.jsonl\"\n",
    "\n",
    "operating_system = platform.system()\n",
    "if operating_system == 'Windows':\n",
    "    base_directory = \"G:\\\\My Drive\\\\Shared with Julia\\\\Education\\\\Kent University\\\\PhD\\\\work\\\\annabell\"\n",
    "    pycharm_projects_directory = \"C:\\\\Users\\\\cjwal\\\\PycharmProjects\\\\Training-and-evaluating-cognitive-language-models\"\n",
    "elif operating_system == 'Linux':\n",
    "    base_directory = \"/home/chris/gdrive/work/annabell/\"\n",
    "    pycharm_projects_directory = \"/home/chris/PycharmProjects/Training-and-evaluating-cognitive-language-models\"\n",
    "elif operating_system == 'Darwin':  #macOS\n",
    "    base_directory = \"/Users/chris/Library/CloudStorage/GoogleDrive-cjameswalmsley@gmail.com/My Drive/Shared with Julia/Education/Kent University/PhD/work/annabell/\"\n",
    "    pycharm_projects_directory = \"/Users/chris/PycharmProjects/Training-and-evaluating-cognitive-language-models\"\n",
    "else:\n",
    "    raise Exception(\"unsupported OS\")\n",
    "\n",
    "timestamp = datetime.datetime.now().strftime(\"_%Y%m%d_%H%M%S\")\n",
    "#timestamp = \"_20251014_063732\"  #use a fixed timestamp if notebook is stopped part way through\n",
    "data_directory = os.path.join(base_directory, \"experiments/data\")\n",
    "docker_data_directory = os.path.join(pycharm_projects_directory, \"docker\", \"shared_data\")\n",
    "dataset_filepath = os.path.join(data_directory, dataset_filename)\n",
    "categorised_questions_filename = \"llm_question_categorisation_results.jsonl\"\n",
    "categorised_questions_filepath = os.path.join(data_directory, \"prompts\", categorised_questions_filename)\n",
    "categorised_sentences_filename = \"llm_sentence_categorisation_results.jsonl\"\n",
    "categorised_sentences_filepath = os.path.join(data_directory, \"prompts\", categorised_sentences_filename)\n",
    "pretraining_directory = os.path.join(base_directory, \"experiments\", experiment_number, \"pre_training\")\n",
    "if not os.path.exists(pretraining_directory):\n",
    "    os.makedirs(pretraining_directory)\n",
    "pretraining_filename = \"nyc_squad_pretraining_commands\" + timestamp + \".txt\"\n",
    "pretraining_filepath = os.path.join(pretraining_directory, pretraining_filename)\n",
    "training_directory = os.path.join(base_directory, \"experiments\", experiment_number, \"training\")\n",
    "if not os.path.exists(training_directory):\n",
    "    os.makedirs(training_directory)\n",
    "training_filename = \"nyc_squad_training_commands\" + timestamp + \".txt\"\n",
    "training_filepath = os.path.join(training_directory, training_filename)\n",
    "testing_directory = os.path.join(base_directory, \"experiments\", experiment_number, \"testing\")\n",
    "if not os.path.exists(testing_directory):\n",
    "    os.makedirs(testing_directory)\n",
    "testing_filename = \"nyc_squad_testing_commands\" + timestamp + \".txt\"\n",
    "testing_filepath = os.path.join(testing_directory, testing_filename)\n",
    "pretraining_validation_testing_filename = \"nyc_squad_pretraining_validation_testing_commands\" + timestamp + \".txt\"\n",
    "pretraining_validation_testing_filepath = os.path.join(testing_directory, pretraining_validation_testing_filename)\n",
    "logs_directory = os.path.join(base_directory, \"experiments\", experiment_number, \"logs\")\n",
    "if not os.path.exists(logs_directory):\n",
    "    os.makedirs(logs_directory)\n",
    "dataframe_filename = \"nyc_squad_with_pretraining_commands\" + timestamp + \".jsonl\"\n",
    "dataframe_directory = os.path.join(base_directory, \"experiments\", \"dataframes\")\n",
    "if not os.path.exists(dataframe_directory):\n",
    "    os.makedirs(dataframe_directory)\n",
    "dataframe_filepath = os.path.join(dataframe_directory, dataframe_filename)"
   ],
   "id": "ada0da2e81534195",
   "outputs": [],
   "execution_count": 1
  },
  {
   "metadata": {
    "ExecuteTime": {
     "end_time": "2025-10-26T17:46:21.846386Z",
     "start_time": "2025-10-26T17:45:54.382037Z"
    }
   },
   "cell_type": "code",
   "source": [
    "datasetPreProcessor = DatasetPreProcessor(dataset_filepath, maximum_number_of_words, maximum_word_length)\n",
    "datasetPreProcessor.preprocess_data()\n",
    "nyc_squad_df = datasetPreProcessor.dataset\n",
    "nyc_squad_df = merge_categories(nyc_squad_df, categorised_questions_filepath, categorised_sentences_filepath)\n",
    "nyc_dataframe = select_pretraining_data(nyc_squad_df, use_manual_pretraining_data,\n",
    "                                        percentage_of_pretraining_samples)\n",
    "nyc_dataframe"
   ],
   "id": "d03a2354ca6bd06f",
   "outputs": [
    {
     "name": "stdout",
     "output_type": "stream",
     "text": [
      "Question categories: ['Wh-Subject Question' 'Wh-Adverbial Question' 'Wh-in-situ Question'\n",
      " 'Quantitative Wh-Question' 'Wh-Object/Complement Question']\n",
      "Sentence categories: ['Subject-Verb-Complement (SVC)' 'Passive Construction'\n",
      " 'Subject-Verb-Object (SVO/SVOA)' 'Subject-Verb-Adverbial (SVA)'\n",
      " 'Existential Clause' 'Subject-Verb-Object-Complement (SVOC)']\n",
      "Number of pretraining samples: 75\n",
      "Samples per category: 6\n",
      "Pretraining samples by question category:\n",
      "question_category\n",
      "Quantitative Wh-Question         12\n",
      "Wh-Object/Complement Question    10\n",
      "Wh-Adverbial Question             7\n",
      "Wh-Subject Question               7\n",
      "Wh-in-situ Question               6\n",
      "Name: count, dtype: int64\n",
      "Pretraining samples by sentence category:\n",
      "sentence_category\n",
      "Passive Construction                     10\n",
      "Subject-Verb-Complement (SVC)             8\n",
      "Existential Clause                        6\n",
      "Subject-Verb-Object-Complement (SVOC)     6\n",
      "Subject-Verb-Adverbial (SVA)              6\n",
      "Subject-Verb-Object (SVO/SVOA)            6\n",
      "Name: count, dtype: int64\n",
      "Total number of samples selected for pretraining: 42\n"
     ]
    },
    {
     "data": {
      "text/plain": [
       "                           id  \\\n",
       "0    56ce304daab44d1400b8850e   \n",
       "1    56ce304daab44d1400b8850f   \n",
       "2    56ce304daab44d1400b88510   \n",
       "3    56ce304daab44d1400b88511   \n",
       "4    56cf5d41aab44d1400b89130   \n",
       "..                        ...   \n",
       "747  56d1218c17492d1400aaba1e   \n",
       "748  56d1218c17492d1400aaba1f   \n",
       "749  56d1218c17492d1400aaba20   \n",
       "750  56d1218c17492d1400aaba21   \n",
       "751  56d121d817492d1400aaba2e   \n",
       "\n",
       "                                              question  \\\n",
       "0    What city in the United States has the highest...   \n",
       "1            In what city is the United Nations based?   \n",
       "2    What city has been called the cultural capital...   \n",
       "3    What American city welcomes the largest number...   \n",
       "4    The major gateway for immigration has been whi...   \n",
       "..                                                 ...   \n",
       "747  What ZIP code was responsible for the greatest...   \n",
       "748  How much money in cents does New York City rec...   \n",
       "749  How much more money does the city give to the ...   \n",
       "750  Each year, how much more money does New York C...   \n",
       "751  In what year did the Sister City Program of th...   \n",
       "\n",
       "                                     response_question response_answer  \\\n",
       "0    What city in the United States has the high –e...        New York   \n",
       "1          In what city is the United Nations base –d?        New York   \n",
       "2    What city has been call –ed the culture –al ca...        New York   \n",
       "3    What American city welcome –s the large –st nu...        New York   \n",
       "4    The major gateway for immigrate –ion has been ...   New York City   \n",
       "..                                                 ...             ...   \n",
       "747  What ZIP code was responsible for the great –e...           10021   \n",
       "748  How much money in cent –s does New York City r...              83   \n",
       "749  How much more money does the city give to the ...    $ 11 billion   \n",
       "750  Each year, how much more money does New York C...  $ 11.4 billion   \n",
       "751  In what year did the Sister City Program of th...            2006   \n",
       "\n",
       "                         response_declarative_sentence         answer  \\\n",
       "0    The city in the United States with the high –e...       New York   \n",
       "1           The United Nations is base –d in New York.       New York   \n",
       "2    New York has been call –ed the culture –al cap...       New York   \n",
       "3    New York is the American city that welcome –s ...       New York   \n",
       "4    The major gateway for immigrate –ion has been ...  New York City   \n",
       "..                                                 ...            ...   \n",
       "747  The ZIP code 10021 was responsible for the gre...          10021   \n",
       "748  New York City receive –s 83 cent –s for every ...             83   \n",
       "749  The city give –s $ 11 billion more money to th...    $11 billion   \n",
       "750  New York City give –s $ 11.4 billion more mone...  $11.4 billion   \n",
       "751  The Sister City Program of the City of New Yor...           2006   \n",
       "\n",
       "                           response_question_formatted  \\\n",
       "0    ? what city in the United-States has the high ...   \n",
       "1         ? in what city is the United-Nations base -d   \n",
       "2    ? what city has been call -ed the culture -al ...   \n",
       "3    ? what American city welcome -s the large -st ...   \n",
       "4    ? the major gateway for immigrate -ion has bee...   \n",
       "..                                                 ...   \n",
       "747  ? what ZIP code was responsible for the great ...   \n",
       "748  ? how much money in cent -s does New-York-City...   \n",
       "749  ? how much more money does the city give to th...   \n",
       "750  ? each year how much more money does New-York-...   \n",
       "751  ? in what year did the Sister-City-Program of ...   \n",
       "\n",
       "    response_answer_formatted  \\\n",
       "0                    New-York   \n",
       "1                    New-York   \n",
       "2                    New-York   \n",
       "3                    New-York   \n",
       "4               New-York-City   \n",
       "..                        ...   \n",
       "747                     10021   \n",
       "748                        83   \n",
       "749                11 billion   \n",
       "750        11 point 4 billion   \n",
       "751                      2006   \n",
       "\n",
       "               response_declarative_sentence_formatted  is_pretraining  \\\n",
       "0    the city in the United-States with the high -e...           False   \n",
       "1            the United-Nations is base -d in New-York           False   \n",
       "2    New-York has been call -ed the culture -al cap...           False   \n",
       "3    New-York is the American city that welcome -s ...           False   \n",
       "4    the major gateway for immigrate -ion has been ...           False   \n",
       "..                                                 ...             ...   \n",
       "747  the ZIP code 10021 was responsible for the gre...           False   \n",
       "748  New-York-City receive -s 83 cent -s for every ...           False   \n",
       "749  the city give -s  11 billion more money to the...           False   \n",
       "750  New-York-City give -s  11 point 4 billion more...           False   \n",
       "751  the Sister-City-Program of the City of New-Yor...           False   \n",
       "\n",
       "            question_category               sentence_category  \n",
       "0         Wh-Subject Question   Subject-Verb-Complement (SVC)  \n",
       "1       Wh-Adverbial Question            Passive Construction  \n",
       "2         Wh-Subject Question            Passive Construction  \n",
       "3         Wh-Subject Question  Subject-Verb-Object (SVO/SVOA)  \n",
       "4         Wh-in-situ Question   Subject-Verb-Complement (SVC)  \n",
       "..                        ...                             ...  \n",
       "747       Wh-Subject Question            Passive Construction  \n",
       "748  Quantitative Wh-Question  Subject-Verb-Object (SVO/SVOA)  \n",
       "749  Quantitative Wh-Question  Subject-Verb-Object (SVO/SVOA)  \n",
       "750  Quantitative Wh-Question  Subject-Verb-Object (SVO/SVOA)  \n",
       "751     Wh-Adverbial Question  Subject-Verb-Object (SVO/SVOA)  \n",
       "\n",
       "[752 rows x 12 columns]"
      ],
      "text/html": [
       "<div>\n",
       "<style scoped>\n",
       "    .dataframe tbody tr th:only-of-type {\n",
       "        vertical-align: middle;\n",
       "    }\n",
       "\n",
       "    .dataframe tbody tr th {\n",
       "        vertical-align: top;\n",
       "    }\n",
       "\n",
       "    .dataframe thead th {\n",
       "        text-align: right;\n",
       "    }\n",
       "</style>\n",
       "<table border=\"1\" class=\"dataframe\">\n",
       "  <thead>\n",
       "    <tr style=\"text-align: right;\">\n",
       "      <th></th>\n",
       "      <th>id</th>\n",
       "      <th>question</th>\n",
       "      <th>response_question</th>\n",
       "      <th>response_answer</th>\n",
       "      <th>response_declarative_sentence</th>\n",
       "      <th>answer</th>\n",
       "      <th>response_question_formatted</th>\n",
       "      <th>response_answer_formatted</th>\n",
       "      <th>response_declarative_sentence_formatted</th>\n",
       "      <th>is_pretraining</th>\n",
       "      <th>question_category</th>\n",
       "      <th>sentence_category</th>\n",
       "    </tr>\n",
       "  </thead>\n",
       "  <tbody>\n",
       "    <tr>\n",
       "      <th>0</th>\n",
       "      <td>56ce304daab44d1400b8850e</td>\n",
       "      <td>What city in the United States has the highest...</td>\n",
       "      <td>What city in the United States has the high –e...</td>\n",
       "      <td>New York</td>\n",
       "      <td>The city in the United States with the high –e...</td>\n",
       "      <td>New York</td>\n",
       "      <td>? what city in the United-States has the high ...</td>\n",
       "      <td>New-York</td>\n",
       "      <td>the city in the United-States with the high -e...</td>\n",
       "      <td>False</td>\n",
       "      <td>Wh-Subject Question</td>\n",
       "      <td>Subject-Verb-Complement (SVC)</td>\n",
       "    </tr>\n",
       "    <tr>\n",
       "      <th>1</th>\n",
       "      <td>56ce304daab44d1400b8850f</td>\n",
       "      <td>In what city is the United Nations based?</td>\n",
       "      <td>In what city is the United Nations base –d?</td>\n",
       "      <td>New York</td>\n",
       "      <td>The United Nations is base –d in New York.</td>\n",
       "      <td>New York</td>\n",
       "      <td>? in what city is the United-Nations base -d</td>\n",
       "      <td>New-York</td>\n",
       "      <td>the United-Nations is base -d in New-York</td>\n",
       "      <td>False</td>\n",
       "      <td>Wh-Adverbial Question</td>\n",
       "      <td>Passive Construction</td>\n",
       "    </tr>\n",
       "    <tr>\n",
       "      <th>2</th>\n",
       "      <td>56ce304daab44d1400b88510</td>\n",
       "      <td>What city has been called the cultural capital...</td>\n",
       "      <td>What city has been call –ed the culture –al ca...</td>\n",
       "      <td>New York</td>\n",
       "      <td>New York has been call –ed the culture –al cap...</td>\n",
       "      <td>New York</td>\n",
       "      <td>? what city has been call -ed the culture -al ...</td>\n",
       "      <td>New-York</td>\n",
       "      <td>New-York has been call -ed the culture -al cap...</td>\n",
       "      <td>False</td>\n",
       "      <td>Wh-Subject Question</td>\n",
       "      <td>Passive Construction</td>\n",
       "    </tr>\n",
       "    <tr>\n",
       "      <th>3</th>\n",
       "      <td>56ce304daab44d1400b88511</td>\n",
       "      <td>What American city welcomes the largest number...</td>\n",
       "      <td>What American city welcome –s the large –st nu...</td>\n",
       "      <td>New York</td>\n",
       "      <td>New York is the American city that welcome –s ...</td>\n",
       "      <td>New York</td>\n",
       "      <td>? what American city welcome -s the large -st ...</td>\n",
       "      <td>New-York</td>\n",
       "      <td>New-York is the American city that welcome -s ...</td>\n",
       "      <td>False</td>\n",
       "      <td>Wh-Subject Question</td>\n",
       "      <td>Subject-Verb-Object (SVO/SVOA)</td>\n",
       "    </tr>\n",
       "    <tr>\n",
       "      <th>4</th>\n",
       "      <td>56cf5d41aab44d1400b89130</td>\n",
       "      <td>The major gateway for immigration has been whi...</td>\n",
       "      <td>The major gateway for immigrate –ion has been ...</td>\n",
       "      <td>New York City</td>\n",
       "      <td>The major gateway for immigrate –ion has been ...</td>\n",
       "      <td>New York City</td>\n",
       "      <td>? the major gateway for immigrate -ion has bee...</td>\n",
       "      <td>New-York-City</td>\n",
       "      <td>the major gateway for immigrate -ion has been ...</td>\n",
       "      <td>False</td>\n",
       "      <td>Wh-in-situ Question</td>\n",
       "      <td>Subject-Verb-Complement (SVC)</td>\n",
       "    </tr>\n",
       "    <tr>\n",
       "      <th>...</th>\n",
       "      <td>...</td>\n",
       "      <td>...</td>\n",
       "      <td>...</td>\n",
       "      <td>...</td>\n",
       "      <td>...</td>\n",
       "      <td>...</td>\n",
       "      <td>...</td>\n",
       "      <td>...</td>\n",
       "      <td>...</td>\n",
       "      <td>...</td>\n",
       "      <td>...</td>\n",
       "      <td>...</td>\n",
       "    </tr>\n",
       "    <tr>\n",
       "      <th>747</th>\n",
       "      <td>56d1218c17492d1400aaba1e</td>\n",
       "      <td>What ZIP code was responsible for the greatest...</td>\n",
       "      <td>What ZIP code was responsible for the great –e...</td>\n",
       "      <td>10021</td>\n",
       "      <td>The ZIP code 10021 was responsible for the gre...</td>\n",
       "      <td>10021</td>\n",
       "      <td>? what ZIP code was responsible for the great ...</td>\n",
       "      <td>10021</td>\n",
       "      <td>the ZIP code 10021 was responsible for the gre...</td>\n",
       "      <td>False</td>\n",
       "      <td>Wh-Subject Question</td>\n",
       "      <td>Passive Construction</td>\n",
       "    </tr>\n",
       "    <tr>\n",
       "      <th>748</th>\n",
       "      <td>56d1218c17492d1400aaba1f</td>\n",
       "      <td>How much money in cents does New York City rec...</td>\n",
       "      <td>How much money in cent –s does New York City r...</td>\n",
       "      <td>83</td>\n",
       "      <td>New York City receive –s 83 cent –s for every ...</td>\n",
       "      <td>83</td>\n",
       "      <td>? how much money in cent -s does New-York-City...</td>\n",
       "      <td>83</td>\n",
       "      <td>New-York-City receive -s 83 cent -s for every ...</td>\n",
       "      <td>False</td>\n",
       "      <td>Quantitative Wh-Question</td>\n",
       "      <td>Subject-Verb-Object (SVO/SVOA)</td>\n",
       "    </tr>\n",
       "    <tr>\n",
       "      <th>749</th>\n",
       "      <td>56d1218c17492d1400aaba20</td>\n",
       "      <td>How much more money does the city give to the ...</td>\n",
       "      <td>How much more money does the city give to the ...</td>\n",
       "      <td>$ 11 billion</td>\n",
       "      <td>The city give –s $ 11 billion more money to th...</td>\n",
       "      <td>$11 billion</td>\n",
       "      <td>? how much more money does the city give to th...</td>\n",
       "      <td>11 billion</td>\n",
       "      <td>the city give -s  11 billion more money to the...</td>\n",
       "      <td>False</td>\n",
       "      <td>Quantitative Wh-Question</td>\n",
       "      <td>Subject-Verb-Object (SVO/SVOA)</td>\n",
       "    </tr>\n",
       "    <tr>\n",
       "      <th>750</th>\n",
       "      <td>56d1218c17492d1400aaba21</td>\n",
       "      <td>Each year, how much more money does New York C...</td>\n",
       "      <td>Each year, how much more money does New York C...</td>\n",
       "      <td>$ 11.4 billion</td>\n",
       "      <td>New York City give –s $ 11.4 billion more mone...</td>\n",
       "      <td>$11.4 billion</td>\n",
       "      <td>? each year how much more money does New-York-...</td>\n",
       "      <td>11 point 4 billion</td>\n",
       "      <td>New-York-City give -s  11 point 4 billion more...</td>\n",
       "      <td>False</td>\n",
       "      <td>Quantitative Wh-Question</td>\n",
       "      <td>Subject-Verb-Object (SVO/SVOA)</td>\n",
       "    </tr>\n",
       "    <tr>\n",
       "      <th>751</th>\n",
       "      <td>56d121d817492d1400aaba2e</td>\n",
       "      <td>In what year did the Sister City Program of th...</td>\n",
       "      <td>In what year did the Sister City Program of th...</td>\n",
       "      <td>2006</td>\n",
       "      <td>The Sister City Program of the City of New Yor...</td>\n",
       "      <td>2006</td>\n",
       "      <td>? in what year did the Sister-City-Program of ...</td>\n",
       "      <td>2006</td>\n",
       "      <td>the Sister-City-Program of the City of New-Yor...</td>\n",
       "      <td>False</td>\n",
       "      <td>Wh-Adverbial Question</td>\n",
       "      <td>Subject-Verb-Object (SVO/SVOA)</td>\n",
       "    </tr>\n",
       "  </tbody>\n",
       "</table>\n",
       "<p>752 rows × 12 columns</p>\n",
       "</div>"
      ]
     },
     "execution_count": 2,
     "metadata": {},
     "output_type": "execute_result"
    }
   ],
   "execution_count": 2
  },
  {
   "metadata": {},
   "cell_type": "markdown",
   "source": [
    "### create the pretraining data\n",
    "Select the rows where the pretraining is true, generate a set of commands for each row and save to a file."
   ],
   "id": "1a14d58f1bfc43ec"
  },
  {
   "metadata": {
    "ExecuteTime": {
     "end_time": "2025-10-26T08:16:33.665467Z",
     "start_time": "2025-10-26T08:16:33.487887Z"
    }
   },
   "cell_type": "code",
   "source": [
    "#add a new column to the dataframe with the created list of commands\n",
    "if use_manual_pretraining_data:\n",
    "    raise Exception(\"not implemented yet\")\n",
    "#to do - load the pretraining commands from a file and add to the dataframe\n",
    "else:\n",
    "    nyc_squad_df[\"created_commands\"] = nyc_squad_df.apply(\n",
    "        lambda row: AnnabellCommandGenerator(\n",
    "            row['id'], row['response_declarative_sentence_formatted'], row['response_question_formatted'],\n",
    "            row['response_answer_formatted']\n",
    "        ).create_list_of_commands(),\n",
    "        axis=1\n",
    "    )\n",
    "\n",
    "nyc_squad_training_df = nyc_squad_df[nyc_squad_df[\"is_pretraining\"] == False]\n",
    "nyc_squad_pretraining_df = nyc_squad_df[nyc_squad_df[\"is_pretraining\"] == True]\n",
    "#save the final dataframe as a JSON lines file\n",
    "nyc_squad_df.to_json(dataframe_filepath, orient=\"records\",\n",
    "                     lines=True)"
   ],
   "id": "11c6634dc7bd8a5c",
   "outputs": [],
   "execution_count": 3
  },
  {
   "metadata": {},
   "cell_type": "markdown",
   "source": "### Write the files containing the commands to perform pretraining, training and testing on ANNABELL",
   "id": "8a57ccbb2a8bae17"
  },
  {
   "metadata": {
    "ExecuteTime": {
     "end_time": "2025-10-26T08:17:59.562710Z",
     "start_time": "2025-10-26T08:17:59.553390Z"
    }
   },
   "cell_type": "code",
   "source": [
    "write_pretraining_file(pretraining_filepath, nyc_squad_pretraining_df)\n",
    "write_training_file(training_filepath, nyc_squad_training_df)\n",
    "write_testing_file(testing_filepath, nyc_squad_training_df)\n",
    "write_testing_file(pretraining_validation_testing_filepath, nyc_squad_pretraining_df)"
   ],
   "id": "2a7b1a7161c94a19",
   "outputs": [
    {
     "name": "stdout",
     "output_type": "stream",
     "text": [
      "Wrote /Users/chris/Library/CloudStorage/GoogleDrive-cjameswalmsley@gmail.com/My Drive/Shared with Julia/Education/Kent University/PhD/work/annabell/experiments/15/pre_training/nyc_squad_pretraining_commands_20251026_091610.txt\n",
      "Number of reward lines: 42\n",
      "Number of commands: 773\n",
      "#id: 56ce32e7aab44d1400b88551\n",
      "there are 469 station -s operate -d by the New-York-City-Subway\n",
      "\n",
      "\n",
      "? how many station -s are operate -d by the\n",
      "New-York-City-Subway\n",
      ".sctx ? how many station -s are operate -d by the\n",
      ".wg many\n",
      ".wg station\n",
      ".wg operate\n",
      ".sctx New-York-City-Subway\n",
      ".wg New-York-City-Subway\n",
      ".ph there are 469 station -s operate -d by the New-York-City-Subway\n",
      ".wg 469\n",
      ".rw\n",
      "\n",
      "\n",
      "#id: 56ce345caab44d1400b88584\n",
      "Giovanni da Verrazzano call -ed the area Nouvelle-Angouleme when he\n",
      "stake -d a claim on it\n",
      "file written: /Users/chris/Library/CloudStorage/GoogleDrive-cjameswalmsley@gmail.com/My Drive/Shared with Julia/Education/Kent University/PhD/work/annabell/experiments/15/training/nyc_squad_training_commands_20251026_091610.txt\n",
      "Number of commands: 2130\n",
      "First 20 lines:\n",
      "#id: 56ce304daab44d1400b8850e\n",
      "the city in the United-States with the high -est populate -ion is New-York\n",
      "\n",
      "#id: 56ce304daab44d1400b8850f\n",
      "the United-Nations is base -d in New-York\n",
      "\n",
      "#id: 56ce304daab44d1400b88510\n",
      "New-York has been call -ed the culture -al capital of the world\n",
      "\n",
      "#id: 56ce304daab44d1400b88511\n",
      "New-York is the American city that welcome -s the large -st number of legal immigrant -s\n",
      "\n",
      "#id: 56cf5d41aab44d1400b89130\n",
      "the major gateway for immigrate -ion has been New-York-City\n",
      "\n",
      "#id: 56cf5d41aab44d1400b89131\n",
      "the most populate -d city in the United-States is New-York-City\n",
      "\n",
      "#id: 56ce3124aab44d1400b8852a\n",
      "New-York-City is comprise -d of five borough -s\n",
      "file written: /Users/chris/Library/CloudStorage/GoogleDrive-cjameswalmsley@gmail.com/My Drive/Shared with Julia/Education/Kent University/PhD/work/annabell/experiments/15/testing/nyc_squad_testing_commands_20251026_091610.txt\n",
      "Number of commands: 3550\n",
      "First 20 lines:\n",
      "#id: 56ce304daab44d1400b8850e\n",
      "? what city in the United-States has the high -est populate -ion\n",
      ".x\n",
      "#END OF TESTING SAMPLE\n",
      "\n",
      "#id: 56ce304daab44d1400b8850f\n",
      "? in what city is the United-Nations base -d\n",
      ".x\n",
      "#END OF TESTING SAMPLE\n",
      "\n",
      "#id: 56ce304daab44d1400b88510\n",
      "? what city has been call -ed the culture -al capital of the world\n",
      ".x\n",
      "#END OF TESTING SAMPLE\n",
      "\n",
      "#id: 56ce304daab44d1400b88511\n",
      "? what American city welcome -s the large -st number of legal immigrant -s\n",
      ".x\n",
      "#END OF TESTING SAMPLE\n",
      "\n",
      "file written: /Users/chris/Library/CloudStorage/GoogleDrive-cjameswalmsley@gmail.com/My Drive/Shared with Julia/Education/Kent University/PhD/work/annabell/experiments/15/testing/nyc_squad_pretraining_validation_testing_commands_20251026_091610.txt\n",
      "Number of commands: 210\n",
      "First 20 lines:\n",
      "#id: 56ce32e7aab44d1400b88551\n",
      "? how many station -s are operate -d by the New-York-City-Subway\n",
      ".x\n",
      "#END OF TESTING SAMPLE\n",
      "\n",
      "#id: 56ce345caab44d1400b88584\n",
      "? what did Giovanni da Verrazzano call the area when he stake -d claim on it\n",
      ".x\n",
      "#END OF TESTING SAMPLE\n",
      "\n",
      "#id: 56ce3569aab44d1400b885ae\n",
      "? what did Henry-Hudson call the river that is now call -ed the Hudson-River\n",
      ".x\n",
      "#END OF TESTING SAMPLE\n",
      "\n",
      "#id: 56cfab96234ae51400d9be44\n",
      "? in what year was the land between Cape-Cod and Delaware-Bay claim -ed by the Dutch\n",
      ".x\n",
      "#END OF TESTING SAMPLE\n",
      "\n"
     ]
    }
   ],
   "execution_count": 4
  },
  {
   "metadata": {},
   "cell_type": "markdown",
   "source": "## Generate the command line instructions for running the experiments",
   "id": "facd6d44c0854feb"
  },
  {
   "metadata": {
    "ExecuteTime": {
     "end_time": "2025-10-26T08:19:12.140271Z",
     "start_time": "2025-10-26T08:19:12.132623Z"
    }
   },
   "cell_type": "code",
   "source": [
    "pre_training_dest = os.path.join(docker_data_directory, 'pre-training')\n",
    "training_dest = os.path.join(docker_data_directory, 'training')\n",
    "testing_dest = os.path.join(docker_data_directory, 'testing')\n",
    "\n",
    "# Copy the data files to the docker shared data directory for processing\n",
    "shutil.copy(pretraining_filepath, pre_training_dest)\n",
    "shutil.copy(training_filepath, training_dest)\n",
    "shutil.copy(testing_filepath, testing_dest)\n",
    "shutil.copy(pretraining_validation_testing_filepath, testing_dest)\n",
    "\n",
    "print(\"Files copied to docker shared data directory.\")"
   ],
   "id": "a061d26e38998d74",
   "outputs": [
    {
     "name": "stdout",
     "output_type": "stream",
     "text": [
      "Files copied to docker shared data directory.\n"
     ]
    }
   ],
   "execution_count": 5
  },
  {
   "metadata": {
    "ExecuteTime": {
     "end_time": "2025-10-26T08:20:22.735179Z",
     "start_time": "2025-10-26T08:20:22.731688Z"
    }
   },
   "cell_type": "code",
   "source": [
    "#Create the pre-training command\n",
    "print(\n",
    "    f'docker compose run --remove-orphans --entrypoint ./pre_train_annabell_squad_nyc.sh app data/pre-training/logfile_nyc_squad_pretraining_commands.txt data/pre-training/{pretraining_filename} data/pre-training/{pretraining_filename.replace(\".txt\", \".dat\")}')"
   ],
   "id": "53673eb5619e4a2d",
   "outputs": [
    {
     "name": "stdout",
     "output_type": "stream",
     "text": [
      "docker compose run --remove-orphans --entrypoint ./pre_train_annabell_squad_nyc.sh app data/pre-training/logfile_nyc_squad_pretraining_commands.txt data/pre-training/nyc_squad_pretraining_commands_20251026_091610.txt data/pre-training/nyc_squad_pretraining_commands_20251026_091610.dat\n"
     ]
    }
   ],
   "execution_count": 6
  },
  {
   "metadata": {
    "ExecuteTime": {
     "end_time": "2025-10-22T16:37:15.261709Z",
     "start_time": "2025-10-22T16:37:15.059661Z"
    }
   },
   "cell_type": "code",
   "source": [
    "#copy the pre-trained weights to the pre-training directory\n",
    "weights_filename = pretraining_filename.replace(\".txt\", \".dat\")\n",
    "source_path = os.path.join(docker_data_directory, \"pre-training\", weights_filename)\n",
    "destination_path = os.path.join(pretraining_directory, weights_filename)\n",
    "\n",
    "try:\n",
    "    shutil.copy(source_path, destination_path)\n",
    "    print(\"copied: \" + source_path + \" to: \" + destination_path)\n",
    "except FileNotFoundError:\n",
    "    print(f\"Error: Source file not found at {source_path}\")\n",
    "except Exception as e:\n",
    "    print(f\"An error occurred: {e}\")\n",
    "#move the pre-training logfile to the pre-training directory\n",
    "source_pattern = os.path.join(docker_data_directory, \"pre-training\", \"logfile_nyc_squad_pretraining_commands*\")\n",
    "destination_dir = logs_directory\n",
    "\n",
    "log_files = glob.glob(source_pattern)\n",
    "if not log_files:\n",
    "    print(f\"No log files found matching pattern: {source_pattern}\")\n",
    "\n",
    "for file_path in log_files:\n",
    "    try:\n",
    "        shutil.move(file_path, destination_dir)\n",
    "        print(f\"moved: {file_path} to: {destination_dir}\")\n",
    "    except FileNotFoundError:\n",
    "        print(f\"Error: Log file not found at {file_path}\")\n",
    "    except Exception as e:\n",
    "        print(f\"An error occurred while moving {file_path}: {e}\")"
   ],
   "id": "e74196a38431a761",
   "outputs": [
    {
     "name": "stdout",
     "output_type": "stream",
     "text": [
      "copied: /Users/chris/PycharmProjects/Training-and-evaluating-cognitive-language-models/docker/shared_data/pre-training/nyc_squad_pretraining_commands_20251022_085512.dat to: /Users/chris/Library/CloudStorage/GoogleDrive-cjameswalmsley@gmail.com/My Drive/Shared with Julia/Education/Kent University/PhD/work/annabell/experiments/14/pre_training/nyc_squad_pretraining_commands_20251022_085512.dat\n",
      "moved: /Users/chris/PycharmProjects/Training-and-evaluating-cognitive-language-models/docker/shared_data/pre-training/logfile_nyc_squad_pretraining_commands_2025-10-22_06-56-50.txt to: /Users/chris/Library/CloudStorage/GoogleDrive-cjameswalmsley@gmail.com/My Drive/Shared with Julia/Education/Kent University/PhD/work/annabell/experiments/14/logs\n"
     ]
    }
   ],
   "execution_count": 21
  },
  {
   "metadata": {
    "ExecuteTime": {
     "end_time": "2025-10-22T16:37:55.097416Z",
     "start_time": "2025-10-22T16:37:55.094900Z"
    }
   },
   "cell_type": "code",
   "source": [
    "#run the pretraining validation testing\n",
    "print(\n",
    "    f'docker compose run --remove-orphans --entrypoint ./test_annabell_squad.sh app data/testing/logfile_nyc_squad_pretraining_validation_testing_commands.txt data/pre-training/{pretraining_filename.replace(\".txt\", \".dat\")} data/testing/{pretraining_validation_testing_filename}')"
   ],
   "id": "cd94dbb51fefd2fc",
   "outputs": [
    {
     "name": "stdout",
     "output_type": "stream",
     "text": [
      "docker compose run --remove-orphans --entrypoint ./test_annabell_squad.sh app data/testing/logfile_nyc_squad_pretraining_validation_testing_commands.txt data/pre-training/nyc_squad_pretraining_commands_20251022_085512.dat data/testing/nyc_squad_pretraining_validation_testing_commands_20251022_085512.txt\n"
     ]
    }
   ],
   "execution_count": 22
  },
  {
   "metadata": {
    "ExecuteTime": {
     "end_time": "2025-10-22T16:56:11.845295Z",
     "start_time": "2025-10-22T16:56:11.837630Z"
    }
   },
   "cell_type": "code",
   "source": [
    "#Copy the testing logs back to the experiment directory\n",
    "source_pattern = os.path.join(docker_data_directory, \"testing\",\n",
    "                              \"logfile_nyc_squad_pretraining_validation_testing_commands*\")\n",
    "destination_dir = logs_directory\n",
    "# Find all files matching the pattern\n",
    "log_files = glob.glob(source_pattern)\n",
    "# Copy each found file to the destination directory\n",
    "for file_path in log_files:\n",
    "    try:\n",
    "        shutil.copy(file_path, destination_dir)\n",
    "        print(f\"copied: {file_path} to: {destination_dir}\")\n",
    "    except FileNotFoundError:\n",
    "        print(f\"Error: Source file not found at {file_path}\")\n",
    "    except Exception as e:\n",
    "        print(f\"An error occurred: {e}\")"
   ],
   "id": "8ca1e195442ff549",
   "outputs": [
    {
     "name": "stdout",
     "output_type": "stream",
     "text": [
      "copied: /Users/chris/PycharmProjects/Training-and-evaluating-cognitive-language-models/docker/shared_data/testing/logfile_nyc_squad_pretraining_validation_testing_commands_2025-10-22_16-38-14.txt to: /Users/chris/Library/CloudStorage/GoogleDrive-cjameswalmsley@gmail.com/My Drive/Shared with Julia/Education/Kent University/PhD/work/annabell/experiments/14/logs\n"
     ]
    }
   ],
   "execution_count": 23
  },
  {
   "metadata": {},
   "cell_type": "markdown",
   "source": "### perform the testing using the \"test annabell\" notebook",
   "id": "954ccacd319f5b7f"
  },
  {
   "metadata": {
    "ExecuteTime": {
     "end_time": "2025-10-23T05:45:45.781667Z",
     "start_time": "2025-10-23T05:45:45.778990Z"
    }
   },
   "cell_type": "code",
   "source": [
    "#print the command to run the training\n",
    "print(\n",
    "    f'docker compose run --remove-orphans --entrypoint ./train_annabell_squad.sh app data/training/logfile_nyc_squad_training_commands.txt data/pre-training/{pretraining_filename.replace(\".txt\", \".dat\")} data/training/{training_filename.replace(\".txt\", \".dat\")} data/training/{training_filename}')"
   ],
   "id": "6db702604cc58727",
   "outputs": [
    {
     "name": "stdout",
     "output_type": "stream",
     "text": [
      "docker compose run --remove-orphans --entrypoint ./train_annabell_squad.sh app data/training/logfile_nyc_squad_training_commands.txt data/pre-training/nyc_squad_pretraining_commands_20251022_085512.dat data/training/nyc_squad_training_commands_20251022_085512.dat data/training/nyc_squad_training_commands_20251022_085512.txt\n"
     ]
    }
   ],
   "execution_count": 28
  },
  {
   "metadata": {
    "ExecuteTime": {
     "end_time": "2025-10-23T05:48:03.663031Z",
     "start_time": "2025-10-23T05:48:03.426372Z"
    }
   },
   "cell_type": "code",
   "source": [
    "#copy the training weights back to the experiment directory\n",
    "source_path = os.path.join(docker_data_directory, \"training\", training_filename.replace(\".txt\", \".dat\"))\n",
    "destination_path = os.path.join(training_directory, training_filename.replace(\".txt\", \".dat\"))\n",
    "try:\n",
    "    shutil.copy(source_path, destination_path)\n",
    "    print(\"copied: \" + source_path + \" to: \" + destination_path)\n",
    "except FileNotFoundError:\n",
    "    print(f\"Error: Source file not found at {source_path}\")\n",
    "except Exception as e:\n",
    "    print(f\"An error occurred: {e}\")\n",
    "\n",
    "#copy the training logfile to the logs directory\n",
    "source_pattern = os.path.join(docker_data_directory, \"training\", \"logfile_nyc_squad_training_commands*\")\n",
    "destination_dir = logs_directory\n",
    "# Find all files matching the pattern\n",
    "log_files = glob.glob(source_pattern)\n",
    "# Move each found file to the destination directory\n",
    "for file_path in log_files:\n",
    "    try:\n",
    "        shutil.move(file_path, destination_dir)\n",
    "        print(f\"moved: {file_path} to: {destination_dir}\")\n",
    "    except FileNotFoundError:\n",
    "        print(f\"Error: Log file not found at {file_path}\")\n",
    "    except Exception as e:\n",
    "        print(f\"An error occurred while moving {file_path}: {e}\")"
   ],
   "id": "a205087674b0dec9",
   "outputs": [
    {
     "name": "stdout",
     "output_type": "stream",
     "text": [
      "copied: /Users/chris/PycharmProjects/Training-and-evaluating-cognitive-language-models/docker/shared_data/training/nyc_squad_training_commands_20251022_085512.dat to: /Users/chris/Library/CloudStorage/GoogleDrive-cjameswalmsley@gmail.com/My Drive/Shared with Julia/Education/Kent University/PhD/work/annabell/experiments/14/training/nyc_squad_training_commands_20251022_085512.dat\n",
      "moved: /Users/chris/PycharmProjects/Training-and-evaluating-cognitive-language-models/docker/shared_data/training/logfile_nyc_squad_training_commands_2025-10-23_05-46-23.txt to: /Users/chris/Library/CloudStorage/GoogleDrive-cjameswalmsley@gmail.com/My Drive/Shared with Julia/Education/Kent University/PhD/work/annabell/experiments/14/logs\n"
     ]
    }
   ],
   "execution_count": 29
  },
  {
   "metadata": {
    "ExecuteTime": {
     "end_time": "2025-10-23T05:48:18.215396Z",
     "start_time": "2025-10-23T05:48:18.212957Z"
    }
   },
   "cell_type": "code",
   "source": [
    "#print the command to run the testing\n",
    "print(\"#run the testing\")\n",
    "print(\n",
    "    f'docker compose run --remove-orphans --entrypoint ./test_annabell_squad.sh app data/testing/logfile_nyc_squad_testing_commands.txt data/training/{training_filename.replace(\".txt\", \".dat\")} data/testing/{testing_filename}')"
   ],
   "id": "cec14deb7ac434d5",
   "outputs": [
    {
     "name": "stdout",
     "output_type": "stream",
     "text": [
      "#run the testing\n",
      "docker compose run --remove-orphans --entrypoint ./test_annabell_squad.sh app data/testing/logfile_nyc_squad_testing_commands.txt data/training/nyc_squad_training_commands_20251022_085512.dat data/testing/nyc_squad_testing_commands_20251022_085512.txt\n"
     ]
    }
   ],
   "execution_count": 30
  },
  {
   "metadata": {
    "ExecuteTime": {
     "end_time": "2025-10-23T06:54:00.402071Z",
     "start_time": "2025-10-23T06:54:00.392615Z"
    }
   },
   "cell_type": "code",
   "source": [
    "#Copy the testing logs back to the experiment directory\n",
    "source_pattern = os.path.join(docker_data_directory, \"testing\", \"logfile_nyc_squad_testing_commands*\")\n",
    "destination_dir = logs_directory\n",
    "# Find all files matching the pattern\n",
    "log_files = glob.glob(source_pattern)\n",
    "# Copy each found file to the destination directory\n",
    "for file_path in log_files:\n",
    "    try:\n",
    "        shutil.copy(file_path, destination_dir)\n",
    "        print(f\"copied: {file_path} to: {destination_dir}\")\n",
    "    except FileNotFoundError:\n",
    "        print(f\"Error: Source file not found at {file_path}\")\n",
    "    except Exception as e:\n",
    "        print(f\"An error occurred: {e}\")"
   ],
   "id": "8d5eb4a819ec2ee8",
   "outputs": [
    {
     "name": "stdout",
     "output_type": "stream",
     "text": [
      "copied: /Users/chris/PycharmProjects/Training-and-evaluating-cognitive-language-models/docker/shared_data/testing/logfile_nyc_squad_testing_commands_2025-10-23_05-48-29.txt to: /Users/chris/Library/CloudStorage/GoogleDrive-cjameswalmsley@gmail.com/My Drive/Shared with Julia/Education/Kent University/PhD/work/annabell/experiments/14/logs\n"
     ]
    }
   ],
   "execution_count": 31
  },
  {
   "metadata": {},
   "cell_type": "markdown",
   "source": "### Run the testing notebook to evaluate the results",
   "id": "d70e820990ad023b"
  }
 ],
 "metadata": {
  "kernelspec": {
   "display_name": "Python 3",
   "language": "python",
   "name": "python3"
  },
  "language_info": {
   "codemirror_mode": {
    "name": "ipython",
    "version": 2
   },
   "file_extension": ".py",
   "mimetype": "text/x-python",
   "name": "python",
   "nbconvert_exporter": "python",
   "pygments_lexer": "ipython2",
   "version": "2.7.6"
  }
 },
 "nbformat": 4,
 "nbformat_minor": 5
}
