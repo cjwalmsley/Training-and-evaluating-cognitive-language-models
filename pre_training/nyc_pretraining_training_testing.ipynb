{
 "cells": [
  {
   "metadata": {
    "collapsed": true
   },
   "cell_type": "markdown",
   "source": "# This notebook creates the datasets for pretraining, training and testing the ANNABELL model using the NYC dataset derived from SQuAD.",
   "id": "56648ebe77800a19"
  },
  {
   "metadata": {
    "ExecuteTime": {
     "end_time": "2025-10-17T05:53:42.504961Z",
     "start_time": "2025-10-17T05:53:41.018243Z"
    }
   },
   "cell_type": "code",
   "source": [
    "import os\n",
    "import glob\n",
    "import platform\n",
    "import datetime\n",
    "\n",
    "from dataset_processing import create_list_of_commands, write_training_file, write_testing_file, \\\n",
    "    read_dataset, merge_categories, select_pretraining_data, write_pretraining_file, \\\n",
    "    write_testing_file, write_training_file\n",
    "\n",
    "experiment_number = \"13\"\n",
    "percentage_of_pretraining_samples = 100\n",
    "use_manual_pretraining_data = False\n",
    "maximum_number_of_words = 20\n",
    "maximum_word_length = 25\n",
    "dataset_filename = \"response_formatted_20250924_174653.jsonl\"\n",
    "\n",
    "operating_system = platform.system()\n",
    "if operating_system == 'Windows':\n",
    "    raise Exception(\"not used on Windows yet\")\n",
    "elif operating_system == 'Linux':\n",
    "    base_directory = \"/home/chris/gdrive/work/annabell/\"\n",
    "    pycharm_projects_directory = \"/home/chris/PycharmProjects/dataset\"\n",
    "elif operating_system == 'Darwin':  #macOS\n",
    "    base_directory = \"/Users/chris/Library/CloudStorage/GoogleDrive-cjameswalmsley@gmail.com/My Drive/Shared with Julia/Education/Kent University/PhD/work/annabell/\"\n",
    "    pycharm_projects_directory = \"/Users/chris/PycharmProjects/dataset\"\n",
    "else:\n",
    "    raise Exception(\"unsupported OS\")\n",
    "\n",
    "timestamp = datetime.datetime.now().strftime(\"_%Y%m%d_%H%M%S\")\n",
    "#timestamp = \"_20251014_063732\"  #use a fixed timestamp if notebook is stopped part way through\n",
    "data_directory = os.path.join(base_directory, \"experiments/data\")\n",
    "docker_data_directory = os.path.join(pycharm_projects_directory, \"docker\", \"shared_data\")\n",
    "dataset_filepath = os.path.join(data_directory, dataset_filename)\n",
    "categorised_questions_filename = \"llm_question_categorisation_results.jsonl\"\n",
    "categorised_questions_filepath = os.path.join(data_directory, \"prompts\", categorised_questions_filename)\n",
    "categorised_sentences_filename = \"llm_sentence_categorisation_results.jsonl\"\n",
    "categorised_sentences_filepath = os.path.join(data_directory, \"prompts\", categorised_sentences_filename)\n",
    "pretraining_directory = os.path.join(base_directory, \"experiments\", experiment_number, \"pre_training\")\n",
    "if not os.path.exists(pretraining_directory):\n",
    "    os.makedirs(pretraining_directory)\n",
    "pretraining_filename = \"nyc_squad_pretraining_commands\" + timestamp + \".txt\"\n",
    "pretraining_filepath = os.path.join(pretraining_directory, pretraining_filename)\n",
    "training_directory = os.path.join(base_directory, \"experiments\", experiment_number, \"training\")\n",
    "if not os.path.exists(training_directory):\n",
    "    os.makedirs(training_directory)\n",
    "training_filename = \"nyc_squad_training_commands\" + timestamp + \".txt\"\n",
    "training_filepath = os.path.join(training_directory, training_filename)\n",
    "testing_directory = os.path.join(base_directory, \"experiments\", experiment_number, \"testing\")\n",
    "if not os.path.exists(testing_directory):\n",
    "    os.makedirs(testing_directory)\n",
    "testing_filename = \"nyc_squad_testing_commands\" + timestamp + \".txt\"\n",
    "testing_filepath = os.path.join(testing_directory, testing_filename)\n",
    "pretraining_validation_testing_filename = \"nyc_squad_pretraining_validation_testing_commands\" + timestamp + \".txt\"\n",
    "pretraining_validation_testing_filepath = os.path.join(testing_directory, pretraining_validation_testing_filename)\n",
    "logs_directory = os.path.join(base_directory, \"experiments\", experiment_number, \"logs\")\n",
    "if not os.path.exists(logs_directory):\n",
    "    os.makedirs(logs_directory)\n",
    "dataframe_filename = \"nyc_squad_with_pretraining_commands\" + timestamp + \".jsonl\"\n",
    "dataframe_directory = os.path.join(base_directory, \"experiments\", \"dataframes\")\n",
    "if not os.path.exists(dataframe_directory):\n",
    "    os.makedirs(dataframe_directory)\n",
    "dataframe_filepath = os.path.join(dataframe_directory, dataframe_filename)"
   ],
   "id": "a7d4e2412bc8582c",
   "outputs": [],
   "execution_count": 1
  },
  {
   "metadata": {
    "ExecuteTime": {
     "end_time": "2025-10-17T05:53:44.502132Z",
     "start_time": "2025-10-17T05:53:44.460858Z"
    }
   },
   "cell_type": "code",
   "source": [
    "nyc_squad_df = read_dataset(dataset_filepath, maximum_number_of_words, maximum_word_length)\n",
    "nyc_squad_df = merge_categories(nyc_squad_df, categorised_questions_filepath, categorised_sentences_filepath)\n",
    "nyc_dataframe = select_pretraining_data(nyc_squad_df, use_manual_pretraining_data,\n",
    "                                        percentage_of_pretraining_samples)\n",
    "nyc_dataframe"
   ],
   "id": "d03a2354ca6bd06f",
   "outputs": [
    {
     "name": "stdout",
     "output_type": "stream",
     "text": [
      "Question categories: ['Wh-Subject Question' 'Wh-Adverbial Question' 'Wh-in-situ Question'\n",
      " 'Quantitative Wh-Question' 'Wh-Object/Complement Question']\n",
      "Sentence categories: ['Subject-Verb-Complement (SVC)' 'Passive Construction'\n",
      " 'Subject-Verb-Object (SVO/SVOA)' 'Subject-Verb-Adverbial (SVA)'\n",
      " 'Existential Clause' 'Subject-Verb-Object-Complement (SVOC)']\n",
      "Number of pretraining samples: 729\n",
      "Samples per category: 66\n",
      "Warning: Not enough samples in question category 'Wh-in-situ Question'. Taking all 35 samples.\n",
      "Warning: Not enough samples in sentence category 'Existential Clause'. Taking all 18 available samples.\n",
      "Warning: Not enough samples in sentence category 'Subject-Verb-Object-Complement (SVOC)'. Taking all 4 available samples.\n",
      "Pretraining samples by question category:\n",
      "question_category\n",
      "Quantitative Wh-Question         96\n",
      "Wh-Adverbial Question            82\n",
      "Wh-Subject Question              70\n",
      "Wh-Object/Complement Question    68\n",
      "Wh-in-situ Question              35\n",
      "Name: count, dtype: int64\n",
      "Pretraining samples by sentence category:\n",
      "sentence_category\n",
      "Subject-Verb-Complement (SVC)            107\n",
      "Subject-Verb-Object (SVO/SVOA)            73\n",
      "Subject-Verb-Adverbial (SVA)              66\n",
      "Passive Construction                      66\n",
      "Existential Clause                        29\n",
      "Subject-Verb-Object-Complement (SVOC)     10\n",
      "Name: count, dtype: int64\n",
      "Total number of samples selected for pretraining: 351\n"
     ]
    },
    {
     "data": {
      "text/plain": [
       "                           id  \\\n",
       "0    56ce304daab44d1400b8850e   \n",
       "1    56ce304daab44d1400b8850f   \n",
       "2    56ce304daab44d1400b88510   \n",
       "3    56ce304daab44d1400b88511   \n",
       "4    56cf5d41aab44d1400b89130   \n",
       "..                        ...   \n",
       "724  56d1204617492d1400aab9fd   \n",
       "725  56d1218c17492d1400aaba1f   \n",
       "726  56d1218c17492d1400aaba20   \n",
       "727  56d1218c17492d1400aaba21   \n",
       "728  56d121d817492d1400aaba2e   \n",
       "\n",
       "                                              question  \\\n",
       "0    What city in the United States has the highest...   \n",
       "1            In what city is the United Nations based?   \n",
       "2    What city has been called the cultural capital...   \n",
       "3    What American city welcomes the largest number...   \n",
       "4    The major gateway for immigration has been whi...   \n",
       "..                                                 ...   \n",
       "724   In what borough is the New York City Hall found?   \n",
       "725  How much money in cents does New York City rec...   \n",
       "726  How much more money does the city give to the ...   \n",
       "727  Each year, how much more money does New York C...   \n",
       "728  In what year did the Sister City Program of th...   \n",
       "\n",
       "                                     response_question response_answer  \\\n",
       "0    What city in the United States has the high –e...        New York   \n",
       "1          In what city is the United Nations base –d?        New York   \n",
       "2    What city has been call –ed the culture –al ca...        New York   \n",
       "3    What American city welcome –s the large –st nu...        New York   \n",
       "4    The major gateway for immigrate –ion has been ...   New York City   \n",
       "..                                                 ...             ...   \n",
       "724   In what borough is the New York City Hall found?       Manhattan   \n",
       "725  How much money in cent –s does New York City r...              83   \n",
       "726  How much more money does the city give to the ...    $ 11 billion   \n",
       "727  Each year, how much more money does New York C...  $ 11.4 billion   \n",
       "728  In what year did the Sister City Program of th...            2006   \n",
       "\n",
       "                         response_declarative_sentence         answer  \\\n",
       "0    The city in the United States with the high –e...       New York   \n",
       "1           The United Nations is base –d in New York.       New York   \n",
       "2    New York has been call –ed the culture –al cap...       New York   \n",
       "3    New York is the American city that welcome –s ...       New York   \n",
       "4    The major gateway for immigrate –ion has been ...  New York City   \n",
       "..                                                 ...            ...   \n",
       "724  The New York City Hall is found in the borough...      Manhattan   \n",
       "725  New York City receive –s 83 cent –s for every ...             83   \n",
       "726  The city give –s $ 11 billion more money to th...    $11 billion   \n",
       "727  New York City give –s $ 11.4 billion more mone...  $11.4 billion   \n",
       "728  The Sister City Program of the City of New Yor...           2006   \n",
       "\n",
       "                           response_question_formatted  \\\n",
       "0    ? what city in the United-States has the high ...   \n",
       "1         ? in what city is the United-Nations base -d   \n",
       "2    ? what city has been call -ed the culture -al ...   \n",
       "3    ? what American city welcome -s the large -st ...   \n",
       "4    ? the major gateway for immigrate -ion has bee...   \n",
       "..                                                 ...   \n",
       "724  ? in what borough is the New-York-City-Hall found   \n",
       "725  ? how much money in cent -s does New-York-City...   \n",
       "726  ? how much more money does the city give to th...   \n",
       "727  ? each year how much more money does New-York-...   \n",
       "728  ? in what year did the Sister-City-Program of ...   \n",
       "\n",
       "    response_answer_formatted  \\\n",
       "0                    New-York   \n",
       "1                    New-York   \n",
       "2                    New-York   \n",
       "3                    New-York   \n",
       "4               New-York-City   \n",
       "..                        ...   \n",
       "724                 Manhattan   \n",
       "725                        83   \n",
       "726                11 billion   \n",
       "727        11 point 4 billion   \n",
       "728                      2006   \n",
       "\n",
       "               response_declarative_sentence_formatted  is_pretraining  \\\n",
       "0    the city in the United-States with the high -e...           False   \n",
       "1            the United-Nations is base -d in New-York           False   \n",
       "2    New-York has been call -ed the culture -al cap...           False   \n",
       "3    New-York is the American city that welcome -s ...           False   \n",
       "4    the major gateway for immigrate -ion has been ...            True   \n",
       "..                                                 ...             ...   \n",
       "724  the New-York-City-Hall is found in the borough...           False   \n",
       "725  New-York-City receive -s 83 cent -s for every ...            True   \n",
       "726  the city give -s  11 billion more money to the...            True   \n",
       "727  New-York-City give -s  11 point 4 billion more...           False   \n",
       "728  the Sister-City-Program of the City of New-Yor...           False   \n",
       "\n",
       "            question_category               sentence_category  \n",
       "0         Wh-Subject Question   Subject-Verb-Complement (SVC)  \n",
       "1       Wh-Adverbial Question            Passive Construction  \n",
       "2         Wh-Subject Question            Passive Construction  \n",
       "3         Wh-Subject Question  Subject-Verb-Object (SVO/SVOA)  \n",
       "4         Wh-in-situ Question   Subject-Verb-Complement (SVC)  \n",
       "..                        ...                             ...  \n",
       "724     Wh-Adverbial Question            Passive Construction  \n",
       "725  Quantitative Wh-Question  Subject-Verb-Object (SVO/SVOA)  \n",
       "726  Quantitative Wh-Question  Subject-Verb-Object (SVO/SVOA)  \n",
       "727  Quantitative Wh-Question  Subject-Verb-Object (SVO/SVOA)  \n",
       "728     Wh-Adverbial Question  Subject-Verb-Object (SVO/SVOA)  \n",
       "\n",
       "[729 rows x 12 columns]"
      ],
      "text/html": [
       "<div>\n",
       "<style scoped>\n",
       "    .dataframe tbody tr th:only-of-type {\n",
       "        vertical-align: middle;\n",
       "    }\n",
       "\n",
       "    .dataframe tbody tr th {\n",
       "        vertical-align: top;\n",
       "    }\n",
       "\n",
       "    .dataframe thead th {\n",
       "        text-align: right;\n",
       "    }\n",
       "</style>\n",
       "<table border=\"1\" class=\"dataframe\">\n",
       "  <thead>\n",
       "    <tr style=\"text-align: right;\">\n",
       "      <th></th>\n",
       "      <th>id</th>\n",
       "      <th>question</th>\n",
       "      <th>response_question</th>\n",
       "      <th>response_answer</th>\n",
       "      <th>response_declarative_sentence</th>\n",
       "      <th>answer</th>\n",
       "      <th>response_question_formatted</th>\n",
       "      <th>response_answer_formatted</th>\n",
       "      <th>response_declarative_sentence_formatted</th>\n",
       "      <th>is_pretraining</th>\n",
       "      <th>question_category</th>\n",
       "      <th>sentence_category</th>\n",
       "    </tr>\n",
       "  </thead>\n",
       "  <tbody>\n",
       "    <tr>\n",
       "      <th>0</th>\n",
       "      <td>56ce304daab44d1400b8850e</td>\n",
       "      <td>What city in the United States has the highest...</td>\n",
       "      <td>What city in the United States has the high –e...</td>\n",
       "      <td>New York</td>\n",
       "      <td>The city in the United States with the high –e...</td>\n",
       "      <td>New York</td>\n",
       "      <td>? what city in the United-States has the high ...</td>\n",
       "      <td>New-York</td>\n",
       "      <td>the city in the United-States with the high -e...</td>\n",
       "      <td>False</td>\n",
       "      <td>Wh-Subject Question</td>\n",
       "      <td>Subject-Verb-Complement (SVC)</td>\n",
       "    </tr>\n",
       "    <tr>\n",
       "      <th>1</th>\n",
       "      <td>56ce304daab44d1400b8850f</td>\n",
       "      <td>In what city is the United Nations based?</td>\n",
       "      <td>In what city is the United Nations base –d?</td>\n",
       "      <td>New York</td>\n",
       "      <td>The United Nations is base –d in New York.</td>\n",
       "      <td>New York</td>\n",
       "      <td>? in what city is the United-Nations base -d</td>\n",
       "      <td>New-York</td>\n",
       "      <td>the United-Nations is base -d in New-York</td>\n",
       "      <td>False</td>\n",
       "      <td>Wh-Adverbial Question</td>\n",
       "      <td>Passive Construction</td>\n",
       "    </tr>\n",
       "    <tr>\n",
       "      <th>2</th>\n",
       "      <td>56ce304daab44d1400b88510</td>\n",
       "      <td>What city has been called the cultural capital...</td>\n",
       "      <td>What city has been call –ed the culture –al ca...</td>\n",
       "      <td>New York</td>\n",
       "      <td>New York has been call –ed the culture –al cap...</td>\n",
       "      <td>New York</td>\n",
       "      <td>? what city has been call -ed the culture -al ...</td>\n",
       "      <td>New-York</td>\n",
       "      <td>New-York has been call -ed the culture -al cap...</td>\n",
       "      <td>False</td>\n",
       "      <td>Wh-Subject Question</td>\n",
       "      <td>Passive Construction</td>\n",
       "    </tr>\n",
       "    <tr>\n",
       "      <th>3</th>\n",
       "      <td>56ce304daab44d1400b88511</td>\n",
       "      <td>What American city welcomes the largest number...</td>\n",
       "      <td>What American city welcome –s the large –st nu...</td>\n",
       "      <td>New York</td>\n",
       "      <td>New York is the American city that welcome –s ...</td>\n",
       "      <td>New York</td>\n",
       "      <td>? what American city welcome -s the large -st ...</td>\n",
       "      <td>New-York</td>\n",
       "      <td>New-York is the American city that welcome -s ...</td>\n",
       "      <td>False</td>\n",
       "      <td>Wh-Subject Question</td>\n",
       "      <td>Subject-Verb-Object (SVO/SVOA)</td>\n",
       "    </tr>\n",
       "    <tr>\n",
       "      <th>4</th>\n",
       "      <td>56cf5d41aab44d1400b89130</td>\n",
       "      <td>The major gateway for immigration has been whi...</td>\n",
       "      <td>The major gateway for immigrate –ion has been ...</td>\n",
       "      <td>New York City</td>\n",
       "      <td>The major gateway for immigrate –ion has been ...</td>\n",
       "      <td>New York City</td>\n",
       "      <td>? the major gateway for immigrate -ion has bee...</td>\n",
       "      <td>New-York-City</td>\n",
       "      <td>the major gateway for immigrate -ion has been ...</td>\n",
       "      <td>True</td>\n",
       "      <td>Wh-in-situ Question</td>\n",
       "      <td>Subject-Verb-Complement (SVC)</td>\n",
       "    </tr>\n",
       "    <tr>\n",
       "      <th>...</th>\n",
       "      <td>...</td>\n",
       "      <td>...</td>\n",
       "      <td>...</td>\n",
       "      <td>...</td>\n",
       "      <td>...</td>\n",
       "      <td>...</td>\n",
       "      <td>...</td>\n",
       "      <td>...</td>\n",
       "      <td>...</td>\n",
       "      <td>...</td>\n",
       "      <td>...</td>\n",
       "      <td>...</td>\n",
       "    </tr>\n",
       "    <tr>\n",
       "      <th>724</th>\n",
       "      <td>56d1204617492d1400aab9fd</td>\n",
       "      <td>In what borough is the New York City Hall found?</td>\n",
       "      <td>In what borough is the New York City Hall found?</td>\n",
       "      <td>Manhattan</td>\n",
       "      <td>The New York City Hall is found in the borough...</td>\n",
       "      <td>Manhattan</td>\n",
       "      <td>? in what borough is the New-York-City-Hall found</td>\n",
       "      <td>Manhattan</td>\n",
       "      <td>the New-York-City-Hall is found in the borough...</td>\n",
       "      <td>False</td>\n",
       "      <td>Wh-Adverbial Question</td>\n",
       "      <td>Passive Construction</td>\n",
       "    </tr>\n",
       "    <tr>\n",
       "      <th>725</th>\n",
       "      <td>56d1218c17492d1400aaba1f</td>\n",
       "      <td>How much money in cents does New York City rec...</td>\n",
       "      <td>How much money in cent –s does New York City r...</td>\n",
       "      <td>83</td>\n",
       "      <td>New York City receive –s 83 cent –s for every ...</td>\n",
       "      <td>83</td>\n",
       "      <td>? how much money in cent -s does New-York-City...</td>\n",
       "      <td>83</td>\n",
       "      <td>New-York-City receive -s 83 cent -s for every ...</td>\n",
       "      <td>True</td>\n",
       "      <td>Quantitative Wh-Question</td>\n",
       "      <td>Subject-Verb-Object (SVO/SVOA)</td>\n",
       "    </tr>\n",
       "    <tr>\n",
       "      <th>726</th>\n",
       "      <td>56d1218c17492d1400aaba20</td>\n",
       "      <td>How much more money does the city give to the ...</td>\n",
       "      <td>How much more money does the city give to the ...</td>\n",
       "      <td>$ 11 billion</td>\n",
       "      <td>The city give –s $ 11 billion more money to th...</td>\n",
       "      <td>$11 billion</td>\n",
       "      <td>? how much more money does the city give to th...</td>\n",
       "      <td>11 billion</td>\n",
       "      <td>the city give -s  11 billion more money to the...</td>\n",
       "      <td>True</td>\n",
       "      <td>Quantitative Wh-Question</td>\n",
       "      <td>Subject-Verb-Object (SVO/SVOA)</td>\n",
       "    </tr>\n",
       "    <tr>\n",
       "      <th>727</th>\n",
       "      <td>56d1218c17492d1400aaba21</td>\n",
       "      <td>Each year, how much more money does New York C...</td>\n",
       "      <td>Each year, how much more money does New York C...</td>\n",
       "      <td>$ 11.4 billion</td>\n",
       "      <td>New York City give –s $ 11.4 billion more mone...</td>\n",
       "      <td>$11.4 billion</td>\n",
       "      <td>? each year how much more money does New-York-...</td>\n",
       "      <td>11 point 4 billion</td>\n",
       "      <td>New-York-City give -s  11 point 4 billion more...</td>\n",
       "      <td>False</td>\n",
       "      <td>Quantitative Wh-Question</td>\n",
       "      <td>Subject-Verb-Object (SVO/SVOA)</td>\n",
       "    </tr>\n",
       "    <tr>\n",
       "      <th>728</th>\n",
       "      <td>56d121d817492d1400aaba2e</td>\n",
       "      <td>In what year did the Sister City Program of th...</td>\n",
       "      <td>In what year did the Sister City Program of th...</td>\n",
       "      <td>2006</td>\n",
       "      <td>The Sister City Program of the City of New Yor...</td>\n",
       "      <td>2006</td>\n",
       "      <td>? in what year did the Sister-City-Program of ...</td>\n",
       "      <td>2006</td>\n",
       "      <td>the Sister-City-Program of the City of New-Yor...</td>\n",
       "      <td>False</td>\n",
       "      <td>Wh-Adverbial Question</td>\n",
       "      <td>Subject-Verb-Object (SVO/SVOA)</td>\n",
       "    </tr>\n",
       "  </tbody>\n",
       "</table>\n",
       "<p>729 rows × 12 columns</p>\n",
       "</div>"
      ]
     },
     "execution_count": 2,
     "metadata": {},
     "output_type": "execute_result"
    }
   ],
   "execution_count": 2
  },
  {
   "metadata": {},
   "cell_type": "markdown",
   "source": [
    "### create the pretraining data\n",
    "Select the rows where the pretraining is true, generate a set of commands for each row and save to a file."
   ],
   "id": "1a14d58f1bfc43ec"
  },
  {
   "metadata": {
    "ExecuteTime": {
     "end_time": "2025-10-17T05:53:49.510739Z",
     "start_time": "2025-10-17T05:53:49.419323Z"
    }
   },
   "cell_type": "code",
   "source": [
    "#add a new column to the dataframe with the created list of commands\n",
    "if use_manual_pretraining_data:\n",
    "    raise Exception(\"not implemented yet\")\n",
    "#to do - load the pretraining commands from a file and add to the dataframe\n",
    "else:\n",
    "    nyc_squad_df[\"created_commands\"] = nyc_squad_df.apply(create_list_of_commands, axis=1)\n",
    "nyc_squad_training_df = nyc_squad_df[nyc_squad_df[\"is_pretraining\"] == False]\n",
    "nyc_squad_pretraining_df = nyc_squad_df[nyc_squad_df[\"is_pretraining\"] == True]\n",
    "#save the final dataframe as a JSON lines file\n",
    "nyc_squad_df.to_json(dataframe_filepath, orient=\"records\",\n",
    "                     lines=True)"
   ],
   "id": "11c6634dc7bd8a5c",
   "outputs": [],
   "execution_count": 3
  },
  {
   "metadata": {},
   "cell_type": "markdown",
   "source": "### Write the files containing the commands to perform pretraining, training and testing on ANNABELL",
   "id": "8a57ccbb2a8bae17"
  },
  {
   "metadata": {
    "ExecuteTime": {
     "end_time": "2025-10-17T05:53:52.994411Z",
     "start_time": "2025-10-17T05:53:52.979116Z"
    }
   },
   "cell_type": "code",
   "outputs": [
    {
     "name": "stdout",
     "output_type": "stream",
     "text": [
      "Wrote /Users/chris/Library/CloudStorage/GoogleDrive-cjameswalmsley@gmail.com/My Drive/Shared with Julia/Education/Kent University/PhD/work/annabell/experiments/13/pre_training/nyc_squad_pretraining_commands_20251017_065342.txt\n",
      "Number of reward lines: 351\n",
      "Number of commands: 3987\n",
      "# ID: 56cf5d41aab44d1400b89130\n",
      "the major gateway for immigrate -ion has been New-York-City\n",
      "? the major gateway for immigrate -ion has been which US city\n",
      ".wg major\n",
      ".wg gateway\n",
      ".wg immigrate\n",
      ".wg US\n",
      ".wg city\n",
      ".ph the major gateway for immigrate -ion has been New-York-City\n",
      ".wg New-York-City\n",
      ".rw\n",
      "# ID: 56cf5d41aab44d1400b89131\n",
      "the most populate -d city in the United-States is New-York-City\n",
      "? the most populate -d city in the United-States is which city\n",
      ".wg populate\n",
      ".wg city\n",
      ".wg United-States\n",
      ".wg city\n",
      ".ph the most populate -d city in the United-States is New-York-City\n",
      ".wg New-York-City\n",
      "file written: /Users/chris/Library/CloudStorage/GoogleDrive-cjameswalmsley@gmail.com/My Drive/Shared with Julia/Education/Kent University/PhD/work/annabell/experiments/13/training/nyc_squad_training_commands_20251017_065342.txt\n",
      "Number of commands: 1134\n",
      "First 20 lines:\n",
      "#id: 56ce304daab44d1400b8850e\n",
      "the city in the United-States with the high -est populate -ion is New-York\n",
      "\n",
      "#id: 56ce304daab44d1400b8850f\n",
      "the United-Nations is base -d in New-York\n",
      "\n",
      "#id: 56ce304daab44d1400b88510\n",
      "New-York has been call -ed the culture -al capital of the world\n",
      "\n",
      "#id: 56ce304daab44d1400b88511\n",
      "New-York is the American city that welcome -s the large -st number of legal immigrant -s\n",
      "\n",
      "#id: 56ce3124aab44d1400b8852a\n",
      "New-York-City is comprise -d of five borough -s\n",
      "\n",
      "#id: 56ce3124aab44d1400b8852b\n",
      "the five borough -s were combine -d into one city in 1898\n",
      "\n",
      "#id: 56ce3124aab44d1400b8852d\n",
      "the size of New-York-City is 305 square mile -s\n",
      "file written: /Users/chris/Library/CloudStorage/GoogleDrive-cjameswalmsley@gmail.com/My Drive/Shared with Julia/Education/Kent University/PhD/work/annabell/experiments/13/testing/nyc_squad_testing_commands_20251017_065342.txt\n",
      "Number of commands: 1890\n",
      "First 20 lines:\n",
      "#id: 56ce304daab44d1400b8850e\n",
      "? what city in the United-States has the high -est populate -ion\n",
      ".x\n",
      "#END OF TESTING SAMPLE\n",
      "\n",
      "#id: 56ce304daab44d1400b8850f\n",
      "? in what city is the United-Nations base -d\n",
      ".x\n",
      "#END OF TESTING SAMPLE\n",
      "\n",
      "#id: 56ce304daab44d1400b88510\n",
      "? what city has been call -ed the culture -al capital of the world\n",
      ".x\n",
      "#END OF TESTING SAMPLE\n",
      "\n",
      "#id: 56ce304daab44d1400b88511\n",
      "? what American city welcome -s the large -st number of legal immigrant -s\n",
      ".x\n",
      "#END OF TESTING SAMPLE\n",
      "\n",
      "file written: /Users/chris/Library/CloudStorage/GoogleDrive-cjameswalmsley@gmail.com/My Drive/Shared with Julia/Education/Kent University/PhD/work/annabell/experiments/13/testing/nyc_squad_pretraining_validation_testing_commands_20251017_065342.txt\n",
      "Number of commands: 1755\n",
      "First 20 lines:\n",
      "#id: 56cf5d41aab44d1400b89130\n",
      "? the major gateway for immigrate -ion has been which US city\n",
      ".x\n",
      "#END OF TESTING SAMPLE\n",
      "\n",
      "#id: 56cf5d41aab44d1400b89131\n",
      "? the most populate -d city in the United-States is which city\n",
      ".x\n",
      "#END OF TESTING SAMPLE\n",
      "\n",
      "#id: 56ce3124aab44d1400b8852c\n",
      "? in 2014 what did the cense -us estimate the populate -ion of New-York-City to be\n",
      ".x\n",
      "#END OF TESTING SAMPLE\n",
      "\n",
      "#id: 56cf9d81234ae51400d9be1d\n",
      "? all five borough -s of New-York-City form -ed into one city on what date\n",
      ".x\n",
      "#END OF TESTING SAMPLE\n",
      "\n"
     ]
    }
   ],
   "execution_count": 4,
   "source": [
    "write_pretraining_file(pretraining_filepath, nyc_squad_pretraining_df)\n",
    "write_training_file(training_filepath, nyc_squad_training_df)\n",
    "write_testing_file(testing_filepath, nyc_squad_training_df)\n",
    "write_testing_file(pretraining_validation_testing_filepath, nyc_squad_pretraining_df)"
   ],
   "id": "2a7b1a7161c94a19"
  },
  {
   "metadata": {},
   "cell_type": "markdown",
   "source": "## Generate the command line instructions for running the experiments",
   "id": "facd6d44c0854feb"
  },
  {
   "metadata": {
    "ExecuteTime": {
     "end_time": "2025-10-14T05:48:18.646183Z",
     "start_time": "2025-10-14T05:48:18.605350Z"
    }
   },
   "cell_type": "code",
   "source": [
    "#copy the data files to the docker shared data directory for processing\n",
    "os.system(f'cp \"{pretraining_filepath}\" {docker_data_directory}/pre-training')\n",
    "os.system(f'cp \"{training_filepath}\" {docker_data_directory}/training')\n",
    "os.system(f'cp \"{testing_filepath}\" {docker_data_directory}/testing')\n",
    "os.system(f'cp \"{pretraining_validation_testing_filepath}\" {docker_data_directory}/testing')"
   ],
   "id": "a061d26e38998d74",
   "outputs": [
    {
     "data": {
      "text/plain": [
       "0"
      ]
     },
     "execution_count": 13,
     "metadata": {},
     "output_type": "execute_result"
    }
   ],
   "execution_count": 13
  },
  {
   "metadata": {
    "ExecuteTime": {
     "end_time": "2025-10-14T05:48:26.582236Z",
     "start_time": "2025-10-14T05:48:26.579573Z"
    }
   },
   "cell_type": "code",
   "source": [
    "#Create the pre-training command\n",
    "print(\n",
    "    f'docker compose run --remove-orphans --entrypoint ./pre_train_annabell_squad_nyc.sh app data/pre-training/logfile_nyc_squad_pretraining_commands.txt data/pre-training/{pretraining_filename} data/pre-training/{pretraining_filename.replace(\".txt\", \".dat\")}')"
   ],
   "id": "53673eb5619e4a2d",
   "outputs": [
    {
     "name": "stdout",
     "output_type": "stream",
     "text": [
      "docker compose run --remove-orphans --entrypoint ./pre_train_annabell_squad_nyc.sh app data/pre-training/logfile_nyc_squad_pretraining_commands.txt data/pre-training/nyc_squad_pretraining_commands_20251014_063732.txt data/pre-training/nyc_squad_pretraining_commands_20251014_063732.dat\n"
     ]
    }
   ],
   "execution_count": 14
  },
  {
   "metadata": {
    "ExecuteTime": {
     "end_time": "2025-10-15T05:10:52.178999Z",
     "start_time": "2025-10-15T05:10:52.096227Z"
    }
   },
   "cell_type": "code",
   "source": [
    "#copy the pre-trained weights to the pre training directory\n",
    "source_path = os.path.join(docker_data_directory, \"pre-training\", pretraining_filename.replace(\".txt\", \".dat\"))\n",
    "destination_path = os.path.join(pretraining_directory, pretraining_filename.replace(\".txt\", \".dat\"))\n",
    "os.system(f'cp \"{source_path}\" \"{destination_path}\"')\n",
    "print(\"copied: \" + source_path + \" to: \" + destination_path)\n",
    "\n",
    "#copy the pre-training logfile to the pre training directory\n",
    "source_pattern = os.path.join(docker_data_directory, \"pre-training\", \"logfile_nyc_squad_pretraining_commands*\")\n",
    "destination_dir = logs_directory\n",
    "\n",
    "# Find all files matching the pattern\n",
    "log_files = glob.glob(source_pattern)\n",
    "\n",
    "# Move each found file to the destination directory\n",
    "for file_path in log_files:\n",
    "    os.system(f'mv \"{file_path}\" \"{destination_path}\"')\n",
    "    print(f\"moved: {file_path} to: {destination_dir}\")"
   ],
   "id": "38edb798063508d",
   "outputs": [
    {
     "ename": "NameError",
     "evalue": "name 'os' is not defined",
     "output_type": "error",
     "traceback": [
      "\u001B[31m---------------------------------------------------------------------------\u001B[39m",
      "\u001B[31mNameError\u001B[39m                                 Traceback (most recent call last)",
      "\u001B[36mCell\u001B[39m\u001B[36m \u001B[39m\u001B[32mIn[1]\u001B[39m\u001B[32m, line 2\u001B[39m\n\u001B[32m      1\u001B[39m \u001B[38;5;66;03m#copy the pre-trained weights to the pre training directory\u001B[39;00m\n\u001B[32m----> \u001B[39m\u001B[32m2\u001B[39m source_path = \u001B[43mos\u001B[49m.path.join(docker_data_directory, \u001B[33m\"\u001B[39m\u001B[33mpre-training\u001B[39m\u001B[33m\"\u001B[39m, pretraining_filename.replace(\u001B[33m\"\u001B[39m\u001B[33m.txt\u001B[39m\u001B[33m\"\u001B[39m, \u001B[33m\"\u001B[39m\u001B[33m.dat\u001B[39m\u001B[33m\"\u001B[39m))\n\u001B[32m      3\u001B[39m destination_path = os.path.join(pretraining_directory, pretraining_filename.replace(\u001B[33m\"\u001B[39m\u001B[33m.txt\u001B[39m\u001B[33m\"\u001B[39m, \u001B[33m\"\u001B[39m\u001B[33m.dat\u001B[39m\u001B[33m\"\u001B[39m))\n\u001B[32m      4\u001B[39m os.system(\u001B[33mf\u001B[39m\u001B[33m'\u001B[39m\u001B[33mcp \u001B[39m\u001B[33m\"\u001B[39m\u001B[38;5;132;01m{\u001B[39;00msource_path\u001B[38;5;132;01m}\u001B[39;00m\u001B[33m\"\u001B[39m\u001B[33m \u001B[39m\u001B[33m\"\u001B[39m\u001B[38;5;132;01m{\u001B[39;00mdestination_path\u001B[38;5;132;01m}\u001B[39;00m\u001B[33m\"\u001B[39m\u001B[33m'\u001B[39m)\n",
      "\u001B[31mNameError\u001B[39m: name 'os' is not defined"
     ]
    }
   ],
   "execution_count": 1
  },
  {
   "metadata": {
    "ExecuteTime": {
     "end_time": "2025-10-15T05:21:27.616751Z",
     "start_time": "2025-10-15T05:21:27.614031Z"
    }
   },
   "cell_type": "code",
   "source": [
    "pretraining_validation_testing_filename = \"nyc_squad_pretraining_validation_testing_commands_20251014_063732.txt\"\n",
    "pretraining_filename = \"nyc_squad_pretraining_commands_20251014_063732.txt\""
   ],
   "id": "70e663c1e6d199bd",
   "outputs": [],
   "execution_count": 5
  },
  {
   "metadata": {
    "ExecuteTime": {
     "end_time": "2025-10-15T05:41:37.140411Z",
     "start_time": "2025-10-15T05:41:37.135947Z"
    }
   },
   "cell_type": "code",
   "source": [
    "#run the pretraining validation testing\n",
    "print(\"#run the pretraining validation testing\")\n",
    "print(\n",
    "    f'docker compose run --remove-orphans --entrypoint ./test_annabell_squad.sh app data/testing/logfile_nyc_squad_pretraining_validation_testing_commands.txt data/pre-training/{pretraining_filename.replace(\".txt\", \".dat\")} data/testing/{pretraining_validation_testing_filename}')"
   ],
   "id": "cd94dbb51fefd2fc",
   "outputs": [
    {
     "name": "stdout",
     "output_type": "stream",
     "text": [
      "#run the pretraining validation testing\n",
      "docker compose run --remove-orphans --entrypoint ./test_annabell_squad.sh app data/testing/logfile_nyc_squad_pretraining_validation_testing_commands.txt data/pre-training/nyc_squad_pretraining_commands_20251014_063732.dat data/testing/nyc_squad_pretraining_validation_testing_commands_20251014_063732.txt\n"
     ]
    }
   ],
   "execution_count": 12
  },
  {
   "metadata": {
    "ExecuteTime": {
     "end_time": "2025-10-15T05:29:22.169668Z",
     "start_time": "2025-10-15T05:29:22.137877Z"
    }
   },
   "cell_type": "code",
   "source": [
    "#Copy the testing logs back to the experiment directory\n",
    "source_pattern = os.path.join(docker_data_directory, \"testing\",\n",
    "                              \"logfile_nyc_squad_pretraining_validation_testing_commands*\")\n",
    "destination_dir = logs_directory\n",
    "# Find all files matching the pattern\n",
    "log_files = glob.glob(source_pattern)\n",
    "# Copy each found file to the destination directory\n",
    "for file_path in log_files:\n",
    "    os.system(f'cp \"{file_path}\" \"{destination_dir}\"')\n",
    "    print(f\"copied: {file_path} to: {destination_dir}\")"
   ],
   "id": "8ca1e195442ff549",
   "outputs": [
    {
     "name": "stdout",
     "output_type": "stream",
     "text": [
      "copied: /Users/chris/PycharmProjects/dataset/docker/shared_data/testing/logfile_nyc_squad_pretraining_validation_testing_commands_2025-10-09_16-57-43.txt to: /Users/chris/Library/CloudStorage/GoogleDrive-cjameswalmsley@gmail.com/My Drive/Shared with Julia/Education/Kent University/PhD/work/annabell/experiments/12/logs\n",
      "copied: /Users/chris/PycharmProjects/dataset/docker/shared_data/testing/logfile_nyc_squad_pretraining_validation_testing_commands_2025-10-15_05-21-58.txt to: /Users/chris/Library/CloudStorage/GoogleDrive-cjameswalmsley@gmail.com/My Drive/Shared with Julia/Education/Kent University/PhD/work/annabell/experiments/12/logs\n"
     ]
    }
   ],
   "execution_count": 9
  },
  {
   "metadata": {},
   "cell_type": "markdown",
   "source": "### perform the testing using the \"test annabell\" notebook",
   "id": "954ccacd319f5b7f"
  },
  {
   "metadata": {
    "ExecuteTime": {
     "end_time": "2025-10-15T05:42:03.725878Z",
     "start_time": "2025-10-15T05:42:03.723120Z"
    }
   },
   "cell_type": "code",
   "source": [
    "#print the command to run the training\n",
    "print(\n",
    "    f'docker compose run --remove-orphans --entrypoint ./train_annabell_squad.sh app data/training/logfile_nyc_squad_training_commands.txt data/pre-training/{pretraining_filename.replace(\".txt\", \".dat\")} data/training/{training_filename.replace(\".txt\", \".dat\")} data/training/{training_filename}')"
   ],
   "id": "6db702604cc58727",
   "outputs": [
    {
     "name": "stdout",
     "output_type": "stream",
     "text": [
      "docker compose run --remove-orphans --entrypoint ./train_annabell_squad.sh app data/training/logfile_nyc_squad_training_commands.txt data/pre-training/nyc_squad_pretraining_commands_20251014_063732.dat data/training/nyc_squad_training_commands_20251014_063732.dat data/training/nyc_squad_training_commands_20251014_063732.txt\n"
     ]
    }
   ],
   "execution_count": 13
  },
  {
   "metadata": {
    "ExecuteTime": {
     "end_time": "2025-10-15T05:43:52.645987Z",
     "start_time": "2025-10-15T05:43:52.395951Z"
    }
   },
   "cell_type": "code",
   "source": [
    "#copy the training weights back to the experiment directory\n",
    "source_path = os.path.join(docker_data_directory, \"training\", training_filename.replace(\".txt\", \".dat\"))\n",
    "destination_path = os.path.join(training_directory, training_filename.replace(\".txt\", \".dat\"))\n",
    "os.system(f'cp \"{source_path}\" \"{destination_path}\"')\n",
    "print(\"copied: \" + source_path + \" to: \" + destination_path)\n",
    "#copy the training logfile to the logs directory\n",
    "source_pattern = os.path.join(docker_data_directory, \"training\", \"logfile_nyc_squad_training_commands*\")\n",
    "destination_dir = logs_directory\n",
    "# Find all files matching the pattern\n",
    "log_files = glob.glob(source_pattern)\n",
    "# Move each found file to the destination directory\n",
    "for file_path in log_files:\n",
    "    os.system(f'mv \"{file_path}\" \"{destination_dir}\"')\n",
    "    print(f\"moved: {file_path} to: {destination_dir}\")"
   ],
   "id": "a205087674b0dec9",
   "outputs": [
    {
     "name": "stdout",
     "output_type": "stream",
     "text": [
      "copied: /Users/chris/PycharmProjects/dataset/docker/shared_data/training/nyc_squad_training_commands_20251014_063732.dat to: /Users/chris/Library/CloudStorage/GoogleDrive-cjameswalmsley@gmail.com/My Drive/Shared with Julia/Education/Kent University/PhD/work/annabell/experiments/12/training/nyc_squad_training_commands_20251014_063732.dat\n",
      "moved: /Users/chris/PycharmProjects/dataset/docker/shared_data/training/logfile_nyc_squad_training_commands_2025-10-15_05-30-27.txt to: /Users/chris/Library/CloudStorage/GoogleDrive-cjameswalmsley@gmail.com/My Drive/Shared with Julia/Education/Kent University/PhD/work/annabell/experiments/12/logs\n",
      "moved: /Users/chris/PycharmProjects/dataset/docker/shared_data/training/logfile_nyc_squad_training_commands_2025-10-15_05-42-17.txt to: /Users/chris/Library/CloudStorage/GoogleDrive-cjameswalmsley@gmail.com/My Drive/Shared with Julia/Education/Kent University/PhD/work/annabell/experiments/12/logs\n"
     ]
    }
   ],
   "execution_count": 14
  },
  {
   "metadata": {
    "ExecuteTime": {
     "end_time": "2025-10-15T07:06:55.476941Z",
     "start_time": "2025-10-15T07:06:55.470219Z"
    }
   },
   "cell_type": "code",
   "source": [
    "#print the command to run the testing\n",
    "print(\"#run the testing\")\n",
    "print(\n",
    "    f'docker compose run --remove-orphans --entrypoint ./test_annabell_squad.sh app data/testing/logfile_nyc_squad_testing_commands.txt data/training/{training_filename.replace(\".txt\", \".dat\")} data/testing/{testing_filename}')"
   ],
   "id": "cec14deb7ac434d5",
   "outputs": [
    {
     "name": "stdout",
     "output_type": "stream",
     "text": [
      "#run the testing\n",
      "docker compose run --remove-orphans --entrypoint ./test_annabell_squad.sh app data/testing/logfile_nyc_squad_testing_commands.txt data/training/nyc_squad_training_commands_20251014_063732.dat data/testing/nyc_squad_testing_commands_20251014_063732.txt\n"
     ]
    }
   ],
   "execution_count": 16
  },
  {
   "metadata": {
    "ExecuteTime": {
     "end_time": "2025-10-15T12:02:46.086036Z",
     "start_time": "2025-10-15T12:02:46.050908Z"
    }
   },
   "cell_type": "code",
   "source": [
    "#Copy the testing logs back to the experiment directory\n",
    "source_pattern = os.path.join(docker_data_directory, \"testing\", \"logfile_nyc_squad_testing_commands*\")\n",
    "destination_dir = logs_directory\n",
    "# Find all files matching the pattern\n",
    "log_files = glob.glob(source_pattern)\n",
    "# Copy each found file to the destination directory\n",
    "for file_path in log_files:\n",
    "    os.system(f'cp \"{file_path}\" \"{destination_dir}\"')\n",
    "    print(f\"copied: {file_path} to: {destination_dir}\")"
   ],
   "id": "8d5eb4a819ec2ee8",
   "outputs": [
    {
     "name": "stdout",
     "output_type": "stream",
     "text": [
      "copied: /Users/chris/PycharmProjects/dataset/docker/shared_data/testing/logfile_nyc_squad_testing_commands_2025-10-15_08-31-02.txt to: /Users/chris/Library/CloudStorage/GoogleDrive-cjameswalmsley@gmail.com/My Drive/Shared with Julia/Education/Kent University/PhD/work/annabell/experiments/12/logs\n",
      "copied: /Users/chris/PycharmProjects/dataset/docker/shared_data/testing/logfile_nyc_squad_testing_commands_2025-10-15_07-07-08.txt to: /Users/chris/Library/CloudStorage/GoogleDrive-cjameswalmsley@gmail.com/My Drive/Shared with Julia/Education/Kent University/PhD/work/annabell/experiments/12/logs\n",
      "copied: /Users/chris/PycharmProjects/dataset/docker/shared_data/testing/logfile_nyc_squad_testing_commands_2025-10-15_08-27-13.txt to: /Users/chris/Library/CloudStorage/GoogleDrive-cjameswalmsley@gmail.com/My Drive/Shared with Julia/Education/Kent University/PhD/work/annabell/experiments/12/logs\n",
      "copied: /Users/chris/PycharmProjects/dataset/docker/shared_data/testing/logfile_nyc_squad_testing_commands_2025-10-15_08-29-52.txt to: /Users/chris/Library/CloudStorage/GoogleDrive-cjameswalmsley@gmail.com/My Drive/Shared with Julia/Education/Kent University/PhD/work/annabell/experiments/12/logs\n"
     ]
    }
   ],
   "execution_count": 17
  },
  {
   "metadata": {},
   "cell_type": "markdown",
   "source": "### Run the testing notebook to evaluate the results",
   "id": "d70e820990ad023b"
  },
  {
   "metadata": {},
   "cell_type": "markdown",
   "source": "## Appendix - Debugging cells",
   "id": "e41cf1a7ba666a87"
  },
  {
   "metadata": {
    "ExecuteTime": {
     "end_time": "2025-09-29T06:58:23.387398Z",
     "start_time": "2025-09-29T06:58:23.376699Z"
    }
   },
   "cell_type": "code",
   "outputs": [
    {
     "data": {
      "text/plain": [
       "['# ID: 56cfe293234ae51400d9c007',\n",
       " 'Brownstone rowhouse -s make up most of the large resident -ial district -s of NYC',\n",
       " '? what type of house -ing structure make -s up most of the large resident -ial district -s of NYC',\n",
       " '.wg type',\n",
       " '.wg house',\n",
       " '.wg structure',\n",
       " '.wg make',\n",
       " '.wg large',\n",
       " '.wg resident',\n",
       " '.wg district',\n",
       " '.wg NYC',\n",
       " '.ph Brownstone rowhouse -s make up most of the large resident -ial district -s of NYC',\n",
       " '.wg Brownstone rowhouse -s',\n",
       " '.rw']"
      ]
     },
     "execution_count": 7,
     "metadata": {},
     "output_type": "execute_result"
    }
   ],
   "execution_count": 7,
   "source": [
    "id = \"56cfe293234ae51400d9c007\"\n",
    "test_df = nyc_squad_df[nyc_squad_df[\"id\"] == id]\n",
    "#add a new column to the dataframe with the created list of commands\n",
    "result = test_df.apply(create_list_of_commands, axis=1)\n",
    "result.values[0]"
   ],
   "id": "5f00128b7587de0"
  },
  {
   "metadata": {
    "ExecuteTime": {
     "end_time": "2025-09-29T06:10:44.187953Z",
     "start_time": "2025-09-29T06:10:44.183783Z"
    }
   },
   "cell_type": "code",
   "source": [
    "from dataset_processing import remove_stopwords\n",
    "\n",
    "result = remove_stopwords(\n",
    "    '? what type of house -ing structure make -s up most of the large resident -ial district -s of NYC')\n",
    "result"
   ],
   "id": "3d09714477fdca72",
   "outputs": [
    {
     "data": {
      "text/plain": [
       "'? type house -ing structure make -s large resident -ial district -s NYC'"
      ]
     },
     "execution_count": 8,
     "metadata": {},
     "output_type": "execute_result"
    }
   ],
   "execution_count": 8
  }
 ],
 "metadata": {
  "kernelspec": {
   "display_name": "Python 3",
   "language": "python",
   "name": "python3"
  },
  "language_info": {
   "codemirror_mode": {
    "name": "ipython",
    "version": 2
   },
   "file_extension": ".py",
   "mimetype": "text/x-python",
   "name": "python",
   "nbconvert_exporter": "python",
   "pygments_lexer": "ipython2",
   "version": "2.7.6"
  }
 },
 "nbformat": 4,
 "nbformat_minor": 5
}
