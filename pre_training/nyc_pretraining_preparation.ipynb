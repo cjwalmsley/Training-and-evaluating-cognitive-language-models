{
 "cells": [
  {
   "metadata": {},
   "cell_type": "markdown",
   "source": "# This notebook prepares the NYC pretraining data.  It loads the handcrafted pretraining file and replaces the questions in the file with the response questions that are used in the training of the ANNABELL model.",
   "id": "755c41a114d91509"
  },
  {
   "metadata": {
    "collapsed": true,
    "ExecuteTime": {
     "end_time": "2025-09-20T07:04:48.127739Z",
     "start_time": "2025-09-20T07:04:48.125545Z"
    }
   },
   "cell_type": "code",
   "source": [
    "import os\n",
    "\n",
    "from IPython.lib.deepreload import found_now"
   ],
   "id": "975abc22183fa98f",
   "outputs": [],
   "execution_count": 2
  },
  {
   "metadata": {
    "ExecuteTime": {
     "end_time": "2025-09-20T07:04:50.422988Z",
     "start_time": "2025-09-20T07:04:50.416526Z"
    }
   },
   "cell_type": "code",
   "source": [
    "# load the handcrafted pretraining file\n",
    "#read the pretraining data and parse the rows that begin with \"?\"\n",
    "base_directory = \"/Users/chris/Library/CloudStorage/GoogleDrive-cjameswalmsley@gmail.com/My Drive/Shared with Julia/Education/Kent University/PhD/work/annabell/experiments/7\"\n",
    "pretraining_data_directory = os.path.join(base_directory, \"pre_training\")\n",
    "pretraining_data_filename = \"pre_training_nyc_samples.txt\"\n",
    "pretraining_data_filepath = os.path.join(pretraining_data_directory, pretraining_data_filename)\n",
    "pretraining_data_lines = []\n",
    "with open(pretraining_data_filepath, 'r') as pretraining_data_file:\n",
    "\tpretraining_data_lines = pretraining_data_file.readlines()\n",
    "print(\"length of pretraining data lines: \" + str(len(pretraining_data_lines)))\n",
    "pretraining_data_lines[:5]"
   ],
   "id": "e9a61f2915a5d509",
   "outputs": [
    {
     "name": "stdout",
     "output_type": "stream",
     "text": [
      "length of pretraining data lines: 343\n"
     ]
    },
    {
     "data": {
      "text/plain": [
       "['#statements\\n',\n",
       " '#\\n',\n",
       " '#category: ATTRIBUTE_IS_VALUE\\n',\n",
       " 'the number of leader terrorists of Al Quada directly involved in the 911 attacks that day was ten\\n',\n",
       " 'the area of land in New York City is 304 point 8 square miles\\n']"
      ]
     },
     "execution_count": 3,
     "metadata": {},
     "output_type": "execute_result"
    }
   ],
   "execution_count": 3
  },
  {
   "metadata": {
    "ExecuteTime": {
     "end_time": "2025-09-20T07:09:31.130045Z",
     "start_time": "2025-09-20T07:09:31.124694Z"
    }
   },
   "cell_type": "code",
   "source": [
    "#load the full set of NYC testing data derived from the SQuAD dataset\n",
    "testing_questions = '/Users/chris/Library/CloudStorage/GoogleDrive-cjameswalmsley@gmail.com/My Drive/Shared with Julia/Education/Kent University/PhD/work/annabell/experiments/4/testing/test_nyc_questions.txt'\n",
    "with open(testing_questions, 'r') as testing_questions_file:\n",
    "\ttesting_questions_lines = testing_questions_file.readlines()\n",
    "print(\"length of testing questions lines: \" + str(len(testing_questions_lines)))\n",
    "testing_questions_lines[:5]"
   ],
   "id": "c48546e00d07999d",
   "outputs": [
    {
     "name": "stdout",
     "output_type": "stream",
     "text": [
      "length of testing questions lines: 1612\n"
     ]
    },
    {
     "data": {
      "text/plain": [
       "['? What city in the United States has the highest population\\n',\n",
       " '.x\\n',\n",
       " '? in what city is the united nations based\\n',\n",
       " '.x\\n',\n",
       " '? what city has been called the cultural capital of the world\\n']"
      ]
     },
     "execution_count": 4,
     "metadata": {},
     "output_type": "execute_result"
    }
   ],
   "execution_count": 4
  },
  {
   "metadata": {
    "ExecuteTime": {
     "end_time": "2025-09-20T07:32:14.513559Z",
     "start_time": "2025-09-20T07:32:14.509309Z"
    }
   },
   "cell_type": "code",
   "source": [
    "#Replace any question line in the pretraining data with the similar question from the testing data\n",
    "def replace_question_line(pretraining_line, testing_lines):\n",
    "\tpretraining_question = pretraining_line[1:].strip()  #remove the \"?\" and strip whitespace\n",
    "\tfor testing_line in testing_lines:\n",
    "\t\tif testing_line.startswith(\"?\"):\n",
    "\t\t\ttesting_question = testing_line[1:].strip()  #remove the \"?\" and strip whitespace\n",
    "\t\t\t#print (\"Comparing pretraining question: \" + pretraining_question.lower() + \" with testing question: \" + testing_question.lower())\n",
    "\t\t\tif pretraining_question.lower() == testing_question.lower():\n",
    "\t\t\t\tmatching_line = testing_line\n",
    "\t\t\t\tprint(\"Match found for pretraining question: \" + pretraining_question)\n",
    "\t\t\t\treturn matching_line\n",
    "\t\t\t\tmatching_line = None\n",
    "\n",
    "\tprint(\"No match found for pretraining question: \" + pretraining_question)\n",
    "\treturn pretraining_line\n"
   ],
   "id": "b9b848c8f92e38ec",
   "outputs": [],
   "execution_count": 12
  },
  {
   "metadata": {
    "ExecuteTime": {
     "end_time": "2025-09-20T07:32:16.759071Z",
     "start_time": "2025-09-20T07:32:16.747710Z"
    }
   },
   "cell_type": "code",
   "source": [
    "new_pretraining_data_lines = []\n",
    "for line in pretraining_data_lines:\n",
    "\tif line.startswith(\"?\"):\n",
    "\t\tnew_line = replace_question_line(line, testing_questions_lines)\n",
    "\t\tnew_pretraining_data_lines.append(new_line)\n",
    "\telse:\n",
    "\t\tnew_pretraining_data_lines.append(line)\n",
    "print(\"length of new pretraining data lines: \" + str(len(new_pretraining_data_lines)))\n",
    "new_pretraining_data_lines[:5]\n"
   ],
   "id": "765170602d8e69e4",
   "outputs": [
    {
     "name": "stdout",
     "output_type": "stream",
     "text": [
      "Match found for pretraining question: How many school and universities are in NYC\n",
      "Match found for pretraining question: How many leader terrorists of Al Quada were involved with the 911 attacks directly that day\n",
      "Match found for pretraining question: how many square miles are land in NYC\n",
      "Match found for pretraining question: The mean snowfall between 1981 and 2010 in NYC has been how many inches\n",
      "Match found for pretraining question: How many Hispanic people live in the New York metropolitan area\n",
      "Match found for pretraining question: How much money does the New York film and television industry create every year\n",
      "Match found for pretraining question: How many newspaper offices are located in New York\n",
      "Match found for pretraining question: How many restaurants is New York home to\n",
      "Match found for pretraining question: What was the name of the Lenape homeland\n",
      "Match found for pretraining question: What was the myth that Manhattan was bought for by General Peter Minuit\n",
      "Match found for pretraining question: What notable catastrophe took place under the British occupation\n",
      "No match found for pretraining question: In the early 1920s what was the second most highly populated city in the world\n",
      "Match found for pretraining question: What floor of the Chrysler Building has sculptures of eagles at its corners\n",
      "Match found for pretraining question: What month in New York City is the coldest\n",
      "Match found for pretraining question: What is the largest park in New York City\n",
      "Match found for pretraining question: What New York borough contains the highest population of Asian-Americans\n",
      "Match found for pretraining question: What borough has the largest population of ethnic Albanians\n",
      "Match found for pretraining question: the Two highest advertising agencies in the world located in NYC are called what\n",
      "Match found for pretraining question: What is the name of the citys public television service\n",
      "Match found for pretraining question: What percentage of New York households dont own an automobile\n",
      "Match found for pretraining question: What numbered department of the Supreme Court is located in Brooklyn\n",
      "Match found for pretraining question: When was as African burial ground discovered after the building of new courthouse\n",
      "Match found for pretraining question: In what city is the United Nations based\n",
      "Match found for pretraining question: In what geographical region of the United States is New York City located\n",
      "Match found for pretraining question: In what borough is Silicon Alley located\n",
      "Match found for pretraining question: At what venue does the Amateur Boxing Golden Gloves take place\n",
      "Match found for pretraining question: The Hudson River separates NYC from which US state\n",
      "Match found for pretraining question: Which town do the New Jersey Devils hockey team play\n",
      "Match found for pretraining question: Which bridge in NYC is the busiest in the world\n",
      "Match found for pretraining question: Who commanded the Spanish expedition\n",
      "Match found for pretraining question: Who was the previous overseer of the London interbank offered rate\n",
      "Match found for pretraining question: Who ranked New York as the fashion capital of the world\n",
      "Match found for pretraining question: Who was the first person to drive through The Queens-Midtown Tunnel\n",
      "length of new pretraining data lines: 343\n"
     ]
    },
    {
     "data": {
      "text/plain": [
       "['#statements\\n',\n",
       " '#\\n',\n",
       " '#category: ATTRIBUTE_IS_VALUE\\n',\n",
       " 'the number of leader terrorists of Al Quada directly involved in the 911 attacks that day was ten\\n',\n",
       " 'the area of land in New York City is 304 point 8 square miles\\n']"
      ]
     },
     "execution_count": 13,
     "metadata": {},
     "output_type": "execute_result"
    }
   ],
   "execution_count": 13
  },
  {
   "metadata": {
    "ExecuteTime": {
     "end_time": "2025-09-20T08:46:44.627136Z",
     "start_time": "2025-09-20T08:46:44.617786Z"
    }
   },
   "cell_type": "code",
   "source": [
    "updated_pretraining_nyc_filename = \"pre_training_nyc_samples_updated.txt\"\n",
    "updated_pretraining_nyc_filepath = os.path.join(pretraining_data_directory, updated_pretraining_nyc_filename)\n",
    "with open(updated_pretraining_nyc_filepath, 'w') as updated_pretraining_nyc_file:\n",
    "\tfor line in new_pretraining_data_lines:\n",
    "\t\tupdated_pretraining_nyc_file.write(line)\n",
    "print(\"updated pretraining file written to: \" + updated_pretraining_nyc_filepath)\n",
    "#check the file looks correct\n",
    "with open(updated_pretraining_nyc_filepath, 'r') as updated_pretraining_nyc_file:\n",
    "\tupdated_pretraining_nyc_lines = updated_pretraining_nyc_file.readlines()\n",
    "print(\"length of updated pretraining nyc lines: \" + str(len(updated_pretraining_nyc_lines)))\n",
    "updated_pretraining_nyc_lines[:10]"
   ],
   "id": "9f1fd591d6104ec2",
   "outputs": [
    {
     "name": "stdout",
     "output_type": "stream",
     "text": [
      "updated pretraining file written to: /Users/chris/Library/CloudStorage/GoogleDrive-cjameswalmsley@gmail.com/My Drive/Shared with Julia/Education/Kent University/PhD/work/annabell/experiments/7/pre_training/pre_training_nyc_samples_updated.txt\n",
      "length of updated pretraining nyc lines: 343\n"
     ]
    },
    {
     "data": {
      "text/plain": [
       "['#statements\\n',\n",
       " '#\\n',\n",
       " '#category: ATTRIBUTE_IS_VALUE\\n',\n",
       " 'the number of leader terrorists of Al Quada directly involved in the 911 attacks that day was ten\\n',\n",
       " 'the area of land in New York City is 304 point 8 square miles\\n',\n",
       " 'the mean snowfall between 1981 and 2010 in NYC has been 25 point 8 inches\\n',\n",
       " 'the number of Hispanic people living in the New York metropolitan area is 4 point 8 million\\n',\n",
       " 'the percentage of New York households that do not own an automobile is 52\\n',\n",
       " '#\\n',\n",
       " '#category: EXISTENTIAL_SENTENCE\\n']"
      ]
     },
     "execution_count": 16,
     "metadata": {},
     "output_type": "execute_result"
    }
   ],
   "execution_count": 16
  }
 ],
 "metadata": {
  "kernelspec": {
   "display_name": "Python 3",
   "language": "python",
   "name": "python3"
  },
  "language_info": {
   "codemirror_mode": {
    "name": "ipython",
    "version": 2
   },
   "file_extension": ".py",
   "mimetype": "text/x-python",
   "name": "python",
   "nbconvert_exporter": "python",
   "pygments_lexer": "ipython2",
   "version": "2.7.6"
  }
 },
 "nbformat": 4,
 "nbformat_minor": 5
}
