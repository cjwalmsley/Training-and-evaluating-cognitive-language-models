{
 "cells": [
  {
   "metadata": {
    "collapsed": true
   },
   "cell_type": "markdown",
   "source": "# This notebook tests the NYC pretraining",
   "id": "321adb165aed2243"
  },
  {
   "metadata": {},
   "cell_type": "markdown",
   "source": [
    "## Prerequisite steps\n",
    "1. Pretraining has already been completed for the NYC pretraining dataset"
   ],
   "id": "ff53ba27e7b14ce3"
  },
  {
   "metadata": {
    "ExecuteTime": {
     "end_time": "2025-09-20T08:48:33.514443Z",
     "start_time": "2025-09-20T08:48:33.510346Z"
    }
   },
   "cell_type": "code",
   "source": [
    "import os\n",
    "import shutil"
   ],
   "id": "f5f5b85b25b20f97",
   "outputs": [],
   "execution_count": 5
  },
  {
   "metadata": {},
   "cell_type": "markdown",
   "source": "## Create a testing file",
   "id": "d09296a3c48a789a"
  },
  {
   "metadata": {
    "ExecuteTime": {
     "end_time": "2025-09-20T08:48:35.969163Z",
     "start_time": "2025-09-20T08:48:35.963358Z"
    }
   },
   "cell_type": "code",
   "source": [
    "#read the pretraining data and parse the rows that begin with \"?\"\n",
    "base_directory = \"/Users/chris/Library/CloudStorage/GoogleDrive-cjameswalmsley@gmail.com/My Drive/Shared with Julia/Education/Kent University/PhD/work/annabell/experiments/7\"\n",
    "pretraining_data_directory = os.path.join(base_directory, \"pre_training\")\n",
    "pretraining_data_filename = \"pre_training_nyc_samples_updated.txt\"\n",
    "pretraining_data_filepath = os.path.join(pretraining_data_directory, pretraining_data_filename)\n",
    "pretraining_data_lines = []\n",
    "with open(pretraining_data_filepath, 'r') as pretraining_data_file:\n",
    "\tpretraining_data_lines = pretraining_data_file.readlines()\n",
    "print(\"length of pretraining data lines: \" + str(len(pretraining_data_lines)))\n",
    "pretraining_data_lines[:5]"
   ],
   "id": "416c23d870c977d1",
   "outputs": [
    {
     "name": "stdout",
     "output_type": "stream",
     "text": [
      "length of pretraining data lines: 343\n"
     ]
    },
    {
     "data": {
      "text/plain": [
       "['#statements\\n',\n",
       " '#\\n',\n",
       " '#category: ATTRIBUTE_IS_VALUE\\n',\n",
       " 'the number of leader terrorists of Al Quada directly involved in the 911 attacks that day was ten\\n',\n",
       " 'the area of land in New York City is 304 point 8 square miles\\n']"
      ]
     },
     "execution_count": 6,
     "metadata": {},
     "output_type": "execute_result"
    }
   ],
   "execution_count": 6
  },
  {
   "metadata": {
    "ExecuteTime": {
     "end_time": "2025-09-20T08:48:39.891371Z",
     "start_time": "2025-09-20T08:48:39.887653Z"
    }
   },
   "cell_type": "code",
   "source": "pretraining_data_lines[10:]",
   "id": "f16ca6761195cafb",
   "outputs": [
    {
     "data": {
      "text/plain": [
       "['there are 120 school and universities in NYC\\n',\n",
       " 'there are more than 200 newspaper offices located in New York\\n',\n",
       " 'there are 24000 restaurants in New York\\n',\n",
       " '#\\n',\n",
       " '#category: PASSIVE_CONSTRUCTION\\n',\n",
       " 'the United Nations is headquartered in New York\\n',\n",
       " 'New York City is located in the Northeastern region of the United States\\n',\n",
       " 'the sculptures of eagles are located on the 61st floor of the Chrysler Building\\n',\n",
       " 'the Two highest advertising agencies in the world located in NYC are called Omnicom Group and Interpublic Group\\n',\n",
       " 'Manhattan is located in Silicon Alley\\n',\n",
       " 'the Second Department of the Supreme Court is located in Brooklyn\\n',\n",
       " '#\\n',\n",
       " '#category: PREPOSITIONAL_PHRASE_FRONTING\\n',\n",
       " 'after the building of new courthouse African burial grounds were discovered in the 1990s\\n',\n",
       " 'during the Draft Riots of 1863 approximately 120 people died\\n',\n",
       " 'in the early 1920s London was the second most highly populated city in the world\\n',\n",
       " 'in January New York City experiences the coldest temperatures\\n',\n",
       " '#\\n',\n",
       " '#category: SUBJECT_LINKING_VERB_COMPLEMENT\\n',\n",
       " 'the Lenapehoking was the Lenape homeland\\n',\n",
       " 'Pelham Bay Park is the largest park in New York City\\n',\n",
       " 'British Bankers Association was the previous overseer of the London interbank offered rate\\n',\n",
       " 'the name of the citys public television service is NYCTV\\n',\n",
       " 'the George Washington Bridge is the busiest bridge in the world\\n',\n",
       " 'President Franklin d Roosevelt was the first person to drive through the Queens-Midtown Tunnel\\n',\n",
       " '#\\n',\n",
       " '#category: SUBJECT_VERB_OBJECT\\n',\n",
       " 'Estevao Gomes commanded the Spanish expedition\\n',\n",
       " 'General Peter Minuit acquired Manhattan Island through the purchase of glass beads\\n',\n",
       " 'Great Fire of New York took place under the British occupation\\n',\n",
       " 'the Hudson River separates New Jersey from the United States\\n',\n",
       " 'Queens contains the highest population of Asian-Americans\\n',\n",
       " 'the Bronx has the largest population of ethnic Albanians\\n',\n",
       " 'the New York film and television industry creates 7 point 1 billion every year\\n',\n",
       " 'the Global Language Monitor ranked New York as the fashion capital of the world\\n',\n",
       " 'the New Jersey Devils hockey team plays Newark\\n',\n",
       " 'the Amateur Boxing Golden Gloves takes place at Madison Square Garden\\n',\n",
       " '#\\n',\n",
       " '#questions\\n',\n",
       " '#\\n',\n",
       " '#category: HOW_QUESTION\\n',\n",
       " '? how many school and universities are in nyc\\n',\n",
       " '#\\n',\n",
       " '.wg school and universities\\n',\n",
       " '.wg NYC\\n',\n",
       " '.ph there are 120 school and universities in NYC\\n',\n",
       " '.wg 120\\n',\n",
       " '.rw\\n',\n",
       " '#\\n',\n",
       " '? how many leader terrorists of Al Quada were involved with the 911 attacks directly that day\\n',\n",
       " '#\\n',\n",
       " '.wg leader terrorists\\n',\n",
       " '.wg Al Quada\\n',\n",
       " '.wg 911 attacks\\n',\n",
       " '.ph the number of leader terrorists of Al Quada directly involved in the 911 attacks that day was ten\\n',\n",
       " '.wg ten\\n',\n",
       " '.rw\\n',\n",
       " '#\\n',\n",
       " '? how many square miles are land in nyc\\n',\n",
       " '.wg square miles\\n',\n",
       " '.wg land\\n',\n",
       " '.ph the area of land in New York City is 304 point 8 square miles\\n',\n",
       " '.wg 304 point 8\\n',\n",
       " '.rw\\n',\n",
       " '#\\n',\n",
       " '? the mean snowfall between 1981 and 2010 in nyc has been how many inches\\n',\n",
       " '#\\n',\n",
       " '.wg snowfall\\n',\n",
       " '.wg 1981\\n',\n",
       " '.wg 2010\\n',\n",
       " '.wg inches\\n',\n",
       " '.ph the mean snowfall between 1981 and 2010 in NYC has been 25 point 8 inches\\n',\n",
       " '.wg 25 point 8\\n',\n",
       " '.rw\\n',\n",
       " '#\\n',\n",
       " '? how many Hispanic people live in the New York metropolitan area\\n',\n",
       " '#\\n',\n",
       " '.wg Hispanic\\n',\n",
       " '.wg live\\n',\n",
       " '.ph the number of Hispanic people live -ing in the New York metropolitan area is 4 point 8 million\\n',\n",
       " '.wg 4 point 8 million\\n',\n",
       " '.rw\\n',\n",
       " '#\\n',\n",
       " '? how much money does the new york film and television industry create every year\\n',\n",
       " '#\\n',\n",
       " '.wg New York\\n',\n",
       " '.wg film\\n',\n",
       " '.wg television industry\\n',\n",
       " '.ph the New York film and television industry creates 7 point 1 billion every year\\n',\n",
       " '.wg 7 point\\n',\n",
       " '.prw\\n',\n",
       " '.wg 1 billion\\n',\n",
       " '.rw\\n',\n",
       " '#\\n',\n",
       " '? how many newspaper offices are located in New York\\n',\n",
       " '#\\n',\n",
       " '.wg newspaper\\n',\n",
       " '.wg New York\\n',\n",
       " '.ph there are more than 200 newspaper offices located in New York\\n',\n",
       " '.wg more than 200\\n',\n",
       " '.rw\\n',\n",
       " '#\\n',\n",
       " '? how many restaurants is New York home to\\n',\n",
       " '#\\n',\n",
       " '.wg restaurants\\n',\n",
       " '.wg New York\\n',\n",
       " '.ph there are 24000 restaurants in New York\\n',\n",
       " '.wg 24000\\n',\n",
       " '.rw\\n',\n",
       " '#\\n',\n",
       " '#category: WHAT_QUESTION\\n',\n",
       " '? What was the name of the Lenape homeland\\n',\n",
       " '#\\n',\n",
       " '.wg Lenape\\n',\n",
       " '.ph the Lenapehoking was the Lenape homeland\\n',\n",
       " '.wg Lenapehoking\\n',\n",
       " '.rw\\n',\n",
       " '#\\n',\n",
       " '? what was the myth that Manhattan was bought for by General Peter Minuit \\n',\n",
       " '#\\n',\n",
       " '.wg Manhattan\\n',\n",
       " '.wg Peter Minuit\\n',\n",
       " '.ph General Peter Minuit acquired Manhattan Island through the purchase of glass beads\\n',\n",
       " '.wg glass beads\\n',\n",
       " '.rw\\n',\n",
       " '#\\n',\n",
       " '? what notable catastrophe took place under the British occupation\\n',\n",
       " '#\\n',\n",
       " '.wg British\\n',\n",
       " '.ph Great Fire of New York took place under the British occupation\\n',\n",
       " '.wg Great Fire\\n',\n",
       " '.prw\\n',\n",
       " '.wg of New York\\n',\n",
       " '.rw\\n',\n",
       " '#\\n',\n",
       " '? In the early 1920s what was the second most highly populated city in the world\\n',\n",
       " '#\\n',\n",
       " '.wg 1920s\\n',\n",
       " '.wg most\\n',\n",
       " '.wg highly populated\\n',\n",
       " '.wg world\\n',\n",
       " '.ph in the early 1920s London was the second most highly populated city in the world\\n',\n",
       " '.wg London\\n',\n",
       " '.rw\\n',\n",
       " '#\\n',\n",
       " '? what floor of the Chrysler Building has sculptures of eagles at its corners\\n',\n",
       " '#\\n',\n",
       " '.wg floor\\n',\n",
       " '.wg Chrysler Building\\n',\n",
       " '.wg eagles\\n',\n",
       " '.ph the sculptures of eagles are located on the 61st floor of the Chrysler Building\\n',\n",
       " '.wg 61st\\n',\n",
       " '.rw\\n',\n",
       " '#\\n',\n",
       " '? what month in New York City is the coldest\\n',\n",
       " '#\\n',\n",
       " '.wg New York City\\n',\n",
       " '.wg coldest\\n',\n",
       " '.ph in January New York City experiences the coldest temperatures\\n',\n",
       " '.wg January\\n',\n",
       " '.rw\\n',\n",
       " '#\\n',\n",
       " '? what is the largest park in New York City\\n',\n",
       " '#\\n',\n",
       " '.wg park\\n',\n",
       " '.wg New York City\\n',\n",
       " '.ph Pelham Bay Park is the largest park in New York City\\n',\n",
       " '.wg Pelham Bay Park\\n',\n",
       " '.rw\\n',\n",
       " '#\\n',\n",
       " '? what New York borough contains the highest population of Asian-Americans\\n',\n",
       " '#\\n',\n",
       " '.wg highest\\n',\n",
       " '.wg Asian-Americans\\n',\n",
       " '.ph Queens contains the highest population of Asian-Americans\\n',\n",
       " '.wg Queens\\n',\n",
       " '.rw\\n',\n",
       " '#\\n',\n",
       " '? what borough has the largest population of ethnic Albanians\\n',\n",
       " '#\\n',\n",
       " '.wg largest\\n',\n",
       " '.wg Albanians\\n',\n",
       " '.ph the Bronx has the largest population of ethnic Albanians\\n',\n",
       " '.wg the Bronx\\n',\n",
       " '.rw\\n',\n",
       " '#\\n',\n",
       " '? the Two highest advertising agencies in the world located in nyc are called what\\n',\n",
       " '#\\n',\n",
       " '.wg Two\\n',\n",
       " '.wg advertising agencies\\n',\n",
       " '.wg world\\n',\n",
       " '.wg NYC\\n',\n",
       " '.ph the Two highest advertising agencies in the world located in NYC are called Omnicom Group and Interpublic Group\\n',\n",
       " '.wg Omnicom Group\\n',\n",
       " '.prw\\n',\n",
       " '.wg and\\n',\n",
       " '.prw\\n',\n",
       " '.wg Interpublic Group\\n',\n",
       " '.rw\\n',\n",
       " '#\\n',\n",
       " '? what is the name of the citys public television service\\n',\n",
       " '#\\n',\n",
       " '.wg citys\\n',\n",
       " '.wg television service\\n',\n",
       " '.ph the name of the citys public television service is NYCTV\\n',\n",
       " '.wg NYCTV\\n',\n",
       " '.rw\\n',\n",
       " '#\\n',\n",
       " '? what percentage of New York households dont own an automobile\\n',\n",
       " '#\\n',\n",
       " '.wg New York\\n',\n",
       " '.wg automobile\\n',\n",
       " '.ph the percentage of New York households that do not own an automobile is 52\\n',\n",
       " '.wg 52\\n',\n",
       " '.rw\\n',\n",
       " '#\\n',\n",
       " '? what numbered department of the Supreme Court is located in Brooklyn\\n',\n",
       " '#\\n',\n",
       " '.wg department\\n',\n",
       " '.wg Supreme Court\\n',\n",
       " '.wg Brooklyn\\n',\n",
       " '.ph the second department of the Supreme Court is located in Brooklyn\\n',\n",
       " '.wg second\\n',\n",
       " '.rw\\n',\n",
       " '#\\n',\n",
       " '#category: WHEN_QUESTION\\n',\n",
       " '? when was as African burial ground discovered after the building of new courthouse\\n',\n",
       " 'wg. burial ground\\n',\n",
       " '.wg courthouse\\n',\n",
       " '.ph after the building of new courthouse African burial grounds were discovered in the 1990s\\n',\n",
       " '.wg 1990s\\n',\n",
       " '.rw\\n',\n",
       " '#\\n',\n",
       " '#category: WHERE_IN_ON_AT_QUESTION\\n',\n",
       " '? in what city is the united nations based\\n',\n",
       " '#\\n',\n",
       " '.wg United Nations\\n',\n",
       " '.ph The United Nations is headquartered in New York\\n',\n",
       " '.wg New York\\n',\n",
       " '.rw\\n',\n",
       " '#\\n',\n",
       " '? in what geographical region of the United States is New York City located\\n',\n",
       " '#\\n',\n",
       " '.wg region\\n',\n",
       " '.wg United States\\n',\n",
       " 'wg New York City\\n',\n",
       " '.ph New York City is located in the Northeastern region of the United States\\n',\n",
       " '.wg Northeastern\\n',\n",
       " '.rw\\n',\n",
       " '#\\n',\n",
       " '? in what borough is Silicon Alley located\\n',\n",
       " '#\\n',\n",
       " '.wg Silicon Alley\\n',\n",
       " '.ph Manhattan is located in Silicon Alley\\n',\n",
       " '.wg Manhattan\\n',\n",
       " '.rw\\n',\n",
       " '? at what venue does the amateur boxing golden gloves take place\\n',\n",
       " '#\\n',\n",
       " '.wg venue\\n',\n",
       " '.wg Golden Gloves\\n',\n",
       " '.ph Amateur Boxing Golden Gloves takes place at Madison Square Garden\\n',\n",
       " '.wg Madison Square Garden\\n',\n",
       " '.rw\\n',\n",
       " '#\\n',\n",
       " '#category: WHICH_QUESTION\\n',\n",
       " '#\\n',\n",
       " '? the Hudson River separates NYC from which US state\\n',\n",
       " '#\\n',\n",
       " '.wg River\\n',\n",
       " '.ph the Hudson River separates New Jersey from the United States\\n',\n",
       " '.wg New Jersey\\n',\n",
       " '.rw\\n',\n",
       " '#\\n',\n",
       " '? Which town do the New Jersey Devils hockey team play\\n',\n",
       " '#\\n',\n",
       " '.wg New Jersey Devils\\n',\n",
       " '.wg hockey\\n',\n",
       " '.ph the New Jersey Devils hockey team plays Newark\\n',\n",
       " '.wg Newark\\n',\n",
       " '.rw\\n',\n",
       " '#\\n',\n",
       " '? which bridge in nyc is the busiest in the world\\n',\n",
       " '#\\n',\n",
       " '.wg busiest\\n',\n",
       " '.ph the George Washington Bridge is the busiest bridge in the world\\n',\n",
       " '.wg the\\n',\n",
       " '.prw\\n',\n",
       " '.wg George Washington Bridge\\n',\n",
       " '.rw\\n',\n",
       " '#\\n',\n",
       " '#category: WHO_QUESTION\\n',\n",
       " '#\\n',\n",
       " '? who commanded the Spanish expedition\\n',\n",
       " '#\\n',\n",
       " '.wg Spanish expedition\\n',\n",
       " '.ph Estevao Gomes commanded the Spanish expedition\\n',\n",
       " '.wg Estevao Gomes\\n',\n",
       " '.rw\\n',\n",
       " '#\\n',\n",
       " '? who was the previous overseer of the london interbank offered rate\\n',\n",
       " '#\\n',\n",
       " '.wg overseer\\n',\n",
       " '.wg London\\n',\n",
       " '.wg interbank offered rate\\n',\n",
       " '.ph British Bankers Association was the previous overseer of the London interbank offered rate\\n',\n",
       " '.wg British Bankers Association\\n',\n",
       " '.rw\\n',\n",
       " '#\\n',\n",
       " '? who ranked New York as the fashion capital of the world\\n',\n",
       " '#\\n',\n",
       " '.wg ranked\\n',\n",
       " '.wg New York\\n',\n",
       " '.wg fashion\\n',\n",
       " '.wg world\\n',\n",
       " '.ph the Global Language Monitor ranked New York as the fashion capital of the world\\n',\n",
       " '.wg the\\n',\n",
       " '.prw\\n',\n",
       " '.wg Global Language Monitor\\n',\n",
       " '.rw\\n',\n",
       " '#\\n',\n",
       " '? who was the first person to drive through The Queens-Midtown Tunnel\\n',\n",
       " '#\\n',\n",
       " '.wg first\\n',\n",
       " '.wg person\\n',\n",
       " '.wg drive\\n',\n",
       " '.wg through\\n',\n",
       " '.wg The Queens-Midtown\\n',\n",
       " '.wg Tunnel\\n',\n",
       " '.ph President Franklin d Roosevelt was the first person to drive through the Queens-Midtown Tunnel\\n',\n",
       " '.wg President\\n',\n",
       " '.prw\\n',\n",
       " '.wg Franklin d Roosevelt\\n',\n",
       " '.rw']"
      ]
     },
     "execution_count": 7,
     "metadata": {},
     "output_type": "execute_result"
    }
   ],
   "execution_count": 7
  },
  {
   "metadata": {
    "ExecuteTime": {
     "end_time": "2025-09-20T08:48:43.434561Z",
     "start_time": "2025-09-20T08:48:43.430086Z"
    }
   },
   "cell_type": "code",
   "source": [
    "#parse the lines that begin with \"?\"\n",
    "pretraining_question_lines = [line.strip() for line in pretraining_data_lines if line.startswith(\"?\")]\n",
    "print(\"length of pretraining question lines: \" + str(len(pretraining_question_lines)))\n",
    "pretraining_question_lines[:5]"
   ],
   "id": "a2fa4bfcef6df1e",
   "outputs": [
    {
     "name": "stdout",
     "output_type": "stream",
     "text": [
      "length of pretraining question lines: 33\n"
     ]
    },
    {
     "data": {
      "text/plain": [
       "['? how many school and universities are in nyc',\n",
       " '? how many leader terrorists of Al Quada were involved with the 911 attacks directly that day',\n",
       " '? how many square miles are land in nyc',\n",
       " '? the mean snowfall between 1981 and 2010 in nyc has been how many inches',\n",
       " '? how many Hispanic people live in the New York metropolitan area']"
      ]
     },
     "execution_count": 8,
     "metadata": {},
     "output_type": "execute_result"
    }
   ],
   "execution_count": 8
  },
  {
   "metadata": {
    "ExecuteTime": {
     "end_time": "2025-09-20T08:48:46.032895Z",
     "start_time": "2025-09-20T08:48:46.027708Z"
    }
   },
   "cell_type": "code",
   "source": [
    "#write a testing file with the questions\n",
    "test_input_directory = os.path.join(base_directory, \"testing\")\n",
    "test_input_filename = \"test_nyc_pretrain_questions.txt\"\n",
    "test_input_filepath = os.path.join(test_input_directory, test_input_filename)\n",
    "with open(test_input_filepath, 'w') as test_input_file:\n",
    "\tfor line in pretraining_question_lines:\n",
    "\t\ttest_input_file.write(line + \"\\n\")\n",
    "\t\ttest_input_file.write(\".x\\n\")  #add the .x line after each question\n",
    "print(\"test input file written to: \" + test_input_filepath)\n",
    "#check the file looks correct\n",
    "with open(test_input_filepath, 'r') as test_input_file:\n",
    "\ttest_input_lines = test_input_file.readlines()\n",
    "print(\"length of test input lines: \" + str(len(test_input_lines)))\n",
    "test_input_lines[:10]"
   ],
   "id": "6e75b00e6ffbac16",
   "outputs": [
    {
     "name": "stdout",
     "output_type": "stream",
     "text": [
      "test input file written to: /Users/chris/Library/CloudStorage/GoogleDrive-cjameswalmsley@gmail.com/My Drive/Shared with Julia/Education/Kent University/PhD/work/annabell/experiments/7/testing/test_nyc_pretrain_questions.txt\n",
      "length of test input lines: 66\n"
     ]
    },
    {
     "data": {
      "text/plain": [
       "['? how many school and universities are in nyc\\n',\n",
       " '.x\\n',\n",
       " '? how many leader terrorists of Al Quada were involved with the 911 attacks directly that day\\n',\n",
       " '.x\\n',\n",
       " '? how many square miles are land in nyc\\n',\n",
       " '.x\\n',\n",
       " '? the mean snowfall between 1981 and 2010 in nyc has been how many inches\\n',\n",
       " '.x\\n',\n",
       " '? how many Hispanic people live in the New York metropolitan area\\n',\n",
       " '.x\\n']"
      ]
     },
     "execution_count": 9,
     "metadata": {},
     "output_type": "execute_result"
    }
   ],
   "execution_count": 9
  },
  {
   "metadata": {
    "ExecuteTime": {
     "end_time": "2025-09-20T08:48:54.484649Z",
     "start_time": "2025-09-20T08:48:54.481211Z"
    }
   },
   "cell_type": "code",
   "source": [
    "#copy the pretraining test input data to the Docker data directory\n",
    "docker_data_directory = \"/Users/chris/PycharmProjects/dataset/docker/shared_data\"\n",
    "docker_test_input_filepath = os.path.join(docker_data_directory, \"testing\", test_input_filename)\n",
    "shutil.copy(test_input_filepath, docker_test_input_filepath)\n",
    "print(\"test input file copied to: \" + docker_test_input_filepath)"
   ],
   "id": "d42296b3a123e65e",
   "outputs": [
    {
     "name": "stdout",
     "output_type": "stream",
     "text": [
      "test input file copied to: /Users/chris/PycharmProjects/dataset/docker/shared_data/testing/test_nyc_pretrain_questions.txt\n"
     ]
    }
   ],
   "execution_count": 10
  },
  {
   "metadata": {},
   "cell_type": "markdown",
   "source": [
    "## Processing\n",
    "1. Run the testing file using the testing script.\n",
    "\n",
    "docker compose run --remove-orphans --entrypoint ./test_annabell_squad.sh app \\\n",
    "  data/testing/test_nyc_pretrain_log.txt \\\n",
    "  data/pre-training/pretraining_nyc_squad.dat \\\n",
    "  data/testing/test_nyc_pretrain_questions.txt\n",
    "\n",
    "2. Copy the log file back from the Docker data directory"
   ],
   "id": "2c34b08c889fff43"
  },
  {
   "metadata": {
    "ExecuteTime": {
     "end_time": "2025-09-19T07:02:26.745538Z",
     "start_time": "2025-09-19T07:02:26.735855Z"
    }
   },
   "cell_type": "code",
   "source": [
    "#copy the log file back from the Docker data directory\n",
    "test_log_directory = os.path.join(base_directory, \"logs\")\n",
    "docker_test_log_directory = os.path.join(docker_data_directory, \"testing\")\n",
    "for filename in os.listdir(os.path.join(docker_data_directory, \"testing\")):\n",
    "\tif filename.startswith(\"test_nyc_pretrain_log_\") and filename.endswith(\".txt\"):\n",
    "\t\tdocker_test_log_filepath = os.path.join(docker_test_log_directory, filename)\n",
    "\t\ttest_log_filepath = os.path.join(test_log_directory, filename)\n",
    "\t\tshutil.copy(docker_test_log_filepath, test_log_filepath)\n",
    "\t\tprint(\"test log file copied from: \" + docker_test_log_filepath + \" to: \" + test_log_filepath)"
   ],
   "id": "52a15ca0ba1c0cfc",
   "outputs": [
    {
     "name": "stdout",
     "output_type": "stream",
     "text": [
      "test log file copied from: /Users/chris/PycharmProjects/dataset/docker/shared_data/testing/test_nyc_log_2025-09-13_15-37-50.txt to: /Users/chris/Library/CloudStorage/GoogleDrive-cjameswalmsley@gmail.com/My Drive/Shared with Julia/Education/Kent University/PhD/work/annabell/experiments/7/logs/test_nyc_log_2025-09-13_15-37-50.txt\n",
      "test log file copied from: /Users/chris/PycharmProjects/dataset/docker/shared_data/testing/test_nyc_log_2025-09-14_16-14-53.txt to: /Users/chris/Library/CloudStorage/GoogleDrive-cjameswalmsley@gmail.com/My Drive/Shared with Julia/Education/Kent University/PhD/work/annabell/experiments/7/logs/test_nyc_log_2025-09-14_16-14-53.txt\n",
      "test log file copied from: /Users/chris/PycharmProjects/dataset/docker/shared_data/testing/test_nyc_log_2025-09-19_06-51-33.txt to: /Users/chris/Library/CloudStorage/GoogleDrive-cjameswalmsley@gmail.com/My Drive/Shared with Julia/Education/Kent University/PhD/work/annabell/experiments/7/logs/test_nyc_log_2025-09-19_06-51-33.txt\n"
     ]
    }
   ],
   "execution_count": 15
  },
  {
   "metadata": {},
   "cell_type": "markdown",
   "source": "3. Use test_annabell.ipynb to analyse the results in the log file",
   "id": "cbbbcab9d1935244"
  }
 ],
 "metadata": {
  "kernelspec": {
   "display_name": "Python 3",
   "language": "python",
   "name": "python3"
  },
  "language_info": {
   "codemirror_mode": {
    "name": "ipython",
    "version": 2
   },
   "file_extension": ".py",
   "mimetype": "text/x-python",
   "name": "python",
   "nbconvert_exporter": "python",
   "pygments_lexer": "ipython2",
   "version": "2.7.6"
  }
 },
 "nbformat": 4,
 "nbformat_minor": 5
}
