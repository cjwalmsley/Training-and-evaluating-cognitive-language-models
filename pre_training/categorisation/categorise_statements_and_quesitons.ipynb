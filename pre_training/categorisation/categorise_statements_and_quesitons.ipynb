{
 "cells": [
  {
   "metadata": {
    "collapsed": true
   },
   "cell_type": "markdown",
   "source": "# This notebooks assigns categories to each row in the dataset based on its grammatical structure",
   "id": "b0722db44c835b5c"
  },
  {
   "metadata": {
    "ExecuteTime": {
     "end_time": "2025-10-06T14:19:42.756151Z",
     "start_time": "2025-10-06T14:19:37.530225Z"
    }
   },
   "cell_type": "code",
   "source": [
    "import os\n",
    "import pandas as pd\n",
    "from ollama import generate\n",
    "from pydantic import BaseModel\n",
    "\n",
    "# Load the dataset\n",
    "dataset_filename = \"response_formatted_20250924_174653.jsonl\"\n",
    "base_directory = \"/home/chris/gdrive/work/annabell\"\n",
    "data_directory = os.path.join(base_directory, \"experiments/data\")\n",
    "dataset_filepath = os.path.join(data_directory, dataset_filename)\n",
    "nyc_squad_df = pd.read_json(dataset_filepath, lines=True)\n",
    "declarations_prompt_input_dataset_filename = \"prompt_\" + dataset_filename\n",
    "declarations_prompt_input_dataset_filepath = os.path.join(data_directory, declarations_prompt_input_dataset_filename)\n",
    "#drop the columns that are not needed for the prompt\n",
    "declarations_prompt_df = nyc_squad_df[\n",
    "    [\"id\", \"response_declarative_sentence\"]]\n",
    "declarations_prompt_df[\"generated_category\"] = \"<INSERT GENERATED CATEGORY HERE>\"\n",
    "#write the trimmed dataframe to a jsonl file\n",
    "declarations_prompt_input_dataset = declarations_prompt_df.to_json(declarations_prompt_input_dataset_filepath,\n",
    "                                                                   orient=\"records\", lines=True)\n",
    "print(\"Prompt input dataset written to: \" + declarations_prompt_input_dataset_filepath)\n",
    "#check the file has been written correctly\n",
    "with open(declarations_prompt_input_dataset_filepath, \"r\") as declarations_prompt_input_file:\n",
    "    declarations_prompt_input_lines = declarations_prompt_input_file.readlines()\n",
    "print(f\"Number of lines in prompt input file: {len(declarations_prompt_input_lines)}\")\n",
    "print(\"First 3 lines of prompt input file:\")\n",
    "for line in declarations_prompt_input_lines[:3]:\n",
    "    print(line)"
   ],
   "id": "b354c7f38840cf31",
   "outputs": [
    {
     "name": "stderr",
     "output_type": "stream",
     "text": [
      "/tmp/ipykernel_304202/3714604147.py:17: SettingWithCopyWarning: \n",
      "A value is trying to be set on a copy of a slice from a DataFrame.\n",
      "Try using .loc[row_indexer,col_indexer] = value instead\n",
      "\n",
      "See the caveats in the documentation: https://pandas.pydata.org/pandas-docs/stable/user_guide/indexing.html#returning-a-view-versus-a-copy\n",
      "  declarations_prompt_df[\"generated_category\"] = \"<INSERT GENERATED CATEGORY HERE>\"\n"
     ]
    },
    {
     "name": "stdout",
     "output_type": "stream",
     "text": [
      "Prompt input dataset written to: /home/chris/gdrive/work/annabell/experiments/data/prompt_response_formatted_20250924_174653.jsonl\n",
      "Number of lines in prompt input file: 817\n",
      "First 3 lines of prompt input file:\n",
      "{\"id\":\"56ce304daab44d1400b8850e\",\"response_declarative_sentence\":\"The city in the United States with the high \\u2013est populate \\u2013ion is New York.\",\"generated_category\":\"<INSERT GENERATED CATEGORY HERE>\"}\n",
      "\n",
      "{\"id\":\"56ce304daab44d1400b8850f\",\"response_declarative_sentence\":\"The United Nations is base \\u2013d in New York.\",\"generated_category\":\"<INSERT GENERATED CATEGORY HERE>\"}\n",
      "\n",
      "{\"id\":\"56ce304daab44d1400b88510\",\"response_declarative_sentence\":\"New York has been call \\u2013ed the culture \\u2013al capital of the world.\",\"generated_category\":\"<INSERT GENERATED CATEGORY HERE>\"}\n",
      "\n"
     ]
    }
   ],
   "execution_count": 21
  },
  {
   "metadata": {
    "ExecuteTime": {
     "end_time": "2025-10-06T14:18:47.722249Z",
     "start_time": "2025-10-06T14:18:47.719402Z"
    }
   },
   "cell_type": "code",
   "source": [
    "class CategorisedRow(BaseModel):\n",
    "    id: str\n",
    "    category: str\n",
    "\n",
    "\n",
    "def generated_text_from_prompt(the_model_string, the_prompt, the_format=None, the_options=None):\n",
    "    generated_text = generate(model=the_model_string, prompt=the_prompt, format=the_format, options=the_options)\n",
    "    return generated_text.response\n",
    "\n",
    "\n",
    "def generated_json_from_prompt(the_model_string, the_prompt, base_model_class, the_options=None):\n",
    "    the_response = generated_text_from_prompt(\n",
    "        the_model_string=the_model_string,\n",
    "        the_prompt=the_prompt,\n",
    "        the_format=base_model_class.model_json_schema(),\n",
    "        the_options=the_options)\n",
    "    return CategorisedRow.model_validate_json(the_response)"
   ],
   "id": "8e2e4790b2a4cdd2",
   "outputs": [],
   "execution_count": 19
  },
  {
   "metadata": {
    "ExecuteTime": {
     "end_time": "2025-10-06T14:20:08.036204Z",
     "start_time": "2025-10-06T14:20:06.041527Z"
    }
   },
   "cell_type": "code",
   "source": [
    "model_string = \"mistral-nemo\"\n",
    "base_prompt_filename = \"categorisation_declarations_base_prompt.txt\"\n",
    "base_prompt_directory = \".\"\n",
    "base_prompt_filepath = os.path.join(base_prompt_directory, base_prompt_filename)\n",
    "with open(base_prompt_filepath, \"r\") as base_prompt_file:\n",
    "    base_prompt = base_prompt_file.read()\n",
    "with open(prompt_input_dataset_filepath, \"r\") as prompt_input_file:\n",
    "    prompt_input_lines = prompt_input_file.readlines()\n",
    "prompt_inputs = [line for line in prompt_input_lines if line.strip()]\n",
    "\n",
    "# take the first 3 input_lines and join them together in a string for testing\n",
    "testing_sample_string = \"\".join(prompt_inputs[:3])\n",
    "print(\"Testing sample string:\")\n",
    "print(testing_sample_string)"
   ],
   "id": "d13b97aba097eb4",
   "outputs": [
    {
     "name": "stdout",
     "output_type": "stream",
     "text": [
      "Testing sample string:\n",
      "{\"id\":\"56ce304daab44d1400b8850e\",\"response_declarative_sentence\":\"The city in the United States with the high \\u2013est populate \\u2013ion is New York.\",\"generated_category\":\"<INSERT GENERATED CATEGORY HERE>\"}\n",
      "{\"id\":\"56ce304daab44d1400b8850f\",\"response_declarative_sentence\":\"The United Nations is base \\u2013d in New York.\",\"generated_category\":\"<INSERT GENERATED CATEGORY HERE>\"}\n",
      "{\"id\":\"56ce304daab44d1400b88510\",\"response_declarative_sentence\":\"New York has been call \\u2013ed the culture \\u2013al capital of the world.\",\"generated_category\":\"<INSERT GENERATED CATEGORY HERE>\"}\n",
      "\n"
     ]
    }
   ],
   "execution_count": 22
  },
  {
   "metadata": {
    "ExecuteTime": {
     "end_time": "2025-10-06T14:22:18.306387Z",
     "start_time": "2025-10-06T14:21:14.202720Z"
    }
   },
   "cell_type": "code",
   "source": [
    "prompt_input_samples = testing_sample_string\n",
    "prompt = base_prompt + prompt_input_samples\n",
    "result = generated_text_from_prompt(model_string, prompt)\n",
    "result"
   ],
   "id": "2cb4bd0330265243",
   "outputs": [
    {
     "data": {
      "text/plain": [
       "'{\"id\":\"56ce304daab44d1400b8850e\",\"category\":\"Declarative Sentence\"}\\n{\"id\":\"56ce304daab44d1400b8850f\",\"category\":\"Declarative Sentence\"}\\n{\"id\":\"56ce304daab44d1400b88510\",\"category\":\"Declarative Sentence\"}'"
      ]
     },
     "execution_count": 23,
     "metadata": {},
     "output_type": "execute_result"
    }
   ],
   "execution_count": 23
  }
 ],
 "metadata": {
  "kernelspec": {
   "display_name": "Python 3",
   "language": "python",
   "name": "python3"
  },
  "language_info": {
   "codemirror_mode": {
    "name": "ipython",
    "version": 2
   },
   "file_extension": ".py",
   "mimetype": "text/x-python",
   "name": "python",
   "nbconvert_exporter": "python",
   "pygments_lexer": "ipython2",
   "version": "2.7.6"
  }
 },
 "nbformat": 4,
 "nbformat_minor": 5
}
