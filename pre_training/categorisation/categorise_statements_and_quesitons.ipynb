{
 "cells": [
  {
   "metadata": {
    "collapsed": true
   },
   "cell_type": "markdown",
   "source": "# This notebooks assigns categories to each row in the dataset based on its grammatical structure",
   "id": "b0722db44c835b5c"
  },
  {
   "metadata": {
    "ExecuteTime": {
     "end_time": "2025-10-07T07:33:42.554239Z",
     "start_time": "2025-10-07T07:33:42.549969Z"
    }
   },
   "cell_type": "code",
   "source": [
    "import os\n",
    "import pandas as pd\n",
    "from ollama import generate\n",
    "from pydantic import BaseModel\n",
    "import platform\n",
    "\n",
    "# Set up directories based on the operating system\n",
    "operating_system = platform.system()\n",
    "if operating_system == 'Windows':\n",
    "    raise Exception(\"not used on Windows yet\")\n",
    "elif operating_system == 'Linux':\n",
    "    base_directory = \"/home/chris/gdrive/work/annabell/\"\n",
    "    #pycharm_projects_directory = \"/home/chris/PycharmProjects/dataset\"\n",
    "elif operating_system == 'Darwin':  #macOS\n",
    "    base_directory = \"/Users/chris/Library/CloudStorage/GoogleDrive-cjameswalmsley@gmail.com/My Drive/Shared with Julia/Education/Kent University/PhD/work/annabell/\"\n",
    "    #pycharm_projects_directory = \"/Users/chris/PycharmProjects/dataset\"\n",
    "else:\n",
    "    raise Exception(\"unsupported OS\")"
   ],
   "id": "b354c7f38840cf31",
   "outputs": [],
   "execution_count": 27
  },
  {
   "metadata": {
    "ExecuteTime": {
     "end_time": "2025-10-07T07:53:29.748218Z",
     "start_time": "2025-10-07T07:53:29.723432Z"
    }
   },
   "cell_type": "code",
   "source": [
    "# Load the dataset\n",
    "dataset_filename = \"response_formatted_20250924_174653.jsonl\"\n",
    "data_directory = os.path.join(base_directory, \"experiments/data\")\n",
    "dataset_filepath = os.path.join(data_directory, dataset_filename)\n",
    "nyc_squad_df = pd.read_json(dataset_filepath, lines=True)\n",
    "questions_prompt_input_dataset_filename = \"questions_prompt_\" + dataset_filename\n",
    "questions_prompt_input_dataset_filepath = os.path.join(data_directory, questions_prompt_input_dataset_filename)\n",
    "declarations_prompt_input_dataset_filename = \"prompt_\" + dataset_filename\n",
    "declarations_prompt_input_dataset_filepath = os.path.join(data_directory, declarations_prompt_input_dataset_filename)\n",
    "#drop the columns that are not needed for the prompt\n",
    "declarations_prompt_df = nyc_squad_df[\n",
    "    [\"id\", \"response_declarative_sentence\"]]\n",
    "declarations_prompt_df[\"generated_category\"] = \"<INSERT GENERATED CATEGORY HERE>\"\n",
    "questions_prompt_df = nyc_squad_df[\n",
    "    [\"id\", \"response_question\"]]\n",
    "questions_prompt_df[\"generated_category\"] = \"<INSERT GENERATED CATEGORY HERE>\"\n",
    "#write the trimmed dataframes to a jsonl file\n",
    "declarations_prompt_input_dataset = declarations_prompt_df.to_json(declarations_prompt_input_dataset_filepath,\n",
    "                                                                   orient=\"records\", lines=True)\n",
    "print(\"Prompt input dataset written to: \" + declarations_prompt_input_dataset_filepath)\n",
    "#check the file has been written correctly\n",
    "with open(declarations_prompt_input_dataset_filepath, \"r\") as declarations_prompt_input_file:\n",
    "    declarations_prompt_input_lines = declarations_prompt_input_file.readlines()\n",
    "print(f\"Number of lines in prompt input file: {len(declarations_prompt_input_lines)}\")\n",
    "print(\"First 3 lines of prompt input file:\")\n",
    "for line in declarations_prompt_input_lines[:3]:\n",
    "    print(line)\n",
    "\n",
    "questions_prompt_input_dataset = questions_prompt_df.to_json(questions_prompt_input_dataset_filepath,\n",
    "                                                             orient=\"records\", lines=True)\n",
    "print(\"Prompt input dataset written to: \" + questions_prompt_input_dataset_filepath)\n",
    "#check the file has been written correctly\n",
    "with open(questions_prompt_input_dataset_filepath, \"r\") as questions_prompt_input_file:\n",
    "    questions_prompt_input_lines = questions_prompt_input_file.readlines()\n",
    "print(f\"Number of lines in prompt input file: {len(questions_prompt_input_lines)}\")\n",
    "print(\"First 3 lines of prompt input file:\")\n",
    "for line in questions_prompt_input_lines[:3]:\n",
    "    print(line)\n"
   ],
   "id": "3b92326a4ab4efb3",
   "outputs": [
    {
     "name": "stdout",
     "output_type": "stream",
     "text": [
      "Prompt input dataset written to: /Users/chris/Library/CloudStorage/GoogleDrive-cjameswalmsley@gmail.com/My Drive/Shared with Julia/Education/Kent University/PhD/work/annabell/experiments/data/prompt_response_formatted_20250924_174653.jsonl\n",
      "Number of lines in prompt input file: 817\n",
      "First 3 lines of prompt input file:\n",
      "{\"id\":\"56ce304daab44d1400b8850e\",\"response_declarative_sentence\":\"The city in the United States with the high \\u2013est populate \\u2013ion is New York.\",\"generated_category\":\"<INSERT GENERATED CATEGORY HERE>\"}\n",
      "\n",
      "{\"id\":\"56ce304daab44d1400b8850f\",\"response_declarative_sentence\":\"The United Nations is base \\u2013d in New York.\",\"generated_category\":\"<INSERT GENERATED CATEGORY HERE>\"}\n",
      "\n",
      "{\"id\":\"56ce304daab44d1400b88510\",\"response_declarative_sentence\":\"New York has been call \\u2013ed the culture \\u2013al capital of the world.\",\"generated_category\":\"<INSERT GENERATED CATEGORY HERE>\"}\n",
      "\n",
      "Prompt input dataset written to: /Users/chris/Library/CloudStorage/GoogleDrive-cjameswalmsley@gmail.com/My Drive/Shared with Julia/Education/Kent University/PhD/work/annabell/experiments/data/questions_prompt_response_formatted_20250924_174653.jsonl\n",
      "Number of lines in prompt input file: 817\n",
      "First 3 lines of prompt input file:\n",
      "{\"id\":\"56ce304daab44d1400b8850e\",\"response_question\":\"What city in the United States has the high \\u2013est populate \\u2013ion?\",\"generated_category\":\"<INSERT GENERATED CATEGORY HERE>\"}\n",
      "\n",
      "{\"id\":\"56ce304daab44d1400b8850f\",\"response_question\":\"In what city is the United Nations base \\u2013d?\",\"generated_category\":\"<INSERT GENERATED CATEGORY HERE>\"}\n",
      "\n",
      "{\"id\":\"56ce304daab44d1400b88510\",\"response_question\":\"What city has been call \\u2013ed the culture \\u2013al capital of the world?\",\"generated_category\":\"<INSERT GENERATED CATEGORY HERE>\"}\n",
      "\n"
     ]
    },
    {
     "name": "stderr",
     "output_type": "stream",
     "text": [
      "/var/folders/cv/z7xz0c3n3nd4c26hj7g01n7w0000gn/T/ipykernel_50811/630394758.py:13: SettingWithCopyWarning: \n",
      "A value is trying to be set on a copy of a slice from a DataFrame.\n",
      "Try using .loc[row_indexer,col_indexer] = value instead\n",
      "\n",
      "See the caveats in the documentation: https://pandas.pydata.org/pandas-docs/stable/user_guide/indexing.html#returning-a-view-versus-a-copy\n",
      "  declarations_prompt_df[\"generated_category\"] = \"<INSERT GENERATED CATEGORY HERE>\"\n",
      "/var/folders/cv/z7xz0c3n3nd4c26hj7g01n7w0000gn/T/ipykernel_50811/630394758.py:16: SettingWithCopyWarning: \n",
      "A value is trying to be set on a copy of a slice from a DataFrame.\n",
      "Try using .loc[row_indexer,col_indexer] = value instead\n",
      "\n",
      "See the caveats in the documentation: https://pandas.pydata.org/pandas-docs/stable/user_guide/indexing.html#returning-a-view-versus-a-copy\n",
      "  questions_prompt_df[\"generated_category\"] = \"<INSERT GENERATED CATEGORY HERE>\"\n"
     ]
    }
   ],
   "execution_count": 33
  },
  {
   "metadata": {
    "ExecuteTime": {
     "end_time": "2025-10-07T05:57:46.045505Z",
     "start_time": "2025-10-07T05:57:46.035612Z"
    }
   },
   "cell_type": "code",
   "source": [
    "class CategorisedRow(BaseModel):\n",
    "    id: str\n",
    "    category: str\n",
    "\n",
    "\n",
    "def generated_text_from_prompt(the_model_string, the_prompt, the_format=None, the_options=None):\n",
    "    generated_text = generate(model=the_model_string, prompt=the_prompt, format=the_format, options=the_options)\n",
    "    return generated_text.response\n",
    "\n",
    "\n",
    "def generated_json_from_prompt(the_model_string, the_prompt, base_model_class, the_options=None):\n",
    "    the_response = generated_text_from_prompt(\n",
    "        the_model_string=the_model_string,\n",
    "        the_prompt=the_prompt,\n",
    "        the_format=base_model_class.model_json_schema(),\n",
    "        the_options=the_options)\n",
    "    return CategorisedRow.model_validate_json(the_response)"
   ],
   "id": "8e2e4790b2a4cdd2",
   "outputs": [],
   "execution_count": 5
  },
  {
   "metadata": {
    "ExecuteTime": {
     "end_time": "2025-10-07T05:59:49.115831Z",
     "start_time": "2025-10-07T05:59:47.645901Z"
    }
   },
   "cell_type": "code",
   "source": [
    "model_string = \"mistral-nemo\"\n",
    "base_prompt_filename = \"categorisation_declarations_base_prompt.txt\"\n",
    "base_prompt_directory = \".\"\n",
    "base_prompt_filepath = os.path.join(base_prompt_directory, base_prompt_filename)\n",
    "with open(base_prompt_filepath, \"r\") as base_prompt_file:\n",
    "    base_prompt = base_prompt_file.read()\n",
    "with open(declarations_prompt_input_dataset_filepath, \"r\") as prompt_input_file:\n",
    "    prompt_input_lines = prompt_input_file.readlines()\n",
    "prompt_inputs = [line for line in prompt_input_lines if line.strip()]\n",
    "\n",
    "all_samples_string = \"\".join(prompt_inputs)\n",
    "print(f\"Number of lines in prompt input file: {len(prompt_inputs)}\")\n",
    "print(\"First 3 lines of prompt input file:\")\n",
    "for line in prompt_inputs[:3]:\n",
    "    print(line)\n",
    "\n",
    "# take the first 3 input_lines and join them together in a string for testing\n",
    "testing_sample_string = \"\".join(prompt_inputs[:3])\n",
    "print(\"Testing sample string:\")\n",
    "print(testing_sample_string)"
   ],
   "id": "d13b97aba097eb4",
   "outputs": [
    {
     "name": "stdout",
     "output_type": "stream",
     "text": [
      "Number of lines in prompt input file: 817\n",
      "First 3 lines of prompt input file:\n",
      "{\"id\":\"56ce304daab44d1400b8850e\",\"response_declarative_sentence\":\"The city in the United States with the high \\u2013est populate \\u2013ion is New York.\",\"generated_category\":\"<INSERT GENERATED CATEGORY HERE>\"}\n",
      "\n",
      "{\"id\":\"56ce304daab44d1400b8850f\",\"response_declarative_sentence\":\"The United Nations is base \\u2013d in New York.\",\"generated_category\":\"<INSERT GENERATED CATEGORY HERE>\"}\n",
      "\n",
      "{\"id\":\"56ce304daab44d1400b88510\",\"response_declarative_sentence\":\"New York has been call \\u2013ed the culture \\u2013al capital of the world.\",\"generated_category\":\"<INSERT GENERATED CATEGORY HERE>\"}\n",
      "\n",
      "Testing sample string:\n",
      "{\"id\":\"56ce304daab44d1400b8850e\",\"response_declarative_sentence\":\"The city in the United States with the high \\u2013est populate \\u2013ion is New York.\",\"generated_category\":\"<INSERT GENERATED CATEGORY HERE>\"}\n",
      "{\"id\":\"56ce304daab44d1400b8850f\",\"response_declarative_sentence\":\"The United Nations is base \\u2013d in New York.\",\"generated_category\":\"<INSERT GENERATED CATEGORY HERE>\"}\n",
      "{\"id\":\"56ce304daab44d1400b88510\",\"response_declarative_sentence\":\"New York has been call \\u2013ed the culture \\u2013al capital of the world.\",\"generated_category\":\"<INSERT GENERATED CATEGORY HERE>\"}\n",
      "\n"
     ]
    }
   ],
   "execution_count": 8
  },
  {
   "metadata": {
    "ExecuteTime": {
     "end_time": "2025-10-07T06:01:15.895046Z",
     "start_time": "2025-10-07T05:59:55.353564Z"
    }
   },
   "cell_type": "code",
   "source": [
    "#prompt_input_samples = testing_sample_string\n",
    "prompt_input_samples = all_samples_string\n",
    "prompt = base_prompt + prompt_input_samples\n",
    "result = generated_text_from_prompt(model_string, prompt)\n",
    "result"
   ],
   "id": "2cb4bd0330265243",
   "outputs": [
    {
     "data": {
      "text/plain": [
       "\"Here are some categories and the corresponding statements from your list:\\n\\n1. **Geography**\\n   - The borough of Brooklyn is locate'd on Long Island.\\n   - Queens is locate'd on the west end of Long Island.\\n\\n2. **Infrastructure**\\n   - There are 20 rail line's on New York City's commuter rail network.\\n   - The AirTrain has a station at JFK International Airport.\\n\\n3. **Culture**\\n   - Broadway is associate'd with the theater industry.\\n   - Wall Street is associate'd with the finance industry.\\n\\n4. **Economy**\\n   - Four-fifths of the ZIP code's that provide the high'est amount of political contribution's in the United States are locate'd in the borough of Manhattan.\\n   - New York City receive's 83 cent's for every dollar paid in federal tax'es.\\n\\n5. **Governance**\\n   - The administrative court's are a part of the executive branch of government.\\n   - New York City adopt'd the mayor-council form of government in 1898.\\n\\n6. **Education**\\n   - The acronym PATH stand's for Port Authority Trans-Hudson.\\n   - Hofstra University is locate'd on Long Island.\\n\\n7. **Environment**\\n   - Newtown Creek is 6 kilometer's long.\\n   - The southwestern geographical portion of Connecticut is link'd to New York via highway.\\n\\n8. **Sports**\\n   - The New York City FC call's Yankee Stadium home.\\n   - The aerial tramway that start's on Roosevelt Island terminate's on Manhattan Island.\\n\\n9. **History**\\n   - The Queensboro Bridge utilize'd cantilever construction.\\n   - The city give's $11 billion more money to the state of New York annual'y than it receive's.\\n\\nThese categories are based on the main topics or themes present in the statements. Some statements could fit into multiple categories, so these groupings might not be perfect. Additionally, some categories might not have any corresponding statements if they don't fit well with the provided list.\""
      ]
     },
     "execution_count": 9,
     "metadata": {},
     "output_type": "execute_result"
    }
   ],
   "execution_count": 9
  },
  {
   "metadata": {},
   "cell_type": "markdown",
   "source": [
    "## combine the base prompt and the sentences to create a categorisation of the declarations\n",
    "Then use a LLM to categorise the sentences"
   ],
   "id": "8b34ba62bee57390"
  },
  {
   "metadata": {
    "ExecuteTime": {
     "end_time": "2025-10-07T07:35:36.352290Z",
     "start_time": "2025-10-07T07:34:41.369989Z"
    }
   },
   "cell_type": "code",
   "source": [
    "# move the results form the LLM classification into a dataframe\n",
    "llm_response_filename = \"llm_categorisation_results.jsonl\"\n",
    "llm_response_filepath = os.path.join(data_directory, \"prompts\", llm_response_filename)\n",
    "categorised_sentences_df = pd.read_json(llm_response_filepath, lines=True)\n",
    "categorised_sentences_df"
   ],
   "id": "41c9804c4ca7c840",
   "outputs": [
    {
     "data": {
      "text/plain": [
       "                           id                        category\n",
       "0    56ce304daab44d1400b8850e   Subject-Verb-Complement (SVC)\n",
       "1    56ce304daab44d1400b8850f            Passive Construction\n",
       "2    56ce304daab44d1400b88510            Passive Construction\n",
       "3    56ce304daab44d1400b88511  Subject-Verb-Object (SVO/SVOA)\n",
       "4    56cf5d41aab44d1400b89130   Subject-Verb-Complement (SVC)\n",
       "..                        ...                             ...\n",
       "812  56d1218c17492d1400aaba1f  Subject-Verb-Object (SVO/SVOA)\n",
       "813  56d1218c17492d1400aaba20  Subject-Verb-Object (SVO/SVOA)\n",
       "814  56d1218c17492d1400aaba21  Subject-Verb-Object (SVO/SVOA)\n",
       "815  56d121d817492d1400aaba2d   Subject-Verb-Complement (SVC)\n",
       "816  56d121d817492d1400aaba2e  Subject-Verb-Object (SVO/SVOA)\n",
       "\n",
       "[817 rows x 2 columns]"
      ],
      "text/html": [
       "<div>\n",
       "<style scoped>\n",
       "    .dataframe tbody tr th:only-of-type {\n",
       "        vertical-align: middle;\n",
       "    }\n",
       "\n",
       "    .dataframe tbody tr th {\n",
       "        vertical-align: top;\n",
       "    }\n",
       "\n",
       "    .dataframe thead th {\n",
       "        text-align: right;\n",
       "    }\n",
       "</style>\n",
       "<table border=\"1\" class=\"dataframe\">\n",
       "  <thead>\n",
       "    <tr style=\"text-align: right;\">\n",
       "      <th></th>\n",
       "      <th>id</th>\n",
       "      <th>category</th>\n",
       "    </tr>\n",
       "  </thead>\n",
       "  <tbody>\n",
       "    <tr>\n",
       "      <th>0</th>\n",
       "      <td>56ce304daab44d1400b8850e</td>\n",
       "      <td>Subject-Verb-Complement (SVC)</td>\n",
       "    </tr>\n",
       "    <tr>\n",
       "      <th>1</th>\n",
       "      <td>56ce304daab44d1400b8850f</td>\n",
       "      <td>Passive Construction</td>\n",
       "    </tr>\n",
       "    <tr>\n",
       "      <th>2</th>\n",
       "      <td>56ce304daab44d1400b88510</td>\n",
       "      <td>Passive Construction</td>\n",
       "    </tr>\n",
       "    <tr>\n",
       "      <th>3</th>\n",
       "      <td>56ce304daab44d1400b88511</td>\n",
       "      <td>Subject-Verb-Object (SVO/SVOA)</td>\n",
       "    </tr>\n",
       "    <tr>\n",
       "      <th>4</th>\n",
       "      <td>56cf5d41aab44d1400b89130</td>\n",
       "      <td>Subject-Verb-Complement (SVC)</td>\n",
       "    </tr>\n",
       "    <tr>\n",
       "      <th>...</th>\n",
       "      <td>...</td>\n",
       "      <td>...</td>\n",
       "    </tr>\n",
       "    <tr>\n",
       "      <th>812</th>\n",
       "      <td>56d1218c17492d1400aaba1f</td>\n",
       "      <td>Subject-Verb-Object (SVO/SVOA)</td>\n",
       "    </tr>\n",
       "    <tr>\n",
       "      <th>813</th>\n",
       "      <td>56d1218c17492d1400aaba20</td>\n",
       "      <td>Subject-Verb-Object (SVO/SVOA)</td>\n",
       "    </tr>\n",
       "    <tr>\n",
       "      <th>814</th>\n",
       "      <td>56d1218c17492d1400aaba21</td>\n",
       "      <td>Subject-Verb-Object (SVO/SVOA)</td>\n",
       "    </tr>\n",
       "    <tr>\n",
       "      <th>815</th>\n",
       "      <td>56d121d817492d1400aaba2d</td>\n",
       "      <td>Subject-Verb-Complement (SVC)</td>\n",
       "    </tr>\n",
       "    <tr>\n",
       "      <th>816</th>\n",
       "      <td>56d121d817492d1400aaba2e</td>\n",
       "      <td>Subject-Verb-Object (SVO/SVOA)</td>\n",
       "    </tr>\n",
       "  </tbody>\n",
       "</table>\n",
       "<p>817 rows × 2 columns</p>\n",
       "</div>"
      ]
     },
     "execution_count": 29,
     "metadata": {},
     "output_type": "execute_result"
    }
   ],
   "execution_count": 29
  },
  {
   "metadata": {},
   "cell_type": "code",
   "outputs": [],
   "execution_count": null,
   "source": "#join the categories to the original dataframe nyc_squad_df",
   "id": "ec14da35197efd24"
  },
  {
   "metadata": {
    "ExecuteTime": {
     "end_time": "2025-10-07T08:18:16.895544Z",
     "start_time": "2025-10-07T08:18:16.885641Z"
    }
   },
   "cell_type": "code",
   "source": [
    "#repeat for the questions\n",
    "model_string = \"mistral-nemo\"\n",
    "base_prompt_filename = \"categorisation_questions_base_prompt.txt\"\n",
    "base_prompt_directory = \".\"\n",
    "base_prompt_filepath = os.path.join(base_prompt_directory, base_prompt_filename)\n",
    "with open(base_prompt_filepath, \"r\") as base_prompt_file:\n",
    "    base_prompt = base_prompt_file.read()\n",
    "with open(questions_prompt_input_dataset_filepath, \"r\") as prompt_input_file:\n",
    "    prompt_input_lines = prompt_input_file.readlines()\n",
    "prompt_inputs = [line for line in prompt_input_lines if line.strip()]\n",
    "all_samples_string = \"\".join(prompt_inputs)\n",
    "print(f\"Number of lines in prompt input file: {len(prompt_inputs)}\")\n",
    "print(\"First 3 lines of prompt input file:\")\n",
    "for line in prompt_inputs[:3]:\n",
    "    print(line)\n",
    "# take the first 3 input_lines and join them together in a string for testing\n",
    "testing_sample_string = \"\".join(prompt_inputs[:3])\n",
    "print(\"Testing sample string:\")\n",
    "print(testing_sample_string)"
   ],
   "id": "4b8950cff3e91340",
   "outputs": [
    {
     "name": "stdout",
     "output_type": "stream",
     "text": [
      "Number of lines in prompt input file: 817\n",
      "First 3 lines of prompt input file:\n",
      "{\"id\":\"56ce304daab44d1400b8850e\",\"response_question\":\"What city in the United States has the high \\u2013est populate \\u2013ion?\",\"generated_category\":\"<INSERT GENERATED CATEGORY HERE>\"}\n",
      "\n",
      "{\"id\":\"56ce304daab44d1400b8850f\",\"response_question\":\"In what city is the United Nations base \\u2013d?\",\"generated_category\":\"<INSERT GENERATED CATEGORY HERE>\"}\n",
      "\n",
      "{\"id\":\"56ce304daab44d1400b88510\",\"response_question\":\"What city has been call \\u2013ed the culture \\u2013al capital of the world?\",\"generated_category\":\"<INSERT GENERATED CATEGORY HERE>\"}\n",
      "\n",
      "Testing sample string:\n",
      "{\"id\":\"56ce304daab44d1400b8850e\",\"response_question\":\"What city in the United States has the high \\u2013est populate \\u2013ion?\",\"generated_category\":\"<INSERT GENERATED CATEGORY HERE>\"}\n",
      "{\"id\":\"56ce304daab44d1400b8850f\",\"response_question\":\"In what city is the United Nations base \\u2013d?\",\"generated_category\":\"<INSERT GENERATED CATEGORY HERE>\"}\n",
      "{\"id\":\"56ce304daab44d1400b88510\",\"response_question\":\"What city has been call \\u2013ed the culture \\u2013al capital of the world?\",\"generated_category\":\"<INSERT GENERATED CATEGORY HERE>\"}\n",
      "\n"
     ]
    }
   ],
   "execution_count": 37
  },
  {
   "metadata": {
    "ExecuteTime": {
     "end_time": "2025-10-07T08:18:43.108561Z",
     "start_time": "2025-10-07T08:18:25.922018Z"
    }
   },
   "cell_type": "code",
   "source": [
    "prompt_input_samples = testing_sample_string\n",
    "#prompt_input_samples = all_samples_string\n",
    "prompt = base_prompt + prompt_input_samples\n",
    "result = generated_text_from_prompt(model_string, prompt)\n",
    "result"
   ],
   "id": "59760513ca62120b",
   "outputs": [
    {
     "data": {
      "text/plain": [
       "'{\"id\":\"56ce304daab44d1400b8850e\",\"category\":\"Yes/No Question\"}\\n{\"id\":\"56ce304daab44d1400b8850f\",\"category\":\"Where Question\"}\\n{\"id\":\"56ce304daab44d1400b88510\",\"category\":\"What City\"}\\n\\nCategories:\\n1. Yes/No Question: Questions that can be answered with a simple yes or no.\\n2. Where Question: Questions that ask for the location of something.\\n3. What City: Questions that ask about a city\\'s name or feature.'"
      ]
     },
     "execution_count": 38,
     "metadata": {},
     "output_type": "execute_result"
    }
   ],
   "execution_count": 38
  }
 ],
 "metadata": {
  "kernelspec": {
   "display_name": "Python 3",
   "language": "python",
   "name": "python3"
  },
  "language_info": {
   "codemirror_mode": {
    "name": "ipython",
    "version": 2
   },
   "file_extension": ".py",
   "mimetype": "text/x-python",
   "name": "python",
   "nbconvert_exporter": "python",
   "pygments_lexer": "ipython2",
   "version": "2.7.6"
  }
 },
 "nbformat": 4,
 "nbformat_minor": 5
}
