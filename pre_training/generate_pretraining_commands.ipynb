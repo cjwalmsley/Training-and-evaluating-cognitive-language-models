{
 "cells": [
  {
   "cell_type": "code",
   "id": "initial_id",
   "metadata": {
    "collapsed": true,
    "ExecuteTime": {
     "end_time": "2025-09-25T13:43:23.712189Z",
     "start_time": "2025-09-25T13:43:20.730251Z"
    }
   },
   "source": [
    "import pandas as pd\n",
    "import os\n",
    "from pydantic import BaseModel\n",
    "from ollama import generate\n",
    "base_directory = \"/home/chris/gdrive\"\n",
    "data_directory = os.path.join(base_directory, \"work/annabell/experiments/data\")\n",
    "dataset_filename = \"response_formatted_20250924_174653.jsonl\"\n",
    "dataset_filepath = os.path.join(data_directory, dataset_filename)\n",
    "base_prompt_filepath = \"/home/chris/PycharmProjects/dataset/prompts/prompt_for_annabell_pretraining_command_generation.txt\"\n",
    "nyc_squad_df = pd.read_json(dataset_filepath, lines=True)\n",
    "#drop all  the columns except for id response_question, response_answer, response_declarative_sentence\n",
    "nyc_squad_df_trimmed = nyc_squad_df[[\"id\", \"response_question_formatted\", \"response_answer_formatted\", \"response_declarative_sentence_formatted\"]]\n",
    "#create a list of prompt_inputs in JSON lines format\n",
    "prompt_inputs = []\n",
    "for index, row in nyc_squad_df_trimmed.iterrows():\n",
    "\tjson_line = row.to_json()\n",
    "\tprompt_inputs.append(json_line)\n",
    "\n",
    "with open(base_prompt_filepath, \"r\") as base_prompt_file:\n",
    "\tbase_prompt = base_prompt_file.read()"
   ],
   "outputs": [],
   "execution_count": 52
  },
  {
   "metadata": {
    "ExecuteTime": {
     "end_time": "2025-09-25T13:43:31.398211Z",
     "start_time": "2025-09-25T13:43:31.394715Z"
    }
   },
   "cell_type": "code",
   "source": [
    "class PretrainingCommand(BaseModel):\n",
    "  id: str\n",
    "  commands: list[str]\n",
    "\n",
    "def generated_text_from_prompt(the_model_string, the_prompt, the_format=None, the_options=None):\n",
    "    generated_text = generate(model=the_model_string, prompt=the_prompt, format=the_format, options=the_options)\n",
    "    return generated_text.response\n",
    "\n",
    "def generated_json_from_prompt(the_model_string, the_prompt, the_options=None):\n",
    "    the_response = generated_text_from_prompt(\n",
    "        the_model_string=the_model_string,\n",
    "        the_prompt=the_prompt,\n",
    "        the_format=PretrainingCommand.model_json_schema(),\n",
    "        the_options=the_options)\n",
    "    return PretrainingCommand.model_validate_json(the_response)"
   ],
   "id": "ad211d345233c9f0",
   "outputs": [],
   "execution_count": 53
  },
  {
   "metadata": {
    "ExecuteTime": {
     "end_time": "2025-09-25T13:44:37.530576Z",
     "start_time": "2025-09-25T13:43:33.995254Z"
    }
   },
   "cell_type": "code",
   "source": [
    "number_of_samples = 1\n",
    "model_string = \"mistral-nemo\"\n",
    "results = []\n",
    "prompt_input_samples = prompt_inputs[:number_of_samples]\n",
    "for prompt_input_sample in prompt_input_samples:\n",
    "\tprompt = base_prompt + prompt_input_sample\n",
    "\tresult = generated_text_from_prompt(model_string, prompt)\n",
    "\tresults.append(result)\n",
    "results"
   ],
   "id": "95166c28c22806f",
   "outputs": [
    {
     "data": {
      "text/plain": [
       "['{\"id\":\"56ce304daab44d1400b8850e\",\"training_commands\": [\"the city in the United States with the highest population is New York\", \"? what city in the United States has the highest population\", \".wg city\", \".wg United States\", \".wg high -est\", \".wg populate -ion\", \".ph the city in the United States with the highest population is New York\", \".wg New York\", \".rw\"]}']"
      ]
     },
     "execution_count": 54,
     "metadata": {},
     "output_type": "execute_result"
    }
   ],
   "execution_count": 54
  },
  {
   "metadata": {
    "ExecuteTime": {
     "end_time": "2025-09-25T13:46:57.790158Z",
     "start_time": "2025-09-25T13:46:57.787352Z"
    }
   },
   "cell_type": "code",
   "source": [
    "number_of_samples = 1\n",
    "results = []\n",
    "prompt_input_samples = prompt_inputs[:number_of_samples]\n",
    "for prompt_input_sample in prompt_input_samples:\n",
    "\tprompt = base_prompt + prompt_input_sample\n",
    "\tprint(\"Prompt:\")\n",
    "\tprint(prompt)\n",
    "\tbreak"
   ],
   "id": "274a93545a9190ac",
   "outputs": [
    {
     "name": "stdout",
     "output_type": "stream",
     "text": [
      "Prompt:\n",
      "ROLE:  You are training a cognitive language model.\n",
      "\n",
      "TASK:  create a set of commands for every JSON item in the provided file using the corresponding question, answer and declarative sentence.\n",
      "\n",
      "TASK REQUIREMENTS:\n",
      "1. create a sequence of commands in the following order:\n",
      "a. the declarative sentence\n",
      "b. the question\n",
      "c. a number of .wg prefixed commands , one for each keyword\n",
      "d. the declarative sentence prefixed with a .ph command\n",
      "e. the answer prefixed with a .wg command\n",
      "f. a .rw command\n",
      "2. include an exact copy of the id provided in the response\n",
      "\n",
      "FORMAT:\n",
      "For each row always answer in the following JSON format:\n",
      "\n",
      "{\"id\":\"<INSERT COPY OF ORIGINAL ID HERE>\",\"training_commands\":\"<INSERT LIST OF TRAINING COMMANDS HERE>\"}\n",
      "\n",
      "Only JSON is allowed as an answer. No explanation or other text is allowed.\n",
      "\n",
      "For example, for the following JSON example:\n",
      "\n",
      "{\"id\":\"56ce304daab44d1400b8850f\",\"question\":\"? in what borough did the Stonewall riots happen\",\"answer\":\"\",declarative_sentence\":\"the Stonewall riots happen -ed in Manhattan\"}\n",
      "\n",
      "Your response would be\n",
      "\n",
      "{\"id\":\"56ce304daab44d1400b8850f\",\"training_commands\": [\"the Stonewall riots happen -ed in Manhattan\", \"? in what borough did the Stonewall riots happen\", \".wg borough\", \".wg Stonewall riots\", \".wg happen\", \".ph the Stonewall riots happen -ed in Manhattan\" \".wg Manhattan\", \".rw\"]}\"\n",
      "\n",
      "Please provide a response to the following JSON input:\n",
      "{\"id\":\"56ce304daab44d1400b8850e\",\"response_question_formatted\":\"? what city in the United States has the high -est populate -ion\",\"response_answer_formatted\":\"New York\",\"response_declarative_sentence_formatted\":\"the city in the United States with the high -est populate -ion is New York\"}\n"
     ]
    }
   ],
   "execution_count": 57
  },
  {
   "metadata": {
    "ExecuteTime": {
     "end_time": "2025-09-25T13:44:58.534565Z",
     "start_time": "2025-09-25T13:44:52.242023Z"
    }
   },
   "cell_type": "code",
   "source": [
    "#save the results as a JSON lines file\n",
    "with open(os.path.join(data_directory, \"pretraining_commands_responses.jsonl\"), \"w\") as results_file:\n",
    "\tfor result in results:\n",
    "\t\tresults_file.write(result + \"\\n\")\n",
    "#load the file back in as a dataframe\n",
    "results_df = pd.read_json(os.path.join(data_directory, \"pretraining_commands_responses.jsonl\"), lines=True)\n",
    "results_df.head()\n",
    "#append the training_commands column to the original dataframe using the id column to match\n",
    "final_df = pd.merge(nyc_squad_df_trimmed, results_df, on=\"id\", how=\"left\")\n",
    "final_df = pd.merge(nyc_squad_df_trimmed, results_df, on=\"id\", how=\"left\")\n",
    "final_df[\"training_commands\"] = final_df[\"training_commands\"].apply(lambda x: x if isinstance(x, list) else [])\n",
    "#save the final dataframe as a JSON lines file\n",
    "final_df.to_json(os.path.join(data_directory, \"nyc_squad_with_pretraining_commands.jsonl\"), orient=\"records\", lines=True)\n",
    "final_df"
   ],
   "id": "b8b5a5c33c30f81b",
   "outputs": [
    {
     "data": {
      "text/plain": [
       "                           id  \\\n",
       "0    56ce304daab44d1400b8850e   \n",
       "1    56ce304daab44d1400b8850f   \n",
       "2    56ce304daab44d1400b88510   \n",
       "3    56ce304daab44d1400b88511   \n",
       "4    56cf5d41aab44d1400b89130   \n",
       "..                        ...   \n",
       "812  56d1218c17492d1400aaba1f   \n",
       "813  56d1218c17492d1400aaba20   \n",
       "814  56d1218c17492d1400aaba21   \n",
       "815  56d121d817492d1400aaba2d   \n",
       "816  56d121d817492d1400aaba2e   \n",
       "\n",
       "                           response_question_formatted  \\\n",
       "0    ? what city in the United States has the high ...   \n",
       "1         ? in what city is the United Nations base -d   \n",
       "2    ? what city has been call -ed the culture -al ...   \n",
       "3    ? what American city welcome -s the large -st ...   \n",
       "4    ? the major gateway for immigrate -ion has bee...   \n",
       "..                                                 ...   \n",
       "812  ? how much money in cent -s does New York City...   \n",
       "813  ? how much more money does the city give to th...   \n",
       "814  ? each year how much more money does New York ...   \n",
       "815  ? what is the new name of the Sister City Prog...   \n",
       "816  ? in what year did the Sister City Program of ...   \n",
       "\n",
       "         response_answer_formatted  \\\n",
       "0                         New York   \n",
       "1                         New York   \n",
       "2                         New York   \n",
       "3                         New York   \n",
       "4                    New York City   \n",
       "..                             ...   \n",
       "812                             83   \n",
       "813                     11 billion   \n",
       "814             11 point 4 billion   \n",
       "815  New York City Global Partners   \n",
       "816                           2006   \n",
       "\n",
       "               response_declarative_sentence_formatted  \\\n",
       "0    the city in the United States with the high -e...   \n",
       "1            the United Nations is base -d in New York   \n",
       "2    New York has been call -ed the culture -al cap...   \n",
       "3    New York is the American city that welcome -s ...   \n",
       "4    the major gateway for immigrate -ion has been ...   \n",
       "..                                                 ...   \n",
       "812  New York City receive -s 83 cent -s for every ...   \n",
       "813  the city give -s  11 billion more money to the...   \n",
       "814  New York City give -s  11 point 4 billion more...   \n",
       "815  the new name of the Sister City Program of the...   \n",
       "816  the Sister City Program of the City of New Yor...   \n",
       "\n",
       "                                     training_commands  \n",
       "0    [the city in the United States with the highes...  \n",
       "1                                                   []  \n",
       "2                                                   []  \n",
       "3                                                   []  \n",
       "4                                                   []  \n",
       "..                                                 ...  \n",
       "812                                                 []  \n",
       "813                                                 []  \n",
       "814                                                 []  \n",
       "815                                                 []  \n",
       "816                                                 []  \n",
       "\n",
       "[817 rows x 5 columns]"
      ],
      "text/html": [
       "<div>\n",
       "<style scoped>\n",
       "    .dataframe tbody tr th:only-of-type {\n",
       "        vertical-align: middle;\n",
       "    }\n",
       "\n",
       "    .dataframe tbody tr th {\n",
       "        vertical-align: top;\n",
       "    }\n",
       "\n",
       "    .dataframe thead th {\n",
       "        text-align: right;\n",
       "    }\n",
       "</style>\n",
       "<table border=\"1\" class=\"dataframe\">\n",
       "  <thead>\n",
       "    <tr style=\"text-align: right;\">\n",
       "      <th></th>\n",
       "      <th>id</th>\n",
       "      <th>response_question_formatted</th>\n",
       "      <th>response_answer_formatted</th>\n",
       "      <th>response_declarative_sentence_formatted</th>\n",
       "      <th>training_commands</th>\n",
       "    </tr>\n",
       "  </thead>\n",
       "  <tbody>\n",
       "    <tr>\n",
       "      <th>0</th>\n",
       "      <td>56ce304daab44d1400b8850e</td>\n",
       "      <td>? what city in the United States has the high ...</td>\n",
       "      <td>New York</td>\n",
       "      <td>the city in the United States with the high -e...</td>\n",
       "      <td>[the city in the United States with the highes...</td>\n",
       "    </tr>\n",
       "    <tr>\n",
       "      <th>1</th>\n",
       "      <td>56ce304daab44d1400b8850f</td>\n",
       "      <td>? in what city is the United Nations base -d</td>\n",
       "      <td>New York</td>\n",
       "      <td>the United Nations is base -d in New York</td>\n",
       "      <td>[]</td>\n",
       "    </tr>\n",
       "    <tr>\n",
       "      <th>2</th>\n",
       "      <td>56ce304daab44d1400b88510</td>\n",
       "      <td>? what city has been call -ed the culture -al ...</td>\n",
       "      <td>New York</td>\n",
       "      <td>New York has been call -ed the culture -al cap...</td>\n",
       "      <td>[]</td>\n",
       "    </tr>\n",
       "    <tr>\n",
       "      <th>3</th>\n",
       "      <td>56ce304daab44d1400b88511</td>\n",
       "      <td>? what American city welcome -s the large -st ...</td>\n",
       "      <td>New York</td>\n",
       "      <td>New York is the American city that welcome -s ...</td>\n",
       "      <td>[]</td>\n",
       "    </tr>\n",
       "    <tr>\n",
       "      <th>4</th>\n",
       "      <td>56cf5d41aab44d1400b89130</td>\n",
       "      <td>? the major gateway for immigrate -ion has bee...</td>\n",
       "      <td>New York City</td>\n",
       "      <td>the major gateway for immigrate -ion has been ...</td>\n",
       "      <td>[]</td>\n",
       "    </tr>\n",
       "    <tr>\n",
       "      <th>...</th>\n",
       "      <td>...</td>\n",
       "      <td>...</td>\n",
       "      <td>...</td>\n",
       "      <td>...</td>\n",
       "      <td>...</td>\n",
       "    </tr>\n",
       "    <tr>\n",
       "      <th>812</th>\n",
       "      <td>56d1218c17492d1400aaba1f</td>\n",
       "      <td>? how much money in cent -s does New York City...</td>\n",
       "      <td>83</td>\n",
       "      <td>New York City receive -s 83 cent -s for every ...</td>\n",
       "      <td>[]</td>\n",
       "    </tr>\n",
       "    <tr>\n",
       "      <th>813</th>\n",
       "      <td>56d1218c17492d1400aaba20</td>\n",
       "      <td>? how much more money does the city give to th...</td>\n",
       "      <td>11 billion</td>\n",
       "      <td>the city give -s  11 billion more money to the...</td>\n",
       "      <td>[]</td>\n",
       "    </tr>\n",
       "    <tr>\n",
       "      <th>814</th>\n",
       "      <td>56d1218c17492d1400aaba21</td>\n",
       "      <td>? each year how much more money does New York ...</td>\n",
       "      <td>11 point 4 billion</td>\n",
       "      <td>New York City give -s  11 point 4 billion more...</td>\n",
       "      <td>[]</td>\n",
       "    </tr>\n",
       "    <tr>\n",
       "      <th>815</th>\n",
       "      <td>56d121d817492d1400aaba2d</td>\n",
       "      <td>? what is the new name of the Sister City Prog...</td>\n",
       "      <td>New York City Global Partners</td>\n",
       "      <td>the new name of the Sister City Program of the...</td>\n",
       "      <td>[]</td>\n",
       "    </tr>\n",
       "    <tr>\n",
       "      <th>816</th>\n",
       "      <td>56d121d817492d1400aaba2e</td>\n",
       "      <td>? in what year did the Sister City Program of ...</td>\n",
       "      <td>2006</td>\n",
       "      <td>the Sister City Program of the City of New Yor...</td>\n",
       "      <td>[]</td>\n",
       "    </tr>\n",
       "  </tbody>\n",
       "</table>\n",
       "<p>817 rows × 5 columns</p>\n",
       "</div>"
      ]
     },
     "execution_count": 55,
     "metadata": {},
     "output_type": "execute_result"
    }
   ],
   "execution_count": 55
  },
  {
   "metadata": {
    "ExecuteTime": {
     "end_time": "2025-09-25T13:45:08.767447Z",
     "start_time": "2025-09-25T13:45:04.918662Z"
    }
   },
   "cell_type": "code",
   "source": [
    "#write a training file with one command per line\n",
    "with open(os.path.join(data_directory, \"nyc_squad_pretraining_commands_automatic.txt\"), \"w\") as commands_file:\n",
    "\tfor index, row in final_df.iterrows():\n",
    "\t\tcommands = row[\"training_commands\"]\n",
    "\t\tfor command in commands:\n",
    "\t\t\tcommands_file.write(command + \"\\n\")\n",
    "with open(os.path.join(data_directory, \"nyc_squad_pretraining_commands_automatic.txt\"), \"r\") as commands_file:\n",
    "\tlines = commands_file.readlines()\n",
    "\tprint(f\"Number of commands: {len(lines)}\")\n",
    "\tprint(\"First 5 commands:\")\n",
    "\tfor line in lines[:10]:\n",
    "\t\tprint(line.strip())"
   ],
   "id": "2351299d91dfa815",
   "outputs": [
    {
     "name": "stdout",
     "output_type": "stream",
     "text": [
      "Number of commands: 9\n",
      "First 5 commands:\n",
      "the city in the United States with the highest population is New York\n",
      "? what city in the United States has the highest population\n",
      ".wg city\n",
      ".wg United States\n",
      ".wg high -est\n",
      ".wg populate -ion\n",
      ".ph the city in the United States with the highest population is New York\n",
      ".wg New York\n",
      ".rw\n"
     ]
    }
   ],
   "execution_count": 56
  }
 ],
 "metadata": {
  "kernelspec": {
   "display_name": "Python 3",
   "language": "python",
   "name": "python3"
  },
  "language_info": {
   "codemirror_mode": {
    "name": "ipython",
    "version": 2
   },
   "file_extension": ".py",
   "mimetype": "text/x-python",
   "name": "python",
   "nbconvert_exporter": "python",
   "pygments_lexer": "ipython2",
   "version": "2.7.6"
  }
 },
 "nbformat": 4,
 "nbformat_minor": 5
}
