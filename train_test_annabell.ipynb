{
 "cells": [
  {
   "metadata": {},
   "cell_type": "markdown",
   "source": [
    "    #This notebook is used to train the ANNABELL model on the SQuAD dataset.\n",
    "It uses the declarative statements generated from the SQuAD dataset to train the model in specialist subjects.\n",
    "The steps to rain the model are as follows:\n",
    "1) prepare the dataset\n",
    "2) pre-train the annabell model by loading pretrained weights form the people/body/skills file\n",
    "3) train the model on the declarative statements\n",
    "4) load the weights"
   ],
   "id": "db2fd2d1144533c"
  },
  {
   "metadata": {},
   "cell_type": "code",
   "execution_count": null,
   "source": [
    "#Macbook\n",
    "test_log_filepath = \"/Users/chris/PycharmProjects/dataset/docker/docker_train/shared_data/statements/crossvalidation/round1/logs/logfile_squad_test_nyc.txt\"\n",
    "test_input_filepath = \"/Users/chris/PycharmProjects/dataset/docker/docker_train/shared_data/statements/testing/test_nyc_questions.txt\""
   ],
   "id": "46d129ab69c89272",
   "outputs": []
  },
  {
   "metadata": {
    "ExecuteTime": {
     "end_time": "2025-06-30T13:52:33.271628Z",
     "start_time": "2025-06-30T13:52:33.265881Z"
    }
   },
   "cell_type": "code",
   "source": [
    "#Linux\n",
    "test_log_filepath = \"/run/user/1000/gvfs/google-drive:host=gmail.com,user=cjameswalmsley,prefix=%2F0AG4X1_cOZQRnUk9PVA/0B24X1_cOZQRnVjZEemxXd3BNSTQ/1SSfZglixkSB5aj0qMv2BsDojVhxNOv0o/11BZhonitY-Jfw5xqM1xAl5TjJPRDRKHr/1OyCmWPf_7PH1bCc-5GLvBdo-gvEvJsiP/1dgL8C9ydesEz3jM28e55yGR9PECRtjaA/1_z0x1Ym8ceREizMlb1mk29msDhvfy2xg/19QWr_JOiOoob5pcpd9aZHJ5kzB4Q0Dc-/1Coru7UDS-tRqhb3jkpMEHM2UyG-hMao_/1DZfo5MVzCEfoiO3ulkbx6FMAo8e5o_SX/logfile_squad_test_nyc.txt\"\n",
    "\n",
    "test_input_filepath =\"/run/user/1000/gvfs/google-drive:host=gmail.com,user=cjameswalmsley,prefix=%2F0AG4X1_cOZQRnUk9PVA/0B24X1_cOZQRnVjZEemxXd3BNSTQ/1SSfZglixkSB5aj0qMv2BsDojVhxNOv0o/11BZhonitY-Jfw5xqM1xAl5TjJPRDRKHr/1OyCmWPf_7PH1bCc-5GLvBdo-gvEvJsiP/1dgL8C9ydesEz3jM28e55yGR9PECRtjaA/1_z0x1Ym8ceREizMlb1mk29msDhvfy2xg/19QWr_JOiOoob5pcpd9aZHJ5kzB4Q0Dc-/1Coru7UDS-tRqhb3jkpMEHM2UyG-hMao_/1Cw8ughM144_poB6lHw8QUM0g8YlIJqKH/nyc_statements.txt\""
   ],
   "id": "9a7f00eaf8f0d398",
   "outputs": [],
   "execution_count": 2
  },
  {
   "metadata": {
    "ExecuteTime": {
     "end_time": "2025-06-30T13:52:43.523914Z",
     "start_time": "2025-06-30T13:52:38.680079Z"
    }
   },
   "cell_type": "code",
   "source": [
    "with open(test_log_filepath, 'r') as test_log_file:\n",
    "    test_log_lines = test_log_file.readlines()\n",
    "with open(test_input_filepath, 'r') as test_input_file:\n",
    "    test_input_lines = test_input_file.readlines()"
   ],
   "id": "ae8d09a22e240ee9",
   "outputs": [],
   "execution_count": 3
  },
  {
   "metadata": {},
   "cell_type": "code",
   "outputs": [],
   "execution_count": null,
   "source": [
    "questions_and_answers = []\n",
    "for index, line in enumerate(test_log_lines):\n",
    "    if line.startswith(\".load\"):\n",
    "        # if the line starts with \".load\" then it is a command to load a file, so we skip it\n",
    "        continue\n",
    "    elif line.startswith(\"?\"):\n",
    "        question = line.strip()\n",
    "        questions_and_answers.append(question)\n",
    "    # look ahead to the next line,  if the next line starts with \"Q\" then store the current line as the answer\n",
    "    elif index < len(test_log_lines) -1 and test_log_lines[index + 1].startswith(\"?\"):\n",
    "        answer = line.strip()\n",
    "        questions_and_answers.append(answer)\n",
    "\n",
    "questions = []\n",
    "for index, line in enumerate(test_log_lines):\n",
    "    if line.startswith(\"?\"):\n",
    "        question = line.strip()\n",
    "        questions.append(question)\n",
    "\n",
    "print(\"length of log file questions: \" + str(len(questions)))"
   ],
   "id": "4320d0087b4f0091"
  }
 ],
 "metadata": {
  "kernelspec": {
   "display_name": "Python 3",
   "language": "python",
   "name": "python3"
  },
  "language_info": {
   "codemirror_mode": {
    "name": "ipython",
    "version": 2
   },
   "file_extension": ".py",
   "mimetype": "text/x-python",
   "name": "python",
   "nbconvert_exporter": "python",
   "pygments_lexer": "ipython2",
   "version": "2.7.6"
  }
 },
 "nbformat": 4,
 "nbformat_minor": 5
}
