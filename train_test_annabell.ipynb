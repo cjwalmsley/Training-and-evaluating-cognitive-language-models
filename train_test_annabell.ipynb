{
 "cells": [
  {
   "metadata": {},
   "cell_type": "markdown",
   "source": [
    "    #This notebook is used to train the ANNABELL model on the SQuAD dataset.\n",
    "It uses the declarative statements generated from the SQuAD dataset to train the model in specialist subjects.\n",
    "The steps to rain the model are as follows:\n",
    "1) prepare the dataset\n",
    "2) pre-train the annabell model by loading pretrained weights form the people/body/skills file\n",
    "3) train the model on the declarative statements\n",
    "4) load the weights"
   ],
   "id": "db2fd2d1144533c"
  },
  {
   "metadata": {
    "ExecuteTime": {
     "end_time": "2025-06-30T07:33:27.801497Z",
     "start_time": "2025-06-30T07:33:27.786747Z"
    }
   },
   "cell_type": "code",
   "source": [
    "test_log_filepath = \"/Users/chris/PycharmProjects/dataset/docker/docker_train/shared_data/statements/crossvalidation/round1/logs/logfile_squad_test_nyc.txt\"\n",
    "with open(test_log_filepath, 'r') as test_log_file:\n",
    "    test_log_lines = test_log_file.readlines()\n",
    "\n",
    "test_input_filepath = \"/Users/chris/PycharmProjects/dataset/docker/docker_train/shared_data/statements/testing/test_nyc_questions.txt\"\n",
    "with open(test_input_filepath, 'r') as test_input_file:\n",
    "    test_input_lines = test_input_file.readlines()\n",
    "\n",
    "questions_and_answers = []\n",
    "for index, line in enumerate(test_log_lines):\n",
    "    if line.startswith(\".load\"):\n",
    "        # if the line starts with \".load\" then it is a command to load a file, so we skip it\n",
    "        continue\n",
    "    elif line.startswith(\"?\"):\n",
    "        question = line.strip()\n",
    "        q_as.append(question)\n",
    "    # look ahead to the next line,  if the next line starts with \"Q\" then store the current line as the answer\n",
    "    elif index < len(test_log_lines) -1 and test_log_lines[index + 1].startswith(\"?\"):\n",
    "        answer = line.strip()\n",
    "        questions_and_answers.append(answer)\n",
    "\n",
    "print(\"length of log file questions and answers: \" + str(len(questions_and_answers)))\n",
    "\n",
    "with open(test_input_filepath, 'r') as the_file:\n",
    "    test_input_lines = the_file.readlines()\n",
    "\n",
    "test_input_questions  = []\n",
    "\n",
    "for test_input_line in test_input_lines:\n",
    "    test_input_line = test_input_line.strip()\n",
    "    if test_input_line.startswith(\"?\"):\n",
    "        test_input_questions.append(test_input_line)\n",
    "\n",
    "print(\"length of test file questions: \" + str(len(test_input_questions)))\n",
    "\n"
   ],
   "id": "ae8d09a22e240ee9",
   "outputs": [
    {
     "name": "stdout",
     "output_type": "stream",
     "text": [
      "length of log file questions and answers: 584\n",
      "length of test file questions: 806\n"
     ]
    }
   ],
   "execution_count": 28
  },
  {
   "metadata": {
    "ExecuteTime": {
     "end_time": "2025-06-30T07:49:53.938859Z",
     "start_time": "2025-06-30T07:49:53.922525Z"
    }
   },
   "cell_type": "code",
   "source": [
    "test_log_filepath = \"/Users/chris/PycharmProjects/dataset/docker/docker_train/shared_data/statements/crossvalidation/round1/logs/logfile_squad_test_nyc.txt\"\n",
    "with open(test_log_filepath, 'r') as test_log_file:\n",
    "    test_log_lines = test_log_file.readlines()\n",
    "\n",
    "questions_and_answers = []\n",
    "for index, line in enumerate(test_log_lines):\n",
    "    if line.startswith(\".load\"):\n",
    "        # if the line starts with \".load\" then it is a command to load a file, so we skip it\n",
    "        continue\n",
    "    elif line.startswith(\"?\"):\n",
    "        question = line.strip()\n",
    "        questions_and_answers.append(question)\n",
    "    # look ahead to the next line,  if the next line starts with \"Q\" then store the current line as the answer\n",
    "    elif index < len(test_log_lines) -1 and test_log_lines[index + 1].startswith(\"?\"):\n",
    "        answer = line.strip()\n",
    "        questions_and_answers.append(answer)\n",
    "\n",
    "print(\"length of log file questions and answers: \" + str(len(questions_and_answers)))\n",
    "for question_or_answer in questions_and_answers[:10]:\n",
    "    print(question_or_answer)"
   ],
   "id": "c1c0846c221b0462",
   "outputs": [
    {
     "name": "stdout",
     "output_type": "stream",
     "text": [
      "length of log file questions and answers: 1170\n",
      "? What city in the United States has the highest population\n",
      "the us\n",
      "? in what city is the united nations based\n",
      "Exploitation number of updates >= 4000\n",
      "? what city has been called the cultural capital of the world\n",
      "... Exploitation number of updates >= 4000\n",
      "? What American city welcomes the largest number of legal immigrants\n",
      "\n",
      "? the major gateway for immigration has been which US city\n",
      "\n"
     ]
    }
   ],
   "execution_count": 44
  },
  {
   "metadata": {
    "ExecuteTime": {
     "end_time": "2025-06-30T07:50:15.273690Z",
     "start_time": "2025-06-30T07:50:15.269195Z"
    }
   },
   "cell_type": "code",
   "source": [
    "questions = []\n",
    "for index, line in enumerate(test_log_lines):\n",
    "    if line.startswith(\"?\"):\n",
    "        question = line.strip()\n",
    "        questions.append(question)\n",
    "\n",
    "print(\"length of log file questions: \" + str(len(questions)))"
   ],
   "id": "c857bca328628796",
   "outputs": [
    {
     "name": "stdout",
     "output_type": "stream",
     "text": [
      "length of log file questions: 586\n"
     ]
    }
   ],
   "execution_count": 45
  }
 ],
 "metadata": {
  "kernelspec": {
   "display_name": "Python 3",
   "language": "python",
   "name": "python3"
  },
  "language_info": {
   "codemirror_mode": {
    "name": "ipython",
    "version": 2
   },
   "file_extension": ".py",
   "mimetype": "text/x-python",
   "name": "python",
   "nbconvert_exporter": "python",
   "pygments_lexer": "ipython2",
   "version": "2.7.6"
  }
 },
 "nbformat": 4,
 "nbformat_minor": 5
}
